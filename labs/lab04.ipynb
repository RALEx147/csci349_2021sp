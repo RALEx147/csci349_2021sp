{
 "cells": [
  {
   "cell_type": "markdown",
   "source": [
    "# lab 04 - Pandas 2\n",
    "Name: Robb Alexander    \n",
    "Class: CSCI349    \n",
    "Semester: 2021SP    \n",
    "Instructor: Brian King\n"
   ],
   "metadata": {
    "collapsed": false
   }
  },
  {
   "cell_type": "code",
   "execution_count": 1,
   "outputs": [],
   "source": [
    "# Setting things up\n",
    "import sys\n",
    "import numpy as np\n",
    "import pandas as pd"
   ],
   "metadata": {
    "collapsed": false,
    "pycharm": {
     "name": "#%%\n"
    }
   }
  },
  {
   "cell_type": "code",
   "execution_count": 2,
   "outputs": [],
   "source": [
    "days = [\"Mon\",\"Tue\",\"Wed\",\"Thurs\",\"Fri\",\"Student\"]\n",
    "scores = pd.DataFrame([pd.Series([9.5, 8.75, 8, 10, 7.75, \"Bob\"], index=days, name=\"week_1\"), pd.Series([9, 8, 10, 8.75, 7.25, \"Jane\"], index=days, name=\"week_1\"), pd.Series([8.5, 0, 9.75, 9, 6, \"Bob\"], index=days, name=\"week_2\"), pd.Series([7, 8.25, 9.25, 0, 8, \"Jane\"], index=days, name=\"week_2\"), pd.Series([7, 8.5, 9.25, 0, 0, \"Bob\"], index=days, name=\"week_3\"), pd.Series([8.5, 8.25, 9, 8, 7.5, \"Jane\"], index=days, name=\"week_3\"), pd.Series([9, 7, 8.5, 8, 8, \"Bob\"], index=days, name=\"week_4\"), pd.Series([9.25, 9.25, 8.5, 7.75, 7.5, \"Jane\"], index=days,name=\"week_4\")])"
   ],
   "metadata": {
    "collapsed": false,
    "pycharm": {
     "name": "#%%\n"
    }
   }
  },
  {
   "cell_type": "markdown",
   "source": [
    "#### 1) Report the shape, the number of dimensions, the size of the data, and the data types of each column. Print each separately. Then create an additional code cell that shows the results of scores.info()."
   ],
   "metadata": {
    "collapsed": false
   }
  },
  {
   "cell_type": "code",
   "execution_count": 3,
   "outputs": [
    {
     "name": "stdout",
     "output_type": "stream",
     "text": [
      "The shape of scores: (8, 6)\n",
      "The dimensions of scores: 2\n",
      "The size of scores: 48\n",
      "The data types of scores: Mon        float64\n",
      "Tue        float64\n",
      "Wed        float64\n",
      "Thurs      float64\n",
      "Fri        float64\n",
      "Student     object\n",
      "dtype: object\n"
     ]
    }
   ],
   "source": [
    "print(\"The shape of scores:\", scores.shape)\n",
    "print(\"The dimensions of scores:\", scores.ndim)\n",
    "print(\"The size of scores:\", scores.size)\n",
    "print(\"The data types of scores:\", scores.dtypes)"
   ],
   "metadata": {
    "collapsed": false,
    "pycharm": {
     "name": "#%%\n"
    }
   }
  },
  {
   "cell_type": "code",
   "execution_count": 4,
   "outputs": [
    {
     "name": "stdout",
     "output_type": "stream",
     "text": [
      "<class 'pandas.core.frame.DataFrame'>\n",
      "Index: 8 entries, week_1 to week_4\n",
      "Data columns (total 6 columns):\n",
      " #   Column   Non-Null Count  Dtype  \n",
      "---  ------   --------------  -----  \n",
      " 0   Mon      8 non-null      float64\n",
      " 1   Tue      8 non-null      float64\n",
      " 2   Wed      8 non-null      float64\n",
      " 3   Thurs    8 non-null      float64\n",
      " 4   Fri      8 non-null      float64\n",
      " 5   Student  8 non-null      object \n",
      "dtypes: float64(5), object(1)\n",
      "memory usage: 448.0+ bytes\n",
      "None\n"
     ]
    }
   ],
   "source": [
    "print(scores.info())"
   ],
   "metadata": {
    "collapsed": false,
    "pycharm": {
     "name": "#%%\n"
    }
   }
  },
  {
   "cell_type": "markdown",
   "source": [
    "#### 2) Show two different ways to report the number of observations in scores."
   ],
   "metadata": {
    "collapsed": false
   }
  },
  {
   "cell_type": "code",
   "execution_count": 5,
   "outputs": [
    {
     "name": "stdout",
     "output_type": "stream",
     "text": [
      "8\n",
      "8\n"
     ]
    }
   ],
   "source": [
    "print(len(scores))\n",
    "print(scores.shape[0])"
   ],
   "metadata": {
    "collapsed": false,
    "pycharm": {
     "name": "#%%\n"
    }
   }
  },
  {
   "cell_type": "markdown",
   "source": [
    "#### 3) Show the variables (i.e. columns) in scores"
   ],
   "metadata": {
    "collapsed": false
   }
  },
  {
   "cell_type": "code",
   "execution_count": 6,
   "outputs": [
    {
     "name": "stdout",
     "output_type": "stream",
     "text": [
      "['Mon', 'Tue', 'Wed', 'Thurs', 'Fri', 'Student']\n"
     ]
    }
   ],
   "source": [
    "print(list(scores.columns))"
   ],
   "metadata": {
    "collapsed": false,
    "pycharm": {
     "name": "#%%\n"
    }
   }
  },
  {
   "cell_type": "markdown",
   "source": [
    "#### 4) There are repetitive names in the index. This happens quite a bit, depending on how the rows are to be named. For now. print the unique index names in scores"
   ],
   "metadata": {
    "collapsed": false
   }
  },
  {
   "cell_type": "code",
   "execution_count": 7,
   "outputs": [
    {
     "name": "stdout",
     "output_type": "stream",
     "text": [
      "['week_1', 'week_2', 'week_3', 'week_4']\n"
     ]
    }
   ],
   "source": [
    "print(list(scores.index.unique()))"
   ],
   "metadata": {
    "collapsed": false,
    "pycharm": {
     "name": "#%%\n"
    }
   }
  },
  {
   "cell_type": "markdown",
   "source": [
    "#### 5) Rename the 'Thurs' column header to be 'Thu' . (Hint: Changing scores.columns[3] directly will not work, not to mention it would be a poor approach to hard code a location this way! Magic numbers are never a good idea when referencing index or column locations. They may change!) Show the new scores data frame. This should be the same, except with Thurs changed to Thu."
   ],
   "metadata": {
    "collapsed": false
   }
  },
  {
   "cell_type": "code",
   "execution_count": 8,
   "outputs": [],
   "source": [
    "scores = scores.rename(columns={\"Thurs\": \"Thu\"})"
   ],
   "metadata": {
    "collapsed": false,
    "pycharm": {
     "name": "#%%\n"
    }
   }
  },
  {
   "cell_type": "markdown",
   "source": [
    "#### 6) Now, make a bigger change. Let's rename 'week_1' to be 'w1', 'week_2' to be 'w2', and so on. Also, suppose you decide to use only 2 letter abbreviations for the days. Rename the days in the column names to be 'Mo', 'Tu', 'We', 'Th', 'Fr'. Show the updated scores dataframe. It should appear as follows:"
   ],
   "metadata": {
    "collapsed": false
   }
  },
  {
   "cell_type": "code",
   "execution_count": 9,
   "outputs": [],
   "source": [
    "original = list(scores.columns)\n",
    "new = [i[:2] for i in original if i != \"Student\"]\n",
    "col_rename_map = {o:n for o, n in zip(original, new)}\n",
    "\n",
    "original = list(scores.index)\n",
    "new = [\"w\"+i.split(\"_\")[-1] for i in original]\n",
    "row_rename_map = {o:n for o, n in zip(original, new)}\n",
    "\n",
    "scores = scores.rename(index=row_rename_map, columns=col_rename_map)"
   ],
   "metadata": {
    "collapsed": false,
    "pycharm": {
     "name": "#%%\n"
    }
   }
  },
  {
   "cell_type": "markdown",
   "source": [
    "#### 7) Compare the type of the expression scores['Mo'] vs. scores[['Mo']]. What is the difference? (HINT: use the type() Python function on both.)"
   ],
   "metadata": {
    "collapsed": false
   }
  },
  {
   "cell_type": "code",
   "source": [
    "\"\"\"\n",
    "The difference between the two is that with one \n",
    " bracket is a Series,  while two is a DataFrame\n",
    "\"\"\"\n",
    "print(type(scores['Mo']).__name__)\n",
    "print(type(scores[['Mo']]).__name__)"
   ],
   "metadata": {
    "collapsed": false,
    "pycharm": {
     "name": "#%%\n"
    }
   },
   "execution_count": 10,
   "outputs": [
    {
     "name": "stdout",
     "output_type": "stream",
     "text": [
      "Series\n",
      "DataFrame\n"
     ]
    }
   ]
  },
  {
   "cell_type": "markdown",
   "source": [
    "#### 8) Demonstrate the describe() method on scores. What type does it return?"
   ],
   "metadata": {
    "collapsed": false
   }
  },
  {
   "cell_type": "code",
   "execution_count": 11,
   "outputs": [
    {
     "name": "stdout",
     "output_type": "stream",
     "text": [
      "DataFrame\n",
      "             Mo      Tu         We         Th        Fr\n",
      "count  8.000000  8.0000   8.000000   8.000000  8.000000\n",
      "mean   8.468750  7.2500   9.031250   6.437500  6.500000\n",
      "std    0.967669  3.0000   0.673974   4.037215  2.702512\n",
      "min    7.000000  0.0000   8.000000   0.000000  0.000000\n",
      "25%    8.125000  7.7500   8.500000   5.812500  6.937500\n",
      "50%    8.750000  8.2500   9.125000   8.000000  7.500000\n",
      "75%    9.062500  8.5625   9.375000   8.812500  7.812500\n",
      "max    9.500000  9.2500  10.000000  10.000000  8.000000\n"
     ]
    }
   ],
   "source": [
    "print(type(scores.describe()).__name__)\n",
    "print(scores.describe())"
   ],
   "metadata": {
    "collapsed": false,
    "pycharm": {
     "name": "#%%\n"
    }
   }
  },
  {
   "cell_type": "markdown",
   "source": [
    "#### 9) Store the output of describe() as a variable. Then, using this data frame, report the day that had the largest standard deviation in quiz scores and its value. Clean your temporary variables when complete (i.e. use del)"
   ],
   "metadata": {
    "collapsed": false
   }
  },
  {
   "cell_type": "code",
   "execution_count": 12,
   "outputs": [
    {
     "name": "stdout",
     "output_type": "stream",
     "text": [
      "Day with largest standard deviation: Th\n"
     ]
    }
   ],
   "source": [
    "desc = scores.describe()\n",
    "stds = desc.loc['std']\n",
    "i = desc.loc['std'].argmax()\n",
    "\n",
    "print(\"Day with largest standard deviation:\", stds.index[i])\n",
    "del desc"
   ],
   "metadata": {
    "collapsed": false,
    "pycharm": {
     "name": "#%%\n"
    }
   }
  },
  {
   "cell_type": "markdown",
   "source": [
    "#### 10) Knowing that describe() is nothing more than another data frame is interesting. However, it's more important to write code to output the specific results you are looking for. Write the Python code to repeat the previous exercise without using describe()."
   ],
   "metadata": {
    "collapsed": false
   }
  },
  {
   "cell_type": "code",
   "execution_count": 13,
   "outputs": [
    {
     "name": "stdout",
     "output_type": "stream",
     "text": [
      "             Mo      Tu         We         Th        Fr\n",
      "count  8.000000  8.0000   8.000000   8.000000  8.000000\n",
      "mean   8.468750  7.2500   9.031250   6.437500  6.500000\n",
      "std    0.967669  3.0000   0.673974   4.037215  2.702512\n",
      "min    7.000000  0.0000   8.000000   0.000000  0.000000\n",
      "25%    8.125000  7.7500   8.500000   5.812500  6.937500\n",
      "50%    8.750000  8.2500   9.125000   8.000000  7.500000\n",
      "75%    9.062500  8.5625   9.375000   8.812500  7.812500\n",
      "max    9.500000  9.2500  10.000000  10.000000  8.000000\n"
     ]
    }
   ],
   "source": [
    "functions = [(pd.DataFrame.count, None), (pd.DataFrame.mean, None), (pd.DataFrame.std, None), (pd.DataFrame.min, None), (pd.DataFrame.quantile, 0.25), (pd.DataFrame.quantile, 0.5), (pd.DataFrame.quantile, 0.75), (pd.DataFrame.max, None)]\n",
    "data = []\n",
    "for f, p in functions:\n",
    "    if p:\n",
    "        data.append(f(scores,q=p))\n",
    "    else:\n",
    "        data.append(f(scores))\n",
    "\n",
    "desc = pd.DataFrame(data, index=[f[0].__name__ if f[0].__name__ != \"quantile\" else str(f[1] * 100)[:2] + \"%\"  for f in functions])\n",
    "desc = desc.drop(['Student'], axis=1)\n",
    "print(desc)"
   ],
   "metadata": {
    "collapsed": false,
    "pycharm": {
     "name": "#%%\n"
    }
   }
  },
  {
   "cell_type": "markdown",
   "source": [
    "#### 11) Write the code that changes all 0.0 entries to np.nan. (NOTE: You should be able to do this with just one line of code using pandas selection techniques!) Then, show scores. All 0.0 entries should be replaced with NaN in the output."
   ],
   "metadata": {
    "collapsed": false
   }
  },
  {
   "cell_type": "code",
   "execution_count": 14,
   "outputs": [
    {
     "name": "stdout",
     "output_type": "stream",
     "text": [
      "      Mo    Tu     We     Th    Fr Student\n",
      "w1  9.50  8.75   8.00  10.00  7.75     Bob\n",
      "w1  9.00  8.00  10.00   8.75  7.25    Jane\n",
      "w2  8.50   NaN   9.75   9.00  6.00     Bob\n",
      "w2  7.00  8.25   9.25    NaN  8.00    Jane\n",
      "w3  7.00  8.50   9.25    NaN   NaN     Bob\n",
      "w3  8.50  8.25   9.00   8.00  7.50    Jane\n",
      "w4  9.00  7.00   8.50   8.00  8.00     Bob\n",
      "w4  9.25  9.25   8.50   7.75  7.50    Jane\n"
     ]
    }
   ],
   "source": [
    "scores = scores.replace(0, np.NaN)\n",
    "print(scores)"
   ],
   "metadata": {
    "collapsed": false,
    "pycharm": {
     "name": "#%%\n"
    }
   }
  },
  {
   "cell_type": "markdown",
   "source": [
    "#### 12) Show the output of describe() again. Yes, this is better! Note how much more informative this output is when properly dealing with missing data. Copy your code from above to output the day with the largest standard deviation in quiz scores. You should have a substantially different result than you did before!"
   ],
   "metadata": {
    "collapsed": false
   }
  },
  {
   "cell_type": "code",
   "execution_count": 15,
   "outputs": [
    {
     "name": "stdout",
     "output_type": "stream",
     "text": [
      "             Mo        Tu         We         Th        Fr\n",
      "count  8.000000  7.000000   8.000000   6.000000  7.000000\n",
      "mean   8.468750  8.285714   9.031250   8.583333  7.428571\n",
      "std    0.967669  0.698638   0.673974   0.846562  0.687906\n",
      "min    7.000000  7.000000   8.000000   7.750000  6.000000\n",
      "25%    8.125000  8.125000   8.500000   8.000000  7.375000\n",
      "50%    8.750000  8.250000   9.125000   8.375000  7.500000\n",
      "75%    9.062500  8.625000   9.375000   8.937500  7.875000\n",
      "max    9.500000  9.250000  10.000000  10.000000  8.000000\n",
      "Day with largest standard deviation: Mo\n"
     ]
    }
   ],
   "source": [
    "new_desc = scores.describe()\n",
    "print(new_desc)\n",
    "\n",
    "stds = new_desc.loc['std']\n",
    "i = new_desc.loc['std'].argmax()\n",
    "\n",
    "print(\"Day with largest standard deviation:\", stds.index[i])\n",
    "del new_desc"
   ],
   "metadata": {
    "collapsed": false,
    "pycharm": {
     "name": "#%%\n"
    }
   }
  },
  {
   "cell_type": "markdown",
   "source": [
    "#### 13) Show the output of scores.values. What does the .values attribute do?"
   ],
   "metadata": {
    "collapsed": false
   }
  },
  {
   "cell_type": "code",
   "source": [
    "\"\"\"\n",
    "values returns a ndarray 2D array which is the\n",
    " dataframe represented in a numpy form. It is\n",
    " recommended now to use DataFrame.to_numpy()\n",
    "\"\"\"\n",
    "print(scores.values)\n",
    "print(type(scores.values).__name__)"
   ],
   "metadata": {
    "collapsed": false,
    "pycharm": {
     "name": "#%%\n"
    }
   },
   "execution_count": 16,
   "outputs": [
    {
     "name": "stdout",
     "output_type": "stream",
     "text": [
      "[[9.5 8.75 8.0 10.0 7.75 'Bob']\n",
      " [9.0 8.0 10.0 8.75 7.25 'Jane']\n",
      " [8.5 nan 9.75 9.0 6.0 'Bob']\n",
      " [7.0 8.25 9.25 nan 8.0 'Jane']\n",
      " [7.0 8.5 9.25 nan nan 'Bob']\n",
      " [8.5 8.25 9.0 8.0 7.5 'Jane']\n",
      " [9.0 7.0 8.5 8.0 8.0 'Bob']\n",
      " [9.25 9.25 8.5 7.75 7.5 'Jane']]\n",
      "ndarray\n"
     ]
    }
   ]
  },
  {
   "cell_type": "markdown",
   "source": [
    "#### 14) What is the mean quiz score for each day? Do not use describe()"
   ],
   "metadata": {
    "collapsed": false
   }
  },
  {
   "cell_type": "code",
   "execution_count": 17,
   "outputs": [
    {
     "data": {
      "text/plain": "Mo    8.468750\nTu    8.285714\nWe    9.031250\nTh    8.583333\nFr    7.428571\ndtype: float64"
     },
     "execution_count": 17,
     "metadata": {},
     "output_type": "execute_result"
    }
   ],
   "source": [
    "scores.mean()"
   ],
   "metadata": {
    "collapsed": false,
    "pycharm": {
     "name": "#%%\n"
    }
   }
  },
  {
   "cell_type": "markdown",
   "source": [
    "#### 15) What is the mean quiz score over the entire dataset, ignoring all missing values? (HINT: there are many ways to do this, and no solution should involve writing any loops! The only right answer is 8.375. If you aren't getting that, then you are not handling NaN values correctly. You only want the mean over all scores that are NOT NaN!)"
   ],
   "metadata": {
    "collapsed": false
   }
  },
  {
   "cell_type": "code",
   "execution_count": 18,
   "outputs": [
    {
     "name": "stdout",
     "output_type": "stream",
     "text": [
      "8.375\n"
     ]
    }
   ],
   "source": [
    "count = scores.count().drop(\"Student\").sum()\n",
    "sums = scores.sum().drop(\"Student\").sum()\n",
    "print(sums / count)"
   ],
   "metadata": {
    "collapsed": false,
    "pycharm": {
     "name": "#%%\n"
    }
   }
  },
  {
   "cell_type": "markdown",
   "source": [
    "#### 16) Show the mean for each week over all students. Again, you are not counting missing quizzes into the average. (Yes, technically you could write a loop to compute this exhaustively. However, you should rarely need to do that. Use pandas!)"
   ],
   "metadata": {
    "collapsed": false
   }
  },
  {
   "cell_type": "code",
   "execution_count": 19,
   "outputs": [
    {
     "name": "stdout",
     "output_type": "stream",
     "text": [
      "w1    8.70000\n",
      "w2    8.21875\n",
      "w3    8.25000\n",
      "w4    8.27500\n",
      "dtype: float64\n"
     ]
    }
   ],
   "source": [
    "count = scores.groupby(level=0).count().drop(\"Student\", axis=1).sum(axis=1)\n",
    "sums = scores.groupby(level=0).sum().sum(axis=1)\n",
    "print(sums / count)"
   ],
   "metadata": {
    "collapsed": false,
    "pycharm": {
     "name": "#%%\n"
    }
   }
  },
  {
   "cell_type": "markdown",
   "source": [
    "#### 17) Show the mean score for each student. Again, ignore all missing values."
   ],
   "metadata": {
    "collapsed": false
   }
  },
  {
   "cell_type": "code",
   "execution_count": 20,
   "outputs": [
    {
     "name": "stdout",
     "output_type": "stream",
     "text": [
      "Student\n",
      "Bob     8.382353\n",
      "Jane    8.368421\n",
      "dtype: float64\n"
     ]
    }
   ],
   "source": [
    "count = scores.groupby(\"Student\").count().sum(axis=1)\n",
    "sums = scores.groupby(\"Student\").sum().sum(axis=1)\n",
    "\n",
    "print(sums / count)"
   ],
   "metadata": {
    "collapsed": false,
    "pycharm": {
     "name": "#%%\n"
    }
   }
  },
  {
   "cell_type": "markdown",
   "source": [
    "#### 18) Select the data frame for only Monday and Student variables using .loc, and again using .iloc"
   ],
   "metadata": {
    "collapsed": false
   }
  },
  {
   "cell_type": "code",
   "execution_count": 21,
   "outputs": [
    {
     "name": "stdout",
     "output_type": "stream",
     "text": [
      "      Mo Student\n",
      "w1  9.50     Bob\n",
      "w1  9.00    Jane\n",
      "w2  8.50     Bob\n",
      "w2  7.00    Jane\n",
      "w3  7.00     Bob\n",
      "w3  8.50    Jane\n",
      "w4  9.00     Bob\n",
      "w4  9.25    Jane\n",
      "      Mo Student\n",
      "w1  9.50     Bob\n",
      "w1  9.00    Jane\n",
      "w2  8.50     Bob\n",
      "w2  7.00    Jane\n",
      "w3  7.00     Bob\n",
      "w3  8.50    Jane\n",
      "w4  9.00     Bob\n",
      "w4  9.25    Jane\n"
     ]
    }
   ],
   "source": [
    "print(scores.loc[:,[\"Mo\",\"Student\"]])\n",
    "print(scores.iloc[:,[0,-1]])"
   ],
   "metadata": {
    "collapsed": false,
    "pycharm": {
     "name": "#%%\n"
    }
   }
  },
  {
   "cell_type": "markdown",
   "source": [
    "#### 19) Show a new DataFrame containing the week as an index (like the original), but contains only each student with the count of their quizzes and the mean of their scores. Your result should look as follows:"
   ],
   "metadata": {
    "collapsed": false
   }
  },
  {
   "cell_type": "code",
   "execution_count": 35,
   "outputs": [
    {
     "data": {
      "text/plain": "   Student  Count    mean\nw1     Bob      5  8.8000\nw1    Jane      5  8.6000\nw2     Bob      4  8.3125\nw2    Jane      4  8.1250\nw3     Bob      3  8.2500\nw3    Jane      5  8.2500\nw4     Bob      5  8.1000\nw4    Jane      5  8.4500",
      "text/html": "<div>\n<style scoped>\n    .dataframe tbody tr th:only-of-type {\n        vertical-align: middle;\n    }\n\n    .dataframe tbody tr th {\n        vertical-align: top;\n    }\n\n    .dataframe thead th {\n        text-align: right;\n    }\n</style>\n<table border=\"1\" class=\"dataframe\">\n  <thead>\n    <tr style=\"text-align: right;\">\n      <th></th>\n      <th>Student</th>\n      <th>Count</th>\n      <th>mean</th>\n    </tr>\n  </thead>\n  <tbody>\n    <tr>\n      <th>w1</th>\n      <td>Bob</td>\n      <td>5</td>\n      <td>8.8000</td>\n    </tr>\n    <tr>\n      <th>w1</th>\n      <td>Jane</td>\n      <td>5</td>\n      <td>8.6000</td>\n    </tr>\n    <tr>\n      <th>w2</th>\n      <td>Bob</td>\n      <td>4</td>\n      <td>8.3125</td>\n    </tr>\n    <tr>\n      <th>w2</th>\n      <td>Jane</td>\n      <td>4</td>\n      <td>8.1250</td>\n    </tr>\n    <tr>\n      <th>w3</th>\n      <td>Bob</td>\n      <td>3</td>\n      <td>8.2500</td>\n    </tr>\n    <tr>\n      <th>w3</th>\n      <td>Jane</td>\n      <td>5</td>\n      <td>8.2500</td>\n    </tr>\n    <tr>\n      <th>w4</th>\n      <td>Bob</td>\n      <td>5</td>\n      <td>8.1000</td>\n    </tr>\n    <tr>\n      <th>w4</th>\n      <td>Jane</td>\n      <td>5</td>\n      <td>8.4500</td>\n    </tr>\n  </tbody>\n</table>\n</div>"
     },
     "execution_count": 35,
     "metadata": {},
     "output_type": "execute_result"
    }
   ],
   "source": [
    "names = scores.loc[:,[\"Student\"]]\n",
    "count = scores.drop(\"Student\", axis=1).count(axis=1)\n",
    "mean = scores.drop(\"Student\", axis=1).sum(axis=1) / count\n",
    "names['Count'] = count\n",
    "names['mean'] = mean\n",
    "\n",
    "names"
   ],
   "metadata": {
    "collapsed": false,
    "pycharm": {
     "name": "#%%\n"
    }
   }
  },
  {
   "cell_type": "markdown",
   "source": [
    "#### 20) Show the number of times Friday's score was greater than 7.25 for each student. Start by selecting a subset of observations, then use value_counts() on the Student variable of the selected data. Your result should look as follows:"
   ],
   "metadata": {
    "collapsed": false
   }
  },
  {
   "cell_type": "code",
   "execution_count": 34,
   "outputs": [
    {
     "data": {
      "text/plain": "Jane    3\nBob     2\nName: Student, dtype: int64"
     },
     "execution_count": 34,
     "metadata": {},
     "output_type": "execute_result"
    }
   ],
   "source": [
    "new_scores = scores.loc[:,[\"Fr\",\"Student\"]]\n",
    "new_scores = new_scores[new_scores['Fr'] > 7.25]\n",
    "\n",
    "new_scores[\"Student\"].value_counts()"
   ],
   "metadata": {
    "collapsed": false,
    "pycharm": {
     "name": "#%%\n"
    }
   }
  },
  {
   "cell_type": "markdown",
   "source": [
    "#### 21) Repeat the previous exercise, but this time use the where() method on scores to select your data. You should have the same output."
   ],
   "metadata": {
    "collapsed": false
   }
  },
  {
   "cell_type": "code",
   "execution_count": 33,
   "outputs": [
    {
     "data": {
      "text/plain": "Jane    3\nBob     2\nName: Student, dtype: int64"
     },
     "execution_count": 33,
     "metadata": {},
     "output_type": "execute_result"
    }
   ],
   "source": [
    "new_scores = scores.loc[:,[\"Fr\",\"Student\"]]\n",
    "new_scores = new_scores.where(new_scores['Fr'] > 7.25)\n",
    "new_scores = new_scores.dropna()\n",
    "\n",
    "new_scores[\"Student\"].value_counts()"
   ],
   "metadata": {
    "collapsed": false,
    "pycharm": {
     "name": "#%%\n"
    }
   }
  },
  {
   "cell_type": "markdown",
   "source": [
    "#### 22) Select the scores that were greater than the mean score over the entire dataset (without the missing values). Again, no hard coding values here (i.e. do NOT hard code the mean, but recompute it. Then, report the number of scores for each day that exceeded that global mean. Your result should look like:"
   ],
   "metadata": {
    "collapsed": false
   }
  },
  {
   "cell_type": "code",
   "execution_count": 32,
   "outputs": [
    {
     "data": {
      "text/plain": "Mo    6\nTu    3\nWe    7\nTh    3\nFr    0\ndtype: int64"
     },
     "execution_count": 32,
     "metadata": {},
     "output_type": "execute_result"
    }
   ],
   "source": [
    "count = scores.count().drop(\"Student\").sum()\n",
    "sums = scores.sum().drop(\"Student\").sum()\n",
    "mean = sums / count\n",
    "\n",
    "new_scores = scores.drop(\"Student\", axis=1)\n",
    "new_scores.where(new_scores > mean).count()"
   ],
   "metadata": {
    "collapsed": false,
    "pycharm": {
     "name": "#%%\n"
    }
   }
  },
  {
   "cell_type": "markdown",
   "source": [
    "#### 23) When dealing with enormous datasets for modeling, we often drop all observations that have any missing data. Show a new data frame that has only complete observations."
   ],
   "metadata": {
    "collapsed": false,
    "pycharm": {
     "name": "#%% md\n"
    }
   }
  },
  {
   "cell_type": "code",
   "execution_count": 30,
   "outputs": [
    {
     "data": {
      "text/plain": "      Mo    Tu    We     Th    Fr Student\nw1  9.50  8.75   8.0  10.00  7.75     Bob\nw1  9.00  8.00  10.0   8.75  7.25    Jane\nw3  8.50  8.25   9.0   8.00  7.50    Jane\nw4  9.00  7.00   8.5   8.00  8.00     Bob\nw4  9.25  9.25   8.5   7.75  7.50    Jane",
      "text/html": "<div>\n<style scoped>\n    .dataframe tbody tr th:only-of-type {\n        vertical-align: middle;\n    }\n\n    .dataframe tbody tr th {\n        vertical-align: top;\n    }\n\n    .dataframe thead th {\n        text-align: right;\n    }\n</style>\n<table border=\"1\" class=\"dataframe\">\n  <thead>\n    <tr style=\"text-align: right;\">\n      <th></th>\n      <th>Mo</th>\n      <th>Tu</th>\n      <th>We</th>\n      <th>Th</th>\n      <th>Fr</th>\n      <th>Student</th>\n    </tr>\n  </thead>\n  <tbody>\n    <tr>\n      <th>w1</th>\n      <td>9.50</td>\n      <td>8.75</td>\n      <td>8.0</td>\n      <td>10.00</td>\n      <td>7.75</td>\n      <td>Bob</td>\n    </tr>\n    <tr>\n      <th>w1</th>\n      <td>9.00</td>\n      <td>8.00</td>\n      <td>10.0</td>\n      <td>8.75</td>\n      <td>7.25</td>\n      <td>Jane</td>\n    </tr>\n    <tr>\n      <th>w3</th>\n      <td>8.50</td>\n      <td>8.25</td>\n      <td>9.0</td>\n      <td>8.00</td>\n      <td>7.50</td>\n      <td>Jane</td>\n    </tr>\n    <tr>\n      <th>w4</th>\n      <td>9.00</td>\n      <td>7.00</td>\n      <td>8.5</td>\n      <td>8.00</td>\n      <td>8.00</td>\n      <td>Bob</td>\n    </tr>\n    <tr>\n      <th>w4</th>\n      <td>9.25</td>\n      <td>9.25</td>\n      <td>8.5</td>\n      <td>7.75</td>\n      <td>7.50</td>\n      <td>Jane</td>\n    </tr>\n  </tbody>\n</table>\n</div>"
     },
     "execution_count": 30,
     "metadata": {},
     "output_type": "execute_result"
    }
   ],
   "source": [
    "scores.dropna()"
   ],
   "metadata": {
    "collapsed": false,
    "pycharm": {
     "name": "#%%\n"
    }
   }
  },
  {
   "cell_type": "code",
   "execution_count": null,
   "outputs": [],
   "source": [],
   "metadata": {
    "collapsed": false,
    "pycharm": {
     "name": "#%%\n"
    }
   }
  }
 ],
 "metadata": {
  "kernelspec": {
   "display_name": "Python 3",
   "language": "python",
   "name": "python3"
  },
  "language_info": {
   "codemirror_mode": {
    "name": "ipython",
    "version": 3
   },
   "file_extension": ".py",
   "mimetype": "text/x-python",
   "name": "python",
   "nbconvert_exporter": "python",
   "pygments_lexer": "ipython3",
   "version": "3.8.6"
  }
 },
 "nbformat": 4,
 "nbformat_minor": 5
}