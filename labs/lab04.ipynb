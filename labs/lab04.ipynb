{
 "cells": [
  {
   "cell_type": "markdown",
   "source": [
    "# lab 04 - Pandas 2\n",
    "Name: Robb Alexander    \n",
    "Class: CSCI349    \n",
    "Semester: 2021SP    \n",
    "Instructor: Brian King\n"
   ],
   "metadata": {
    "collapsed": false
   }
  },
  {
   "cell_type": "code",
   "execution_count": 9,
   "outputs": [],
   "source": [
    "# Setting things up\n",
    "import sys\n",
    "import numpy as np\n",
    "import pandas as pd"
   ],
   "metadata": {
    "collapsed": false,
    "pycharm": {
     "name": "#%%\n"
    }
   }
  },
  {
   "cell_type": "code",
   "execution_count": 12,
   "outputs": [],
   "source": [
    "days = [\"Mon\",\"Tue\",\"Wed\",\"Thurs\",\"Fri\",\"Student\"]\n",
    "scores = pd.DataFrame([pd.Series([9.5, 8.75, 8, 10, 7.75, \"Bob\"], index=days, name=\"week_1\"), pd.Series([9, 8, 10, 8.75, 7.25, \"Jane\"], index=days, name=\"week_1\"), pd.Series([8.5, 0, 9.75, 9, 6, \"Bob\"], index=days, name=\"week_2\"), pd.Series([7, 8.25, 9.25, 0, 8, \"Jane\"], index=days, name=\"week_2\"), pd.Series([7, 8.5, 9.25, 0, 0, \"Bob\"], index=days, name=\"week_3\"), pd.Series([8.5, 8.25, 9, 8, 7.5, \"Jane\"], index=days, name=\"week_3\"), pd.Series([9, 7, 8.5, 8, 8, \"Bob\"], index=days, name=\"week_4\"), pd.Series([9.25, 9.25, 8.5, 7.75, 7.5, \"Jane\"], index=days,name=\"week_4\"),])"
   ],
   "metadata": {
    "collapsed": false,
    "pycharm": {
     "name": "#%%\n"
    }
   }
  },
  {
   "cell_type": "code",
   "execution_count": null,
   "outputs": [],
   "source": [],
   "metadata": {
    "collapsed": false,
    "pycharm": {
     "name": "#%%\n"
    }
   }
  }
 ],
 "metadata": {
  "kernelspec": {
   "display_name": "Python 3",
   "language": "python",
   "name": "python3"
  },
  "language_info": {
   "codemirror_mode": {
    "name": "ipython",
    "version": 3
   },
   "file_extension": ".py",
   "mimetype": "text/x-python",
   "name": "python",
   "nbconvert_exporter": "python",
   "pygments_lexer": "ipython3",
   "version": "3.8.6"
  }
 },
 "nbformat": 4,
 "nbformat_minor": 5
}