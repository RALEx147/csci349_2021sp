{
 "cells": [
  {
   "cell_type": "markdown",
   "source": [
    "# lab 06 - Data preprocessing I\n",
    "Name: Robb Alexander and Ryan Bailis   \n",
    "Class: CSCI349    \n",
    "Semester: 2021SP    \n",
    "Instructor: Brian King\n"
   ],
   "metadata": {
    "collapsed": false
   }
  },
  {
   "cell_type": "code",
   "execution_count": 1,
   "outputs": [],
   "source": [
    "# Setting things up\n",
    "import numpy as np\n",
    "import pandas as pd\n",
    "import matplotlib.pyplot as plt\n",
    "import seaborn as sns"
   ],
   "metadata": {
    "collapsed": false,
    "pycharm": {
     "name": "#%%\n"
    }
   }
  },
  {
   "cell_type": "markdown",
   "source": [
    "#### 1) Use pandas to read in your CSV data file you downloaded above. (You should have placed in your data directory.) Call the data frame df_temps. Read in the entire dataset, however, peek at the dataset first. You'll notice 16 rows of metadata. Ignore the first 16 rows (HINT: Use the skiprows= option!) NOTE: ALWAYS BE SURE TO LOOK AT YOUR ACTUAL DATA BEFORE TRYING TO READ IN A RAW DATASET!"
   ],
   "metadata": {
    "collapsed": false
   }
  },
  {
   "cell_type": "code",
   "execution_count": 2,
   "outputs": [
    {
     "data": {
      "text/plain": "       Date/Time (GMT)  Number of Observations (n/a)  Average Temp (F)  \\\n0  2000-01-01 00:00:00                             1              26.1   \n1  2000-01-01 01:00:00                             1              26.1   \n2  2000-01-01 02:00:00                             1              26.1   \n3  2000-01-01 03:00:00                             1              26.1   \n4  2000-01-01 04:00:00                             1              26.1   \n\n   Max Temp (F)  Min Temp (F)  Average Dewpoint Temp (F)  1 Hour Precip (in)  \\\n0          26.1          26.1                       14.0                 NaN   \n1          26.1          26.1                       14.0                 NaN   \n2          26.1          26.1                       15.1                 NaN   \n3          26.1          26.1                       12.0                 NaN   \n4          26.1          26.1                       14.0                 NaN   \n\n   Max Wind Gust (mph)  Average Relative Humidity (%)  \\\n0                 20.7                           59.0   \n1                  NaN                           59.0   \n2                  NaN                           62.0   \n3                  NaN                           54.0   \n4                  NaN                           59.0   \n\n   Average Wind Speed (mph)  Average Station Pressure (mb)  \\\n0                      17.3                         1015.2   \n1                      16.1                         1015.9   \n2                      15.0                         1016.3   \n3                      16.1                         1016.6   \n4                      12.7                         1017.3   \n\n   Average Wind Direction (deg)  Max Wind Speed (mph)  Unnamed: 13  \n0                         280.0                  17.3          NaN  \n1                         280.0                  16.1          NaN  \n2                         280.0                  15.0          NaN  \n3                         270.0                  16.1          NaN  \n4                         280.0                  12.7          NaN  ",
      "text/html": "<div>\n<style scoped>\n    .dataframe tbody tr th:only-of-type {\n        vertical-align: middle;\n    }\n\n    .dataframe tbody tr th {\n        vertical-align: top;\n    }\n\n    .dataframe thead th {\n        text-align: right;\n    }\n</style>\n<table border=\"1\" class=\"dataframe\">\n  <thead>\n    <tr style=\"text-align: right;\">\n      <th></th>\n      <th>Date/Time (GMT)</th>\n      <th>Number of Observations (n/a)</th>\n      <th>Average Temp (F)</th>\n      <th>Max Temp (F)</th>\n      <th>Min Temp (F)</th>\n      <th>Average Dewpoint Temp (F)</th>\n      <th>1 Hour Precip (in)</th>\n      <th>Max Wind Gust (mph)</th>\n      <th>Average Relative Humidity (%)</th>\n      <th>Average Wind Speed (mph)</th>\n      <th>Average Station Pressure (mb)</th>\n      <th>Average Wind Direction (deg)</th>\n      <th>Max Wind Speed (mph)</th>\n      <th>Unnamed: 13</th>\n    </tr>\n  </thead>\n  <tbody>\n    <tr>\n      <th>0</th>\n      <td>2000-01-01 00:00:00</td>\n      <td>1</td>\n      <td>26.1</td>\n      <td>26.1</td>\n      <td>26.1</td>\n      <td>14.0</td>\n      <td>NaN</td>\n      <td>20.7</td>\n      <td>59.0</td>\n      <td>17.3</td>\n      <td>1015.2</td>\n      <td>280.0</td>\n      <td>17.3</td>\n      <td>NaN</td>\n    </tr>\n    <tr>\n      <th>1</th>\n      <td>2000-01-01 01:00:00</td>\n      <td>1</td>\n      <td>26.1</td>\n      <td>26.1</td>\n      <td>26.1</td>\n      <td>14.0</td>\n      <td>NaN</td>\n      <td>NaN</td>\n      <td>59.0</td>\n      <td>16.1</td>\n      <td>1015.9</td>\n      <td>280.0</td>\n      <td>16.1</td>\n      <td>NaN</td>\n    </tr>\n    <tr>\n      <th>2</th>\n      <td>2000-01-01 02:00:00</td>\n      <td>1</td>\n      <td>26.1</td>\n      <td>26.1</td>\n      <td>26.1</td>\n      <td>15.1</td>\n      <td>NaN</td>\n      <td>NaN</td>\n      <td>62.0</td>\n      <td>15.0</td>\n      <td>1016.3</td>\n      <td>280.0</td>\n      <td>15.0</td>\n      <td>NaN</td>\n    </tr>\n    <tr>\n      <th>3</th>\n      <td>2000-01-01 03:00:00</td>\n      <td>1</td>\n      <td>26.1</td>\n      <td>26.1</td>\n      <td>26.1</td>\n      <td>12.0</td>\n      <td>NaN</td>\n      <td>NaN</td>\n      <td>54.0</td>\n      <td>16.1</td>\n      <td>1016.6</td>\n      <td>270.0</td>\n      <td>16.1</td>\n      <td>NaN</td>\n    </tr>\n    <tr>\n      <th>4</th>\n      <td>2000-01-01 04:00:00</td>\n      <td>1</td>\n      <td>26.1</td>\n      <td>26.1</td>\n      <td>26.1</td>\n      <td>14.0</td>\n      <td>NaN</td>\n      <td>NaN</td>\n      <td>59.0</td>\n      <td>12.7</td>\n      <td>1017.3</td>\n      <td>280.0</td>\n      <td>12.7</td>\n      <td>NaN</td>\n    </tr>\n  </tbody>\n</table>\n</div>"
     },
     "execution_count": 2,
     "metadata": {},
     "output_type": "execute_result"
    }
   ],
   "source": [
    "df_temps = pd.read_csv(\"/Users/rale/Documents/Programming/csci349_2021sp/data/faa_hourly-KIPT_20000101-20201231_raw.csv\", skiprows=16)\n",
    "df_temps.head()"
   ],
   "metadata": {
    "collapsed": false,
    "pycharm": {
     "name": "#%%\n"
    }
   }
  },
  {
   "cell_type": "markdown",
   "source": [
    "#### 2) Report the general structure of the data frame using df_temps.info(). You should notice that almost every variable was read in as a plan object data type. You have a lot of work to do!"
   ],
   "metadata": {
    "collapsed": false
   }
  },
  {
   "cell_type": "code",
   "source": [
    "df_temps.info()"
   ],
   "metadata": {
    "collapsed": false,
    "pycharm": {
     "name": "#%%\n"
    }
   },
   "execution_count": 3,
   "outputs": [
    {
     "name": "stdout",
     "output_type": "stream",
     "text": [
      "<class 'pandas.core.frame.DataFrame'>\n",
      "RangeIndex: 181943 entries, 0 to 181942\n",
      "Data columns (total 14 columns):\n",
      " #   Column                         Non-Null Count   Dtype  \n",
      "---  ------                         --------------   -----  \n",
      " 0   Date/Time (GMT)                181943 non-null  object \n",
      " 1   Number of Observations (n/a)   181943 non-null  int64  \n",
      " 2   Average Temp (F)               180938 non-null  float64\n",
      " 3   Max Temp (F)                   180938 non-null  float64\n",
      " 4   Min Temp (F)                   180938 non-null  float64\n",
      " 5   Average Dewpoint Temp (F)      180816 non-null  float64\n",
      " 6   1 Hour Precip (in)             30294 non-null   float64\n",
      " 7   Max Wind Gust (mph)            24708 non-null   float64\n",
      " 8   Average Relative Humidity (%)  177114 non-null  float64\n",
      " 9   Average Wind Speed (mph)       181394 non-null  float64\n",
      " 10  Average Station Pressure (mb)  181647 non-null  float64\n",
      " 11  Average Wind Direction (deg)   148822 non-null  float64\n",
      " 12  Max Wind Speed (mph)           181394 non-null  float64\n",
      " 13  Unnamed: 13                    0 non-null       float64\n",
      "dtypes: float64(12), int64(1), object(1)\n",
      "memory usage: 19.4+ MB\n"
     ]
    }
   ]
  },
  {
   "cell_type": "markdown",
   "source": [
    "#### 3) Read about the memory_usage() method of pandas data frames. Then, report the total memory in bytes for each variable of df_temps. Set the parameter deep=True, to get the most accurate assessment of your total memory usage. (NOTE – this could take a bit of time to return an answer.)"
   ],
   "metadata": {
    "collapsed": false
   }
  },
  {
   "cell_type": "code",
   "source": [
    "mem = df_temps.memory_usage(deep=True)\n",
    "mem"
   ],
   "metadata": {
    "collapsed": false,
    "pycharm": {
     "name": "#%%\n"
    }
   },
   "execution_count": 4,
   "outputs": [
    {
     "data": {
      "text/plain": "Index                                 128\nDate/Time (GMT)                  13827668\nNumber of Observations (n/a)      1455544\nAverage Temp (F)                  1455544\nMax Temp (F)                      1455544\nMin Temp (F)                      1455544\nAverage Dewpoint Temp (F)         1455544\n1 Hour Precip (in)                1455544\nMax Wind Gust (mph)               1455544\nAverage Relative Humidity (%)     1455544\nAverage Wind Speed (mph)          1455544\nAverage Station Pressure (mb)     1455544\nAverage Wind Direction (deg)      1455544\nMax Wind Speed (mph)              1455544\nUnnamed: 13                       1455544\ndtype: int64"
     },
     "execution_count": 4,
     "metadata": {},
     "output_type": "execute_result"
    }
   ]
  },
  {
   "cell_type": "markdown",
   "source": [
    "#### 4) Report the total memory required for the data frame in MB. (Just sum the previous answer.) You should get an answer showing over a hundred megabytes! Also, store the total as a variable called original_memory. We're going to compare memory after we're done."
   ],
   "metadata": {
    "collapsed": false
   }
  },
  {
   "cell_type": "code",
   "execution_count": 5,
   "outputs": [
    {
     "data": {
      "text/plain": "31.232707977294922"
     },
     "execution_count": 5,
     "metadata": {},
     "output_type": "execute_result"
    }
   ],
   "source": [
    "original_memory = mem.sum()\n",
    "original_memory = original_memory / (1<<20)\n",
    "original_memory #MBs"
   ],
   "metadata": {
    "collapsed": false,
    "pycharm": {
     "name": "#%%\n"
    }
   }
  },
  {
   "cell_type": "markdown",
   "source": [
    "#### 5) You have a rather annoying extra column that was read in in the last column position. (Look closely at the output of `info()` above!) You should always confirm that it's garbage before deleting it. Write the single line of code that reports the count of valid values in the last column (HINT: count())"
   ],
   "metadata": {
    "collapsed": false
   }
  },
  {
   "cell_type": "code",
   "execution_count": 6,
   "outputs": [
    {
     "data": {
      "text/plain": "0"
     },
     "execution_count": 6,
     "metadata": {},
     "output_type": "execute_result"
    }
   ],
   "source": [
    "df_temps.iloc[:,-1].count()"
   ],
   "metadata": {
    "collapsed": false,
    "pycharm": {
     "name": "#%%\n"
    }
   }
  },
  {
   "cell_type": "markdown",
   "source": [
    "#### 6) Drop that last column from df_temps."
   ],
   "metadata": {
    "collapsed": false,
    "pycharm": {
     "name": "#%% md\n"
    }
   }
  },
  {
   "cell_type": "code",
   "execution_count": 7,
   "outputs": [],
   "source": [
    "df_temps = df_temps.iloc[:,:-1]"
   ],
   "metadata": {
    "collapsed": false,
    "pycharm": {
     "name": "#%%\n"
    }
   }
  },
  {
   "cell_type": "markdown",
   "source": [
    "#### 7) Look over the data type column in the info() output. ALWAYS pay attention to the types of each variable. In particular, pay attention to the variables that are read in as \"object\" type. This implies that pandas did not have enough confidence to convert the type itself, and you need to do it. Are there any object types? If so what? What format are the data in that column(s)?"
   ],
   "metadata": {
    "collapsed": false
   }
  },
  {
   "cell_type": "markdown",
   "source": [
    "Date/Time (GMT) was read in as a object, it happens since the format is complex and contains special characters such as `:`. The format of the date object always follows YYYY-MM-DD HH:MM:SS. This means we can convert it into a simpler time int/representation."
   ],
   "metadata": {
    "collapsed": false
   }
  },
  {
   "cell_type": "markdown",
   "source": [
    "#### 8) How many NaN values are in each variable? (NOTE: Leave the NaN fields alone! The fact that they are missing is IMPORTANT! And, leave the date/time variable in the first column alone.)"
   ],
   "metadata": {
    "collapsed": false
   }
  },
  {
   "cell_type": "code",
   "execution_count": 8,
   "outputs": [
    {
     "data": {
      "text/plain": "Date/Time (GMT)                       0\nNumber of Observations (n/a)          0\nAverage Temp (F)                   1005\nMax Temp (F)                       1005\nMin Temp (F)                       1005\nAverage Dewpoint Temp (F)          1127\n1 Hour Precip (in)               151649\nMax Wind Gust (mph)              157235\nAverage Relative Humidity (%)      4829\nAverage Wind Speed (mph)            549\nAverage Station Pressure (mb)       296\nAverage Wind Direction (deg)      33121\nMax Wind Speed (mph)                549\ndtype: int64"
     },
     "execution_count": 8,
     "metadata": {},
     "output_type": "execute_result"
    }
   ],
   "source": [
    "df_temps.isna().sum()"
   ],
   "metadata": {
    "collapsed": false,
    "pycharm": {
     "name": "#%%\n"
    }
   }
  },
  {
   "cell_type": "markdown",
   "source": [
    "#### 9) Report the NaN output as a percentage of the total number of values that are missing for each variable"
   ],
   "metadata": {
    "collapsed": false
   }
  },
  {
   "cell_type": "code",
   "execution_count": 9,
   "outputs": [
    {
     "data": {
      "text/plain": "Date/Time (GMT)                   0.000000\nNumber of Observations (n/a)      0.000000\nAverage Temp (F)                  0.552371\nMax Temp (F)                      0.552371\nMin Temp (F)                      0.552371\nAverage Dewpoint Temp (F)         0.619425\n1 Hour Precip (in)               83.349730\nMax Wind Gust (mph)              86.419923\nAverage Relative Humidity (%)     2.654128\nAverage Wind Speed (mph)          0.301743\nAverage Station Pressure (mb)     0.162688\nAverage Wind Direction (deg)     18.204053\nMax Wind Speed (mph)              0.301743\ndtype: float64"
     },
     "execution_count": 9,
     "metadata": {},
     "output_type": "execute_result"
    }
   ],
   "source": [
    "total = len(df_temps.index)\n",
    "df_temps.isna().sum() / total * 100"
   ],
   "metadata": {
    "collapsed": false,
    "pycharm": {
     "name": "#%%\n"
    }
   }
  },
  {
   "cell_type": "markdown",
   "source": [
    "#### 10) Report the number of observations that are complete, meaning, they have NO missing variable in the observation. Report this as a raw number and as a percentage of the total number of observations. Then, clearly state why this is NOT a problem to be concerned about for this particular dataset. (HINT: Which variable(s) contain most of the missing data and why?)"
   ],
   "metadata": {
    "collapsed": false
   }
  },
  {
   "cell_type": "code",
   "execution_count": 10,
   "outputs": [
    {
     "name": "stdout",
     "output_type": "stream",
     "text": [
      "Complete Observations: 5552\n",
      "3.051505141720209 %\n"
     ]
    }
   ],
   "source": [
    "\"\"\"\n",
    "Only 3% of rows are completed, which seems low but\n",
    " in reality the missing data is 1 Hour Precip (in)\n",
    " and Max Wind Gust (mph). And both of these are\n",
    " conditions that do not happen every hour. Rain and\n",
    " high winds can only be recorded if it happens.\n",
    "\"\"\"\n",
    "complete_rows = df_temps.notna().all(axis=1).value_counts()[True]\n",
    "print(\"Complete Observations:\", complete_rows)\n",
    "print(complete_rows / total * 100,\"%\")"
   ],
   "metadata": {
    "collapsed": false,
    "pycharm": {
     "name": "#%%\n"
    }
   }
  },
  {
   "cell_type": "markdown",
   "source": [
    "#### 11) Look over your data types. By default, most of the time pandas will convert your integer types to a 64-bit integer, and floating point types will use double precision numbers. You can do far better. Read over the pd.to_numeric() function. Did you notice the parameter called downcast? Go back and read about this parameter. Downcast your types accordingly. Then look over the output of info(), and report your latest memory usage in MB."
   ],
   "metadata": {
    "collapsed": false
   }
  },
  {
   "cell_type": "code",
   "execution_count": 11,
   "outputs": [
    {
     "name": "stdout",
     "output_type": "stream",
     "text": [
      "<class 'pandas.core.frame.DataFrame'>\n",
      "RangeIndex: 181943 entries, 0 to 181942\n",
      "Data columns (total 13 columns):\n",
      " #   Column                         Non-Null Count   Dtype  \n",
      "---  ------                         --------------   -----  \n",
      " 0   Date/Time (GMT)                181943 non-null  object \n",
      " 1   Number of Observations (n/a)   181943 non-null  uint8  \n",
      " 2   Average Temp (F)               180938 non-null  float32\n",
      " 3   Max Temp (F)                   180938 non-null  float32\n",
      " 4   Min Temp (F)                   180938 non-null  float32\n",
      " 5   Average Dewpoint Temp (F)      180816 non-null  float32\n",
      " 6   1 Hour Precip (in)             30294 non-null   float32\n",
      " 7   Max Wind Gust (mph)            24708 non-null   float32\n",
      " 8   Average Relative Humidity (%)  177114 non-null  float32\n",
      " 9   Average Wind Speed (mph)       181394 non-null  float32\n",
      " 10  Average Station Pressure (mb)  181647 non-null  float32\n",
      " 11  Average Wind Direction (deg)   148822 non-null  float32\n",
      " 12  Max Wind Speed (mph)           181394 non-null  float32\n",
      "dtypes: float32(11), object(1), uint8(1)\n",
      "memory usage: 9.2+ MB\n"
     ]
    },
    {
     "data": {
      "text/plain": "'Memory usage shown in info() is 9.2MB'"
     },
     "execution_count": 11,
     "metadata": {},
     "output_type": "execute_result"
    }
   ],
   "source": [
    "df_temps['Number of Observations (n/a)'] = pd.to_numeric(df_temps['Number of Observations (n/a)'], downcast='unsigned')\n",
    "df_temps.iloc[:,2:13] = df_temps.iloc[:,2:13].apply(pd.to_numeric,downcast=\"float\")\n",
    "\n",
    "df_temps.info()\n",
    "\n",
    "\"\"\"Memory usage shown in info() is 9.2MB\"\"\""
   ],
   "metadata": {
    "collapsed": false,
    "pycharm": {
     "name": "#%%\n"
    }
   }
  },
  {
   "cell_type": "markdown",
   "source": [
    "#### 12) How much did our memory footprint improve? (Show the total memory usage using deep=True). Report the total memory usage in MB, and report the percentage improvement"
   ],
   "metadata": {
    "collapsed": false
   }
  },
  {
   "cell_type": "code",
   "execution_count": 12,
   "outputs": [
    {
     "name": "stdout",
     "output_type": "stream",
     "text": [
      "New memory: 20.995360374450684 MBs\n",
      "Memory we saved: 10.237347602844238 MBs\n"
     ]
    }
   ],
   "source": [
    "mem = df_temps.memory_usage(deep=True)\n",
    "new_memory = mem.sum()\n",
    "new_memory = new_memory / (1<<20)\n",
    "print(\"New memory:\", new_memory, \"MBs\")\n",
    "\n",
    "print(\"Memory we saved:\", original_memory - new_memory, \"MBs\")"
   ],
   "metadata": {
    "collapsed": false,
    "pycharm": {
     "name": "#%%\n"
    }
   }
  },
  {
   "cell_type": "markdown",
   "source": [
    "#### 13) There are four primary classes in pandas for working with dates and times? Consider the Scalar Class for each, and state what concept each is representing. (Again, if you think you are going to be working with data in your future, make some good notes for yourself here!)"
   ],
   "metadata": {
    "collapsed": false
   }
  },
  {
   "cell_type": "markdown",
   "source": [
    "Date time:<br>\n",
    "This is the Timestamp scalar type. This is a specific date and the time in the day for a specified timezone. Comparable to python's datetime representation.\n",
    "\n",
    "Time deltas:<br>\n",
    "This is the Timedelta scalar type. This is a time duration between two points. It can be represented in hours, days, minutes etc. This is also seen in python's timedelta object.\n",
    "\n",
    "Time spans:<br>\n",
    "This is the Period scalar type. It is the time duration that has a specified moment/moments and the period of time change, which can be a month, minute etc. You can do arithmetic to increment by the period specified.\n",
    "\n",
    "Date offsets:<br>\n",
    "This is the DateOffset scalar type. This is the time frame that has calendar functionality, this makes it easy to do arithmetics without breaking calendar rules. This is also a duration of time."
   ],
   "metadata": {
    "collapsed": false
   }
  },
  {
   "cell_type": "markdown",
   "source": [
    "#### 14) For each above, state the primary creation method used to create each type of data"
   ],
   "metadata": {
    "collapsed": false
   }
  },
  {
   "cell_type": "markdown",
   "source": [
    "Date time:<br>\n",
    "pd.Timestamp(\"2012-05-01\")<br>\n",
    "pd.Timestamp(2012, 5, 1)<br>\n",
    "pd.Timestamp(datetime.datetime(2012, 5, 1))\n",
    "\n",
    "Time deltas:<br>\n",
    "pd.Timedelta(\"1s\")\n",
    "\n",
    "Time spans:<br>\n",
    "pd.Period(\"2012\", freq=\"A-DEC\")<br>\n",
    "pd.Period(\"2012-1-1\", freq=\"D\")\n",
    "\n",
    "Date offsets:<br>\n",
    "pd.DateOffset(months=2)<br>\n",
    "pd.DateOffset(weekday=MO(2))\n"
   ],
   "metadata": {
    "collapsed": false
   }
  },
  {
   "cell_type": "markdown",
   "source": [
    "#### 15) Create a Timestamp object from the string \"07/04/19\", which is a date representing July 4, 2019. Store the object as d1 and show it."
   ],
   "metadata": {
    "collapsed": false
   }
  },
  {
   "cell_type": "code",
   "execution_count": 13,
   "outputs": [
    {
     "data": {
      "text/plain": "Timestamp('2019-07-04 00:00:00')"
     },
     "execution_count": 13,
     "metadata": {},
     "output_type": "execute_result"
    }
   ],
   "source": [
    "d1 = pd.Timestamp(\"2019-07-04\")\n",
    "d1"
   ],
   "metadata": {
    "collapsed": false,
    "pycharm": {
     "name": "#%%\n"
    }
   }
  },
  {
   "cell_type": "markdown",
   "source": [
    "#### 16) Using d1 and string formatting codes, print the string from d1: \"Today's date is Thursday, July 4, 2019\"."
   ],
   "metadata": {
    "collapsed": false
   }
  },
  {
   "cell_type": "code",
   "execution_count": 14,
   "outputs": [
    {
     "name": "stdout",
     "output_type": "stream",
     "text": [
      "Today's date is Thursday, July 04, 2019\n"
     ]
    }
   ],
   "source": [
    "print(\"Today's date is\", d1.strftime(\"%A, %B %d, %Y\"))"
   ],
   "metadata": {
    "collapsed": false,
    "pycharm": {
     "name": "#%%\n"
    }
   }
  },
  {
   "cell_type": "markdown",
   "source": [
    "#### 17) Create another Timestamp object representing Sept 7, 2019 at 3pm, called d2. Report it"
   ],
   "metadata": {
    "collapsed": false
   }
  },
  {
   "cell_type": "code",
   "execution_count": 15,
   "outputs": [
    {
     "data": {
      "text/plain": "Timestamp('2019-09-07 15:00:00')"
     },
     "execution_count": 15,
     "metadata": {},
     "output_type": "execute_result"
    }
   ],
   "source": [
    "d2 = pd.Timestamp(\"2019-09-07 15:00\")\n",
    "d2"
   ],
   "metadata": {
    "collapsed": false,
    "pycharm": {
     "name": "#%%\n"
    }
   }
  },
  {
   "cell_type": "markdown",
   "source": [
    "#### 18) Subtract d2 – d1, and report the difference as the number of days and seconds between these two. Also report the difference as total seconds. (NOTE: The difference should be 65 days, 54000 seconds. Or 5670000 total seconds.)"
   ],
   "metadata": {
    "collapsed": false
   }
  },
  {
   "cell_type": "code",
   "execution_count": 16,
   "outputs": [
    {
     "name": "stdout",
     "output_type": "stream",
     "text": [
      "65 days, 54000 seconds\n",
      "5670000.0 total seconds\n"
     ]
    }
   ],
   "source": [
    "diff = d2 - d1\n",
    "print(diff.days, \"days,\", diff.seconds, \"seconds\")\n",
    "print(diff.total_seconds(), \"total seconds\")"
   ],
   "metadata": {
    "collapsed": false,
    "pycharm": {
     "name": "#%%\n"
    }
   }
  },
  {
   "cell_type": "markdown",
   "source": [
    "#### 19) Create a new Timestamp object from the string \"2019-07-01 08:30pm\", but localize the time stamp to represent the time in the US Eastern Time Zone. Store the result as d3 and output it."
   ],
   "metadata": {
    "collapsed": false
   }
  },
  {
   "cell_type": "code",
   "execution_count": 17,
   "outputs": [
    {
     "data": {
      "text/plain": "Timestamp('2019-07-01 20:30:00-0400', tz='US/Eastern')"
     },
     "execution_count": 17,
     "metadata": {},
     "output_type": "execute_result"
    }
   ],
   "source": [
    "d3 = pd.Timestamp(\"2019-07-01 20:30\").tz_localize(\"US/Eastern\")\n",
    "d3"
   ],
   "metadata": {
    "collapsed": false,
    "pycharm": {
     "name": "#%%\n"
    }
   }
  },
  {
   "cell_type": "markdown",
   "source": [
    "#### 20) Show time represented by d3, but converted to the US / Pacific Time Zone. The time reported should be three hours earlier than EST shown in the previous question."
   ],
   "metadata": {
    "collapsed": false
   }
  },
  {
   "cell_type": "code",
   "execution_count": 18,
   "outputs": [
    {
     "data": {
      "text/plain": "Timestamp('2019-07-01 17:30:00-0700', tz='US/Pacific')"
     },
     "execution_count": 18,
     "metadata": {},
     "output_type": "execute_result"
    }
   ],
   "source": [
    "d3.tz_convert(\"US/Pacific\")"
   ],
   "metadata": {
    "collapsed": false,
    "pycharm": {
     "name": "#%%\n"
    }
   }
  },
  {
   "cell_type": "markdown",
   "source": [
    "#### 21) Create a Timestamp object representing right now, stored as ts_now. Show the result."
   ],
   "metadata": {
    "collapsed": false
   }
  },
  {
   "cell_type": "code",
   "execution_count": 19,
   "outputs": [
    {
     "data": {
      "text/plain": "Timestamp('2021-02-20 11:37:26.526197')"
     },
     "execution_count": 19,
     "metadata": {},
     "output_type": "execute_result"
    }
   ],
   "source": [
    "ts_now = pd.Timestamp.now()\n",
    "ts_now"
   ],
   "metadata": {
    "collapsed": false,
    "pycharm": {
     "name": "#%%\n"
    }
   }
  },
  {
   "cell_type": "markdown",
   "source": [
    "#### 22) Create a Timedelta object representing 1 hour, stored as td_hour. Show the result."
   ],
   "metadata": {
    "collapsed": false
   }
  },
  {
   "cell_type": "code",
   "execution_count": 20,
   "outputs": [
    {
     "data": {
      "text/plain": "Timedelta('0 days 01:00:00')"
     },
     "execution_count": 20,
     "metadata": {},
     "output_type": "execute_result"
    }
   ],
   "source": [
    "td_hour = pd.Timedelta(\"1H\")\n",
    "td_hour"
   ],
   "metadata": {
    "collapsed": false,
    "pycharm": {
     "name": "#%%\n"
    }
   }
  },
  {
   "cell_type": "markdown",
   "source": [
    "#### 23) Demonstrate how you can do basic mathematical operations by adding 6 hours to ts_now using td_hour and basic math operations. (i.e. No loops or further calculations necessary!)"
   ],
   "metadata": {
    "collapsed": false
   }
  },
  {
   "cell_type": "code",
   "execution_count": 21,
   "outputs": [
    {
     "data": {
      "text/plain": "Timestamp('2021-02-20 17:37:26.526197')"
     },
     "execution_count": 21,
     "metadata": {},
     "output_type": "execute_result"
    }
   ],
   "source": [
    "ts_now + td_hour * 6"
   ],
   "metadata": {
    "collapsed": false,
    "pycharm": {
     "name": "#%%\n"
    }
   }
  },
  {
   "cell_type": "markdown",
   "source": [
    "#### 24) Create a DatetimeIndex object that represents every hour during the month of January, 2021. The first index should be midnight, January 1, 2021, and the last index should be January 31, 2021 at 11pm. Store the object as dr. (HINT – use the pd.date_range() method!)"
   ],
   "metadata": {
    "collapsed": false
   }
  },
  {
   "cell_type": "code",
   "execution_count": 22,
   "outputs": [
    {
     "data": {
      "text/plain": "DatetimeIndex(['2021-01-01 00:00:00', '2021-01-01 01:00:00',\n               '2021-01-01 02:00:00', '2021-01-01 03:00:00',\n               '2021-01-01 04:00:00', '2021-01-01 05:00:00',\n               '2021-01-01 06:00:00', '2021-01-01 07:00:00',\n               '2021-01-01 08:00:00', '2021-01-01 09:00:00',\n               ...\n               '2021-01-31 14:00:00', '2021-01-31 15:00:00',\n               '2021-01-31 16:00:00', '2021-01-31 17:00:00',\n               '2021-01-31 18:00:00', '2021-01-31 19:00:00',\n               '2021-01-31 20:00:00', '2021-01-31 21:00:00',\n               '2021-01-31 22:00:00', '2021-01-31 23:00:00'],\n              dtype='datetime64[ns]', length=744, freq='H')"
     },
     "execution_count": 22,
     "metadata": {},
     "output_type": "execute_result"
    }
   ],
   "source": [
    "dr = pd.date_range(start=pd.Timestamp(\"2021-01-01\"), end=pd.Timestamp(\"2021-01-31 23:00\"), freq=td_hour)\n",
    "dr"
   ],
   "metadata": {
    "collapsed": false,
    "pycharm": {
     "name": "#%%\n"
    }
   }
  },
  {
   "cell_type": "markdown",
   "source": [
    "#### 25) The first variable in our data is currently an object. But, notice the name and its units? It's a date/time in the GMT time zone! Convert the first column of data into an actual time stamp. (HINT: Go back to your reference table. You are creating an array of timestamps. Which function? Either to_datetime or date_range. We already told you that date_range is wrong!)"
   ],
   "metadata": {
    "collapsed": false
   }
  },
  {
   "cell_type": "code",
   "execution_count": 23,
   "outputs": [],
   "source": [
    "df_temps[\"Date/Time (GMT)\"] = pd.to_datetime(df_temps[\"Date/Time (GMT)\"])"
   ],
   "metadata": {
    "collapsed": false,
    "pycharm": {
     "name": "#%%\n"
    }
   }
  },
  {
   "cell_type": "markdown",
   "source": [
    "#### 26) Confirm that your first column data type is now a timestamp by showing the output of df_temps.info(). (It should show that it is datetime64, to be exact) . Then, show the values of the first column of the first AND last row only."
   ],
   "metadata": {
    "collapsed": false
   }
  },
  {
   "cell_type": "code",
   "execution_count": 24,
   "outputs": [
    {
     "name": "stdout",
     "output_type": "stream",
     "text": [
      "<class 'pandas.core.frame.DataFrame'>\n",
      "RangeIndex: 181943 entries, 0 to 181942\n",
      "Data columns (total 13 columns):\n",
      " #   Column                         Non-Null Count   Dtype         \n",
      "---  ------                         --------------   -----         \n",
      " 0   Date/Time (GMT)                181943 non-null  datetime64[ns]\n",
      " 1   Number of Observations (n/a)   181943 non-null  uint8         \n",
      " 2   Average Temp (F)               180938 non-null  float32       \n",
      " 3   Max Temp (F)                   180938 non-null  float32       \n",
      " 4   Min Temp (F)                   180938 non-null  float32       \n",
      " 5   Average Dewpoint Temp (F)      180816 non-null  float32       \n",
      " 6   1 Hour Precip (in)             30294 non-null   float32       \n",
      " 7   Max Wind Gust (mph)            24708 non-null   float32       \n",
      " 8   Average Relative Humidity (%)  177114 non-null  float32       \n",
      " 9   Average Wind Speed (mph)       181394 non-null  float32       \n",
      " 10  Average Station Pressure (mb)  181647 non-null  float32       \n",
      " 11  Average Wind Direction (deg)   148822 non-null  float32       \n",
      " 12  Max Wind Speed (mph)           181394 non-null  float32       \n",
      "dtypes: datetime64[ns](1), float32(11), uint8(1)\n",
      "memory usage: 9.2 MB\n"
     ]
    },
    {
     "data": {
      "text/plain": "Timestamp('2000-01-01 00:00:00')"
     },
     "metadata": {},
     "output_type": "display_data"
    },
    {
     "data": {
      "text/plain": "Timestamp('2020-12-31 23:00:00')"
     },
     "metadata": {},
     "output_type": "display_data"
    }
   ],
   "source": [
    "df_temps.info()\n",
    "display(df_temps.iloc[0,0])\n",
    "display(df_temps.iloc[-1,0])"
   ],
   "metadata": {
    "collapsed": false,
    "pycharm": {
     "name": "#%%\n"
    }
   }
  },
  {
   "cell_type": "markdown",
   "source": [
    "#### 27) Finally, let's move that first column to be the new index for your dataframe. Use the set_index method of of df_temps to be the first column of data, then use the drop method to eliminate the first column. It is now your index, and thus there is no need to keep this information twice."
   ],
   "metadata": {
    "collapsed": false
   }
  },
  {
   "cell_type": "code",
   "execution_count": 25,
   "outputs": [
    {
     "data": {
      "text/plain": "                     Number of Observations (n/a)  Average Temp (F)  \\\nDate/Time (GMT)                                                       \n2000-01-01 00:00:00                             1              26.1   \n2000-01-01 01:00:00                             1              26.1   \n2000-01-01 02:00:00                             1              26.1   \n2000-01-01 03:00:00                             1              26.1   \n2000-01-01 04:00:00                             1              26.1   \n\n                     Max Temp (F)  Min Temp (F)  Average Dewpoint Temp (F)  \\\nDate/Time (GMT)                                                              \n2000-01-01 00:00:00          26.1          26.1                       14.0   \n2000-01-01 01:00:00          26.1          26.1                       14.0   \n2000-01-01 02:00:00          26.1          26.1                       15.1   \n2000-01-01 03:00:00          26.1          26.1                       12.0   \n2000-01-01 04:00:00          26.1          26.1                       14.0   \n\n                     1 Hour Precip (in)  Max Wind Gust (mph)  \\\nDate/Time (GMT)                                                \n2000-01-01 00:00:00                 NaN            20.700001   \n2000-01-01 01:00:00                 NaN                  NaN   \n2000-01-01 02:00:00                 NaN                  NaN   \n2000-01-01 03:00:00                 NaN                  NaN   \n2000-01-01 04:00:00                 NaN                  NaN   \n\n                     Average Relative Humidity (%)  Average Wind Speed (mph)  \\\nDate/Time (GMT)                                                                \n2000-01-01 00:00:00                           59.0                 17.299999   \n2000-01-01 01:00:00                           59.0                 16.100000   \n2000-01-01 02:00:00                           62.0                 15.000000   \n2000-01-01 03:00:00                           54.0                 16.100000   \n2000-01-01 04:00:00                           59.0                 12.700000   \n\n                     Average Station Pressure (mb)  \\\nDate/Time (GMT)                                      \n2000-01-01 00:00:00                    1015.200012   \n2000-01-01 01:00:00                    1015.900024   \n2000-01-01 02:00:00                    1016.299988   \n2000-01-01 03:00:00                    1016.599976   \n2000-01-01 04:00:00                    1017.299988   \n\n                     Average Wind Direction (deg)  Max Wind Speed (mph)  \nDate/Time (GMT)                                                          \n2000-01-01 00:00:00                         280.0             17.299999  \n2000-01-01 01:00:00                         280.0             16.100000  \n2000-01-01 02:00:00                         280.0             15.000000  \n2000-01-01 03:00:00                         270.0             16.100000  \n2000-01-01 04:00:00                         280.0             12.700000  ",
      "text/html": "<div>\n<style scoped>\n    .dataframe tbody tr th:only-of-type {\n        vertical-align: middle;\n    }\n\n    .dataframe tbody tr th {\n        vertical-align: top;\n    }\n\n    .dataframe thead th {\n        text-align: right;\n    }\n</style>\n<table border=\"1\" class=\"dataframe\">\n  <thead>\n    <tr style=\"text-align: right;\">\n      <th></th>\n      <th>Number of Observations (n/a)</th>\n      <th>Average Temp (F)</th>\n      <th>Max Temp (F)</th>\n      <th>Min Temp (F)</th>\n      <th>Average Dewpoint Temp (F)</th>\n      <th>1 Hour Precip (in)</th>\n      <th>Max Wind Gust (mph)</th>\n      <th>Average Relative Humidity (%)</th>\n      <th>Average Wind Speed (mph)</th>\n      <th>Average Station Pressure (mb)</th>\n      <th>Average Wind Direction (deg)</th>\n      <th>Max Wind Speed (mph)</th>\n    </tr>\n    <tr>\n      <th>Date/Time (GMT)</th>\n      <th></th>\n      <th></th>\n      <th></th>\n      <th></th>\n      <th></th>\n      <th></th>\n      <th></th>\n      <th></th>\n      <th></th>\n      <th></th>\n      <th></th>\n      <th></th>\n    </tr>\n  </thead>\n  <tbody>\n    <tr>\n      <th>2000-01-01 00:00:00</th>\n      <td>1</td>\n      <td>26.1</td>\n      <td>26.1</td>\n      <td>26.1</td>\n      <td>14.0</td>\n      <td>NaN</td>\n      <td>20.700001</td>\n      <td>59.0</td>\n      <td>17.299999</td>\n      <td>1015.200012</td>\n      <td>280.0</td>\n      <td>17.299999</td>\n    </tr>\n    <tr>\n      <th>2000-01-01 01:00:00</th>\n      <td>1</td>\n      <td>26.1</td>\n      <td>26.1</td>\n      <td>26.1</td>\n      <td>14.0</td>\n      <td>NaN</td>\n      <td>NaN</td>\n      <td>59.0</td>\n      <td>16.100000</td>\n      <td>1015.900024</td>\n      <td>280.0</td>\n      <td>16.100000</td>\n    </tr>\n    <tr>\n      <th>2000-01-01 02:00:00</th>\n      <td>1</td>\n      <td>26.1</td>\n      <td>26.1</td>\n      <td>26.1</td>\n      <td>15.1</td>\n      <td>NaN</td>\n      <td>NaN</td>\n      <td>62.0</td>\n      <td>15.000000</td>\n      <td>1016.299988</td>\n      <td>280.0</td>\n      <td>15.000000</td>\n    </tr>\n    <tr>\n      <th>2000-01-01 03:00:00</th>\n      <td>1</td>\n      <td>26.1</td>\n      <td>26.1</td>\n      <td>26.1</td>\n      <td>12.0</td>\n      <td>NaN</td>\n      <td>NaN</td>\n      <td>54.0</td>\n      <td>16.100000</td>\n      <td>1016.599976</td>\n      <td>270.0</td>\n      <td>16.100000</td>\n    </tr>\n    <tr>\n      <th>2000-01-01 04:00:00</th>\n      <td>1</td>\n      <td>26.1</td>\n      <td>26.1</td>\n      <td>26.1</td>\n      <td>14.0</td>\n      <td>NaN</td>\n      <td>NaN</td>\n      <td>59.0</td>\n      <td>12.700000</td>\n      <td>1017.299988</td>\n      <td>280.0</td>\n      <td>12.700000</td>\n    </tr>\n  </tbody>\n</table>\n</div>"
     },
     "execution_count": 25,
     "metadata": {},
     "output_type": "execute_result"
    }
   ],
   "source": [
    "df_temps.set_index('Date/Time (GMT)', inplace=True)\n",
    "df_temps.head()"
   ],
   "metadata": {
    "collapsed": false,
    "pycharm": {
     "name": "#%%\n"
    }
   }
  },
  {
   "cell_type": "markdown",
   "source": [
    "#### 28) Give one final report on the total memory usage, and also show the % memory reduction made compared to when you first loaded the data."
   ],
   "metadata": {
    "collapsed": false
   }
  },
  {
   "cell_type": "code",
   "execution_count": 26,
   "outputs": [
    {
     "name": "stdout",
     "output_type": "stream",
     "text": [
      "New memory: 9.196261405944824 MB\n",
      "Percent memory we saved: 70.55567063659616 %\n"
     ]
    }
   ],
   "source": [
    "mem = df_temps.memory_usage(deep=True)\n",
    "new_memory = mem.sum()\n",
    "new_memory = new_memory / (1<<20)\n",
    "print(\"New memory:\", new_memory, \"MB\")\n",
    "\n",
    "print(\"Percent memory we saved:\", (original_memory - new_memory) / original_memory * 100, \"%\")"
   ],
   "metadata": {
    "collapsed": false,
    "pycharm": {
     "name": "#%%\n"
    }
   }
  },
  {
   "cell_type": "markdown",
   "source": [
    "#### 29) This dataset has missing observations. But, how many? First, calculate how many observations SHOULD be there. Use the difference between the first and last index value to compute this. (HINT: You should have well over 2000 missing hourly observations.)"
   ],
   "metadata": {
    "collapsed": false
   }
  },
  {
   "cell_type": "code",
   "execution_count": 27,
   "outputs": [
    {
     "data": {
      "text/plain": "2160.0"
     },
     "execution_count": 27,
     "metadata": {},
     "output_type": "execute_result"
    }
   ],
   "source": [
    "diff = df_temps.index[-1] - df_temps.index[0]\n",
    "(diff.total_seconds() / 3600) - total"
   ],
   "metadata": {
    "collapsed": false,
    "pycharm": {
     "name": "#%%\n"
    }
   }
  },
  {
   "cell_type": "markdown",
   "source": [
    "#### 30) There are quite a lot! It's time to investigate. Create a data frame called df_missing that has an index of the time stamp of every missing date, with a simple variable called \"missing\" that has a value of 1 for every entry. (i.e. it should only contain the missing dates.) Report the number of rows in df_missing. It should match the number you computed previously."
   ],
   "metadata": {
    "collapsed": false
   }
  },
  {
   "cell_type": "code",
   "execution_count": 28,
   "outputs": [
    {
     "name": "stdout",
     "output_type": "stream",
     "text": [
      "missing 2161 dates\n"
     ]
    },
    {
     "data": {
      "text/plain": "                     missing\n2000-01-03 18:00:00        1\n2000-01-05 17:00:00        1\n2000-01-06 20:00:00        1\n2000-01-07 14:00:00        1\n2000-01-11 20:00:00        1\n...                      ...\n2020-12-25 22:00:00        1\n2020-12-26 00:00:00        1\n2020-12-26 01:00:00        1\n2020-12-30 22:00:00        1\n2020-12-30 23:00:00        1\n\n[2161 rows x 1 columns]",
      "text/html": "<div>\n<style scoped>\n    .dataframe tbody tr th:only-of-type {\n        vertical-align: middle;\n    }\n\n    .dataframe tbody tr th {\n        vertical-align: top;\n    }\n\n    .dataframe thead th {\n        text-align: right;\n    }\n</style>\n<table border=\"1\" class=\"dataframe\">\n  <thead>\n    <tr style=\"text-align: right;\">\n      <th></th>\n      <th>missing</th>\n    </tr>\n  </thead>\n  <tbody>\n    <tr>\n      <th>2000-01-03 18:00:00</th>\n      <td>1</td>\n    </tr>\n    <tr>\n      <th>2000-01-05 17:00:00</th>\n      <td>1</td>\n    </tr>\n    <tr>\n      <th>2000-01-06 20:00:00</th>\n      <td>1</td>\n    </tr>\n    <tr>\n      <th>2000-01-07 14:00:00</th>\n      <td>1</td>\n    </tr>\n    <tr>\n      <th>2000-01-11 20:00:00</th>\n      <td>1</td>\n    </tr>\n    <tr>\n      <th>...</th>\n      <td>...</td>\n    </tr>\n    <tr>\n      <th>2020-12-25 22:00:00</th>\n      <td>1</td>\n    </tr>\n    <tr>\n      <th>2020-12-26 00:00:00</th>\n      <td>1</td>\n    </tr>\n    <tr>\n      <th>2020-12-26 01:00:00</th>\n      <td>1</td>\n    </tr>\n    <tr>\n      <th>2020-12-30 22:00:00</th>\n      <td>1</td>\n    </tr>\n    <tr>\n      <th>2020-12-30 23:00:00</th>\n      <td>1</td>\n    </tr>\n  </tbody>\n</table>\n<p>2161 rows × 1 columns</p>\n</div>"
     },
     "execution_count": 28,
     "metadata": {},
     "output_type": "execute_result"
    }
   ],
   "source": [
    "all_times = pd.date_range(start=df_temps.index[0], end=df_temps.index[-1], freq=td_hour)\n",
    "missing_index = list(set(all_times) - set(df_temps.index))\n",
    "missing_index.sort()\n",
    "\n",
    "df_missing = pd.DataFrame(1, index=missing_index, columns=['missing'])\n",
    "print(\"missing\", len(df_missing.index), \"dates\")\n",
    "df_missing"
   ],
   "metadata": {
    "collapsed": false,
    "pycharm": {
     "name": "#%%\n"
    }
   }
  },
  {
   "cell_type": "markdown",
   "source": [
    "#### 31) Let's get a sense of which years seem to be missing the most dates. How? Well, the easiest approach is probably to use the resample() method of data frames.  Show the result of df_missing_by_year (HINT: The first five rows of your new data frame should look as follows:"
   ],
   "metadata": {
    "collapsed": false
   }
  },
  {
   "cell_type": "code",
   "execution_count": 29,
   "outputs": [
    {
     "data": {
      "text/plain": "            missing\n2000-12-31      792\n2001-12-31       54\n2002-12-31       30\n2003-12-31       39\n2004-12-31       72\n2005-12-31      119\n2006-12-31       32\n2007-12-31       64\n2008-12-31      193\n2009-12-31       82\n2010-12-31       40\n2011-12-31       32\n2012-12-31      152\n2013-12-31       45\n2014-12-31       38\n2015-12-31       37\n2016-12-31       27\n2017-12-31      119\n2018-12-31       67\n2019-12-31       34\n2020-12-31       93",
      "text/html": "<div>\n<style scoped>\n    .dataframe tbody tr th:only-of-type {\n        vertical-align: middle;\n    }\n\n    .dataframe tbody tr th {\n        vertical-align: top;\n    }\n\n    .dataframe thead th {\n        text-align: right;\n    }\n</style>\n<table border=\"1\" class=\"dataframe\">\n  <thead>\n    <tr style=\"text-align: right;\">\n      <th></th>\n      <th>missing</th>\n    </tr>\n  </thead>\n  <tbody>\n    <tr>\n      <th>2000-12-31</th>\n      <td>792</td>\n    </tr>\n    <tr>\n      <th>2001-12-31</th>\n      <td>54</td>\n    </tr>\n    <tr>\n      <th>2002-12-31</th>\n      <td>30</td>\n    </tr>\n    <tr>\n      <th>2003-12-31</th>\n      <td>39</td>\n    </tr>\n    <tr>\n      <th>2004-12-31</th>\n      <td>72</td>\n    </tr>\n    <tr>\n      <th>2005-12-31</th>\n      <td>119</td>\n    </tr>\n    <tr>\n      <th>2006-12-31</th>\n      <td>32</td>\n    </tr>\n    <tr>\n      <th>2007-12-31</th>\n      <td>64</td>\n    </tr>\n    <tr>\n      <th>2008-12-31</th>\n      <td>193</td>\n    </tr>\n    <tr>\n      <th>2009-12-31</th>\n      <td>82</td>\n    </tr>\n    <tr>\n      <th>2010-12-31</th>\n      <td>40</td>\n    </tr>\n    <tr>\n      <th>2011-12-31</th>\n      <td>32</td>\n    </tr>\n    <tr>\n      <th>2012-12-31</th>\n      <td>152</td>\n    </tr>\n    <tr>\n      <th>2013-12-31</th>\n      <td>45</td>\n    </tr>\n    <tr>\n      <th>2014-12-31</th>\n      <td>38</td>\n    </tr>\n    <tr>\n      <th>2015-12-31</th>\n      <td>37</td>\n    </tr>\n    <tr>\n      <th>2016-12-31</th>\n      <td>27</td>\n    </tr>\n    <tr>\n      <th>2017-12-31</th>\n      <td>119</td>\n    </tr>\n    <tr>\n      <th>2018-12-31</th>\n      <td>67</td>\n    </tr>\n    <tr>\n      <th>2019-12-31</th>\n      <td>34</td>\n    </tr>\n    <tr>\n      <th>2020-12-31</th>\n      <td>93</td>\n    </tr>\n  </tbody>\n</table>\n</div>"
     },
     "execution_count": 29,
     "metadata": {},
     "output_type": "execute_result"
    }
   ],
   "source": [
    "df_missing_by_year = df_missing.resample('Y').count()\n",
    "df_missing_by_year"
   ],
   "metadata": {
    "collapsed": false,
    "pycharm": {
     "name": "#%%\n"
    }
   }
  },
  {
   "cell_type": "markdown",
   "source": [
    "#### 32) You can see that pretty much every year has missing data. Not uncommon. However, one year in particular is really bad. Which one? Write the code to eliminate that entire year from df_temps."
   ],
   "metadata": {
    "collapsed": false
   }
  },
  {
   "cell_type": "code",
   "execution_count": 30,
   "outputs": [],
   "source": [
    "# The worst year is 2000, the initial recorded year.\n",
    "df_temps = df_temps.loc[\"2001-01-01 00:00:00\":]"
   ],
   "metadata": {
    "collapsed": false,
    "pycharm": {
     "name": "#%%\n"
    }
   }
  },
  {
   "cell_type": "markdown",
   "source": [
    "#### 33) Use Seaborn to generate a line plot of the average hourly temperature over the entire time period contained in the data."
   ],
   "metadata": {
    "collapsed": false
   }
  },
  {
   "cell_type": "code",
   "execution_count": 31,
   "outputs": [
    {
     "data": {
      "text/plain": "<AxesSubplot:xlabel='Date/Time (GMT)', ylabel='Average Temp (F)'>"
     },
     "execution_count": 31,
     "metadata": {},
     "output_type": "execute_result"
    },
    {
     "data": {
      "text/plain": "<Figure size 432x288 with 1 Axes>",
      "image/png": "[encoded data removed]"
     },
     "metadata": {
      "needs_background": "light"
     },
     "output_type": "display_data"
    }
   ],
   "source": [
    "df_temps.head()\n",
    "sns.lineplot(data=df_temps, x=\"Date/Time (GMT)\", y=\"Average Temp (F)\")"
   ],
   "metadata": {
    "collapsed": false,
    "pycharm": {
     "name": "#%%\n"
    }
   }
  },
  {
   "cell_type": "markdown",
   "source": [
    "#### 34) Now, compute the mean of the hourly average temperature for each year plot this annual value. (HINT: The resample() method will again make this incredibly easy to do!)"
   ],
   "metadata": {
    "collapsed": false
   }
  },
  {
   "cell_type": "code",
   "execution_count": 32,
   "outputs": [
    {
     "data": {
      "text/plain": "<AxesSubplot:xlabel='Date/Time (GMT)', ylabel='Average Temp (F)'>"
     },
     "execution_count": 32,
     "metadata": {},
     "output_type": "execute_result"
    },
    {
     "data": {
      "text/plain": "<Figure size 432x288 with 1 Axes>",
      "image/png": "[encoded data removed]"
     },
     "metadata": {
      "needs_background": "light"
     },
     "output_type": "display_data"
    }
   ],
   "source": [
    "df_year_avg = df_temps['Average Temp (F)'].resample('Y').mean()\n",
    "sns.lineplot(data=df_year_avg)"
   ],
   "metadata": {
    "collapsed": false,
    "pycharm": {
     "name": "#%%\n"
    }
   }
  }
 ],
 "metadata": {
  "kernelspec": {
   "display_name": "Python 3",
   "language": "python",
   "name": "python3"
  },
  "language_info": {
   "codemirror_mode": {
    "name": "ipython",
    "version": 3
   },
   "file_extension": ".py",
   "mimetype": "text/x-python",
   "name": "python",
   "nbconvert_exporter": "python",
   "pygments_lexer": "ipython3",
   "version": "3.8.5"
  }
 },
 "nbformat": 4,
 "nbformat_minor": 5
}