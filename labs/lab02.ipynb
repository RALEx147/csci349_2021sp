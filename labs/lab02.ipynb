{
 "cells": [
  {
   "cell_type": "markdown",
   "source": [
    "# lab 02 - Numpy\n",
    "Name: Robb Alexander    \n",
    "Class: CSCI349    \n",
    "Semester: 2021SP    \n",
    "Instructor: Brian King\n"
   ],
   "metadata": {
    "collapsed": false
   }
  },
  {
   "cell_type": "code",
   "source": [
    "# Setting things up\n",
    "import sys\n",
    "import numpy as np\n",
    "print(sys.version)\n",
    "print(np.__version__)"
   ],
   "metadata": {
    "collapsed": false,
    "pycharm": {
     "name": "#%%\n"
    }
   },
   "execution_count": 1,
   "outputs": [
    {
     "name": "stdout",
     "output_type": "stream",
     "text": [
      "3.8.5 (default, Sep  4 2020, 02:22:02) \n",
      "[Clang 10.0.0 ]\n",
      "1.19.2\n"
     ]
    }
   ]
  },
  {
   "cell_type": "markdown",
   "source": [
    "\n",
    "#### 1) Create a 52500 x 75 matrix of zeros, stored as X. Then, print out the shape of the matrix, the base data type, the individual item size in the array, and the total size of the array in bytes (as an integer). Also, print out the total size in megabytes with 3 significant digits."
   ],
   "metadata": {
    "collapsed": false
   }
  },
  {
   "cell_type": "code",
   "execution_count": 146,
   "outputs": [
    {
     "name": "stdout",
     "output_type": "stream",
     "text": [
      "X has shape of: (52500, 75)\n",
      "X has data type of: float64\n",
      "X has data type size of: 8\n",
      "X has memory of: 31500000 bytes\n",
      "X has memory of: 30.0 Megabytes\n"
     ]
    }
   ],
   "source": [
    "X = np.zeros((52500,75))\n",
    "print(\"X has shape of:\", X.shape)\n",
    "print(\"X has data type of:\", X.dtype)\n",
    "print(\"X has data type size of:\", X.itemsize)\n",
    "print(\"X has memory of:\", X.nbytes, \"bytes\")\n",
    "megabytes = X.nbytes / (1<<20)\n",
    "print(\"X has memory of:\",np.format_float_positional(megabytes, precision=3, fractional=False),\"Megabytes\")"
   ],
   "metadata": {
    "collapsed": false,
    "pycharm": {
     "name": "#%%\n"
    }
   }
  },
  {
   "cell_type": "markdown",
   "source": [
    "#### 2) Resize X to have the same number of elements, but with 100 columns. Show the shape. Show the number of bytes (which should be the same as the previous answer)"
   ],
   "metadata": {
    "collapsed": false,
    "pycharm": {
     "name": "#%% md\n"
    }
   }
  },
  {
   "cell_type": "code",
   "execution_count": 147,
   "outputs": [
    {
     "name": "stdout",
     "output_type": "stream",
     "text": [
      "X reshape has size of: (39375, 100)\n",
      "X reshape has memory of: 31500000 bytes\n"
     ]
    }
   ],
   "source": [
    "new_col = 100\n",
    "new_row = X.size // new_col\n",
    "\n",
    "X.resize((new_row, new_col))\n",
    "print(\"X reshape has size of:\", X.shape)\n",
    "print(\"X reshape has memory of:\", X.nbytes, \"bytes\")"
   ],
   "metadata": {
    "collapsed": false,
    "pycharm": {
     "name": "#%%\n"
    }
   }
  },
  {
   "cell_type": "markdown",
   "source": [
    "#### 3) Redo #1, but use a base datatype of 16-bit integers."
   ],
   "metadata": {
    "collapsed": false,
    "pycharm": {
     "name": "#%% md\n"
    }
   }
  },
  {
   "cell_type": "code",
   "execution_count": 148,
   "outputs": [
    {
     "name": "stdout",
     "output_type": "stream",
     "text": [
      "X has shape of: (52500, 75)\n",
      "X has data type of: int16\n",
      "X has data type size of: 2\n",
      "X has memory of: 7875000 bytes\n",
      "X has memory of: 7.51 Megabytes\n"
     ]
    }
   ],
   "source": [
    "X = np.zeros((52500,75), dtype=\"i2\")\n",
    "print(\"X has shape of:\", X.shape)\n",
    "print(\"X has data type of:\", X.dtype)\n",
    "print(\"X has data type size of:\", X.itemsize)\n",
    "print(\"X has memory of:\", X.nbytes, \"bytes\")\n",
    "megabytes = X.nbytes / (1<<20)\n",
    "print(\"X has memory of:\",np.format_float_positional(megabytes, precision=3, fractional=False),\"Megabytes\")"
   ],
   "metadata": {
    "collapsed": false,
    "pycharm": {
     "name": "#%%\n"
    }
   }
  },
  {
   "cell_type": "markdown",
   "source": [
    "#### 4) How many dimensions does X have? Answer using the appropriate property of np.ndarray objects."
   ],
   "metadata": {
    "collapsed": false,
    "pycharm": {
     "name": "#%% md\n"
    }
   }
  },
  {
   "cell_type": "code",
   "execution_count": 149,
   "outputs": [
    {
     "name": "stdout",
     "output_type": "stream",
     "text": [
      "X has dimension of: 2\n"
     ]
    }
   ],
   "source": [
    "print(\"X has dimension of:\", len(X.shape))"
   ],
   "metadata": {
    "collapsed": false,
    "pycharm": {
     "name": "#%%\n"
    }
   }
  },
  {
   "cell_type": "markdown",
   "source": [
    "#### 5) Enter the following Python list in your cell: str_nums = ['2.14', '-9.300', '42'] Convert this to a numpy array named X. What is the base type? Show the contents of X. Then, convert X to an array of single precision floating point numbers. (HINT: use astype). Show X again."
   ],
   "metadata": {
    "collapsed": false,
    "pycharm": {
     "name": "#%% md\n"
    }
   }
  },
  {
   "cell_type": "code",
   "execution_count": 150,
   "outputs": [
    {
     "name": "stdout",
     "output_type": "stream",
     "text": [
      "X has dtype of: str192\n",
      "X has contents of: ['2.14' '-9.300' '42']\n",
      "X has contents of: [ 2.14 -9.3  42.  ]\n"
     ]
    }
   ],
   "source": [
    "str_nums = ['2.14', '-9.300', '42']\n",
    "\n",
    "X = np.array(str_nums)\n",
    "print(\"X has dtype of:\", X.dtype.name)\n",
    "print(\"X has contents of:\", X)\n",
    "\n",
    "X = X.astype(float)\n",
    "print(\"X has contents of:\", X)"
   ],
   "metadata": {
    "collapsed": false,
    "pycharm": {
     "name": "#%%\n"
    }
   }
  },
  {
   "cell_type": "markdown",
   "source": [
    "#### 6) Copy the three definitions above for the Python lists days, scores_1, and scores_2. Create a numpy array called scores that has scores_1 as the first row and scores_2 as the second row using np.concatenate. Then, change days into a np.array from the list days. Show the contents of scores and days, and output their shape."
   ],
   "metadata": {
    "collapsed": false,
    "pycharm": {
     "name": "#%% md\n"
    }
   }
  },
  {
   "cell_type": "code",
   "execution_count": 151,
   "outputs": [
    {
     "name": "stdout",
     "output_type": "stream",
     "text": [
      "scores has shape of: (2, 5)\n",
      "scores has contents of:\n",
      "[[ 9.5   8.75  8.   10.    7.75]\n",
      " [ 9.    8.   10.    8.75  7.25]] \n",
      "\n",
      "days has shape of: (5,)\n",
      "days has contents of:\n",
      "['Mon' 'Tue' 'Wed' 'Thu' 'Fri']\n"
     ]
    }
   ],
   "source": [
    "days = [\"Mon\",\"Tue\",\"Wed\",\"Thu\",\"Fri\"]\n",
    "scores_1 = [9.5, 8.75, 8, 10, 7.75]\n",
    "scores_2 = [9, 8, 10, 8.75, 7.25]\n",
    "\n",
    "scores = np.concatenate([[scores_1], [scores_2]])\n",
    "print(\"scores has shape of:\", scores.shape)\n",
    "print(\"scores has contents of:\")\n",
    "print(scores,\"\\n\")\n",
    "\n",
    "days = np.array(days)\n",
    "print(\"days has shape of:\", days.shape)\n",
    "print(\"days has contents of:\")\n",
    "print(days)"
   ],
   "metadata": {
    "collapsed": false,
    "pycharm": {
     "name": "#%%\n"
    }
   }
  },
  {
   "cell_type": "markdown",
   "source": [
    "#### 7) Repeat the previous problem with the creation of scores from the Python lists scores_1 and scores_2, but now do it with np.vstack. The array should be identical."
   ],
   "metadata": {
    "collapsed": false,
    "pycharm": {
     "name": "#%% md\n"
    }
   }
  },
  {
   "cell_type": "code",
   "execution_count": 152,
   "outputs": [
    {
     "name": "stdout",
     "output_type": "stream",
     "text": [
      "scores has shape of: (2, 5)\n",
      "scores has contents of:\n",
      "[[ 9.5   8.75  8.   10.    7.75]\n",
      " [ 9.    8.   10.    8.75  7.25]] \n",
      "\n"
     ]
    }
   ],
   "source": [
    "scores = np.vstack((scores_1, scores_2))\n",
    "print(\"scores has shape of:\", scores.shape)\n",
    "print(\"scores has contents of:\")\n",
    "print(scores,\"\\n\")"
   ],
   "metadata": {
    "collapsed": false,
    "pycharm": {
     "name": "#%%\n"
    }
   }
  },
  {
   "cell_type": "markdown",
   "source": [
    "#### 8) Compare the result of the expression days == \"Fri\" if the variable days was a Python list as entered above, vs. days being a numpy array. What is the difference in the result? In general, how does numpy deal with standard comparison operators?"
   ],
   "metadata": {
    "collapsed": false,
    "pycharm": {
     "name": "#%% md\n"
    }
   }
  },
  {
   "cell_type": "code",
   "source": [
    "days = [\"Mon\",\"Tue\",\"Wed\",\"Thu\",\"Fri\"]\n",
    "print(\"python compare days = \\\"Fri\\\":\", days == \"Fri\")\n",
    "\n",
    "days = np.array(days)\n",
    "print(\"numpy compare days = \\\"Fri\\\":\", days == \"Fri\")\n",
    "\n",
    "\"\"\"\n",
    "The difference between the == operator is that python\n",
    "  compares is the string is equal to the array itself\n",
    "  While numpy compares if the string is contained in\n",
    "  the np.array and creates the same dimensional array\n",
    "  with the equality evaluation. Thus creating a bitmap\n",
    "\"\"\""
   ],
   "metadata": {
    "collapsed": false,
    "pycharm": {
     "name": "#%%\n"
    }
   },
   "execution_count": 156,
   "outputs": [
    {
     "name": "stdout",
     "output_type": "stream",
     "text": [
      "python compare days = \"Fri\": False\n",
      "numpy compare days = \"Fri\": [False False False False  True]\n"
     ]
    }
   ]
  },
  {
   "cell_type": "markdown",
   "source": [
    "#### 9) Select the scores that fell on Monday."
   ],
   "metadata": {
    "collapsed": false,
    "pycharm": {
     "name": "#%% md\n"
    }
   }
  },
  {
   "cell_type": "code",
   "execution_count": 157,
   "outputs": [
    {
     "name": "stdout",
     "output_type": "stream",
     "text": [
      "[[9.5]\n",
      " [9. ]]\n"
     ]
    }
   ],
   "source": [
    "print(scores[:,days == \"Mon\"])"
   ],
   "metadata": {
    "collapsed": false,
    "pycharm": {
     "name": "#%%\n"
    }
   }
  },
  {
   "cell_type": "markdown",
   "source": [
    "#### 10) Select all of the scores that are NOT on Monday (Hint – look up the ~ operator)"
   ],
   "metadata": {
    "collapsed": false,
    "pycharm": {
     "name": "#%% md\n"
    }
   }
  },
  {
   "cell_type": "code",
   "execution_count": 158,
   "outputs": [
    {
     "name": "stdout",
     "output_type": "stream",
     "text": [
      "[[ 8.75  8.   10.    7.75]\n",
      " [ 8.   10.    8.75  7.25]]\n",
      "[[ 8.75  8.   10.    7.75]\n",
      " [ 8.   10.    8.75  7.25]]\n"
     ]
    }
   ],
   "source": [
    "monday_bitmap = days == \"Mon\"\n",
    "not_monday_bitmap = days != \"Mon\"\n",
    "\n",
    "print(scores[:,~monday_bitmap])\n",
    "print(scores[:,not_monday_bitmap])"
   ],
   "metadata": {
    "collapsed": false,
    "pycharm": {
     "name": "#%%\n"
    }
   }
  },
  {
   "cell_type": "markdown",
   "source": [
    "#### 11) Select the scores that were on Tuesday or Thursday"
   ],
   "metadata": {
    "collapsed": false,
    "pycharm": {
     "name": "#%% md\n"
    }
   }
  },
  {
   "cell_type": "code",
   "execution_count": 159,
   "outputs": [
    {
     "name": "stdout",
     "output_type": "stream",
     "text": [
      "[[ 8.75 10.  ]\n",
      " [ 8.    8.75]]\n"
     ]
    }
   ],
   "source": [
    "t_bitmap = days == \"Tue\"\n",
    "th_bitmap = days == \"Thu\"\n",
    "t_or_th_bitmap = np.logical_or(t_bitmap, th_bitmap)\n",
    "\n",
    "print(scores[:,t_or_th_bitmap])"
   ],
   "metadata": {
    "collapsed": false,
    "pycharm": {
     "name": "#%%\n"
    }
   }
  },
  {
   "cell_type": "markdown",
   "source": [
    "#### 12) Show the minimum and maximum scores for the entire array of scores"
   ],
   "metadata": {
    "collapsed": false,
    "pycharm": {
     "name": "#%% md\n"
    }
   }
  },
  {
   "cell_type": "code",
   "execution_count": 160,
   "outputs": [
    {
     "name": "stdout",
     "output_type": "stream",
     "text": [
      "Minimum of scores: 7.25\n",
      "Maximum of scores: 10.0\n"
     ]
    }
   ],
   "source": [
    "print(\"Minimum of scores:\", np.min(scores))\n",
    "print(\"Maximum of scores:\", np.max(scores))"
   ],
   "metadata": {
    "collapsed": false,
    "pycharm": {
     "name": "#%%\n"
    }
   }
  },
  {
   "cell_type": "markdown",
   "source": [
    "#### 13) Show the minimum scores for each week as a new array. The result should have the same dimensions (hint – use the keepdims parameter of np.min). Your result should be something like:"
   ],
   "metadata": {
    "collapsed": false,
    "pycharm": {
     "name": "#%% md\n"
    }
   }
  },
  {
   "cell_type": "code",
   "execution_count": 161,
   "outputs": [
    {
     "name": "stdout",
     "output_type": "stream",
     "text": [
      "Minimum of scores each week:\n",
      "[[7.75]\n",
      " [7.25]]\n"
     ]
    }
   ],
   "source": [
    "print(\"Minimum of scores each week:\")\n",
    "print(np.min(scores, axis=1, keepdims=True))"
   ],
   "metadata": {
    "collapsed": false,
    "pycharm": {
     "name": "#%%\n"
    }
   }
  },
  {
   "cell_type": "markdown",
   "source": [
    "#### 14) Report the day that the maximum score occurred each week. (HINT: use argmax and use that result to index days.)"
   ],
   "metadata": {
    "collapsed": false,
    "pycharm": {
     "name": "#%% md\n"
    }
   }
  },
  {
   "cell_type": "code",
   "execution_count": 162,
   "outputs": [
    {
     "name": "stdout",
     "output_type": "stream",
     "text": [
      "Maximum score at index for each week:\n",
      "[[3]\n",
      " [2]] \n",
      "\n",
      "[[10.]\n",
      " [10.]]\n"
     ]
    }
   ],
   "source": [
    "max_indices = np.expand_dims(np.argmax(scores, axis=1), axis=1)\n",
    "print(\"Maximum score at index for each week:\")\n",
    "print(max_indices, \"\\n\")\n",
    "\n",
    "print(np.take_along_axis(scores, max_indices, axis=1))"
   ],
   "metadata": {
    "collapsed": false,
    "pycharm": {
     "name": "#%%\n"
    }
   }
  },
  {
   "cell_type": "markdown",
   "source": [
    "#### 15) Report the mean of the scores of each week"
   ],
   "metadata": {
    "collapsed": false,
    "pycharm": {
     "name": "#%% md\n"
    }
   }
  },
  {
   "cell_type": "code",
   "execution_count": 163,
   "outputs": [
    {
     "name": "stdout",
     "output_type": "stream",
     "text": [
      "scores mean for each week:\n",
      "[[8.8]\n",
      " [8.6]]\n"
     ]
    }
   ],
   "source": [
    "print(\"scores mean for each week:\")\n",
    "print(np.mean(scores, axis=1, keepdims=1))"
   ],
   "metadata": {
    "collapsed": false,
    "pycharm": {
     "name": "#%%\n"
    }
   }
  },
  {
   "cell_type": "markdown",
   "source": [
    "#### 16) Suppose the lowest score was dropped from each week. Report the mean of each week, but without the minimum score for that week."
   ],
   "metadata": {
    "collapsed": false,
    "pycharm": {
     "name": "#%% md\n"
    }
   }
  },
  {
   "cell_type": "code",
   "execution_count": 164,
   "outputs": [
    {
     "name": "stdout",
     "output_type": "stream",
     "text": [
      "Minimum score at index for each week:\n",
      "[[4]\n",
      " [4]] \n",
      "\n",
      "scores after dropping minimum:\n",
      "[[ 9.5   8.75  8.   10.  ]\n",
      " [ 9.    8.   10.    8.75]] \n",
      "\n",
      "scores mean for each week after dropped:\n",
      "[[9.0625]\n",
      " [8.9375]]\n"
     ]
    }
   ],
   "source": [
    "min_index = np.expand_dims(np.argmin(scores, axis=1), axis=1)\n",
    "print(\"Minimum score at index for each week:\")\n",
    "print(min_index, \"\\n\")\n",
    "\n",
    "new_scores = np.delete(scores, min_index, axis=1)\n",
    "print(\"scores after dropping minimum:\")\n",
    "print(new_scores, \"\\n\")\n",
    "\n",
    "print(\"scores mean for each week after dropped:\")\n",
    "print(np.mean(new_scores, axis=1, keepdims=1))"
   ],
   "metadata": {
    "collapsed": false,
    "pycharm": {
     "name": "#%%\n"
    }
   }
  },
  {
   "cell_type": "markdown",
   "source": [
    "#### 17) Convert the scores to fall on a scale from 0-100 instead of 0-10. Show the result."
   ],
   "metadata": {
    "collapsed": false,
    "pycharm": {
     "name": "#%% md\n"
    }
   }
  },
  {
   "cell_type": "code",
   "execution_count": 165,
   "outputs": [
    {
     "name": "stdout",
     "output_type": "stream",
     "text": [
      "[[ 95.   87.5  80.  100.   77.5]\n",
      " [ 90.   80.  100.   87.5  72.5]]\n"
     ]
    }
   ],
   "source": [
    "scores = scores * 10\n",
    "print(scores)"
   ],
   "metadata": {
    "collapsed": false,
    "pycharm": {
     "name": "#%%\n"
    }
   }
  },
  {
   "cell_type": "markdown",
   "source": [
    "#### --- Random X ---"
   ],
   "metadata": {
    "collapsed": false
   }
  },
  {
   "cell_type": "code",
   "execution_count": 213,
   "outputs": [
    {
     "name": "stdout",
     "output_type": "stream",
     "text": [
      "[[48 84 39 54 77]\n",
      " [25 16 50 24 27]\n",
      " [31 44 31 27 59]\n",
      " [93 70 81 74 48]\n",
      " [51 77 38 35 39]\n",
      " [68 12  1 76 81]\n",
      " [ 4  3 20 13 66]\n",
      " [76 82 15 72 61]\n",
      " [47 29 82 88 14]\n",
      " [97 13 70 96 32]]\n"
     ]
    }
   ],
   "source": [
    "np.random.seed(1234)\n",
    "X = np.random.randint(1,100,50).reshape((10,5))\n",
    "print(X)"
   ],
   "metadata": {
    "collapsed": false,
    "pycharm": {
     "name": "#%%\n"
    }
   }
  },
  {
   "cell_type": "markdown",
   "source": [
    "#### 18) Select the first row of X"
   ],
   "metadata": {
    "collapsed": false,
    "pycharm": {
     "name": "#%% md\n"
    }
   }
  },
  {
   "cell_type": "code",
   "execution_count": 214,
   "outputs": [
    {
     "name": "stdout",
     "output_type": "stream",
     "text": [
      "[48 84 39 54 77]\n"
     ]
    }
   ],
   "source": [
    "print(X[0])"
   ],
   "metadata": {
    "collapsed": false,
    "pycharm": {
     "name": "#%%\n"
    }
   }
  },
  {
   "cell_type": "markdown",
   "source": [
    "#### 19) Select the last column of X"
   ],
   "metadata": {
    "collapsed": false,
    "pycharm": {
     "name": "#%% md\n"
    }
   }
  },
  {
   "cell_type": "code",
   "execution_count": 215,
   "outputs": [
    {
     "name": "stdout",
     "output_type": "stream",
     "text": [
      "[[77]\n",
      " [27]\n",
      " [59]\n",
      " [48]\n",
      " [39]\n",
      " [81]\n",
      " [66]\n",
      " [61]\n",
      " [14]\n",
      " [32]]\n"
     ]
    }
   ],
   "source": [
    "print(X[:,[-1]])"
   ],
   "metadata": {
    "collapsed": false,
    "pycharm": {
     "name": "#%%\n"
    }
   }
  },
  {
   "cell_type": "markdown",
   "source": [
    "#### 20) Select the first AND last column of X"
   ],
   "metadata": {
    "collapsed": false,
    "pycharm": {
     "name": "#%% md\n"
    }
   }
  },
  {
   "cell_type": "code",
   "execution_count": 216,
   "outputs": [
    {
     "name": "stdout",
     "output_type": "stream",
     "text": [
      "[[48 77]\n",
      " [25 27]\n",
      " [31 59]\n",
      " [93 48]\n",
      " [51 39]\n",
      " [68 81]\n",
      " [ 4 66]\n",
      " [76 61]\n",
      " [47 14]\n",
      " [97 32]]\n"
     ]
    }
   ],
   "source": [
    "print(X[:,[0,-1]])"
   ],
   "metadata": {
    "collapsed": false,
    "pycharm": {
     "name": "#%%\n"
    }
   }
  },
  {
   "cell_type": "markdown",
   "source": [
    "#### 21) Select every other row of X"
   ],
   "metadata": {
    "collapsed": false,
    "pycharm": {
     "name": "#%% md\n"
    }
   }
  },
  {
   "cell_type": "code",
   "execution_count": 217,
   "outputs": [
    {
     "name": "stdout",
     "output_type": "stream",
     "text": [
      "[[48 84 39 54 77]\n",
      " [31 44 31 27 59]\n",
      " [51 77 38 35 39]\n",
      " [ 4  3 20 13 66]\n",
      " [47 29 82 88 14]]\n"
     ]
    }
   ],
   "source": [
    "print(X[::2])"
   ],
   "metadata": {
    "collapsed": false,
    "pycharm": {
     "name": "#%%\n"
    }
   }
  },
  {
   "cell_type": "markdown",
   "source": [
    "#### 22) Show the transpose of X, but don't change X itself"
   ],
   "metadata": {
    "collapsed": false,
    "pycharm": {
     "name": "#%% md\n"
    }
   }
  },
  {
   "cell_type": "code",
   "execution_count": 218,
   "outputs": [
    {
     "name": "stdout",
     "output_type": "stream",
     "text": [
      "[[48 25 31 93 51 68  4 76 47 97]\n",
      " [84 16 44 70 77 12  3 82 29 13]\n",
      " [39 50 31 81 38  1 20 15 82 70]\n",
      " [54 24 27 74 35 76 13 72 88 96]\n",
      " [77 27 59 48 39 81 66 61 14 32]]\n",
      "[[48 25 31 93 51 68  4 76 47 97]\n",
      " [84 16 44 70 77 12  3 82 29 13]\n",
      " [39 50 31 81 38  1 20 15 82 70]\n",
      " [54 24 27 74 35 76 13 72 88 96]\n",
      " [77 27 59 48 39 81 66 61 14 32]]\n"
     ]
    }
   ],
   "source": [
    "print(X.T)\n",
    "print(np.transpose(X))"
   ],
   "metadata": {
    "collapsed": false,
    "pycharm": {
     "name": "#%%\n"
    }
   }
  },
  {
   "cell_type": "markdown",
   "source": [
    "#### 23) Select the first column of X and set the result to Y."
   ],
   "metadata": {
    "collapsed": false,
    "pycharm": {
     "name": "#%% md\n"
    }
   }
  },
  {
   "cell_type": "code",
   "execution_count": 219,
   "outputs": [],
   "source": [
    "Y = X[0]"
   ],
   "metadata": {
    "collapsed": false,
    "pycharm": {
     "name": "#%%\n"
    }
   }
  },
  {
   "cell_type": "markdown",
   "source": [
    "#### 24) Increment the first value of Y, then show the corresponding value of X. Did both values in X and Y change? THIS IS AN IMPORTANT OBSERVATION WHEN DEALING WITH SELECTING DATA!"
   ],
   "metadata": {
    "collapsed": false,
    "pycharm": {
     "name": "#%% md\n"
    }
   }
  },
  {
   "cell_type": "code",
   "execution_count": 220,
   "outputs": [
    {
     "name": "stdout",
     "output_type": "stream",
     "text": [
      "[49 84 39 54 77] \n",
      "\n",
      "[[49 84 39 54 77]\n",
      " [25 16 50 24 27]\n",
      " [31 44 31 27 59]\n",
      " [93 70 81 74 48]\n",
      " [51 77 38 35 39]\n",
      " [68 12  1 76 81]\n",
      " [ 4  3 20 13 66]\n",
      " [76 82 15 72 61]\n",
      " [47 29 82 88 14]\n",
      " [97 13 70 96 32]]\n"
     ]
    }
   ],
   "source": [
    "Y[0] += 1\n",
    "print(Y, \"\\n\")\n",
    "print(X)\n",
    "\n",
    "\"\"\"\n",
    "The value changed in both Y and X when only Y is incremented\n",
    "   we know now that Y is not a copy, but just another memory\n",
    "   pointer to the same array but with different partitioning\n",
    "\"\"\""
   ],
   "metadata": {
    "collapsed": false,
    "pycharm": {
     "name": "#%%\n"
    }
   }
  },
  {
   "cell_type": "markdown",
   "source": [
    "#### 25) Repeat exercise 23, but ensure that Y is assigned a copy of the selected data. Increment the first value of Y again and ensure that the corresponding value of X did not change."
   ],
   "metadata": {
    "collapsed": false,
    "pycharm": {
     "name": "#%% md\n"
    }
   }
  },
  {
   "cell_type": "code",
   "execution_count": 221,
   "outputs": [
    {
     "name": "stdout",
     "output_type": "stream",
     "text": [
      "[50 84 39 54 77] \n",
      "\n",
      "[[49 84 39 54 77]\n",
      " [25 16 50 24 27]\n",
      " [31 44 31 27 59]\n",
      " [93 70 81 74 48]\n",
      " [51 77 38 35 39]\n",
      " [68 12  1 76 81]\n",
      " [ 4  3 20 13 66]\n",
      " [76 82 15 72 61]\n",
      " [47 29 82 88 14]\n",
      " [97 13 70 96 32]]\n"
     ]
    }
   ],
   "source": [
    "Y = X[0].copy()\n",
    "Y[0] += 1\n",
    "\n",
    "print(Y, \"\\n\")\n",
    "print(X)"
   ],
   "metadata": {
    "collapsed": false,
    "pycharm": {
     "name": "#%%\n"
    }
   }
  },
  {
   "cell_type": "markdown",
   "source": [
    "#### 26) Create an array that contains the sequence of numbers 0, 0.1, 0.2, ... 9.8, 9.9 using arange, as a 10x10 matrix, stored as X."
   ],
   "metadata": {
    "collapsed": false,
    "pycharm": {
     "name": "#%% md\n"
    }
   }
  },
  {
   "cell_type": "code",
   "execution_count": 222,
   "outputs": [
    {
     "name": "stdout",
     "output_type": "stream",
     "text": [
      "[[0.  0.1 0.2 0.3 0.4 0.5 0.6 0.7 0.8 0.9]\n",
      " [1.  1.1 1.2 1.3 1.4 1.5 1.6 1.7 1.8 1.9]\n",
      " [2.  2.1 2.2 2.3 2.4 2.5 2.6 2.7 2.8 2.9]\n",
      " [3.  3.1 3.2 3.3 3.4 3.5 3.6 3.7 3.8 3.9]\n",
      " [4.  4.1 4.2 4.3 4.4 4.5 4.6 4.7 4.8 4.9]\n",
      " [5.  5.1 5.2 5.3 5.4 5.5 5.6 5.7 5.8 5.9]\n",
      " [6.  6.1 6.2 6.3 6.4 6.5 6.6 6.7 6.8 6.9]\n",
      " [7.  7.1 7.2 7.3 7.4 7.5 7.6 7.7 7.8 7.9]\n",
      " [8.  8.1 8.2 8.3 8.4 8.5 8.6 8.7 8.8 8.9]\n",
      " [9.  9.1 9.2 9.3 9.4 9.5 9.6 9.7 9.8 9.9]]\n"
     ]
    }
   ],
   "source": [
    "X = np.arange(start=0, stop=10, step=0.1).reshape((10,10))\n",
    "print(X)"
   ],
   "metadata": {
    "collapsed": false,
    "pycharm": {
     "name": "#%%\n"
    }
   }
  },
  {
   "cell_type": "markdown",
   "source": [
    "#### 27) Set the RNG seed to 1234. Then create an array X of 100 uniformly distributed numbers, with all values between 1.0 and 10.0. Then, show the mean, the median, the minimum and maximum values of X."
   ],
   "metadata": {
    "collapsed": false,
    "pycharm": {
     "name": "#%% md\n"
    }
   }
  },
  {
   "cell_type": "code",
   "execution_count": 223,
   "outputs": [
    {
     "name": "stdout",
     "output_type": "stream",
     "text": [
      "Mean of X: 5.665266170909222\n",
      "Median of X: 5.827284349552116\n",
      "Minimum of X: 1.0558766492841647\n",
      "Maximum of X: 9.928733195695253\n"
     ]
    }
   ],
   "source": [
    "np.random.seed(1234)\n",
    "X = np.random.uniform(low=1.0, high=10.0, size=100)\n",
    "print(\"Mean of X:\",np.mean(X))\n",
    "print(\"Median of X:\",np.median(X))\n",
    "print(\"Minimum of X:\",np.min(X))\n",
    "print(\"Maximum of X:\",np.max(X))"
   ],
   "metadata": {
    "collapsed": false,
    "pycharm": {
     "name": "#%%\n"
    }
   }
  },
  {
   "cell_type": "markdown",
   "source": [
    "#### 28) Define what is meant by a normal distribution. What are the parameters of a normal distribution?"
   ],
   "metadata": {
    "collapsed": false,
    "pycharm": {
     "name": "#%% md\n"
    }
   }
  },
  {
   "cell_type": "markdown",
   "source": [
    "A normal distribution can be represented as a bell curve, the values are not uniformly distributed, the values are distributed in a way that have more values closer to the mean.\n",
    "This then means that there is also a standard deviation that comes with this distribution, this number represents how the spread of data looks and how far the points are to the mean."
   ],
   "metadata": {
    "collapsed": false,
    "pycharm": {
     "name": "#%% md\n"
    }
   }
  },
  {
   "cell_type": "markdown",
   "source": [
    "#### 29) In simple terms, using a normal distribution, what does the Law of Large Numbers tell us?"
   ],
   "metadata": {
    "collapsed": false,
    "pycharm": {
     "name": "#%% md\n"
    }
   }
  },
  {
   "cell_type": "markdown",
   "source": [
    "It tells us that with a high amount of input, most of the data should pool around the mean and values further away from the mean will be less common."
   ],
   "metadata": {
    "collapsed": false,
    "pycharm": {
     "name": "#%% md\n"
    }
   }
  },
  {
   "cell_type": "markdown",
   "source": [
    "#### 30) Write a function called test_normal_dist. The purpose of this function is to evaluate the law of large numbers. It should have four parameters:    mu = mean of distribution sd = standard deviation vec_length = length of the vector to generate randomly from a normal distribution, with mu and sd as parameters num_trials = number of times to repeat the experiment"
   ],
   "metadata": {
    "collapsed": false,
    "pycharm": {
     "name": "#%% md\n"
    }
   }
  },
  {
   "cell_type": "code",
   "execution_count": 293,
   "outputs": [],
   "source": [
    "def test_normal_dist(mu, st, vec_length, num_trials):\n",
    "    np.random.seed(1234)\n",
    "    total_dev = 0\n",
    "    for _ in range(num_trials):\n",
    "        rand = np.random.normal(loc=mu, scale=st, size=int(vec_length))\n",
    "        mean = np.mean(rand)\n",
    "        total_dev += np.abs(mean) - mu\n",
    "    return total_dev / num_trials"
   ],
   "metadata": {
    "collapsed": false,
    "pycharm": {
     "name": "#%%\n"
    }
   }
  },
  {
   "cell_type": "markdown",
   "source": [
    "#### 31) Use test_normal_dist to obtain the deviation for vector lengths of 10, 100, 1000, 10000, and 100000. Use a fixed number of trials of 100 for each experiment. Report the results as a numpy array with two dimensions. the first being the vector length, and the second being the average deviation resulting from your test_normal_dist function. Your resulting array should look like:"
   ],
   "metadata": {
    "collapsed": false,
    "pycharm": {
     "name": "#%% md\n"
    }
   }
  },
  {
   "cell_type": "code",
   "execution_count": 332,
   "outputs": [
    {
     "name": "stdout",
     "output_type": "stream",
     "text": [
      "[[    10.         0.787]\n",
      " [   100.         0.806]\n",
      " [  1000.         0.049]\n",
      " [ 10000.        -0.016]\n",
      " [100000.         0.004]]\n"
     ]
    }
   ],
   "source": [
    "test_vals = np.array([[10,0.0], [100,0.0], [1000,0.0], [10000,0.0], [100000,0.0]])\n",
    "\n",
    "for i in range(len(test_vals)):\n",
    "    vec_len = test_vals[i][0]\n",
    "    result = test_normal_dist(100, 50, vec_len, 100)\n",
    "    test_vals[i][1] = result\n",
    "\n",
    "np.set_printoptions(suppress=True)\n",
    "print(test_vals)"
   ],
   "metadata": {
    "collapsed": false,
    "pycharm": {
     "name": "#%%\n"
    }
   }
  },
  {
   "cell_type": "code",
   "execution_count": null,
   "outputs": [],
   "source": [],
   "metadata": {
    "collapsed": false,
    "pycharm": {
     "name": "#%%\n"
    }
   }
  }
 ],
 "metadata": {
  "kernelspec": {
   "display_name": "Python 3",
   "language": "python",
   "name": "python3"
  },
  "language_info": {
   "codemirror_mode": {
    "name": "ipython",
    "version": 3
   },
   "file_extension": ".py",
   "mimetype": "text/x-python",
   "name": "python",
   "nbconvert_exporter": "python",
   "pygments_lexer": "ipython3",
   "version": "3.8.5"
  }
 },
 "nbformat": 4,
 "nbformat_minor": 5
}