{
 "cells": [
  {
   "cell_type": "markdown",
   "source": [
    "# lab 03 - Pandas 1\n",
    "Name: Robb Alexander    \n",
    "Class: CSCI349    \n",
    "Semester: 2021SP    \n",
    "Instructor: Brian King\n"
   ],
   "metadata": {
    "collapsed": false
   }
  },
  {
   "cell_type": "code",
   "execution_count": 3,
   "outputs": [
    {
     "name": "stdout",
     "output_type": "stream",
     "text": [
      "Python version number: 3.8.5 (default, Sep  4 2020, 02:22:02) \n",
      "[Clang 10.0.0 ]\n",
      "Numpy version number: 1.19.2\n",
      "Pandas version number: 1.2.1\n"
     ]
    }
   ],
   "source": [
    "# Setting things up\n",
    "import sys\n",
    "import numpy as np\n",
    "import pandas as pd\n",
    "print(\"Python version number:\", sys.version)\n",
    "print(\"Numpy version number:\",  np.__version__)\n",
    "print(\"Pandas version number:\", pd.__version__)\n",
    "\n"
   ],
   "metadata": {
    "collapsed": false,
    "pycharm": {
     "name": "#%%\n"
    }
   }
  }
 ],
 "metadata": {
  "kernelspec": {
   "display_name": "Python 3",
   "language": "python",
   "name": "python3"
  },
  "language_info": {
   "codemirror_mode": {
    "name": "ipython",
    "version": 3
   },
   "file_extension": ".py",
   "mimetype": "text/x-python",
   "name": "python",
   "nbconvert_exporter": "python",
   "pygments_lexer": "ipython3",
   "version": "3.8.6"
  }
 },
 "nbformat": 4,
 "nbformat_minor": 5
}