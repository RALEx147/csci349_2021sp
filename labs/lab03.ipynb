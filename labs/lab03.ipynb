{
 "cells": [
  {
   "cell_type": "markdown",
   "source": [
    "# lab 03 - Pandas 1\n",
    "Name: Robb Alexander    \n",
    "Class: CSCI349    \n",
    "Semester: 2021SP    \n",
    "Instructor: Brian King\n"
   ],
   "metadata": {
    "collapsed": false
   }
  },
  {
   "cell_type": "code",
   "execution_count": 1,
   "outputs": [],
   "source": [
    "# Setting things up\n",
    "import sys\n",
    "import numpy as np\n",
    "import pandas as pd"
   ],
   "metadata": {
    "collapsed": false,
    "pycharm": {
     "name": "#%%\n"
    }
   }
  },
  {
   "cell_type": "markdown",
   "source": [
    "#### 1) Report the Python, Numpy and Pandas version numbers."
   ],
   "metadata": {
    "collapsed": false
   }
  },
  {
   "cell_type": "code",
   "execution_count": 2,
   "outputs": [
    {
     "name": "stdout",
     "output_type": "stream",
     "text": [
      "Python version number: 3.8.5 (default, Sep  4 2020, 02:22:02) \n",
      "[Clang 10.0.0 ]\n",
      "Numpy version number: 1.19.2\n",
      "Pandas version number: 1.2.1\n"
     ]
    }
   ],
   "source": [
    "print(\"Python version number:\", sys.version)\n",
    "print(\"Numpy version number:\",  np.__version__)\n",
    "print(\"Pandas version number:\", pd.__version__)"
   ],
   "metadata": {
    "collapsed": false,
    "pycharm": {
     "name": "#%%\n"
    }
   }
  },
  {
   "cell_type": "markdown",
   "source": [
    "#### 2) Now, show the result of pd.show_versions(). Write a comment in the cell about what this shows."
   ],
   "metadata": {
    "collapsed": false
   }
  },
  {
   "cell_type": "code",
   "execution_count": 3,
   "outputs": [
    {
     "name": "stdout",
     "output_type": "stream",
     "text": [
      "\n",
      "INSTALLED VERSIONS\n",
      "------------------\n",
      "commit           : 9d598a5e1eee26df95b3910e3f2934890d062caa\n",
      "python           : 3.8.5.final.0\n",
      "python-bits      : 64\n",
      "OS               : Darwin\n",
      "OS-release       : 19.6.0\n",
      "Version          : Darwin Kernel Version 19.6.0: Mon Aug 31 22:12:52 PDT 2020; root:xnu-6153.141.2~1/RELEASE_X86_64\n",
      "machine          : x86_64\n",
      "processor        : i386\n",
      "byteorder        : little\n",
      "LC_ALL           : None\n",
      "LANG             : None\n",
      "LOCALE           : en_US.UTF-8\n",
      "\n",
      "pandas           : 1.2.1\n",
      "numpy            : 1.19.2\n",
      "pytz             : 2020.5\n",
      "dateutil         : 2.8.1\n",
      "pip              : 20.3.3\n",
      "setuptools       : 52.0.0.post20210125\n",
      "Cython           : None\n",
      "pytest           : None\n",
      "hypothesis       : None\n",
      "sphinx           : None\n",
      "blosc            : None\n",
      "feather          : None\n",
      "xlsxwriter       : None\n",
      "lxml.etree       : None\n",
      "html5lib         : None\n",
      "pymysql          : None\n",
      "psycopg2         : None\n",
      "jinja2           : 2.11.2\n",
      "IPython          : 7.19.0\n",
      "pandas_datareader: None\n",
      "bs4              : None\n",
      "bottleneck       : None\n",
      "fsspec           : None\n",
      "fastparquet      : None\n",
      "gcsfs            : None\n",
      "matplotlib       : 3.3.2\n",
      "numexpr          : None\n",
      "odfpy            : None\n",
      "openpyxl         : None\n",
      "pandas_gbq       : None\n",
      "pyarrow          : None\n",
      "pyxlsb           : None\n",
      "s3fs             : None\n",
      "scipy            : 1.5.2\n",
      "sqlalchemy       : None\n",
      "tables           : None\n",
      "tabulate         : None\n",
      "xarray           : None\n",
      "xlrd             : None\n",
      "xlwt             : None\n",
      "numba            : None\n"
     ]
    }
   ],
   "source": [
    "\"\"\"\n",
    "This shows all of the related packages that pandas uses\n",
    " that are all a part of the same family of packages. It\n",
    " also shows information about the machine and OS detail\n",
    "\"\"\"\n",
    "pd.show_versions()"
   ],
   "metadata": {
    "collapsed": false,
    "pycharm": {
     "name": "#%%\n"
    }
   }
  },
  {
   "cell_type": "markdown",
   "source": [
    "#### 3) Explain the relationship between numpy and pandas. How are they tied together? How are they different? What core functionality does pandas add to numpy?"
   ],
   "metadata": {
    "collapsed": false
   }
  },
  {
   "cell_type": "markdown",
   "source": [
    "Pandas is built on top of Numpy which allows the use of data structures and tools to analyze data. The performance is optimized such that the average user doesn't need to reinvent the wheel. The commonly used strucutres in pandas are, series and dataframes. It makes the simple 2D arrays used in numpy into more strucutred tables."
   ],
   "metadata": {
    "collapsed": false,
    "pycharm": {
     "name": "#%% md\n"
    }
   }
  },
  {
   "cell_type": "markdown",
   "source": [
    "#### 4) Compare and contrast Series and DataFrame."
   ],
   "metadata": {
    "collapsed": false
   }
  },
  {
   "cell_type": "markdown",
   "source": [
    "A dataframe is a structure with axises that are labeled, which means that it is inherently 2D. Conversely, the Series is a 1D list of data, and the labels associated are not axises, but rather index information."
   ],
   "metadata": {
    "collapsed": false,
    "pycharm": {
     "name": "#%% md\n"
    }
   }
  },
  {
   "cell_type": "markdown",
   "source": [
    "#### 5) What are the data types that can be used to create a Series object in pandas?"
   ],
   "metadata": {
    "collapsed": false
   }
  },
  {
   "cell_type": "markdown",
   "source": [
    "The data types are mostly the same as numpy with a few extras, they are object, int, float, bool, datatime, and category. If you do not give a specified one, pandas will infer which type it is."
   ],
   "metadata": {
    "collapsed": false,
    "pycharm": {
     "name": "#%% md\n"
    }
   }
  },
  {
   "cell_type": "markdown",
   "source": [
    "#### 6) What are the data structures that can be used to create a DataFrame object in pandas?"
   ],
   "metadata": {
    "collapsed": false
   }
  },
  {
   "cell_type": "markdown",
   "source": [
    "All DataFrames are instantiated with the use of individual series, so the data type for DataFrames are series, and each of those has its own data type listed above."
   ],
   "metadata": {
    "collapsed": false,
    "pycharm": {
     "name": "#%% md\n"
    }
   }
  },
  {
   "cell_type": "markdown",
   "source": [
    "#### 7) When creating a Series object, what role does the index parameter play? Does the index always need to be specified? If not, what happens?"
   ],
   "metadata": {
    "collapsed": false
   }
  },
  {
   "cell_type": "markdown",
   "source": [
    "The index parameter essentially is the axis label for the single dimensional data list, each index is a mapping to the corresponding data with informative labels. If you do not pass in an index parameter, pandas will use the default range of 0...n in the form of a `RangeIndex`."
   ],
   "metadata": {
    "collapsed": false,
    "pycharm": {
     "name": "#%% md\n"
    }
   }
  },
  {
   "cell_type": "markdown",
   "source": [
    "#### 8) Consider the copy() method of a DataFrame object. What is this method for? Explain the difference between a shallow copy and a deep copy of a DataFrame? Why would I use a shallow copy?"
   ],
   "metadata": {
    "collapsed": false
   }
  },
  {
   "cell_type": "markdown",
   "source": [
    "The method `copy()` is to create a deep copy that allows for the modification of a series in the DataFrame without changing the initial values. The default copy() uses a form of deep copy. The use of a shallow copy is important in instances where you want to have the same children objects, but is a new object itself. We use a shallow copy if we want all the children to be shared but the dataframe itself to be distinct."
   ],
   "metadata": {
    "collapsed": false,
    "pycharm": {
     "name": "#%% md\n"
    }
   }
  },
  {
   "cell_type": "markdown",
   "source": [
    "---"
   ],
   "metadata": {
    "collapsed": false,
    "pycharm": {
     "name": "#%% md\n"
    }
   }
  },
  {
   "cell_type": "code",
   "source": [
    "days = [\"Mon\",\"Tue\",\"Wed\",\"Thu\",\"Fri\"]\n",
    "scores_1 = [9.5, 8.75, 8, 10, 7.75]\n",
    "scores_2 = [9, 8, 10, 8.75, 7.25]"
   ],
   "metadata": {
    "collapsed": false,
    "pycharm": {
     "name": "#%%\n"
    }
   },
   "execution_count": 4,
   "outputs": []
  },
  {
   "cell_type": "markdown",
   "source": [
    "#### 9) Convert scores_1 and scores_2 into two Series objects. Use days as your index. You should name each Series object using the name parameter as \"week_1\", and \"week_2\". Do not show the result, only store the variables."
   ],
   "metadata": {
    "collapsed": false
   }
  },
  {
   "cell_type": "code",
   "execution_count": 5,
   "outputs": [],
   "source": [
    "week_1 = pd.Series(data=scores_1, index=days)\n",
    "week_2 = pd.Series(data=scores_2, index=days)"
   ],
   "metadata": {
    "collapsed": false,
    "pycharm": {
     "name": "#%%\n"
    }
   }
  },
  {
   "cell_type": "markdown",
   "source": [
    "#### 10) Create a pandas DataFrame called scores that represents the above data. Show your data frame. Your results should be arranged as shown below:"
   ],
   "metadata": {
    "collapsed": false
   }
  },
  {
   "cell_type": "code",
   "execution_count": 6,
   "outputs": [
    {
     "name": "stdout",
     "output_type": "stream",
     "text": [
      "        Mon   Tue   Wed    Thu   Fri\n",
      "week_1  9.5  8.75   8.0  10.00  7.75\n",
      "week_2  9.0  8.00  10.0   8.75  7.25\n"
     ]
    }
   ],
   "source": [
    "scores = pd.DataFrame([week_1, week_2], index=['week_1', 'week_2'])\n",
    "print(scores)"
   ],
   "metadata": {
    "collapsed": false,
    "pycharm": {
     "name": "#%%\n"
    }
   }
  },
  {
   "cell_type": "markdown",
   "source": [
    "#### 11) Append the following data to the end of scores. [8.5,8,9.75,9,8.25]. The row label on the new week is \"week_3\". Show your updated data frame. It should look like the following:"
   ],
   "metadata": {
    "collapsed": false
   }
  },
  {
   "cell_type": "code",
   "execution_count": 7,
   "outputs": [
    {
     "name": "stdout",
     "output_type": "stream",
     "text": [
      "        Mon   Tue    Wed    Thu   Fri\n",
      "week_1  9.5  8.75   8.00  10.00  7.75\n",
      "week_2  9.0  8.00  10.00   8.75  7.25\n",
      "week_3  8.5  8.00   9.75   9.00  8.25\n"
     ]
    }
   ],
   "source": [
    "week_3 = pd.Series(data=[8.5,8,9.75,9,8.25], index=days)\n",
    "scores.loc['week_3'] = week_3\n",
    "print(scores)"
   ],
   "metadata": {
    "collapsed": false,
    "pycharm": {
     "name": "#%%\n"
    }
   }
  },
  {
   "cell_type": "markdown",
   "source": [
    "#### 12) numpy and pandas have an ENORMOUS number of ways for selecting data. At first, the flexibility will confuse and drive you nuts. In time, it because amazing and intuitive (with less nuts.) Write yourself a quick one sentence reference for each access method listed above, with one example for each using the scores DataFrame."
   ],
   "metadata": {
    "collapsed": false
   }
  },
  {
   "cell_type": "markdown",
   "source": [
    "\n",
    "`.loc` is label based, we use the name of the rows/columns to give us back the either a dataframe or series depending on if we pass in a list of strings or a string, respectively.<br />\n",
    "`print(scores.loc[\"week_1\"])`\n",
    "\n",
    "`.iloc` is position based, using the index to get a range of values, the return should be a series if we use one, but a dataframe if we use a list of indexes.<br />\n",
    "`print(scores.loc[0])`\n",
    "\n",
    "`.at` is a faster version of loc, which means it is also label based. It can access using the column and row names for a scalar access. The return type is a scalar which means it is not a Series, rather a simpler datatype.<br />\n",
    "`print(scores.at[\"week_1\",\"Mon\"])`\n",
    "\n",
    "`.iat` is a faster version of iloc, which means it is also position based. But the tradeoff for the speed is that it is only a scalar accessor, which means you cannot use arrays as an indexer.<br />\n",
    "`print(scores.iat[0,0])`"
   ],
   "metadata": {
    "collapsed": false,
    "pycharm": {
     "name": "#%% md\n"
    }
   }
  },
  {
   "cell_type": "markdown",
   "source": [
    "#### 13) Show at least two different techniques to select scores for Tuesday using the string \"Tue\""
   ],
   "metadata": {
    "collapsed": false
   }
  },
  {
   "cell_type": "code",
   "execution_count": 9,
   "outputs": [
    {
     "data": {
      "text/plain": "week_1    8.75\nweek_2    8.00\nweek_3    8.00\nName: Tue, dtype: float64"
     },
     "execution_count": 9,
     "metadata": {},
     "output_type": "execute_result"
    }
   ],
   "source": [
    "scores.loc[:, 'Tue']\n",
    "scores['Tue']"
   ],
   "metadata": {
    "collapsed": false,
    "pycharm": {
     "name": "#%%\n"
    }
   }
  },
  {
   "cell_type": "markdown",
   "source": [
    "#### 14) Show how to retrieve the scores for Tuesday using the named attribute Tue"
   ],
   "metadata": {
    "collapsed": false
   }
  },
  {
   "cell_type": "code",
   "execution_count": 10,
   "outputs": [
    {
     "data": {
      "text/plain": "week_1    8.75\nweek_2    8.00\nweek_3    8.00\nName: Tue, dtype: float64"
     },
     "execution_count": 10,
     "metadata": {},
     "output_type": "execute_result"
    }
   ],
   "source": [
    "scores.Tue"
   ],
   "metadata": {
    "collapsed": false,
    "pycharm": {
     "name": "#%%\n"
    }
   }
  },
  {
   "cell_type": "markdown",
   "source": [
    "#### 15) Show at least three techniques to select scores for Wednesday using an integer. The return type can be either a DataFrame or a Series."
   ],
   "metadata": {
    "collapsed": false
   }
  },
  {
   "cell_type": "code",
   "execution_count": 49,
   "outputs": [
    {
     "data": {
      "text/plain": "          Wed\nweek_1   8.00\nweek_2  10.00\nweek_3   9.75",
      "text/html": "<div>\n<style scoped>\n    .dataframe tbody tr th:only-of-type {\n        vertical-align: middle;\n    }\n\n    .dataframe tbody tr th {\n        vertical-align: top;\n    }\n\n    .dataframe thead th {\n        text-align: right;\n    }\n</style>\n<table border=\"1\" class=\"dataframe\">\n  <thead>\n    <tr style=\"text-align: right;\">\n      <th></th>\n      <th>Wed</th>\n    </tr>\n  </thead>\n  <tbody>\n    <tr>\n      <th>week_1</th>\n      <td>8.00</td>\n    </tr>\n    <tr>\n      <th>week_2</th>\n      <td>10.00</td>\n    </tr>\n    <tr>\n      <th>week_3</th>\n      <td>9.75</td>\n    </tr>\n  </tbody>\n</table>\n</div>"
     },
     "execution_count": 49,
     "metadata": {},
     "output_type": "execute_result"
    }
   ],
   "source": [
    "scores.iloc[:, 2]\n",
    "scores.iloc[[0,1,2], 2]\n",
    "scores[scores.columns[2:3]]"
   ],
   "metadata": {
    "collapsed": false,
    "pycharm": {
     "name": "#%%\n"
    }
   }
  },
  {
   "cell_type": "markdown",
   "source": [
    "#### 16) Select the data for the first week using the string \"week_1\". Your result should return a Series representing the scores for week 1."
   ],
   "metadata": {
    "collapsed": false
   }
  },
  {
   "cell_type": "code",
   "execution_count": 48,
   "outputs": [
    {
     "data": {
      "text/plain": "Mon     9.50\nTue     8.75\nWed     8.00\nThu    10.00\nFri     7.75\nName: week_1, dtype: float64"
     },
     "execution_count": 48,
     "metadata": {},
     "output_type": "execute_result"
    }
   ],
   "source": [
    "scores.loc[\"week_1\"]"
   ],
   "metadata": {
    "collapsed": false,
    "pycharm": {
     "name": "#%%\n"
    }
   }
  },
  {
   "cell_type": "markdown",
   "source": [
    "#### 17) Select the data for the first week using the string \"week_1\". Your result should return a DataFrame, representing the subset of the scores DataFrame for week 1 only."
   ],
   "metadata": {
    "collapsed": false
   }
  },
  {
   "cell_type": "code",
   "execution_count": 50,
   "outputs": [
    {
     "data": {
      "text/plain": "        Mon   Tue  Wed   Thu   Fri\nweek_1  9.5  8.75  8.0  10.0  7.75",
      "text/html": "<div>\n<style scoped>\n    .dataframe tbody tr th:only-of-type {\n        vertical-align: middle;\n    }\n\n    .dataframe tbody tr th {\n        vertical-align: top;\n    }\n\n    .dataframe thead th {\n        text-align: right;\n    }\n</style>\n<table border=\"1\" class=\"dataframe\">\n  <thead>\n    <tr style=\"text-align: right;\">\n      <th></th>\n      <th>Mon</th>\n      <th>Tue</th>\n      <th>Wed</th>\n      <th>Thu</th>\n      <th>Fri</th>\n    </tr>\n  </thead>\n  <tbody>\n    <tr>\n      <th>week_1</th>\n      <td>9.5</td>\n      <td>8.75</td>\n      <td>8.0</td>\n      <td>10.0</td>\n      <td>7.75</td>\n    </tr>\n  </tbody>\n</table>\n</div>"
     },
     "execution_count": 50,
     "metadata": {},
     "output_type": "execute_result"
    }
   ],
   "source": [
    "scores.loc[[\"week_1\"]]"
   ],
   "metadata": {
    "collapsed": false,
    "pycharm": {
     "name": "#%%\n"
    }
   }
  },
  {
   "cell_type": "markdown",
   "source": [
    "#### 18) Select the data for the first week using a slice"
   ],
   "metadata": {
    "collapsed": false
   }
  },
  {
   "cell_type": "code",
   "execution_count": 51,
   "outputs": [
    {
     "data": {
      "text/plain": "        Mon   Tue  Wed   Thu   Fri\nweek_1  9.5  8.75  8.0  10.0  7.75",
      "text/html": "<div>\n<style scoped>\n    .dataframe tbody tr th:only-of-type {\n        vertical-align: middle;\n    }\n\n    .dataframe tbody tr th {\n        vertical-align: top;\n    }\n\n    .dataframe thead th {\n        text-align: right;\n    }\n</style>\n<table border=\"1\" class=\"dataframe\">\n  <thead>\n    <tr style=\"text-align: right;\">\n      <th></th>\n      <th>Mon</th>\n      <th>Tue</th>\n      <th>Wed</th>\n      <th>Thu</th>\n      <th>Fri</th>\n    </tr>\n  </thead>\n  <tbody>\n    <tr>\n      <th>week_1</th>\n      <td>9.5</td>\n      <td>8.75</td>\n      <td>8.0</td>\n      <td>10.0</td>\n      <td>7.75</td>\n    </tr>\n  </tbody>\n</table>\n</div>"
     },
     "execution_count": 51,
     "metadata": {},
     "output_type": "execute_result"
    }
   ],
   "source": [
    "scores[0:1]"
   ],
   "metadata": {
    "collapsed": false,
    "pycharm": {
     "name": "#%%\n"
    }
   }
  },
  {
   "cell_type": "markdown",
   "source": [
    "#### 19) Use .iloc to select Monday and Friday of the first and third week."
   ],
   "metadata": {
    "collapsed": false
   }
  },
  {
   "cell_type": "code",
   "execution_count": 53,
   "outputs": [
    {
     "data": {
      "text/plain": "        Mon   Fri\nweek_1  9.5  7.75\nweek_3  8.5  8.25",
      "text/html": "<div>\n<style scoped>\n    .dataframe tbody tr th:only-of-type {\n        vertical-align: middle;\n    }\n\n    .dataframe tbody tr th {\n        vertical-align: top;\n    }\n\n    .dataframe thead th {\n        text-align: right;\n    }\n</style>\n<table border=\"1\" class=\"dataframe\">\n  <thead>\n    <tr style=\"text-align: right;\">\n      <th></th>\n      <th>Mon</th>\n      <th>Fri</th>\n    </tr>\n  </thead>\n  <tbody>\n    <tr>\n      <th>week_1</th>\n      <td>9.5</td>\n      <td>7.75</td>\n    </tr>\n    <tr>\n      <th>week_3</th>\n      <td>8.5</td>\n      <td>8.25</td>\n    </tr>\n  </tbody>\n</table>\n</div>"
     },
     "execution_count": 53,
     "metadata": {},
     "output_type": "execute_result"
    }
   ],
   "source": [
    "scores.iloc[[0,2], [0,4]]"
   ],
   "metadata": {
    "collapsed": false,
    "pycharm": {
     "name": "#%%\n"
    }
   }
  },
  {
   "cell_type": "markdown",
   "source": [
    "#### 20) Repeat the previous exercise, but use the .loc selector. You should have the same result."
   ],
   "metadata": {
    "collapsed": false
   }
  },
  {
   "cell_type": "code",
   "execution_count": 56,
   "outputs": [
    {
     "data": {
      "text/plain": "        Mon   Fri\nweek_1  9.5  7.75\nweek_3  8.5  8.25",
      "text/html": "<div>\n<style scoped>\n    .dataframe tbody tr th:only-of-type {\n        vertical-align: middle;\n    }\n\n    .dataframe tbody tr th {\n        vertical-align: top;\n    }\n\n    .dataframe thead th {\n        text-align: right;\n    }\n</style>\n<table border=\"1\" class=\"dataframe\">\n  <thead>\n    <tr style=\"text-align: right;\">\n      <th></th>\n      <th>Mon</th>\n      <th>Fri</th>\n    </tr>\n  </thead>\n  <tbody>\n    <tr>\n      <th>week_1</th>\n      <td>9.5</td>\n      <td>7.75</td>\n    </tr>\n    <tr>\n      <th>week_3</th>\n      <td>8.5</td>\n      <td>8.25</td>\n    </tr>\n  </tbody>\n</table>\n</div>"
     },
     "execution_count": 56,
     "metadata": {},
     "output_type": "execute_result"
    }
   ],
   "source": [
    "scores.loc[[\"week_1\",\"week_3\"], [\"Mon\",\"Fri\"]]\n"
   ],
   "metadata": {
    "collapsed": false,
    "pycharm": {
     "name": "#%%\n"
    }
   }
  },
  {
   "cell_type": "markdown",
   "source": [
    "#### 21) For each week, report how much each day's score for that week differed from the mean for the week."
   ],
   "metadata": {
    "collapsed": false
   }
  },
  {
   "cell_type": "code",
   "execution_count": 81,
   "outputs": [
    {
     "data": {
      "text/plain": "        Mon   Tue   Wed   Thu   Fri\nweek_1  0.7 -0.05 -0.80  1.20 -1.05\nweek_2  0.4 -0.60  1.40  0.15 -1.35\nweek_3 -0.2 -0.70  1.05  0.30 -0.45",
      "text/html": "<div>\n<style scoped>\n    .dataframe tbody tr th:only-of-type {\n        vertical-align: middle;\n    }\n\n    .dataframe tbody tr th {\n        vertical-align: top;\n    }\n\n    .dataframe thead th {\n        text-align: right;\n    }\n</style>\n<table border=\"1\" class=\"dataframe\">\n  <thead>\n    <tr style=\"text-align: right;\">\n      <th></th>\n      <th>Mon</th>\n      <th>Tue</th>\n      <th>Wed</th>\n      <th>Thu</th>\n      <th>Fri</th>\n    </tr>\n  </thead>\n  <tbody>\n    <tr>\n      <th>week_1</th>\n      <td>0.7</td>\n      <td>-0.05</td>\n      <td>-0.80</td>\n      <td>1.20</td>\n      <td>-1.05</td>\n    </tr>\n    <tr>\n      <th>week_2</th>\n      <td>0.4</td>\n      <td>-0.60</td>\n      <td>1.40</td>\n      <td>0.15</td>\n      <td>-1.35</td>\n    </tr>\n    <tr>\n      <th>week_3</th>\n      <td>-0.2</td>\n      <td>-0.70</td>\n      <td>1.05</td>\n      <td>0.30</td>\n      <td>-0.45</td>\n    </tr>\n  </tbody>\n</table>\n</div>"
     },
     "execution_count": 81,
     "metadata": {},
     "output_type": "execute_result"
    }
   ],
   "source": [
    "mean = scores.mean(axis=1)\n",
    "scores.sub(mean, axis=0)"
   ],
   "metadata": {
    "collapsed": false,
    "pycharm": {
     "name": "#%%\n"
    }
   }
  },
  {
   "cell_type": "markdown",
   "source": [
    "#### 22) Report the maximum score for each week"
   ],
   "metadata": {
    "collapsed": false
   }
  },
  {
   "cell_type": "code",
   "execution_count": 77,
   "outputs": [
    {
     "data": {
      "text/plain": "week_1    10.00\nweek_2    10.00\nweek_3     9.75\ndtype: float64"
     },
     "execution_count": 77,
     "metadata": {},
     "output_type": "execute_result"
    }
   ],
   "source": [
    "scores.max(axis=1)"
   ],
   "metadata": {
    "collapsed": false,
    "pycharm": {
     "name": "#%%\n"
    }
   }
  },
  {
   "cell_type": "markdown",
   "source": [
    "#### 23) For each week, report which day had the largest score"
   ],
   "metadata": {
    "collapsed": false
   }
  },
  {
   "cell_type": "code",
   "execution_count": 84,
   "outputs": [
    {
     "data": {
      "text/plain": "week_1    Thu\nweek_2    Wed\nweek_3    Wed\ndtype: object"
     },
     "execution_count": 84,
     "metadata": {},
     "output_type": "execute_result"
    }
   ],
   "source": [
    "scores.idxmax(axis=1)"
   ],
   "metadata": {
    "collapsed": false,
    "pycharm": {
     "name": "#%%\n"
    }
   }
  },
  {
   "cell_type": "markdown",
   "source": [
    "#### 24) Report the week that had the highest total quiz score. Your answer should only be the name of the week from the index."
   ],
   "metadata": {
    "collapsed": false
   }
  },
  {
   "cell_type": "code",
   "execution_count": 94,
   "outputs": [
    {
     "data": {
      "text/plain": "'week_1'"
     },
     "execution_count": 94,
     "metadata": {},
     "output_type": "execute_result"
    }
   ],
   "source": [
    "total_score = scores.sum(axis=1)\n",
    "index = total_score.argmax()\n",
    "total_score.index[index]"
   ],
   "metadata": {
    "collapsed": false,
    "pycharm": {
     "name": "#%%\n"
    }
   }
  },
  {
   "cell_type": "markdown",
   "source": [
    "#### 25) Report the number of days of each week that had a score >= 9.25. Your answer should be a Series that looks like the following:"
   ],
   "metadata": {
    "collapsed": false
   }
  },
  {
   "cell_type": "code",
   "execution_count": 97,
   "outputs": [
    {
     "data": {
      "text/plain": "week_1    2\nweek_2    1\nweek_3    1\ndtype: int64"
     },
     "execution_count": 97,
     "metadata": {},
     "output_type": "execute_result"
    }
   ],
   "source": [
    "scores[(scores > 9.25)].count(axis=1)"
   ],
   "metadata": {
    "collapsed": false,
    "pycharm": {
     "name": "#%%\n"
    }
   }
  },
  {
   "cell_type": "markdown",
   "source": [
    "#### 26) Report the average score for each week"
   ],
   "metadata": {
    "collapsed": false
   }
  },
  {
   "cell_type": "code",
   "execution_count": 99,
   "outputs": [
    {
     "data": {
      "text/plain": "week_1    8.8\nweek_2    8.6\nweek_3    8.7\ndtype: float64"
     },
     "execution_count": 99,
     "metadata": {},
     "output_type": "execute_result"
    }
   ],
   "source": [
    "scores.mean(axis=1)"
   ],
   "metadata": {
    "collapsed": false,
    "pycharm": {
     "name": "#%%\n"
    }
   }
  },
  {
   "cell_type": "markdown",
   "source": [
    "#### 27) Report the average score for each week with the lowest score for each week dropped. (REMEMBER – NEVER hard code magic numbers. Your solution should work for any number of weeks, and any number of days per week!)"
   ],
   "metadata": {
    "collapsed": false
   }
  },
  {
   "cell_type": "code",
   "execution_count": 130,
   "outputs": [
    {
     "data": {
      "text/plain": "week_1    9.0625\nweek_2    8.9375\nweek_3    8.8750\ndtype: float64"
     },
     "execution_count": 130,
     "metadata": {},
     "output_type": "execute_result"
    }
   ],
   "source": [
    "min_index = scores.idxmin(axis=1)\n",
    "new_scores = scores.copy()\n",
    "\n",
    "for i, v in min_index.items():\n",
    "    new_scores.loc[i, v] = np.NaN\n",
    "\n",
    "new_scores.mean(axis=1, skipna=True)"
   ],
   "metadata": {
    "collapsed": false,
    "pycharm": {
     "name": "#%%\n"
    }
   }
  },
  {
   "cell_type": "markdown",
   "source": [
    "#### 28) Report the scores rescaled to fall between 0 and 100, instead of 0 to 10 as they are now."
   ],
   "metadata": {
    "collapsed": false,
    "pycharm": {
     "name": "#%% md\n"
    }
   }
  },
  {
   "cell_type": "code",
   "execution_count": 132,
   "outputs": [
    {
     "data": {
      "text/plain": "         Mon   Tue    Wed    Thu   Fri\nweek_1  95.0  87.5   80.0  100.0  77.5\nweek_2  90.0  80.0  100.0   87.5  72.5\nweek_3  85.0  80.0   97.5   90.0  82.5",
      "text/html": "<div>\n<style scoped>\n    .dataframe tbody tr th:only-of-type {\n        vertical-align: middle;\n    }\n\n    .dataframe tbody tr th {\n        vertical-align: top;\n    }\n\n    .dataframe thead th {\n        text-align: right;\n    }\n</style>\n<table border=\"1\" class=\"dataframe\">\n  <thead>\n    <tr style=\"text-align: right;\">\n      <th></th>\n      <th>Mon</th>\n      <th>Tue</th>\n      <th>Wed</th>\n      <th>Thu</th>\n      <th>Fri</th>\n    </tr>\n  </thead>\n  <tbody>\n    <tr>\n      <th>week_1</th>\n      <td>95.0</td>\n      <td>87.5</td>\n      <td>80.0</td>\n      <td>100.0</td>\n      <td>77.5</td>\n    </tr>\n    <tr>\n      <th>week_2</th>\n      <td>90.0</td>\n      <td>80.0</td>\n      <td>100.0</td>\n      <td>87.5</td>\n      <td>72.5</td>\n    </tr>\n    <tr>\n      <th>week_3</th>\n      <td>85.0</td>\n      <td>80.0</td>\n      <td>97.5</td>\n      <td>90.0</td>\n      <td>82.5</td>\n    </tr>\n  </tbody>\n</table>\n</div>"
     },
     "execution_count": 132,
     "metadata": {},
     "output_type": "execute_result"
    }
   ],
   "source": [
    "scores * 10"
   ],
   "metadata": {
    "collapsed": false,
    "pycharm": {
     "name": "#%%\n"
    }
   }
  }
 ],
 "metadata": {
  "kernelspec": {
   "display_name": "Python 3",
   "language": "python",
   "name": "python3"
  },
  "language_info": {
   "codemirror_mode": {
    "name": "ipython",
    "version": 3
   },
   "file_extension": ".py",
   "mimetype": "text/x-python",
   "name": "python",
   "nbconvert_exporter": "python",
   "pygments_lexer": "ipython3",
   "version": "3.8.6"
  }
 },
 "nbformat": 4,
 "nbformat_minor": 5
}