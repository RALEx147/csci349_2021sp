{
 "cells": [
  {
   "cell_type": "markdown",
   "id": "ranging-transparency",
   "metadata": {},
   "source": [
    "# lab 01 - Getting Started \n",
    "Name: Robb Alexander    \n",
    "Class: CSCI349    \n",
    "Semester: 2021SP    \n",
    "Instructor: Brian King"
   ]
  },
  {
   "cell_type": "markdown",
   "id": "adaptive-navigator",
   "metadata": {},
   "source": [
    "#### 2. Did you read the syllabus? All of it? Do you agree to abide by the cheating rules? Write a sentence clearly indicating your commitment to not cheating."
   ]
  },
  {
   "cell_type": "markdown",
   "id": "crucial-medicare",
   "metadata": {},
   "source": [
    "I read all of the syllabus that wasn't a copy/pasted section. I agree that I will never cheat or do anything that violates the terms set in the syllabus."
   ]
  },
  {
   "cell_type": "markdown",
   "id": "australian-seating",
   "metadata": {},
   "source": [
    "#### 3. What are you hoping to get out of this course?"
   ]
  },
  {
   "cell_type": "markdown",
   "id": "cubic-neighbor",
   "metadata": {},
   "source": [
    "I hope to learn about the practical uses of data science/mining. I have already taken a machine learning class, but it was all math and theory of different models. I hope this class can encompass the missing.    \n",
    "I also never had you as a professor for 205 due to your sabbatical, so I missed out on that life altering experience and hope this course is a good enough substitute. "
   ]
  },
  {
   "cell_type": "markdown",
   "id": "thirty-citizenship",
   "metadata": {},
   "source": [
    "#### 4. Print the Python version (available in sys package)"
   ]
  },
  {
   "cell_type": "code",
   "execution_count": 8,
   "id": "million-elements",
   "metadata": {},
   "outputs": [
    {
     "name": "stdout",
     "output_type": "stream",
     "text": [
      "3.8.5 (default, Sep  4 2020, 02:22:02) \n",
      "[Clang 10.0.0 ]\n"
     ]
    }
   ],
   "source": [
    "import sys\n",
    "print(sys.version)"
   ]
  },
  {
   "cell_type": "markdown",
   "id": "vietnamese-rwanda",
   "metadata": {},
   "source": [
    "#### 5. Create a Python list of 10000 random integers in the range 1 to 100, using the random package. Name the list x_list."
   ]
  },
  {
   "cell_type": "code",
   "execution_count": 10,
   "id": "intimate-harris",
   "metadata": {},
   "outputs": [],
   "source": [
    "import random\n",
    "x_list = [random.randint(1,100) for _ in range(10000)]"
   ]
  },
  {
   "cell_type": "markdown",
   "id": "boxed-commonwealth",
   "metadata": {},
   "source": [
    "#### 6. What is the minimum value of x_list? What is the max value? What is the mode?"
   ]
  },
  {
   "cell_type": "code",
   "execution_count": 11,
   "id": "starting-tobacco",
   "metadata": {},
   "outputs": [
    {
     "name": "stdout",
     "output_type": "stream",
     "text": [
      "The minimum of x_list is: 1\n",
      "The maximum of x_list is: 100\n",
      "The mode of x_list is: 85\n"
     ]
    }
   ],
   "source": [
    "from statistics import mode\n",
    "print(\"The minimum of x_list is:\", min(x_list))\n",
    "print(\"The maximum of x_list is:\", max(x_list))\n",
    "print(\"The mode of x_list is:\", mode(x_list))"
   ]
  },
  {
   "cell_type": "markdown",
   "id": "burning-paragraph",
   "metadata": {},
   "source": [
    "#### 7. Write a function to take a list of numbers as a parameter, and return the average of the list. Then, use your function to report the average value of x_list, printed as a float with 2 places of precision."
   ]
  },
  {
   "cell_type": "code",
   "execution_count": 12,
   "id": "growing-emission",
   "metadata": {},
   "outputs": [
    {
     "name": "stdout",
     "output_type": "stream",
     "text": [
      "50.41\n"
     ]
    }
   ],
   "source": [
    "def average(nums):\n",
    "    total = sum(nums)\n",
    "    n = len(nums)\n",
    "    avg = total / n\n",
    "    return round(avg, 2)\n",
    "\n",
    "print(average(x_list))"
   ]
  },
  {
   "cell_type": "markdown",
   "id": "bulgarian-taste",
   "metadata": {},
   "source": [
    "#### 8. Create a list called x_hist that represents a histogram, i.e. a distribution of the numerical data, of x_list. Each entry in x_hist should contain the range of data in widths of 10. So, x_hist[0] represents the frequency of numbers between 1-10, x_hist[1] is the frequency of numbers between 11-20, and so on. Be sure to print x_hist at the end."
   ]
  },
  {
   "cell_type": "code",
   "execution_count": 33,
   "id": "changed-container",
   "metadata": {},
   "outputs": [
    {
     "name": "stdout",
     "output_type": "stream",
     "text": [
      "[1028, 1001, 975, 1020, 1004, 962, 1010, 973, 1008, 1019]\n"
     ]
    }
   ],
   "source": [
    "from collections import Counter\n",
    "counts = Counter(x_list)\n",
    "x_hist = [0] * 10\n",
    "\n",
    "for num, count in counts.items():\n",
    "    index = (num - 1) // 10\n",
    "    x_hist[index] += count\n",
    "\n",
    "print(x_hist)"
   ]
  },
  {
   "cell_type": "markdown",
   "id": "registered-castle",
   "metadata": {},
   "source": [
    "#### 9. What is numpy? What are its strengths? Does it have any weaknesses?"
   ]
  },
  {
   "cell_type": "markdown",
   "id": "rolled-standing",
   "metadata": {},
   "source": [
    "Numpy is a library that specializes in math with functions and data structures that help in matrixes and array computation. This is useful for large datasets, and most notably uses `np.array()` instead of a python [] array; this improves the speed due to what they call vectorization.\n",
    "Personally the weakness that I think numpy has is the convolutedness of the array functions and it is not beginner friendly. You need to have precise ways to construct and transform a [] list before passing it in. The complexity makes it only fit for more formal research/projects."
   ]
  },
  {
   "cell_type": "markdown",
   "id": "separate-manner",
   "metadata": {},
   "source": [
    "#### 10. Import the numpy package as np and print the numpy version"
   ]
  },
  {
   "cell_type": "code",
   "execution_count": 63,
   "id": "distributed-secondary",
   "metadata": {},
   "outputs": [
    {
     "name": "stdout",
     "output_type": "stream",
     "text": [
      "numpy version: 1.19.2\n"
     ]
    }
   ],
   "source": [
    "import numpy as np\n",
    "print(\"numpy version:\", np.__version__)"
   ]
  },
  {
   "cell_type": "markdown",
   "id": "dramatic-microphone",
   "metadata": {},
   "source": [
    "#### 11. What is the primary object type in numpy? Can it store data of different types? Discuss."
   ]
  },
  {
   "cell_type": "markdown",
   "id": "atomic-extra",
   "metadata": {},
   "source": [
    "The primary type is the `np.array()` and it can be used to create vectors and matrixes that then can be used with Scikit learn and other packages to use tricks in linear algebra.\n",
    "To achieve different data types in the same `np.array` you need to convert the data into the object data type.\n"
   ]
  },
  {
   "cell_type": "markdown",
   "id": "returning-garage",
   "metadata": {},
   "source": [
    "#### 12. Discuss the types of data available in numpy. You need not list every type. Just generalize, and discuss how the type system is different than the built-in types int and float in Python."
   ]
  },
  {
   "cell_type": "markdown",
   "id": "identified-equity",
   "metadata": {},
   "source": [
    "You have the classic `string`, `int`, `float`, and `boolean`. There is also the extra dtype that represents complex numbers, which uses `complex` as a key word.\n",
    "The major difference between python3 and numpy primitive numbers is that numpy uses static sized numbers while python3 uses flexible sized numbers. This is done to optimize speed for modern day computation while also allowing for memory swapping of same sized dtypes. Classic cs, trading space for time."
   ]
  },
  {
   "cell_type": "markdown",
   "id": "durable-fundamental",
   "metadata": {},
   "source": [
    "#### 13. Create a numpy array from x_list. Reassign it as x_list. Show the contents."
   ]
  },
  {
   "cell_type": "code",
   "execution_count": 62,
   "id": "executed-movement",
   "metadata": {},
   "outputs": [
    {
     "name": "stdout",
     "output_type": "stream",
     "text": [
      "x_list is now a ndarray\n",
      "[85. 58. 63. ... 47. 55. 99.]\n"
     ]
    }
   ],
   "source": [
    "x_list2 = x_list.copy()\n",
    "x_list = np.array(x_list)\n",
    "print(\"x_list is now a\",type(x_list).__name__)\n",
    "print(x_list)\n",
    "# to print all content, change np.set_printoptions to inf"
   ]
  },
  {
   "cell_type": "markdown",
   "id": "touched-lighter",
   "metadata": {},
   "source": [
    "#### 14. Redo the previous exercise, but set the data type of each value to 'float32'"
   ]
  },
  {
   "cell_type": "code",
   "execution_count": 46,
   "id": "monetary-rabbit",
   "metadata": {},
   "outputs": [
    {
     "name": "stdout",
     "output_type": "stream",
     "text": [
      "[85. 58. 63. ... 47. 55. 99.]\n"
     ]
    }
   ],
   "source": [
    "x_list = np.array(x_list2, dtype='f')\n",
    "print(x_list)"
   ]
  },
  {
   "cell_type": "markdown",
   "id": "satisfactory-spouse",
   "metadata": {},
   "source": [
    "#### 15. Create a length 10 integer array filled with zeros"
   ]
  },
  {
   "cell_type": "code",
   "execution_count": 49,
   "id": "stupid-population",
   "metadata": {},
   "outputs": [
    {
     "name": "stdout",
     "output_type": "stream",
     "text": [
      "[0. 0. 0. 0. 0. 0. 0. 0. 0. 0.]\n"
     ]
    }
   ],
   "source": [
    "# array = [0] * 10\n",
    "# array = [0 for _ in range(10)]\n",
    "\n",
    "array = np.zeros(10)\n",
    "print(array)"
   ]
  },
  {
   "cell_type": "markdown",
   "id": "beautiful-absorption",
   "metadata": {},
   "source": [
    "#### 16. Create a float array of 3 rows and 4 columns, all initialized to one."
   ]
  },
  {
   "cell_type": "code",
   "execution_count": 50,
   "id": "taken-receipt",
   "metadata": {},
   "outputs": [
    {
     "name": "stdout",
     "output_type": "stream",
     "text": [
      "[[1. 1. 1. 1.]\n",
      " [1. 1. 1. 1.]\n",
      " [1. 1. 1. 1.]]\n"
     ]
    }
   ],
   "source": [
    "array = np.ones((3,4), dtype='f')\n",
    "print(array)\n"
   ]
  },
  {
   "cell_type": "markdown",
   "id": "elder-strand",
   "metadata": {},
   "source": [
    "#### 17. Create an array of 20 values, evenly spaced between 1 and 3 (HINT – look at np.linspace)"
   ]
  },
  {
   "cell_type": "code",
   "execution_count": 52,
   "id": "expensive-cyprus",
   "metadata": {},
   "outputs": [
    {
     "name": "stdout",
     "output_type": "stream",
     "text": [
      "[1.         1.10526316 1.21052632 1.31578947 1.42105263 1.52631579\n",
      " 1.63157895 1.73684211 1.84210526 1.94736842 2.05263158 2.15789474\n",
      " 2.26315789 2.36842105 2.47368421 2.57894737 2.68421053 2.78947368\n",
      " 2.89473684 3.        ]\n"
     ]
    }
   ],
   "source": [
    "array = np.linspace(start=1,stop=3,num=20)\n",
    "print(array)"
   ]
  },
  {
   "cell_type": "markdown",
   "id": "future-structure",
   "metadata": {},
   "source": [
    "#### 18. Set the numpy random seed to the value 12345, then create a 10 x 5 array of random integers on the interval [10, 20)"
   ]
  },
  {
   "cell_type": "code",
   "execution_count": 64,
   "id": "knowing-training",
   "metadata": {},
   "outputs": [
    {
     "name": "stdout",
     "output_type": "stream",
     "text": [
      "[[12 15 11 14 19]\n",
      " [15 12 11 16 11]\n",
      " [19 17 16 10 12]\n",
      " [19 11 12 16 17]\n",
      " [17 17 18 17 11]\n",
      " [17 14 10 13 15]\n",
      " [17 13 11 15 12]\n",
      " [15 13 18 15 12]\n",
      " [15 13 10 16 18]\n",
      " [10 15 16 18 19]]\n"
     ]
    }
   ],
   "source": [
    "np.random.seed(12345)\n",
    "array = np.random.randint(low=10, high=20, size=(10,5), dtype='i')\n",
    "print(array)"
   ]
  },
  {
   "cell_type": "code",
   "execution_count": null,
   "id": "duplicate-vegetable",
   "metadata": {
    "collapsed": false,
    "jupyter": {
     "outputs_hidden": false
    },
    "pycharm": {
     "name": "#%%\n"
    }
   },
   "outputs": [],
   "source": []
  }
 ],
 "metadata": {
  "kernelspec": {
   "display_name": "Python 3",
   "language": "python",
   "name": "python3"
  },
  "language_info": {
   "codemirror_mode": {
    "name": "ipython",
    "version": 3
   },
   "file_extension": ".py",
   "mimetype": "text/x-python",
   "name": "python",
   "nbconvert_exporter": "python",
   "pygments_lexer": "ipython3",
   "version": "3.8.5"
  }
 },
 "nbformat": 4,
 "nbformat_minor": 5
}