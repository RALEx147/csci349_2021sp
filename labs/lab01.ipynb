{
 "cells": [
  {
   "cell_type": "markdown",
   "id": "confident-comparative",
   "metadata": {},
   "source": [
    "# lab 01 - Getting Started \n",
    "Name: Robb Alexander    \n",
    "Class: CSCI349    \n",
    "Semester: 2021SP    \n",
    "Instructor: Brian King"
   ]
  },
  {
   "cell_type": "markdown",
   "id": "powerful-brown",
   "metadata": {},
   "source": [
    "#### 2. Did you read the syllabus? All of it? Do you agree to abide by the cheating rules? Write a sentence clearly indicating your commitment to not cheating."
   ]
  },
  {
   "cell_type": "markdown",
   "id": "imperial-wells",
   "metadata": {},
   "source": []
  },
  {
   "cell_type": "markdown",
   "id": "proud-bible",
   "metadata": {},
   "source": [
    "#### 3. What are you hoping to get out of this course?"
   ]
  },
  {
   "cell_type": "markdown",
   "id": "consolidated-bundle",
   "metadata": {},
   "source": []
  },
  {
   "cell_type": "markdown",
   "id": "stainless-equation",
   "metadata": {},
   "source": [
    "#### 4. Print the Python version (available in sys package)"
   ]
  },
  {
   "cell_type": "code",
   "execution_count": 8,
   "id": "original-hygiene",
   "metadata": {},
   "outputs": [
    {
     "name": "stdout",
     "output_type": "stream",
     "text": [
      "3.8.5 (default, Sep  4 2020, 02:22:02) \n",
      "[Clang 10.0.0 ]\n"
     ]
    }
   ],
   "source": [
    "import sys\n",
    "print(sys.version)"
   ]
  },
  {
   "cell_type": "markdown",
   "id": "collectible-juvenile",
   "metadata": {},
   "source": [
    "#### 5. Create a Python list of 10000 random integers in the range 1 to 100, using the random package. Name the list x_list."
   ]
  },
  {
   "cell_type": "code",
   "execution_count": 20,
   "id": "bound-cherry",
   "metadata": {},
   "outputs": [],
   "source": [
    "import random\n",
    "x_list = [random.randint(1,100) for _ in range(10000)]"
   ]
  },
  {
   "cell_type": "markdown",
   "id": "brief-australia",
   "metadata": {},
   "source": [
    "#### 6. What is the minimum value of x_list? What is the max value? What is the mode?"
   ]
  },
  {
   "cell_type": "code",
   "execution_count": 22,
   "id": "presidential-progress",
   "metadata": {},
   "outputs": [
    {
     "name": "stdout",
     "output_type": "stream",
     "text": [
      "The minimum of x_list is: 1\n",
      "The maximum of x_list is: 100\n",
      "The mode of x_list is: 34\n"
     ]
    }
   ],
   "source": [
    "from statistics import mode\n",
    "print(\"The minimum of x_list is:\", min(x_list))\n",
    "print(\"The maximum of x_list is:\", max(x_list))\n",
    "print(\"The mode of x_list is:\", mode(x_list))"
   ]
  },
  {
   "cell_type": "markdown",
   "id": "popular-request",
   "metadata": {},
   "source": [
    "#### 7. Write a function to take a list of numbers as a parameter, and return the average of the list. Then, use your function to report the average value of x_list, printed as a float with 2 places of precision."
   ]
  },
  {
   "cell_type": "code",
   "execution_count": null,
   "id": "actual-jenny",
   "metadata": {},
   "outputs": [],
   "source": []
  },
  {
   "cell_type": "markdown",
   "id": "korean-bidding",
   "metadata": {},
   "source": [
    "#### 8. Create a list called x_hist that represents a histogram, i.e. a distribution of the numerical data, of x_list. Each entry in x_hist should contain the range of data in widths of 10. So, x_hist[0] represents the frequency of numbers between 1-10, x_hist[1] is the frequency of numbers between 11-20, and so on. Be sure to print x_hist at the end."
   ]
  },
  {
   "cell_type": "code",
   "execution_count": null,
   "id": "verified-belief",
   "metadata": {},
   "outputs": [],
   "source": []
  },
  {
   "cell_type": "markdown",
   "id": "bulgarian-consumption",
   "metadata": {},
   "source": [
    "#### 9. What is numpy? What are its strengths? Does it have any weaknesses?"
   ]
  },
  {
   "cell_type": "markdown",
   "id": "light-justice",
   "metadata": {},
   "source": []
  },
  {
   "cell_type": "markdown",
   "id": "accepting-partner",
   "metadata": {},
   "source": [
    "#### 10. Import the numpy package as np and print the numpy version"
   ]
  },
  {
   "cell_type": "code",
   "execution_count": null,
   "id": "confused-channel",
   "metadata": {},
   "outputs": [],
   "source": []
  },
  {
   "cell_type": "markdown",
   "id": "fantastic-yield",
   "metadata": {},
   "source": [
    "#### 11. What is the primary object type in numpy? Can it store data of different types? Discuss."
   ]
  },
  {
   "cell_type": "markdown",
   "id": "quick-university",
   "metadata": {},
   "source": []
  },
  {
   "cell_type": "markdown",
   "id": "separated-state",
   "metadata": {},
   "source": [
    "#### 12. Discuss the types of data available in numpy. You need not list every type. Just generalize, and discuss how the type system is different than the built-in types int and float in Python."
   ]
  },
  {
   "cell_type": "markdown",
   "id": "through-delaware",
   "metadata": {},
   "source": []
  },
  {
   "cell_type": "markdown",
   "id": "descending-provision",
   "metadata": {},
   "source": [
    "#### 13. Create a numpy array from x_list. Reassign it as x_list. Show the contents."
   ]
  },
  {
   "cell_type": "code",
   "execution_count": null,
   "id": "previous-remedy",
   "metadata": {},
   "outputs": [],
   "source": []
  },
  {
   "cell_type": "markdown",
   "id": "educated-spencer",
   "metadata": {},
   "source": [
    "#### 14. Redo the previous exercise, but set the data type of each value to 'float32'"
   ]
  },
  {
   "cell_type": "code",
   "execution_count": null,
   "id": "incorporated-fundamentals",
   "metadata": {},
   "outputs": [],
   "source": []
  },
  {
   "cell_type": "markdown",
   "id": "dress-secondary",
   "metadata": {},
   "source": [
    "#### 15. Create a length 10 integer array filled with zeros"
   ]
  },
  {
   "cell_type": "code",
   "execution_count": null,
   "id": "cooked-twist",
   "metadata": {},
   "outputs": [],
   "source": []
  },
  {
   "cell_type": "markdown",
   "id": "literary-pricing",
   "metadata": {},
   "source": [
    "#### 16. Create a float array of 3 rows and 4 columns, all initialized to one."
   ]
  },
  {
   "cell_type": "code",
   "execution_count": null,
   "id": "instructional-artist",
   "metadata": {},
   "outputs": [],
   "source": []
  },
  {
   "cell_type": "markdown",
   "id": "worst-bolivia",
   "metadata": {},
   "source": [
    "#### 17. Create an array of 20 values, evenly spaced between 1 and 3 (HINT – look at np.linspace)"
   ]
  },
  {
   "cell_type": "code",
   "execution_count": null,
   "id": "minus-payment",
   "metadata": {},
   "outputs": [],
   "source": []
  },
  {
   "cell_type": "markdown",
   "id": "prescribed-fifteen",
   "metadata": {},
   "source": [
    "#### 18. Set the numpy random seed to the value 12345, then create a 10 x 5 array of random integers on the interval [10, 20)"
   ]
  },
  {
   "cell_type": "code",
   "execution_count": null,
   "id": "material-paragraph",
   "metadata": {},
   "outputs": [],
   "source": []
  }
 ],
 "metadata": {
  "kernelspec": {
   "display_name": "Python 3",
   "language": "python",
   "name": "python3"
  },
  "language_info": {
   "codemirror_mode": {
    "name": "ipython",
    "version": 3
   },
   "file_extension": ".py",
   "mimetype": "text/x-python",
   "name": "python",
   "nbconvert_exporter": "python",
   "pygments_lexer": "ipython3",
   "version": "3.8.6"
  }
 },
 "nbformat": 4,
 "nbformat_minor": 5
}
