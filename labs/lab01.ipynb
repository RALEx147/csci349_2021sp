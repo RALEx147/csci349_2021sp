{
 "cells": [
  {
   "cell_type": "markdown",
   "id": "indirect-wagner",
   "metadata": {},
   "source": [
    "# lab 01 - Getting Started \n",
    "Name: Robb Alexander    \n",
    "Class: CSCI349    \n",
    "Semester: 2021SP    \n",
    "Instructor: Brian King"
   ]
  },
  {
   "cell_type": "markdown",
   "id": "grand-tomato",
   "metadata": {},
   "source": [
    "#### 2. Did you read the syllabus? All of it? Do you agree to abide by the cheating rules? Write a sentence clearly indicating your commitment to not cheating."
   ]
  },
  {
   "cell_type": "markdown",
   "id": "instant-toilet",
   "metadata": {},
   "source": []
  },
  {
   "cell_type": "markdown",
   "id": "greatest-locator",
   "metadata": {},
   "source": [
    "#### 3. What are you hoping to get out of this course?"
   ]
  },
  {
   "cell_type": "markdown",
   "id": "unable-dialogue",
   "metadata": {},
   "source": []
  },
  {
   "cell_type": "markdown",
   "id": "champion-registration",
   "metadata": {},
   "source": [
    "#### 4. Print the Python version (available in sys package)"
   ]
  },
  {
   "cell_type": "code",
   "execution_count": 8,
   "id": "selected-mongolia",
   "metadata": {},
   "outputs": [
    {
     "name": "stdout",
     "output_type": "stream",
     "text": [
      "3.8.5 (default, Sep  4 2020, 02:22:02) \n",
      "[Clang 10.0.0 ]\n"
     ]
    }
   ],
   "source": [
    "import sys\n",
    "print(sys.version)"
   ]
  },
  {
   "cell_type": "markdown",
   "id": "loaded-freedom",
   "metadata": {},
   "source": [
    "#### 5. Create a Python list of 10000 random integers in the range 1 to 100, using the random package. Name the list x_list."
   ]
  },
  {
   "cell_type": "code",
   "execution_count": 20,
   "id": "smooth-helping",
   "metadata": {},
   "outputs": [],
   "source": [
    "import random\n",
    "x_list = [random.randint(1,100) for _ in range(10000)]"
   ]
  },
  {
   "cell_type": "markdown",
   "id": "multiple-royalty",
   "metadata": {},
   "source": [
    "#### 6. What is the minimum value of x_list? What is the max value? What is the mode?"
   ]
  },
  {
   "cell_type": "code",
   "execution_count": 22,
   "id": "occasional-traveler",
   "metadata": {},
   "outputs": [
    {
     "name": "stdout",
     "output_type": "stream",
     "text": [
      "The minimum of x_list is: 1\n",
      "The maximum of x_list is: 100\n",
      "The mode of x_list is: 34\n"
     ]
    }
   ],
   "source": [
    "from statistics import mode\n",
    "print(\"The minimum of x_list is:\", min(x_list))\n",
    "print(\"The maximum of x_list is:\", max(x_list))\n",
    "print(\"The mode of x_list is:\", mode(x_list))"
   ]
  },
  {
   "cell_type": "code",
   "execution_count": null,
   "id": "exempt-chemistry",
   "metadata": {},
   "outputs": [],
   "source": []
  }
 ],
 "metadata": {
  "kernelspec": {
   "display_name": "Python 3",
   "language": "python",
   "name": "python3"
  },
  "language_info": {
   "codemirror_mode": {
    "name": "ipython",
    "version": 3
   },
   "file_extension": ".py",
   "mimetype": "text/x-python",
   "name": "python",
   "nbconvert_exporter": "python",
   "pygments_lexer": "ipython3",
   "version": "3.8.5"
  }
 },
 "nbformat": 4,
 "nbformat_minor": 5
}
