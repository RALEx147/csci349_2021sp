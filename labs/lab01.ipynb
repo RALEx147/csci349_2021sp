{
 "cells": [
  {
   "cell_type": "markdown",
   "id": "recovered-occurrence",
   "metadata": {},
   "source": [
    "# lab 01 - Getting Started \n",
    "Name: Robb Alexander\n",
    "\n",
    "Class: CSCI349\n",
    "\n",
    "Semester: 2021SP\n",
    "\n",
    "Instructor: Brian King\n"
   ]
  },
  {
   "cell_type": "markdown",
   "id": "forced-survivor",
   "metadata": {},
   "source": [
    "#### 2. Did you read the syllabus? All of it? Do you agree to abide by the cheating rules? Write a sentence clearly\n",
    "indicating your commitment to not cheating."
   ]
  },
  {
   "cell_type": "markdown",
   "id": "paperback-dance",
   "metadata": {},
   "source": [
    "#### 3. What are you hoping to get out of this course?"
   ]
  },
  {
   "cell_type": "markdown",
   "id": "protecting-contest",
   "metadata": {},
   "source": [
    "#### 4. Print the Python version (available in sys package)"
   ]
  },
  {
   "cell_type": "code",
   "execution_count": 3,
   "id": "expected-circulation",
   "metadata": {},
   "outputs": [
    {
     "name": "stdout",
     "output_type": "stream",
     "text": [
      "3.8.5 (default, Sep  4 2020, 02:22:02) \n",
      "[Clang 10.0.0 ]\n"
     ]
    }
   ],
   "source": [
    "import sys\n",
    "print(sys.version)"
   ]
  },
  {
   "cell_type": "markdown",
   "id": "varying-convertible",
   "metadata": {},
   "source": [
    "#### 5. Create a Python list of 10000 random integers in the range 1 to 100, using the random package. Name the\n",
    "list x_list."
   ]
  },
  {
   "cell_type": "markdown",
   "id": "operational-attendance",
   "metadata": {},
   "source": [
    "#### 6. What is the minimum value of x_list? What is the max value? What is the mode?"
   ]
  }
 ],
 "metadata": {
  "kernelspec": {
   "display_name": "Python 3",
   "language": "python",
   "name": "python3"
  },
  "language_info": {
   "codemirror_mode": {
    "name": "ipython",
    "version": 3
   },
   "file_extension": ".py",
   "mimetype": "text/x-python",
   "name": "python",
   "nbconvert_exporter": "python",
   "pygments_lexer": "ipython3",
   "version": "3.8.5"
  }
 },
 "nbformat": 4,
 "nbformat_minor": 5
}
