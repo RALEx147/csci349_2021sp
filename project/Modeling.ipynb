{
 "cells": [
  {
   "cell_type": "markdown",
   "metadata": {},
   "source": [
    "# Modeling\n",
    "\n",
    "Name: Robb Alexander and Ryan Bailis<br>\n",
    "Class: CSCI349<br>\n",
    "Semester: 2021SP<br>\n",
    "Instructor: Brian King<br>"
   ]
  },
  {
   "cell_type": "markdown",
   "metadata": {},
   "source": [
    "## Summary\n",
    "\n",
    "We tried a plethora of classifiers, and as text classification was one of the topics we didn't go over class, it gave us a chance to struggle with the whole process and overcome it. A large challenge that we faced during our process was the gridsearch for the CNN, where we ported everything over to our communal PC, which has more processing power than our laptops. This was an issue because of the implementation of the packages and issues with `n_jobs`/multiprocessing. We looked through a few research papers to even try to solve the issue with the data in the first place and find a way to adjust how the counting/vectorizing of the text itself could increase performance.\n",
    "\n",
    "Our choice to use nltk, and the power of nlp did increase the performace without much side effects, so we continued to use that model for all the classification. Every tweet is cleaned and also lemmantized. We learned the use of the Pipeline which is a great tool in sklearn, we used an ensemble method just to have some variety, we changed our initial `MultinomialNB` to `ComplementNB` after reading a research paper, and we upgraded tensorflow to have access to newer methods such as the powerful `TextVectorization` for the CNN.\n",
    "\n",
    "In the end, we found a similar result as the researcher on his paper. It is quite simple for almost all classifiers to see the difference between offensive and unoffensive, but with hatespeech being so complex and perfect data, we could only get so far. It took a while to realize that you do not need an accuracy or macro-f1 of 95% or above to be successful. What we have achieved, in its rudimentary state can already assist humans with the tasks of surveilling the web for hate, albeit it is not strong enough to be operating on its own. We also checked out how it would perform on the simpler dataset, which just combines hatespeech and offensive language.\n",
    "\n",
    "After finishing this, we took a look at how the researchers did it, our heatmaps look pretty similar except for one area, which is the neither category. We hypothesize that this is from the extra parameters they passed into the classifier on top of the text, e.g. sentiment, vocab, and readability, lengths, @s, link counts, syllables. We think this would help the neither category as `sentiment` is helpful to differentiate the positive meaning phrases.\n"
   ]
  },
  {
   "cell_type": "code",
   "execution_count": 1,
   "metadata": {
    "collapsed": false,
    "jupyter": {
     "outputs_hidden": false
    },
    "pycharm": {
     "name": "#%%\n"
    }
   },
   "outputs": [
    {
     "name": "stderr",
     "output_type": "stream",
     "text": [
      "Using TensorFlow backend.\n"
     ]
    }
   ],
   "source": [
    "import re\n",
    "import os\n",
    "import string\n",
    "from IPython.core.display import display\n",
    "\n",
    "import nltk\n",
    "import numpy as np\n",
    "import pandas as pd\n",
    "import seaborn as sns\n",
    "import tensorflow as tf\n",
    "import matplotlib.pyplot as plt\n",
    "\n",
    "from nltk.corpus import stopwords\n",
    "from nltk.stem import WordNetLemmatizer\n",
    "from keras.wrappers.scikit_learn import KerasClassifier\n",
    "from imblearn.under_sampling import RandomUnderSampler\n",
    "from imblearn.over_sampling import RandomOverSampler, SMOTE\n",
    "from tensorflow import keras\n",
    "from tensorflow.keras import layers\n",
    "from tensorflow.keras.layers import Embedding\n",
    "from tensorflow.keras.initializers import Constant\n",
    "from tensorflow.keras.layers.experimental.preprocessing import TextVectorization\n",
    "from sklearn.pipeline import Pipeline\n",
    "from sklearn.metrics import confusion_matrix\n",
    "from sklearn.metrics import classification_report\n",
    "from sklearn.linear_model import SGDClassifier\n",
    "from sklearn.preprocessing import LabelEncoder\n",
    "from sklearn.ensemble import ExtraTreesClassifier\n",
    "from sklearn.naive_bayes import ComplementNB, MultinomialNB\n",
    "from sklearn.feature_extraction.text import TfidfVectorizer, CountVectorizer, TfidfTransformer\n",
    "from sklearn.model_selection import train_test_split, cross_val_predict, GridSearchCV, cross_val_score"
   ]
  },
  {
   "cell_type": "markdown",
   "metadata": {
    "jupyter": {
     "outputs_hidden": false
    },
    "pycharm": {
     "name": "#%%\n"
    }
   },
   "source": [
    "## Read in data and clean text and remove stop words and lemmantize."
   ]
  },
  {
   "cell_type": "code",
   "execution_count": 2,
   "metadata": {
    "collapsed": false,
    "jupyter": {
     "outputs_hidden": false
    },
    "pycharm": {
     "name": "#%%\n"
    }
   },
   "outputs": [],
   "source": [
    "def remove_punctuation(tweet):\n",
    "    return tweet.translate(str.maketrans('', '', string.punctuation))\n",
    "\n",
    "def remove_link(tweet):\n",
    "    return re.sub(r'http\\S+', '', tweet)\n",
    "\n",
    "def remove_at(tweet):\n",
    "    return re.sub(r'@\\S+', '', tweet)\n",
    "\n",
    "def remove_symbols_emoji(tweet):\n",
    "    return re.sub(r'&.+?;', '', tweet)\n",
    "\n",
    "def remove_retweet(tweet):\n",
    "    return re.sub(r'RT', '', tweet)"
   ]
  },
  {
   "cell_type": "code",
   "execution_count": 3,
   "metadata": {
    "collapsed": false,
    "jupyter": {
     "outputs_hidden": false
    },
    "pycharm": {
     "name": "#%%\n"
    }
   },
   "outputs": [],
   "source": [
    "df = pd.read_csv(\"data/labeled_data.csv\", index_col=0)\n",
    "df = df[[\"class\", \"tweet\"]]\n",
    "\n",
    "df[\"tweet\"] = df[\"tweet\"].apply(remove_link)\n",
    "df[\"tweet\"] = df[\"tweet\"].apply(remove_at)\n",
    "df[\"tweet\"] = df[\"tweet\"].apply(remove_symbols_emoji)\n",
    "df[\"tweet\"] = df[\"tweet\"].apply(remove_retweet)\n",
    "df[\"tweet\"] = df[\"tweet\"].apply(remove_punctuation)\n",
    "df[\"tweet\"] = df[\"tweet\"].apply(str.lower)\n",
    "\n",
    "\n",
    "df[\"tweet\"] = df[\"tweet\"].apply(nltk.word_tokenize)\n",
    "sw = stopwords.words('english')\n",
    "sw = set(map(remove_punctuation, sw))\n",
    "wnl = WordNetLemmatizer()\n",
    "bad_lemmas = set(['as', 'ass', 'was'])\n",
    "df[\"tweet\"] = df[\"tweet\"].map(lambda x: [wnl.lemmatize(i) if i not in bad_lemmas else i for i in x])\n",
    "df[\"tweet\"] = df[\"tweet\"].map(lambda x: [i for i in x if i not in sw])\n",
    "df[\"tweet\"] = df[\"tweet\"].map(lambda x: ' '.join(x))\n",
    "\n",
    "\n",
    "class_map = { 0 : \"Hate Speech\",\n",
    "              1 : \"Offensive Language\",\n",
    "              2 : \"Neither\" }\n",
    "\n",
    "class_map_simple = { 0 : \"Unoffensive\",\n",
    "                     1 : \"Offensive\"}\n",
    "\n",
    "df_simple = df.copy()\n",
    "df_simple[\"class\"].replace({0: 1, 2: 0}, inplace=True)\n",
    "df_simple[\"class\"] = pd.Categorical(df_simple[\"class\"])\n",
    "df_simple[\"class\"].cat.rename_categories(class_map_simple, inplace=True)\n",
    "\n",
    "df[\"class\"] = pd.Categorical(df[\"class\"])\n",
    "df[\"class\"].cat.rename_categories(class_map, inplace=True)"
   ]
  },
  {
   "cell_type": "code",
   "execution_count": 4,
   "metadata": {
    "collapsed": false,
    "jupyter": {
     "outputs_hidden": false
    },
    "pycharm": {
     "name": "#%%\n"
    }
   },
   "outputs": [],
   "source": [
    "tweet = df[\"tweet\"].values\n",
    "y = df[\"class\"].values"
   ]
  },
  {
   "cell_type": "markdown",
   "metadata": {},
   "source": [
    "## ComplementNB"
   ]
  },
  {
   "cell_type": "code",
   "execution_count": 8,
   "metadata": {
    "collapsed": false,
    "jupyter": {
     "outputs_hidden": false
    },
    "pycharm": {
     "name": "#%%\n"
    }
   },
   "outputs": [
    {
     "name": "stdout",
     "output_type": "stream",
     "text": [
      "                    precision    recall  f1-score   support\n",
      "\n",
      "       Hate Speech      0.214     0.212     0.213      1430\n",
      "           Neither      0.717     0.711     0.714      4163\n",
      "Offensive Language      0.898     0.901     0.900     19190\n",
      "\n",
      "          accuracy                          0.829     24783\n",
      "         macro avg      0.610     0.608     0.609     24783\n",
      "      weighted avg      0.829     0.829     0.829     24783\n",
      "\n"
     ]
    }
   ],
   "source": [
    "tweet_train, tweet_test, y_train, y_test = train_test_split(df[\"tweet\"], df[\"class\"], test_size=0.25)\n",
    "\n",
    "vect = TfidfVectorizer(analyzer='word', token_pattern=r'\\w{1,}', stop_words='english', max_features=20000)\n",
    "vect_train = vect.fit_transform(df[\"tweet\"])\n",
    "\n",
    "clf = ComplementNB()\n",
    "y_pred = cross_val_predict(clf, vect_train, y, cv=10)\n",
    "print(classification_report(y, y_pred, digits=3))"
   ]
  },
  {
   "cell_type": "markdown",
   "metadata": {},
   "source": [
    "## SGDClassifier"
   ]
  },
  {
   "cell_type": "code",
   "execution_count": 9,
   "metadata": {
    "collapsed": false,
    "jupyter": {
     "outputs_hidden": false
    },
    "pycharm": {
     "name": "#%%\n"
    }
   },
   "outputs": [
    {
     "name": "stdout",
     "output_type": "stream",
     "text": [
      "                    precision    recall  f1-score   support\n",
      "\n",
      "       Hate Speech      0.530     0.137     0.218      1430\n",
      "           Neither      0.814     0.890     0.851      4163\n",
      "Offensive Language      0.925     0.957     0.941     19190\n",
      "\n",
      "          accuracy                          0.899     24783\n",
      "         macro avg      0.756     0.662     0.670     24783\n",
      "      weighted avg      0.884     0.899     0.884     24783\n",
      "\n"
     ]
    }
   ],
   "source": [
    "pipe = Pipeline([('vect', CountVectorizer()),\n",
    "               ('tfidf', TfidfTransformer()),\n",
    "               ('clf', SGDClassifier()),\n",
    "              ])\n",
    "\n",
    "y_pred = cross_val_predict(pipe, tweet, y, cv = 10)\n",
    "print(classification_report(y, y_pred, digits=3))"
   ]
  },
  {
   "cell_type": "markdown",
   "metadata": {},
   "source": [
    "## ExtraTreesClassifier (ensemble)"
   ]
  },
  {
   "cell_type": "code",
   "execution_count": 10,
   "metadata": {
    "collapsed": false,
    "jupyter": {
     "outputs_hidden": false
    },
    "pycharm": {
     "name": "#%%\n"
    }
   },
   "outputs": [],
   "source": [
    "encoder = LabelEncoder()\n",
    "y_train_enc = encoder.fit_transform(y_train)\n",
    "y_test_enc = encoder.fit_transform(y_test)\n",
    "\n",
    "vect = TfidfVectorizer(analyzer='word', token_pattern=r'\\w{1,}', stop_words='english', max_features=20000)\n",
    "vect.fit(tweet_train)\n",
    "vect_train = vect.transform(tweet_train)\n",
    "vect_test = vect.transform(tweet_test)\n",
    "\n",
    "clf = ExtraTreesClassifier(n_estimators=300)\n",
    "clf.fit(vect_train, y_train_enc)\n",
    "\n",
    "y_pred_ens = clf.predict(vect_test)"
   ]
  },
  {
   "cell_type": "code",
   "execution_count": 11,
   "metadata": {
    "collapsed": false,
    "jupyter": {
     "outputs_hidden": false
    },
    "pycharm": {
     "name": "#%%\n"
    }
   },
   "outputs": [
    {
     "name": "stdout",
     "output_type": "stream",
     "text": [
      "                    precision    recall  f1-score   support\n",
      "\n",
      "       Hate Speech      0.464     0.149     0.225       343\n",
      "           Neither      0.835     0.855     0.845      1015\n",
      "Offensive Language      0.921     0.960     0.940      4838\n",
      "\n",
      "          accuracy                          0.898      6196\n",
      "         macro avg      0.740     0.655     0.670      6196\n",
      "      weighted avg      0.881     0.898     0.885      6196\n",
      "\n"
     ]
    }
   ],
   "source": [
    "y_pred_ensrep = pd.Series(y_pred_ens)\n",
    "y_pred_ensrep = y_pred_ensrep.replace({1:2,2:1})\n",
    "\n",
    "print(classification_report(y_test, y_pred_ensrep.replace(class_map), digits=3))"
   ]
  },
  {
   "cell_type": "markdown",
   "metadata": {},
   "source": [
    "### SGD GridSearch"
   ]
  },
  {
   "cell_type": "code",
   "execution_count": 12,
   "metadata": {
    "collapsed": false,
    "jupyter": {
     "outputs_hidden": false
    },
    "pycharm": {
     "name": "#%%\n"
    }
   },
   "outputs": [
    {
     "name": "stdout",
     "output_type": "stream",
     "text": [
      "Fitting 10 folds for each of 20 candidates, totalling 200 fits\n"
     ]
    },
    {
     "data": {
      "text/plain": [
       "{'clf__alpha': 0.0001, 'clf__loss': 'modified_huber'}"
      ]
     },
     "metadata": {},
     "output_type": "display_data"
    },
    {
     "data": {
      "text/plain": [
       "0.9605643737434942"
      ]
     },
     "metadata": {},
     "output_type": "display_data"
    },
    {
     "data": {
      "text/plain": [
       "0.8971889456584625"
      ]
     },
     "metadata": {},
     "output_type": "display_data"
    },
    {
     "data": {
      "text/plain": [
       "'-------'"
      ]
     },
     "metadata": {},
     "output_type": "display_data"
    },
    {
     "data": {
      "text/plain": [
       "{'clf__alpha': 5e-05, 'clf__loss': 'modified_huber'}"
      ]
     },
     "metadata": {},
     "output_type": "display_data"
    },
    {
     "data": {
      "text/plain": [
       "0.972898092651859"
      ]
     },
     "metadata": {},
     "output_type": "display_data"
    },
    {
     "data": {
      "text/plain": [
       "0.8929926312420621"
      ]
     },
     "metadata": {},
     "output_type": "display_data"
    },
    {
     "data": {
      "text/plain": [
       "'-------'"
      ]
     },
     "metadata": {},
     "output_type": "display_data"
    },
    {
     "data": {
      "text/plain": [
       "{'clf__alpha': 0.00015, 'clf__loss': 'modified_huber'}"
      ]
     },
     "metadata": {},
     "output_type": "display_data"
    },
    {
     "data": {
      "text/plain": [
       "0.9512075976010166"
      ]
     },
     "metadata": {},
     "output_type": "display_data"
    },
    {
     "data": {
      "text/plain": [
       "0.8972696721874562"
      ]
     },
     "metadata": {},
     "output_type": "display_data"
    },
    {
     "data": {
      "text/plain": [
       "'-------'"
      ]
     },
     "metadata": {},
     "output_type": "display_data"
    },
    {
     "data": {
      "text/plain": [
       "{'clf__alpha': 0.0002, 'clf__loss': 'modified_huber'}"
      ]
     },
     "metadata": {},
     "output_type": "display_data"
    },
    {
     "data": {
      "text/plain": [
       "0.9445498127080642"
      ]
     },
     "metadata": {},
     "output_type": "display_data"
    },
    {
     "data": {
      "text/plain": [
       "0.8972696884662481"
      ]
     },
     "metadata": {},
     "output_type": "display_data"
    },
    {
     "data": {
      "text/plain": [
       "'-------'"
      ]
     },
     "metadata": {},
     "output_type": "display_data"
    },
    {
     "data": {
      "text/plain": [
       "{'clf__alpha': 5e-05, 'clf__loss': 'hinge'}"
      ]
     },
     "metadata": {},
     "output_type": "display_data"
    },
    {
     "data": {
      "text/plain": [
       "0.9453657865216059"
      ]
     },
     "metadata": {},
     "output_type": "display_data"
    },
    {
     "data": {
      "text/plain": [
       "0.9000943844353912"
      ]
     },
     "metadata": {},
     "output_type": "display_data"
    },
    {
     "data": {
      "text/plain": [
       "'-------'"
      ]
     },
     "metadata": {},
     "output_type": "display_data"
    }
   ],
   "source": [
    "param_grid = {\n",
    "  'clf__loss' : [\"hinge\",\"modified_huber\"],\n",
    "  'clf__alpha' : [round(i, 5) for i in np.linspace(0.00005,0.0005, 10)],\n",
    "}\n",
    "\n",
    "grid = GridSearchCV(pipe, param_grid, return_train_score=True, cv=10, scoring=[\"accuracy\",\"f1_macro\"], refit=\"f1_macro\", n_jobs=8, verbose=10)\n",
    "\n",
    "grid_result = grid.fit(tweet, y)\n",
    "\n",
    "df_grid_results = pd.DataFrame(grid_result.cv_results_)\n",
    "df_grid_results = df_grid_results.sort_values(by=\"mean_test_f1_macro\", ascending=False)[:5][[\"params\", \"mean_train_accuracy\",\"mean_test_accuracy\"]]\n",
    "\n",
    "for i, row in df_grid_results.iterrows():\n",
    "    display(row['params'])\n",
    "    display(row['mean_train_accuracy'])\n",
    "    display(row['mean_test_accuracy'])\n",
    "    display(\"-------\")"
   ]
  },
  {
   "cell_type": "code",
   "execution_count": 14,
   "metadata": {
    "collapsed": false,
    "jupyter": {
     "outputs_hidden": false
    },
    "pycharm": {
     "name": "#%%\n"
    }
   },
   "outputs": [
    {
     "name": "stdout",
     "output_type": "stream",
     "text": [
      "                    precision    recall  f1-score   support\n",
      "\n",
      "       Hate Speech      0.529     0.239     0.329      1430\n",
      "           Neither      0.833     0.854     0.843      4163\n",
      "Offensive Language      0.923     0.956     0.939     19190\n",
      "\n",
      "          accuracy                          0.897     24783\n",
      "         macro avg      0.762     0.683     0.704     24783\n",
      "      weighted avg      0.885     0.897     0.888     24783\n",
      "\n"
     ]
    },
    {
     "data": {
      "text/plain": [
       "<AxesSubplot:>"
      ]
     },
     "execution_count": 14,
     "metadata": {},
     "output_type": "execute_result"
    },
    {
     "data": {
      "image/png": "[encoded data removed]",
      "text/plain": [
       "<Figure size 432x288 with 2 Axes>"
      ]
     },
     "metadata": {
      "needs_background": "light"
     },
     "output_type": "display_data"
    }
   ],
   "source": [
    "pipe = Pipeline([('vect', CountVectorizer()),\n",
    "               ('tfidf', TfidfTransformer()),\n",
    "               ('clf', SGDClassifier(loss=\"modified_huber\", alpha=0.0001)),\n",
    "              ])\n",
    "\n",
    "y_pred = cross_val_predict(pipe, tweet, y, cv = 10)\n",
    "print(classification_report(y, y_pred, digits=3))\n",
    "sns.heatmap(confusion_matrix(y, y_pred, normalize=\"pred\", labels=list(class_map.values())).T, square = True, annot=True, yticklabels=list(class_map.values()), xticklabels=list(class_map.values()))"
   ]
  },
  {
   "cell_type": "markdown",
   "metadata": {},
   "source": [
    "## Custom prediction"
   ]
  },
  {
   "cell_type": "code",
   "execution_count": 15,
   "metadata": {
    "collapsed": false,
    "jupyter": {
     "outputs_hidden": false
    },
    "pycharm": {
     "name": "#%%\n"
    }
   },
   "outputs": [
    {
     "data": {
      "text/plain": [
       "'Offensive Language'"
      ]
     },
     "execution_count": 15,
     "metadata": {},
     "output_type": "execute_result"
    }
   ],
   "source": [
    "# !!!! \n",
    "string = [\"i love my mom\"]\n",
    "pipe.fit(tweet, y)\n",
    "pipe.predict(string)[0]"
   ]
  },
  {
   "cell_type": "markdown",
   "metadata": {},
   "source": [
    "## Convolutional neural network with semantic embedding\n",
    "\n",
    "### Data vectorize"
   ]
  },
  {
   "cell_type": "code",
   "execution_count": 23,
   "metadata": {
    "collapsed": false,
    "jupyter": {
     "outputs_hidden": false
    },
    "pycharm": {
     "name": "#%%\n"
    }
   },
   "outputs": [],
   "source": [
    "vectorizer = TextVectorization(max_tokens=20000, output_sequence_length=200)\n",
    "text_ds = tf.data.Dataset.from_tensor_slices(tweet).batch(128)\n",
    "vectorizer.adapt(text_ds)"
   ]
  },
  {
   "cell_type": "markdown",
   "metadata": {},
   "source": [
    "### Use gl0ve file to improve word relations (apriori) ~1gb"
   ]
  },
  {
   "cell_type": "code",
   "execution_count": null,
   "metadata": {
    "collapsed": false,
    "jupyter": {
     "outputs_hidden": false
    },
    "pycharm": {
     "name": "#%%\n"
    }
   },
   "outputs": [],
   "source": [
    "%%time\n",
    "embeddings_index = {}\n",
    "\n",
    "with open(os.path.join(os.getcwd(), 'glove.twitter.27B.100d.txt'), encoding=\"utf8\") as f:\n",
    "    for line in f:\n",
    "        word, coefs = line.split(maxsplit=1)\n",
    "        coefs = np.fromstring(coefs, \"f\", sep=\" \")\n",
    "        embeddings_index[word] = coefs"
   ]
  },
  {
   "cell_type": "markdown",
   "metadata": {},
   "source": [
    "### Build matrix manually "
   ]
  },
  {
   "cell_type": "code",
   "execution_count": 25,
   "metadata": {
    "collapsed": false,
    "jupyter": {
     "outputs_hidden": false
    },
    "pycharm": {
     "name": "#%%\n"
    }
   },
   "outputs": [],
   "source": [
    "voc = vectorizer.get_vocabulary()\n",
    "num_tokens = len(voc) + 2\n",
    "embedding_dim = 100\n",
    "hits = 0\n",
    "misses = 0\n",
    "word_index = dict(zip(voc, range(len(voc))))\n",
    "\n",
    "embedding_matrix = np.zeros((num_tokens, embedding_dim))\n",
    "for word, i in word_index.items():\n",
    "    embedding_vector = embeddings_index.get(word)\n",
    "    if embedding_vector is not None:\n",
    "        embedding_matrix[i] = embedding_vector"
   ]
  },
  {
   "cell_type": "markdown",
   "metadata": {},
   "source": [
    "### Build model (standard CNN text classification structure)"
   ]
  },
  {
   "cell_type": "code",
   "execution_count": 26,
   "metadata": {
    "collapsed": false,
    "jupyter": {
     "outputs_hidden": false
    },
    "pycharm": {
     "name": "#%%\n"
    }
   },
   "outputs": [
    {
     "name": "stdout",
     "output_type": "stream",
     "text": [
      "Model: \"functional_1\"\n",
      "_________________________________________________________________\n",
      "Layer (type)                 Output Shape              Param #   \n",
      "=================================================================\n",
      "input_1 (InputLayer)         [(None, None)]            0         \n",
      "_________________________________________________________________\n",
      "embedding (Embedding)        (None, None, 100)         2000200   \n",
      "_________________________________________________________________\n",
      "conv1d (Conv1D)              (None, None, 128)         64128     \n",
      "_________________________________________________________________\n",
      "max_pooling1d (MaxPooling1D) (None, None, 128)         0         \n",
      "_________________________________________________________________\n",
      "conv1d_1 (Conv1D)            (None, None, 128)         82048     \n",
      "_________________________________________________________________\n",
      "max_pooling1d_1 (MaxPooling1 (None, None, 128)         0         \n",
      "_________________________________________________________________\n",
      "conv1d_2 (Conv1D)            (None, None, 128)         82048     \n",
      "_________________________________________________________________\n",
      "global_max_pooling1d (Global (None, 128)               0         \n",
      "_________________________________________________________________\n",
      "dense (Dense)                (None, 128)               16512     \n",
      "_________________________________________________________________\n",
      "dropout (Dropout)            (None, 128)               0         \n",
      "_________________________________________________________________\n",
      "dense_1 (Dense)              (None, 3)                 387       \n",
      "=================================================================\n",
      "Total params: 2,245,323\n",
      "Trainable params: 245,123\n",
      "Non-trainable params: 2,000,200\n",
      "_________________________________________________________________\n"
     ]
    }
   ],
   "source": [
    "embedding_layer = Embedding(\n",
    "    num_tokens,\n",
    "    embedding_dim,\n",
    "    embeddings_initializer=Constant(embedding_matrix),\n",
    "    trainable=False,\n",
    ")\n",
    "\n",
    "int_sequences_input = keras.Input(shape=(None,), dtype=\"int64\")\n",
    "embedded_sequences = embedding_layer(int_sequences_input)\n",
    "x = layers.Conv1D(128, 5, activation=\"relu\")(embedded_sequences)\n",
    "x = layers.MaxPooling1D(5)(x)\n",
    "x = layers.Conv1D(128, 5, activation=\"relu\")(x)\n",
    "x = layers.MaxPooling1D(5)(x)\n",
    "x = layers.Conv1D(128, 5, activation=\"relu\")(x)\n",
    "x = layers.GlobalMaxPooling1D()(x)\n",
    "x = layers.Dense(128, activation=\"relu\")(x)\n",
    "x = layers.Dropout(0.5)(x)\n",
    "preds = layers.Dense(3, activation=\"softmax\")(x)\n",
    "model = keras.Model(int_sequences_input, preds)\n",
    "model.summary()"
   ]
  },
  {
   "cell_type": "markdown",
   "metadata": {
    "jupyter": {
     "outputs_hidden": false
    },
    "pycharm": {
     "name": "#%%\n"
    }
   },
   "source": [
    "### Vectorize input data and train"
   ]
  },
  {
   "cell_type": "code",
   "execution_count": 28,
   "metadata": {
    "collapsed": false,
    "jupyter": {
     "outputs_hidden": false
    },
    "pycharm": {
     "name": "#%%\n"
    }
   },
   "outputs": [
    {
     "name": "stdout",
     "output_type": "stream",
     "text": [
      "Epoch 1/20\n",
      "146/146 [==============================] - 11s 73ms/step - loss: 0.4098 - acc: 0.8584 - val_loss: 0.3074 - val_acc: 0.9012\n",
      "Epoch 2/20\n",
      "146/146 [==============================] - 10s 72ms/step - loss: 0.2808 - acc: 0.9023 - val_loss: 0.2897 - val_acc: 0.8990\n",
      "Epoch 3/20\n",
      "146/146 [==============================] - 11s 72ms/step - loss: 0.2275 - acc: 0.9188 - val_loss: 0.2832 - val_acc: 0.8943\n",
      "Epoch 4/20\n",
      "146/146 [==============================] - 10s 72ms/step - loss: 0.1830 - acc: 0.9351 - val_loss: 0.2995 - val_acc: 0.8911\n",
      "Epoch 5/20\n",
      "146/146 [==============================] - 10s 72ms/step - loss: 0.1460 - acc: 0.9471 - val_loss: 0.3420 - val_acc: 0.8920\n",
      "Epoch 6/20\n",
      "146/146 [==============================] - 10s 72ms/step - loss: 0.1148 - acc: 0.9586 - val_loss: 0.3677 - val_acc: 0.8762\n",
      "Epoch 7/20\n",
      "146/146 [==============================] - 10s 72ms/step - loss: 0.0868 - acc: 0.9698 - val_loss: 0.4420 - val_acc: 0.8823\n",
      "Epoch 8/20\n",
      "146/146 [==============================] - 10s 72ms/step - loss: 0.0920 - acc: 0.9675 - val_loss: 0.4135 - val_acc: 0.8820\n",
      "Epoch 9/20\n",
      "146/146 [==============================] - 10s 72ms/step - loss: 0.0641 - acc: 0.9777 - val_loss: 0.5083 - val_acc: 0.8798\n",
      "Epoch 10/20\n",
      "146/146 [==============================] - 10s 72ms/step - loss: 0.0608 - acc: 0.9793 - val_loss: 0.5464 - val_acc: 0.8896\n",
      "Epoch 11/20\n",
      "146/146 [==============================] - 11s 72ms/step - loss: 0.0457 - acc: 0.9842 - val_loss: 0.5983 - val_acc: 0.8891\n",
      "Epoch 12/20\n",
      "146/146 [==============================] - 10s 72ms/step - loss: 0.0591 - acc: 0.9808 - val_loss: 0.5629 - val_acc: 0.8864\n",
      "Epoch 13/20\n",
      "146/146 [==============================] - 10s 72ms/step - loss: 0.0365 - acc: 0.9872 - val_loss: 0.6291 - val_acc: 0.8749\n",
      "Epoch 14/20\n",
      "146/146 [==============================] - 10s 72ms/step - loss: 0.0372 - acc: 0.9867 - val_loss: 0.7503 - val_acc: 0.8862\n",
      "Epoch 15/20\n",
      "146/146 [==============================] - 10s 72ms/step - loss: 0.0309 - acc: 0.9893 - val_loss: 0.7712 - val_acc: 0.8941\n",
      "Epoch 16/20\n",
      "146/146 [==============================] - 10s 72ms/step - loss: 0.0354 - acc: 0.9877 - val_loss: 0.7299 - val_acc: 0.8833\n",
      "Epoch 17/20\n",
      "146/146 [==============================] - 11s 72ms/step - loss: 0.0452 - acc: 0.9849 - val_loss: 0.6858 - val_acc: 0.8928\n",
      "Epoch 18/20\n",
      "146/146 [==============================] - 11s 72ms/step - loss: 0.0319 - acc: 0.9885 - val_loss: 0.8059 - val_acc: 0.8904\n",
      "Epoch 19/20\n",
      "146/146 [==============================] - 10s 72ms/step - loss: 0.0238 - acc: 0.9921 - val_loss: 0.7601 - val_acc: 0.8849\n",
      "Epoch 20/20\n",
      "146/146 [==============================] - 10s 72ms/step - loss: 0.0239 - acc: 0.9909 - val_loss: 0.8022 - val_acc: 0.8896\n"
     ]
    }
   ],
   "source": [
    "x_train = vectorizer(np.array([[s] for s in tweet_train])).numpy()\n",
    "x_test = vectorizer(np.array([[s] for s in tweet_test])).numpy()\n",
    "\n",
    "y_train = np.array(y_train)\n",
    "y_test = np.array(y_test)\n",
    "\n",
    "model.compile(\n",
    "    loss=\"sparse_categorical_crossentropy\", optimizer=\"adam\", metrics=[\"acc\"]\n",
    ")\n",
    "history = model.fit(x_train, y_train, batch_size=128, epochs=20, validation_data=(x_test, y_test))"
   ]
  },
  {
   "cell_type": "markdown",
   "metadata": {},
   "source": [
    "### Model fit history plot"
   ]
  },
  {
   "cell_type": "code",
   "execution_count": 267,
   "metadata": {
    "collapsed": false,
    "jupyter": {
     "outputs_hidden": false
    },
    "pycharm": {
     "name": "#%%\n"
    }
   },
   "outputs": [
    {
     "data": {
      "image/png": "[encoded data removed]",
      "text/plain": [
       "<Figure size 576x360 with 1 Axes>"
      ]
     },
     "metadata": {
      "needs_background": "light"
     },
     "output_type": "display_data"
    }
   ],
   "source": [
    "pd.DataFrame(history.history).plot(\n",
    " figsize=(8, 5),grid=True,\n",
    " ylim=(0,1), ylabel=\"Loss\")\n",
    "plt.title('model accuracy and model loss')\n",
    "plt.show()"
   ]
  },
  {
   "cell_type": "markdown",
   "metadata": {},
   "source": [
    "### Custom input"
   ]
  },
  {
   "cell_type": "code",
   "execution_count": 259,
   "metadata": {
    "collapsed": false,
    "jupyter": {
     "outputs_hidden": false
    },
    "pycharm": {
     "name": "#%%\n"
    }
   },
   "outputs": [],
   "source": [
    "string_input = keras.Input(shape=(1,), dtype=\"string\")\n",
    "preds = model(vectorizer(string_input))\n",
    "custominput_model = keras.Model(string_input, preds)"
   ]
  },
  {
   "cell_type": "markdown",
   "metadata": {},
   "source": [
    "#### The semantic embedding made a huge improvement in determining deeper meanings of the `Neither` category"
   ]
  },
  {
   "cell_type": "code",
   "execution_count": 266,
   "metadata": {
    "collapsed": false,
    "jupyter": {
     "outputs_hidden": false
    },
    "pycharm": {
     "name": "#%%\n"
    }
   },
   "outputs": [
    {
     "name": "stdout",
     "output_type": "stream",
     "text": [
      "[0.0105102  0.07716451 0.9123253 ]\n"
     ]
    },
    {
     "data": {
      "text/plain": [
       "'Neither'"
      ]
     },
     "execution_count": 266,
     "metadata": {},
     "output_type": "execute_result"
    }
   ],
   "source": [
    "probabilities = custominput_model.predict(\n",
    "    [[\"i love my mom\"]]\n",
    ")\n",
    "\n",
    "print(probabilities[0])\n",
    "class_map[np.argmax(probabilities[0])]"
   ]
  },
  {
   "cell_type": "markdown",
   "metadata": {},
   "source": [
    "## CNN GridSearch\n",
    "This is needed because we used a windows PC for more power. Non-unix machines output functional models as probabilities, so `predict` needs to be altered to call `argmax`"
   ]
  },
  {
   "cell_type": "code",
   "execution_count": 53,
   "metadata": {
    "collapsed": false,
    "jupyter": {
     "outputs_hidden": false
    },
    "pycharm": {
     "name": "#%%\n"
    }
   },
   "outputs": [],
   "source": [
    "# https://scikit-learn.org/stable/developers/develop.html#specific-models\n",
    "class KerasClassifierFunc(KerasClassifier):\n",
    "    \n",
    "    def decision_function(self, X):\n",
    "        return self.model.predict(X)\n",
    "    \n",
    "    def predict(self, X, **kwargs):\n",
    "        D = self.decision_function(X)\n",
    "        return np.argmax(D, axis=1)"
   ]
  },
  {
   "cell_type": "code",
   "execution_count": 33,
   "metadata": {
    "collapsed": false,
    "jupyter": {
     "outputs_hidden": false
    },
    "pycharm": {
     "name": "#%%\n"
    }
   },
   "outputs": [],
   "source": [
    "def create_keras_model(num_filters, kernel_size, ls, op):\n",
    "    int_sequences_input = keras.Input(shape=(None,), dtype=\"int64\")\n",
    "    embedded_sequences = embedding_layer(int_sequences_input)\n",
    "    x = layers.Conv1D(num_filters, kernel_size, activation=\"relu\")(embedded_sequences)\n",
    "    x = layers.MaxPooling1D(5)(x)\n",
    "    x = layers.Conv1D(num_filters, 5, activation=\"relu\")(x)\n",
    "    x = layers.MaxPooling1D(5)(x)\n",
    "    x = layers.Conv1D(num_filters, 5, activation=\"relu\")(x)\n",
    "    x = layers.GlobalMaxPooling1D()(x)\n",
    "    x = layers.Dense(num_filters, activation=\"relu\")(x)\n",
    "    x = layers.Dropout(0.5)(x)\n",
    "    preds = layers.Dense(3, activation=\"softmax\")(x)\n",
    "    model = keras.Model(int_sequences_input, preds)\n",
    "    model.compile(\n",
    "        loss=ls, optimizer=op, metrics=[\"acc\"]\n",
    "    )\n",
    "    return model"
   ]
  },
  {
   "cell_type": "code",
   "execution_count": 34,
   "metadata": {
    "collapsed": false,
    "jupyter": {
     "outputs_hidden": false
    },
    "pycharm": {
     "is_executing": true,
     "name": "#%%\n"
    }
   },
   "outputs": [],
   "source": [
    "clf = KerasClassifierFunc(build_fn=create_keras_model,  verbose=0)\n",
    "\n",
    "param_grid = { 'num_filters' : [32, 64, 128],\n",
    "               'kernel_size' : [3, 5, 7],\n",
    "               'ls' : ['sparse_categorical_crossentropy'],\n",
    "               'op' : ['rmsprop','SGD'],\n",
    "               'epochs':[10, 15, 20],\n",
    "               'batch_size' : [128,256]\n",
    "             } "
   ]
  },
  {
   "cell_type": "code",
   "execution_count": 35,
   "metadata": {
    "collapsed": false,
    "jupyter": {
     "outputs_hidden": false
    },
    "pycharm": {
     "is_executing": true,
     "name": "#%%\n"
    }
   },
   "outputs": [
    {
     "name": "stdout",
     "output_type": "stream",
     "text": [
      "Fitting 5 folds for each of 108 candidates, totalling 540 fits\n",
      "[CV 1/5; 1/108] START batch_size=128, epochs=10, kernel_size=3, ls=sparse_categorical_crossentropy, num_filters=32, op=rmsprop\n",
      "[CV 1/5; 1/108] END batch_size=128, epochs=10, kernel_size=3, ls=sparse_categorical_crossentropy, num_filters=32, op=rmsprop; accuracy: (train=0.936, test=0.869) f1_macro: (train=0.641, test=0.583) total time=  35.9s\n",
      "[CV 2/5; 1/108] START batch_size=128, epochs=10, kernel_size=3, ls=sparse_categorical_crossentropy, num_filters=32, op=rmsprop\n",
      "[CV 2/5; 1/108] END batch_size=128, epochs=10, kernel_size=3, ls=sparse_categorical_crossentropy, num_filters=32, op=rmsprop; accuracy: (train=0.932, test=0.857) f1_macro: (train=0.650, test=0.585) total time=  35.3s\n",
      "[CV 3/5; 1/108] START batch_size=128, epochs=10, kernel_size=3, ls=sparse_categorical_crossentropy, num_filters=32, op=rmsprop\n",
      "[CV 3/5; 1/108] END batch_size=128, epochs=10, kernel_size=3, ls=sparse_categorical_crossentropy, num_filters=32, op=rmsprop; accuracy: (train=0.930, test=0.916) f1_macro: (train=0.689, test=0.635) total time=  35.3s\n",
      "[CV 4/5; 1/108] START batch_size=128, epochs=10, kernel_size=3, ls=sparse_categorical_crossentropy, num_filters=32, op=rmsprop\n",
      "[CV 4/5; 1/108] END batch_size=128, epochs=10, kernel_size=3, ls=sparse_categorical_crossentropy, num_filters=32, op=rmsprop; accuracy: (train=0.926, test=0.910) f1_macro: (train=0.645, test=0.604) total time=  35.4s\n",
      "[CV 5/5; 1/108] START batch_size=128, epochs=10, kernel_size=3, ls=sparse_categorical_crossentropy, num_filters=32, op=rmsprop\n",
      "[CV 5/5; 1/108] END batch_size=128, epochs=10, kernel_size=3, ls=sparse_categorical_crossentropy, num_filters=32, op=rmsprop; accuracy: (train=0.937, test=0.911) f1_macro: (train=0.763, test=0.678) total time=  37.1s\n",
      "[CV 1/5; 2/108] START batch_size=128, epochs=10, kernel_size=3, ls=sparse_categorical_crossentropy, num_filters=32, op=SGD\n",
      "[CV 1/5; 2/108] END batch_size=128, epochs=10, kernel_size=3, ls=sparse_categorical_crossentropy, num_filters=32, op=SGD; accuracy: (train=0.887, test=0.844) f1_macro: (train=0.577, test=0.548) total time=  36.0s\n",
      "[CV 2/5; 2/108] START batch_size=128, epochs=10, kernel_size=3, ls=sparse_categorical_crossentropy, num_filters=32, op=SGD\n",
      "[CV 2/5; 2/108] END batch_size=128, epochs=10, kernel_size=3, ls=sparse_categorical_crossentropy, num_filters=32, op=SGD; accuracy: (train=0.891, test=0.853) f1_macro: (train=0.581, test=0.568) total time=  34.9s\n",
      "[CV 3/5; 2/108] START batch_size=128, epochs=10, kernel_size=3, ls=sparse_categorical_crossentropy, num_filters=32, op=SGD\n",
      "[CV 3/5; 2/108] END batch_size=128, epochs=10, kernel_size=3, ls=sparse_categorical_crossentropy, num_filters=32, op=SGD; accuracy: (train=0.875, test=0.898) f1_macro: (train=0.572, test=0.575) total time=  35.5s\n",
      "[CV 4/5; 2/108] START batch_size=128, epochs=10, kernel_size=3, ls=sparse_categorical_crossentropy, num_filters=32, op=SGD\n",
      "[CV 4/5; 2/108] END batch_size=128, epochs=10, kernel_size=3, ls=sparse_categorical_crossentropy, num_filters=32, op=SGD; accuracy: (train=0.874, test=0.903) f1_macro: (train=0.567, test=0.588) total time=  34.7s\n",
      "[CV 5/5; 2/108] START batch_size=128, epochs=10, kernel_size=3, ls=sparse_categorical_crossentropy, num_filters=32, op=SGD\n",
      "[CV 5/5; 2/108] END batch_size=128, epochs=10, kernel_size=3, ls=sparse_categorical_crossentropy, num_filters=32, op=SGD; accuracy: (train=0.879, test=0.894) f1_macro: (train=0.575, test=0.577) total time=  35.0s\n",
      "[CV 1/5; 3/108] START batch_size=128, epochs=10, kernel_size=3, ls=sparse_categorical_crossentropy, num_filters=64, op=rmsprop\n",
      "[CV 1/5; 3/108] END batch_size=128, epochs=10, kernel_size=3, ls=sparse_categorical_crossentropy, num_filters=64, op=rmsprop; accuracy: (train=0.923, test=0.860) f1_macro: (train=0.749, test=0.680) total time=  59.2s\n",
      "[CV 2/5; 3/108] START batch_size=128, epochs=10, kernel_size=3, ls=sparse_categorical_crossentropy, num_filters=64, op=rmsprop\n",
      "[CV 2/5; 3/108] END batch_size=128, epochs=10, kernel_size=3, ls=sparse_categorical_crossentropy, num_filters=64, op=rmsprop; accuracy: (train=0.959, test=0.868) f1_macro: (train=0.852, test=0.682) total time=  58.1s\n",
      "[CV 3/5; 3/108] START batch_size=128, epochs=10, kernel_size=3, ls=sparse_categorical_crossentropy, num_filters=64, op=rmsprop\n",
      "[CV 3/5; 3/108] END batch_size=128, epochs=10, kernel_size=3, ls=sparse_categorical_crossentropy, num_filters=64, op=rmsprop; accuracy: (train=0.958, test=0.911) f1_macro: (train=0.887, test=0.706) total time=  57.1s\n",
      "[CV 4/5; 3/108] START batch_size=128, epochs=10, kernel_size=3, ls=sparse_categorical_crossentropy, num_filters=64, op=rmsprop\n",
      "[CV 4/5; 3/108] END batch_size=128, epochs=10, kernel_size=3, ls=sparse_categorical_crossentropy, num_filters=64, op=rmsprop; accuracy: (train=0.958, test=0.898) f1_macro: (train=0.896, test=0.698) total time=  56.5s\n",
      "[CV 5/5; 3/108] START batch_size=128, epochs=10, kernel_size=3, ls=sparse_categorical_crossentropy, num_filters=64, op=rmsprop\n",
      "[CV 5/5; 3/108] END batch_size=128, epochs=10, kernel_size=3, ls=sparse_categorical_crossentropy, num_filters=64, op=rmsprop; accuracy: (train=0.958, test=0.909) f1_macro: (train=0.879, test=0.707) total time=  59.5s\n",
      "[CV 1/5; 4/108] START batch_size=128, epochs=10, kernel_size=3, ls=sparse_categorical_crossentropy, num_filters=64, op=SGD\n",
      "[CV 1/5; 4/108] END batch_size=128, epochs=10, kernel_size=3, ls=sparse_categorical_crossentropy, num_filters=64, op=SGD; accuracy: (train=0.892, test=0.850) f1_macro: (train=0.582, test=0.556) total time=  58.4s\n",
      "[CV 2/5; 4/108] START batch_size=128, epochs=10, kernel_size=3, ls=sparse_categorical_crossentropy, num_filters=64, op=SGD\n",
      "[CV 2/5; 4/108] END batch_size=128, epochs=10, kernel_size=3, ls=sparse_categorical_crossentropy, num_filters=64, op=SGD; accuracy: (train=0.892, test=0.853) f1_macro: (train=0.579, test=0.564) total time=  58.2s\n",
      "[CV 3/5; 4/108] START batch_size=128, epochs=10, kernel_size=3, ls=sparse_categorical_crossentropy, num_filters=64, op=SGD\n",
      "[CV 3/5; 4/108] END batch_size=128, epochs=10, kernel_size=3, ls=sparse_categorical_crossentropy, num_filters=64, op=SGD; accuracy: (train=0.881, test=0.901) f1_macro: (train=0.580, test=0.581) total time=  57.3s\n",
      "[CV 4/5; 4/108] START batch_size=128, epochs=10, kernel_size=3, ls=sparse_categorical_crossentropy, num_filters=64, op=SGD\n",
      "[CV 4/5; 4/108] END batch_size=128, epochs=10, kernel_size=3, ls=sparse_categorical_crossentropy, num_filters=64, op=SGD; accuracy: (train=0.881, test=0.903) f1_macro: (train=0.578, test=0.590) total time=  57.5s\n",
      "[CV 5/5; 4/108] START batch_size=128, epochs=10, kernel_size=3, ls=sparse_categorical_crossentropy, num_filters=64, op=SGD\n",
      "[CV 5/5; 4/108] END batch_size=128, epochs=10, kernel_size=3, ls=sparse_categorical_crossentropy, num_filters=64, op=SGD; accuracy: (train=0.886, test=0.898) f1_macro: (train=0.585, test=0.583) total time=  57.7s\n",
      "[CV 1/5; 5/108] START batch_size=128, epochs=10, kernel_size=3, ls=sparse_categorical_crossentropy, num_filters=128, op=rmsprop\n",
      "[CV 1/5; 5/108] END batch_size=128, epochs=10, kernel_size=3, ls=sparse_categorical_crossentropy, num_filters=128, op=rmsprop; accuracy: (train=0.980, test=0.859) f1_macro: (train=0.944, test=0.725) total time= 1.5min\n",
      "[CV 2/5; 5/108] START batch_size=128, epochs=10, kernel_size=3, ls=sparse_categorical_crossentropy, num_filters=128, op=rmsprop\n",
      "[CV 2/5; 5/108] END batch_size=128, epochs=10, kernel_size=3, ls=sparse_categorical_crossentropy, num_filters=128, op=rmsprop; accuracy: (train=0.979, test=0.854) f1_macro: (train=0.941, test=0.719) total time= 1.5min\n",
      "[CV 3/5; 5/108] START batch_size=128, epochs=10, kernel_size=3, ls=sparse_categorical_crossentropy, num_filters=128, op=rmsprop\n",
      "[CV 3/5; 5/108] END batch_size=128, epochs=10, kernel_size=3, ls=sparse_categorical_crossentropy, num_filters=128, op=rmsprop; accuracy: (train=0.976, test=0.906) f1_macro: (train=0.939, test=0.717) total time= 1.5min\n",
      "[CV 4/5; 5/108] START batch_size=128, epochs=10, kernel_size=3, ls=sparse_categorical_crossentropy, num_filters=128, op=rmsprop\n",
      "[CV 4/5; 5/108] END batch_size=128, epochs=10, kernel_size=3, ls=sparse_categorical_crossentropy, num_filters=128, op=rmsprop; accuracy: (train=0.978, test=0.910) f1_macro: (train=0.940, test=0.691) total time= 1.5min\n",
      "[CV 5/5; 5/108] START batch_size=128, epochs=10, kernel_size=3, ls=sparse_categorical_crossentropy, num_filters=128, op=rmsprop\n",
      "[CV 5/5; 5/108] END batch_size=128, epochs=10, kernel_size=3, ls=sparse_categorical_crossentropy, num_filters=128, op=rmsprop; accuracy: (train=0.968, test=0.891) f1_macro: (train=0.923, test=0.713) total time= 1.5min\n",
      "[CV 1/5; 6/108] START batch_size=128, epochs=10, kernel_size=3, ls=sparse_categorical_crossentropy, num_filters=128, op=SGD\n",
      "[CV 1/5; 6/108] END batch_size=128, epochs=10, kernel_size=3, ls=sparse_categorical_crossentropy, num_filters=128, op=SGD; accuracy: (train=0.898, test=0.854) f1_macro: (train=0.590, test=0.562) total time= 1.5min\n",
      "[CV 2/5; 6/108] START batch_size=128, epochs=10, kernel_size=3, ls=sparse_categorical_crossentropy, num_filters=128, op=SGD\n",
      "[CV 2/5; 6/108] END batch_size=128, epochs=10, kernel_size=3, ls=sparse_categorical_crossentropy, num_filters=128, op=SGD; accuracy: (train=0.897, test=0.861) f1_macro: (train=0.588, test=0.575) total time= 1.5min\n",
      "[CV 3/5; 6/108] START batch_size=128, epochs=10, kernel_size=3, ls=sparse_categorical_crossentropy, num_filters=128, op=SGD\n",
      "[CV 3/5; 6/108] END batch_size=128, epochs=10, kernel_size=3, ls=sparse_categorical_crossentropy, num_filters=128, op=SGD; accuracy: (train=0.888, test=0.907) f1_macro: (train=0.588, test=0.587) total time= 1.4min\n",
      "[CV 4/5; 6/108] START batch_size=128, epochs=10, kernel_size=3, ls=sparse_categorical_crossentropy, num_filters=128, op=SGD\n",
      "[CV 4/5; 6/108] END batch_size=128, epochs=10, kernel_size=3, ls=sparse_categorical_crossentropy, num_filters=128, op=SGD; accuracy: (train=0.885, test=0.905) f1_macro: (train=0.583, test=0.592) total time= 1.4min\n",
      "[CV 5/5; 6/108] START batch_size=128, epochs=10, kernel_size=3, ls=sparse_categorical_crossentropy, num_filters=128, op=SGD\n",
      "[CV 5/5; 6/108] END batch_size=128, epochs=10, kernel_size=3, ls=sparse_categorical_crossentropy, num_filters=128, op=SGD; accuracy: (train=0.886, test=0.900) f1_macro: (train=0.584, test=0.586) total time= 1.4min\n",
      "[CV 1/5; 7/108] START batch_size=128, epochs=10, kernel_size=5, ls=sparse_categorical_crossentropy, num_filters=32, op=rmsprop\n",
      "[CV 1/5; 7/108] END batch_size=128, epochs=10, kernel_size=5, ls=sparse_categorical_crossentropy, num_filters=32, op=rmsprop; accuracy: (train=0.933, test=0.862) f1_macro: (train=0.652, test=0.584) total time=  43.6s\n",
      "[CV 2/5; 7/108] START batch_size=128, epochs=10, kernel_size=5, ls=sparse_categorical_crossentropy, num_filters=32, op=rmsprop\n",
      "[CV 2/5; 7/108] END batch_size=128, epochs=10, kernel_size=5, ls=sparse_categorical_crossentropy, num_filters=32, op=rmsprop; accuracy: (train=0.943, test=0.870) f1_macro: (train=0.768, test=0.683) total time=  42.9s\n",
      "[CV 3/5; 7/108] START batch_size=128, epochs=10, kernel_size=5, ls=sparse_categorical_crossentropy, num_filters=32, op=rmsprop\n",
      "[CV 3/5; 7/108] END batch_size=128, epochs=10, kernel_size=5, ls=sparse_categorical_crossentropy, num_filters=32, op=rmsprop; accuracy: (train=0.942, test=0.908) f1_macro: (train=0.788, test=0.665) total time=  42.7s\n",
      "[CV 4/5; 7/108] START batch_size=128, epochs=10, kernel_size=5, ls=sparse_categorical_crossentropy, num_filters=32, op=rmsprop\n",
      "[CV 4/5; 7/108] END batch_size=128, epochs=10, kernel_size=5, ls=sparse_categorical_crossentropy, num_filters=32, op=rmsprop; accuracy: (train=0.949, test=0.905) f1_macro: (train=0.844, test=0.680) total time=  42.0s\n",
      "[CV 5/5; 7/108] START batch_size=128, epochs=10, kernel_size=5, ls=sparse_categorical_crossentropy, num_filters=32, op=rmsprop\n",
      "[CV 5/5; 7/108] END batch_size=128, epochs=10, kernel_size=5, ls=sparse_categorical_crossentropy, num_filters=32, op=rmsprop; accuracy: (train=0.942, test=0.907) f1_macro: (train=0.772, test=0.646) total time=  41.8s\n",
      "[CV 1/5; 8/108] START batch_size=128, epochs=10, kernel_size=5, ls=sparse_categorical_crossentropy, num_filters=32, op=SGD\n",
      "[CV 1/5; 8/108] END batch_size=128, epochs=10, kernel_size=5, ls=sparse_categorical_crossentropy, num_filters=32, op=SGD; accuracy: (train=0.894, test=0.849) f1_macro: (train=0.586, test=0.555) total time=  43.7s\n",
      "[CV 2/5; 8/108] START batch_size=128, epochs=10, kernel_size=5, ls=sparse_categorical_crossentropy, num_filters=32, op=SGD\n",
      "[CV 2/5; 8/108] END batch_size=128, epochs=10, kernel_size=5, ls=sparse_categorical_crossentropy, num_filters=32, op=SGD; accuracy: (train=0.891, test=0.850) f1_macro: (train=0.580, test=0.563) total time=  43.1s\n",
      "[CV 3/5; 8/108] START batch_size=128, epochs=10, kernel_size=5, ls=sparse_categorical_crossentropy, num_filters=32, op=SGD\n",
      "[CV 3/5; 8/108] END batch_size=128, epochs=10, kernel_size=5, ls=sparse_categorical_crossentropy, num_filters=32, op=SGD; accuracy: (train=0.881, test=0.902) f1_macro: (train=0.580, test=0.581) total time=  43.1s\n",
      "[CV 4/5; 8/108] START batch_size=128, epochs=10, kernel_size=5, ls=sparse_categorical_crossentropy, num_filters=32, op=SGD\n",
      "[CV 4/5; 8/108] END batch_size=128, epochs=10, kernel_size=5, ls=sparse_categorical_crossentropy, num_filters=32, op=SGD; accuracy: (train=0.874, test=0.899) f1_macro: (train=0.567, test=0.583) total time=  42.0s\n",
      "[CV 5/5; 8/108] START batch_size=128, epochs=10, kernel_size=5, ls=sparse_categorical_crossentropy, num_filters=32, op=SGD\n",
      "[CV 5/5; 8/108] END batch_size=128, epochs=10, kernel_size=5, ls=sparse_categorical_crossentropy, num_filters=32, op=SGD; accuracy: (train=0.871, test=0.887) f1_macro: (train=0.564, test=0.566) total time=  42.1s\n",
      "[CV 1/5; 9/108] START batch_size=128, epochs=10, kernel_size=5, ls=sparse_categorical_crossentropy, num_filters=64, op=rmsprop\n",
      "[CV 1/5; 9/108] END batch_size=128, epochs=10, kernel_size=5, ls=sparse_categorical_crossentropy, num_filters=64, op=rmsprop; accuracy: (train=0.969, test=0.867) f1_macro: (train=0.891, test=0.696) total time= 1.1min\n",
      "[CV 2/5; 9/108] START batch_size=128, epochs=10, kernel_size=5, ls=sparse_categorical_crossentropy, num_filters=64, op=rmsprop\n",
      "[CV 2/5; 9/108] END batch_size=128, epochs=10, kernel_size=5, ls=sparse_categorical_crossentropy, num_filters=64, op=rmsprop; accuracy: (train=0.975, test=0.865) f1_macro: (train=0.926, test=0.694) total time= 1.2min\n",
      "[CV 3/5; 9/108] START batch_size=128, epochs=10, kernel_size=5, ls=sparse_categorical_crossentropy, num_filters=64, op=rmsprop\n",
      "[CV 3/5; 9/108] END batch_size=128, epochs=10, kernel_size=5, ls=sparse_categorical_crossentropy, num_filters=64, op=rmsprop; accuracy: (train=0.943, test=0.870) f1_macro: (train=0.877, test=0.687) total time= 1.1min\n",
      "[CV 4/5; 9/108] START batch_size=128, epochs=10, kernel_size=5, ls=sparse_categorical_crossentropy, num_filters=64, op=rmsprop\n",
      "[CV 4/5; 9/108] END batch_size=128, epochs=10, kernel_size=5, ls=sparse_categorical_crossentropy, num_filters=64, op=rmsprop; accuracy: (train=0.971, test=0.912) f1_macro: (train=0.920, test=0.714) total time= 1.1min\n",
      "[CV 5/5; 9/108] START batch_size=128, epochs=10, kernel_size=5, ls=sparse_categorical_crossentropy, num_filters=64, op=rmsprop\n",
      "[CV 5/5; 9/108] END batch_size=128, epochs=10, kernel_size=5, ls=sparse_categorical_crossentropy, num_filters=64, op=rmsprop; accuracy: (train=0.951, test=0.908) f1_macro: (train=0.803, test=0.644) total time= 1.1min\n",
      "[CV 1/5; 10/108] START batch_size=128, epochs=10, kernel_size=5, ls=sparse_categorical_crossentropy, num_filters=64, op=SGD\n",
      "[CV 1/5; 10/108] END batch_size=128, epochs=10, kernel_size=5, ls=sparse_categorical_crossentropy, num_filters=64, op=SGD; accuracy: (train=0.895, test=0.855) f1_macro: (train=0.586, test=0.563) total time= 1.1min\n",
      "[CV 2/5; 10/108] START batch_size=128, epochs=10, kernel_size=5, ls=sparse_categorical_crossentropy, num_filters=64, op=SGD\n",
      "[CV 2/5; 10/108] END batch_size=128, epochs=10, kernel_size=5, ls=sparse_categorical_crossentropy, num_filters=64, op=SGD; accuracy: (train=0.895, test=0.852) f1_macro: (train=0.585, test=0.565) total time= 1.1min\n",
      "[CV 3/5; 10/108] START batch_size=128, epochs=10, kernel_size=5, ls=sparse_categorical_crossentropy, num_filters=64, op=SGD\n",
      "[CV 3/5; 10/108] END batch_size=128, epochs=10, kernel_size=5, ls=sparse_categorical_crossentropy, num_filters=64, op=SGD; accuracy: (train=0.881, test=0.900) f1_macro: (train=0.579, test=0.579) total time= 1.1min\n",
      "[CV 4/5; 10/108] START batch_size=128, epochs=10, kernel_size=5, ls=sparse_categorical_crossentropy, num_filters=64, op=SGD\n",
      "[CV 4/5; 10/108] END batch_size=128, epochs=10, kernel_size=5, ls=sparse_categorical_crossentropy, num_filters=64, op=SGD; accuracy: (train=0.883, test=0.903) f1_macro: (train=0.579, test=0.588) total time= 1.1min\n",
      "[CV 5/5; 10/108] START batch_size=128, epochs=10, kernel_size=5, ls=sparse_categorical_crossentropy, num_filters=64, op=SGD\n",
      "[CV 5/5; 10/108] END batch_size=128, epochs=10, kernel_size=5, ls=sparse_categorical_crossentropy, num_filters=64, op=SGD; accuracy: (train=0.881, test=0.892) f1_macro: (train=0.579, test=0.577) total time= 1.1min\n",
      "[CV 1/5; 11/108] START batch_size=128, epochs=10, kernel_size=5, ls=sparse_categorical_crossentropy, num_filters=128, op=rmsprop\n",
      "[CV 1/5; 11/108] END batch_size=128, epochs=10, kernel_size=5, ls=sparse_categorical_crossentropy, num_filters=128, op=rmsprop; accuracy: (train=0.959, test=0.826) f1_macro: (train=0.899, test=0.714) total time= 1.7min\n",
      "[CV 2/5; 11/108] START batch_size=128, epochs=10, kernel_size=5, ls=sparse_categorical_crossentropy, num_filters=128, op=rmsprop\n",
      "[CV 2/5; 11/108] END batch_size=128, epochs=10, kernel_size=5, ls=sparse_categorical_crossentropy, num_filters=128, op=rmsprop; accuracy: (train=0.986, test=0.868) f1_macro: (train=0.958, test=0.691) total time= 1.7min\n",
      "[CV 3/5; 11/108] START batch_size=128, epochs=10, kernel_size=5, ls=sparse_categorical_crossentropy, num_filters=128, op=rmsprop\n",
      "[CV 3/5; 11/108] END batch_size=128, epochs=10, kernel_size=5, ls=sparse_categorical_crossentropy, num_filters=128, op=rmsprop; accuracy: (train=0.978, test=0.903) f1_macro: (train=0.948, test=0.703) total time= 1.7min\n",
      "[CV 4/5; 11/108] START batch_size=128, epochs=10, kernel_size=5, ls=sparse_categorical_crossentropy, num_filters=128, op=rmsprop\n",
      "[CV 4/5; 11/108] END batch_size=128, epochs=10, kernel_size=5, ls=sparse_categorical_crossentropy, num_filters=128, op=rmsprop; accuracy: (train=0.955, test=0.913) f1_macro: (train=0.826, test=0.614) total time= 1.7min\n",
      "[CV 5/5; 11/108] START batch_size=128, epochs=10, kernel_size=5, ls=sparse_categorical_crossentropy, num_filters=128, op=rmsprop\n",
      "[CV 5/5; 11/108] END batch_size=128, epochs=10, kernel_size=5, ls=sparse_categorical_crossentropy, num_filters=128, op=rmsprop; accuracy: (train=0.984, test=0.896) f1_macro: (train=0.964, test=0.692) total time= 1.7min\n",
      "[CV 1/5; 12/108] START batch_size=128, epochs=10, kernel_size=5, ls=sparse_categorical_crossentropy, num_filters=128, op=SGD\n",
      "[CV 1/5; 12/108] END batch_size=128, epochs=10, kernel_size=5, ls=sparse_categorical_crossentropy, num_filters=128, op=SGD; accuracy: (train=0.895, test=0.854) f1_macro: (train=0.586, test=0.561) total time= 1.7min\n",
      "[CV 2/5; 12/108] START batch_size=128, epochs=10, kernel_size=5, ls=sparse_categorical_crossentropy, num_filters=128, op=SGD\n",
      "[CV 2/5; 12/108] END batch_size=128, epochs=10, kernel_size=5, ls=sparse_categorical_crossentropy, num_filters=128, op=SGD; accuracy: (train=0.901, test=0.858) f1_macro: (train=0.592, test=0.573) total time= 1.7min\n",
      "[CV 3/5; 12/108] START batch_size=128, epochs=10, kernel_size=5, ls=sparse_categorical_crossentropy, num_filters=128, op=SGD\n",
      "[CV 3/5; 12/108] END batch_size=128, epochs=10, kernel_size=5, ls=sparse_categorical_crossentropy, num_filters=128, op=SGD; accuracy: (train=0.889, test=0.910) f1_macro: (train=0.589, test=0.592) total time= 1.7min\n",
      "[CV 4/5; 12/108] START batch_size=128, epochs=10, kernel_size=5, ls=sparse_categorical_crossentropy, num_filters=128, op=SGD\n",
      "[CV 4/5; 12/108] END batch_size=128, epochs=10, kernel_size=5, ls=sparse_categorical_crossentropy, num_filters=128, op=SGD; accuracy: (train=0.886, test=0.905) f1_macro: (train=0.585, test=0.591) total time= 1.7min\n",
      "[CV 5/5; 12/108] START batch_size=128, epochs=10, kernel_size=5, ls=sparse_categorical_crossentropy, num_filters=128, op=SGD\n",
      "[CV 5/5; 12/108] END batch_size=128, epochs=10, kernel_size=5, ls=sparse_categorical_crossentropy, num_filters=128, op=SGD; accuracy: (train=0.888, test=0.898) f1_macro: (train=0.587, test=0.584) total time= 1.7min\n",
      "[CV 1/5; 13/108] START batch_size=128, epochs=10, kernel_size=7, ls=sparse_categorical_crossentropy, num_filters=32, op=rmsprop\n",
      "[CV 1/5; 13/108] END batch_size=128, epochs=10, kernel_size=7, ls=sparse_categorical_crossentropy, num_filters=32, op=rmsprop; accuracy: (train=0.957, test=0.866) f1_macro: (train=0.827, test=0.688) total time=  58.4s\n",
      "[CV 2/5; 13/108] START batch_size=128, epochs=10, kernel_size=7, ls=sparse_categorical_crossentropy, num_filters=32, op=rmsprop\n",
      "[CV 2/5; 13/108] END batch_size=128, epochs=10, kernel_size=7, ls=sparse_categorical_crossentropy, num_filters=32, op=rmsprop; accuracy: (train=0.964, test=0.843) f1_macro: (train=0.892, test=0.680) total time=  58.0s\n",
      "[CV 3/5; 13/108] START batch_size=128, epochs=10, kernel_size=7, ls=sparse_categorical_crossentropy, num_filters=32, op=rmsprop\n",
      "[CV 3/5; 13/108] END batch_size=128, epochs=10, kernel_size=7, ls=sparse_categorical_crossentropy, num_filters=32, op=rmsprop; accuracy: (train=0.937, test=0.918) f1_macro: (train=0.734, test=0.645) total time=  57.7s\n",
      "[CV 4/5; 13/108] START batch_size=128, epochs=10, kernel_size=7, ls=sparse_categorical_crossentropy, num_filters=32, op=rmsprop\n",
      "[CV 4/5; 13/108] END batch_size=128, epochs=10, kernel_size=7, ls=sparse_categorical_crossentropy, num_filters=32, op=rmsprop; accuracy: (train=0.945, test=0.904) f1_macro: (train=0.823, test=0.672) total time=  59.1s\n",
      "[CV 5/5; 13/108] START batch_size=128, epochs=10, kernel_size=7, ls=sparse_categorical_crossentropy, num_filters=32, op=rmsprop\n",
      "[CV 5/5; 13/108] END batch_size=128, epochs=10, kernel_size=7, ls=sparse_categorical_crossentropy, num_filters=32, op=rmsprop; accuracy: (train=0.953, test=0.903) f1_macro: (train=0.867, test=0.693) total time=  58.5s\n",
      "[CV 1/5; 14/108] START batch_size=128, epochs=10, kernel_size=7, ls=sparse_categorical_crossentropy, num_filters=32, op=SGD\n",
      "[CV 1/5; 14/108] END batch_size=128, epochs=10, kernel_size=7, ls=sparse_categorical_crossentropy, num_filters=32, op=SGD; accuracy: (train=0.891, test=0.852) f1_macro: (train=0.581, test=0.558) total time=  57.8s\n",
      "[CV 2/5; 14/108] START batch_size=128, epochs=10, kernel_size=7, ls=sparse_categorical_crossentropy, num_filters=32, op=SGD\n",
      "[CV 2/5; 14/108] END batch_size=128, epochs=10, kernel_size=7, ls=sparse_categorical_crossentropy, num_filters=32, op=SGD; accuracy: (train=0.891, test=0.853) f1_macro: (train=0.581, test=0.566) total time=  57.9s\n",
      "[CV 3/5; 14/108] START batch_size=128, epochs=10, kernel_size=7, ls=sparse_categorical_crossentropy, num_filters=32, op=SGD\n",
      "[CV 3/5; 14/108] END batch_size=128, epochs=10, kernel_size=7, ls=sparse_categorical_crossentropy, num_filters=32, op=SGD; accuracy: (train=0.883, test=0.900) f1_macro: (train=0.581, test=0.577) total time=  57.8s\n",
      "[CV 4/5; 14/108] START batch_size=128, epochs=10, kernel_size=7, ls=sparse_categorical_crossentropy, num_filters=32, op=SGD\n",
      "[CV 4/5; 14/108] END batch_size=128, epochs=10, kernel_size=7, ls=sparse_categorical_crossentropy, num_filters=32, op=SGD; accuracy: (train=0.876, test=0.902) f1_macro: (train=0.572, test=0.588) total time=  57.7s\n",
      "[CV 5/5; 14/108] START batch_size=128, epochs=10, kernel_size=7, ls=sparse_categorical_crossentropy, num_filters=32, op=SGD\n",
      "[CV 5/5; 14/108] END batch_size=128, epochs=10, kernel_size=7, ls=sparse_categorical_crossentropy, num_filters=32, op=SGD; accuracy: (train=0.879, test=0.891) f1_macro: (train=0.573, test=0.571) total time=  58.6s\n",
      "[CV 1/5; 15/108] START batch_size=128, epochs=10, kernel_size=7, ls=sparse_categorical_crossentropy, num_filters=64, op=rmsprop\n",
      "[CV 1/5; 15/108] END batch_size=128, epochs=10, kernel_size=7, ls=sparse_categorical_crossentropy, num_filters=64, op=rmsprop; accuracy: (train=0.973, test=0.860) f1_macro: (train=0.921, test=0.703) total time= 1.3min\n",
      "[CV 2/5; 15/108] START batch_size=128, epochs=10, kernel_size=7, ls=sparse_categorical_crossentropy, num_filters=64, op=rmsprop\n",
      "[CV 2/5; 15/108] END batch_size=128, epochs=10, kernel_size=7, ls=sparse_categorical_crossentropy, num_filters=64, op=rmsprop; accuracy: (train=0.980, test=0.861) f1_macro: (train=0.940, test=0.697) total time= 1.3min\n",
      "[CV 3/5; 15/108] START batch_size=128, epochs=10, kernel_size=7, ls=sparse_categorical_crossentropy, num_filters=64, op=rmsprop\n",
      "[CV 3/5; 15/108] END batch_size=128, epochs=10, kernel_size=7, ls=sparse_categorical_crossentropy, num_filters=64, op=rmsprop; accuracy: (train=0.978, test=0.903) f1_macro: (train=0.940, test=0.682) total time= 1.3min\n",
      "[CV 4/5; 15/108] START batch_size=128, epochs=10, kernel_size=7, ls=sparse_categorical_crossentropy, num_filters=64, op=rmsprop\n",
      "[CV 4/5; 15/108] END batch_size=128, epochs=10, kernel_size=7, ls=sparse_categorical_crossentropy, num_filters=64, op=rmsprop; accuracy: (train=0.979, test=0.909) f1_macro: (train=0.944, test=0.693) total time= 1.3min\n",
      "[CV 5/5; 15/108] START batch_size=128, epochs=10, kernel_size=7, ls=sparse_categorical_crossentropy, num_filters=64, op=rmsprop\n",
      "[CV 5/5; 15/108] END batch_size=128, epochs=10, kernel_size=7, ls=sparse_categorical_crossentropy, num_filters=64, op=rmsprop; accuracy: (train=0.954, test=0.897) f1_macro: (train=0.829, test=0.619) total time= 1.3min\n",
      "[CV 1/5; 16/108] START batch_size=128, epochs=10, kernel_size=7, ls=sparse_categorical_crossentropy, num_filters=64, op=SGD\n",
      "[CV 1/5; 16/108] END batch_size=128, epochs=10, kernel_size=7, ls=sparse_categorical_crossentropy, num_filters=64, op=SGD; accuracy: (train=0.899, test=0.854) f1_macro: (train=0.591, test=0.561) total time= 1.3min\n",
      "[CV 2/5; 16/108] START batch_size=128, epochs=10, kernel_size=7, ls=sparse_categorical_crossentropy, num_filters=64, op=SGD\n",
      "[CV 2/5; 16/108] END batch_size=128, epochs=10, kernel_size=7, ls=sparse_categorical_crossentropy, num_filters=64, op=SGD; accuracy: (train=0.894, test=0.854) f1_macro: (train=0.584, test=0.567) total time= 1.3min\n",
      "[CV 3/5; 16/108] START batch_size=128, epochs=10, kernel_size=7, ls=sparse_categorical_crossentropy, num_filters=64, op=SGD\n",
      "[CV 3/5; 16/108] END batch_size=128, epochs=10, kernel_size=7, ls=sparse_categorical_crossentropy, num_filters=64, op=SGD; accuracy: (train=0.882, test=0.899) f1_macro: (train=0.579, test=0.577) total time= 1.3min\n",
      "[CV 4/5; 16/108] START batch_size=128, epochs=10, kernel_size=7, ls=sparse_categorical_crossentropy, num_filters=64, op=SGD\n",
      "[CV 4/5; 16/108] END batch_size=128, epochs=10, kernel_size=7, ls=sparse_categorical_crossentropy, num_filters=64, op=SGD; accuracy: (train=0.877, test=0.903) f1_macro: (train=0.573, test=0.590) total time= 1.3min\n",
      "[CV 5/5; 16/108] START batch_size=128, epochs=10, kernel_size=7, ls=sparse_categorical_crossentropy, num_filters=64, op=SGD\n",
      "[CV 5/5; 16/108] END batch_size=128, epochs=10, kernel_size=7, ls=sparse_categorical_crossentropy, num_filters=64, op=SGD; accuracy: (train=0.885, test=0.900) f1_macro: (train=0.584, test=0.585) total time= 1.3min\n",
      "[CV 1/5; 17/108] START batch_size=128, epochs=10, kernel_size=7, ls=sparse_categorical_crossentropy, num_filters=128, op=rmsprop\n",
      "[CV 1/5; 17/108] END batch_size=128, epochs=10, kernel_size=7, ls=sparse_categorical_crossentropy, num_filters=128, op=rmsprop; accuracy: (train=0.988, test=0.873) f1_macro: (train=0.965, test=0.714) total time= 1.9min\n",
      "[CV 2/5; 17/108] START batch_size=128, epochs=10, kernel_size=7, ls=sparse_categorical_crossentropy, num_filters=128, op=rmsprop\n",
      "[CV 2/5; 17/108] END batch_size=128, epochs=10, kernel_size=7, ls=sparse_categorical_crossentropy, num_filters=128, op=rmsprop; accuracy: (train=0.990, test=0.863) f1_macro: (train=0.973, test=0.698) total time= 2.0min\n",
      "[CV 3/5; 17/108] START batch_size=128, epochs=10, kernel_size=7, ls=sparse_categorical_crossentropy, num_filters=128, op=rmsprop\n",
      "[CV 3/5; 17/108] END batch_size=128, epochs=10, kernel_size=7, ls=sparse_categorical_crossentropy, num_filters=128, op=rmsprop; accuracy: (train=0.984, test=0.906) f1_macro: (train=0.960, test=0.699) total time= 2.0min\n",
      "[CV 4/5; 17/108] START batch_size=128, epochs=10, kernel_size=7, ls=sparse_categorical_crossentropy, num_filters=128, op=rmsprop\n",
      "[CV 4/5; 17/108] END batch_size=128, epochs=10, kernel_size=7, ls=sparse_categorical_crossentropy, num_filters=128, op=rmsprop; accuracy: (train=0.983, test=0.910) f1_macro: (train=0.954, test=0.677) total time= 2.0min\n",
      "[CV 5/5; 17/108] START batch_size=128, epochs=10, kernel_size=7, ls=sparse_categorical_crossentropy, num_filters=128, op=rmsprop\n",
      "[CV 5/5; 17/108] END batch_size=128, epochs=10, kernel_size=7, ls=sparse_categorical_crossentropy, num_filters=128, op=rmsprop; accuracy: (train=0.984, test=0.907) f1_macro: (train=0.956, test=0.681) total time= 1.9min\n",
      "[CV 1/5; 18/108] START batch_size=128, epochs=10, kernel_size=7, ls=sparse_categorical_crossentropy, num_filters=128, op=SGD\n",
      "[CV 1/5; 18/108] END batch_size=128, epochs=10, kernel_size=7, ls=sparse_categorical_crossentropy, num_filters=128, op=SGD; accuracy: (train=0.899, test=0.857) f1_macro: (train=0.591, test=0.566) total time= 1.9min\n",
      "[CV 2/5; 18/108] START batch_size=128, epochs=10, kernel_size=7, ls=sparse_categorical_crossentropy, num_filters=128, op=SGD\n",
      "[CV 2/5; 18/108] END batch_size=128, epochs=10, kernel_size=7, ls=sparse_categorical_crossentropy, num_filters=128, op=SGD; accuracy: (train=0.898, test=0.854) f1_macro: (train=0.589, test=0.568) total time= 1.9min\n",
      "[CV 3/5; 18/108] START batch_size=128, epochs=10, kernel_size=7, ls=sparse_categorical_crossentropy, num_filters=128, op=SGD\n",
      "[CV 3/5; 18/108] END batch_size=128, epochs=10, kernel_size=7, ls=sparse_categorical_crossentropy, num_filters=128, op=SGD; accuracy: (train=0.883, test=0.903) f1_macro: (train=0.582, test=0.580) total time= 2.0min\n",
      "[CV 4/5; 18/108] START batch_size=128, epochs=10, kernel_size=7, ls=sparse_categorical_crossentropy, num_filters=128, op=SGD\n",
      "[CV 4/5; 18/108] END batch_size=128, epochs=10, kernel_size=7, ls=sparse_categorical_crossentropy, num_filters=128, op=SGD; accuracy: (train=0.887, test=0.909) f1_macro: (train=0.585, test=0.597) total time= 2.0min\n",
      "[CV 5/5; 18/108] START batch_size=128, epochs=10, kernel_size=7, ls=sparse_categorical_crossentropy, num_filters=128, op=SGD\n",
      "[CV 5/5; 18/108] END batch_size=128, epochs=10, kernel_size=7, ls=sparse_categorical_crossentropy, num_filters=128, op=SGD; accuracy: (train=0.885, test=0.894) f1_macro: (train=0.582, test=0.577) total time= 2.0min\n",
      "[CV 1/5; 19/108] START batch_size=128, epochs=15, kernel_size=3, ls=sparse_categorical_crossentropy, num_filters=32, op=rmsprop\n",
      "[CV 1/5; 19/108] END batch_size=128, epochs=15, kernel_size=3, ls=sparse_categorical_crossentropy, num_filters=32, op=rmsprop; accuracy: (train=0.950, test=0.866) f1_macro: (train=0.831, test=0.716) total time=  58.0s\n",
      "[CV 2/5; 19/108] START batch_size=128, epochs=15, kernel_size=3, ls=sparse_categorical_crossentropy, num_filters=32, op=rmsprop\n",
      "[CV 2/5; 19/108] END batch_size=128, epochs=15, kernel_size=3, ls=sparse_categorical_crossentropy, num_filters=32, op=rmsprop; accuracy: (train=0.949, test=0.856) f1_macro: (train=0.785, test=0.651) total time=  56.4s\n",
      "[CV 3/5; 19/108] START batch_size=128, epochs=15, kernel_size=3, ls=sparse_categorical_crossentropy, num_filters=32, op=rmsprop\n",
      "[CV 3/5; 19/108] END batch_size=128, epochs=15, kernel_size=3, ls=sparse_categorical_crossentropy, num_filters=32, op=rmsprop; accuracy: (train=0.940, test=0.906) f1_macro: (train=0.792, test=0.685) total time=  55.4s\n",
      "[CV 4/5; 19/108] START batch_size=128, epochs=15, kernel_size=3, ls=sparse_categorical_crossentropy, num_filters=32, op=rmsprop\n",
      "[CV 4/5; 19/108] END batch_size=128, epochs=15, kernel_size=3, ls=sparse_categorical_crossentropy, num_filters=32, op=rmsprop; accuracy: (train=0.939, test=0.913) f1_macro: (train=0.773, test=0.666) total time=  57.9s\n",
      "[CV 5/5; 19/108] START batch_size=128, epochs=15, kernel_size=3, ls=sparse_categorical_crossentropy, num_filters=32, op=rmsprop\n",
      "[CV 5/5; 19/108] END batch_size=128, epochs=15, kernel_size=3, ls=sparse_categorical_crossentropy, num_filters=32, op=rmsprop; accuracy: (train=0.944, test=0.905) f1_macro: (train=0.818, test=0.687) total time=  55.1s\n",
      "[CV 1/5; 20/108] START batch_size=128, epochs=15, kernel_size=3, ls=sparse_categorical_crossentropy, num_filters=32, op=SGD\n",
      "[CV 1/5; 20/108] END batch_size=128, epochs=15, kernel_size=3, ls=sparse_categorical_crossentropy, num_filters=32, op=SGD; accuracy: (train=0.898, test=0.849) f1_macro: (train=0.591, test=0.556) total time=  52.9s\n",
      "[CV 2/5; 20/108] START batch_size=128, epochs=15, kernel_size=3, ls=sparse_categorical_crossentropy, num_filters=32, op=SGD\n",
      "[CV 2/5; 20/108] END batch_size=128, epochs=15, kernel_size=3, ls=sparse_categorical_crossentropy, num_filters=32, op=SGD; accuracy: (train=0.898, test=0.861) f1_macro: (train=0.588, test=0.575) total time=  52.7s\n",
      "[CV 3/5; 20/108] START batch_size=128, epochs=15, kernel_size=3, ls=sparse_categorical_crossentropy, num_filters=32, op=SGD\n",
      "[CV 3/5; 20/108] END batch_size=128, epochs=15, kernel_size=3, ls=sparse_categorical_crossentropy, num_filters=32, op=SGD; accuracy: (train=0.883, test=0.906) f1_macro: (train=0.583, test=0.587) total time=  52.8s\n",
      "[CV 4/5; 20/108] START batch_size=128, epochs=15, kernel_size=3, ls=sparse_categorical_crossentropy, num_filters=32, op=SGD\n",
      "[CV 4/5; 20/108] END batch_size=128, epochs=15, kernel_size=3, ls=sparse_categorical_crossentropy, num_filters=32, op=SGD; accuracy: (train=0.886, test=0.910) f1_macro: (train=0.584, test=0.597) total time=  53.7s\n",
      "[CV 5/5; 20/108] START batch_size=128, epochs=15, kernel_size=3, ls=sparse_categorical_crossentropy, num_filters=32, op=SGD\n",
      "[CV 5/5; 20/108] END batch_size=128, epochs=15, kernel_size=3, ls=sparse_categorical_crossentropy, num_filters=32, op=SGD; accuracy: (train=0.891, test=0.903) f1_macro: (train=0.590, test=0.591) total time=  54.4s\n",
      "[CV 1/5; 21/108] START batch_size=128, epochs=15, kernel_size=3, ls=sparse_categorical_crossentropy, num_filters=64, op=rmsprop\n",
      "[CV 1/5; 21/108] END batch_size=128, epochs=15, kernel_size=3, ls=sparse_categorical_crossentropy, num_filters=64, op=rmsprop; accuracy: (train=0.974, test=0.865) f1_macro: (train=0.911, test=0.704) total time= 1.5min\n",
      "[CV 2/5; 21/108] START batch_size=128, epochs=15, kernel_size=3, ls=sparse_categorical_crossentropy, num_filters=64, op=rmsprop\n",
      "[CV 2/5; 21/108] END batch_size=128, epochs=15, kernel_size=3, ls=sparse_categorical_crossentropy, num_filters=64, op=rmsprop; accuracy: (train=0.977, test=0.853) f1_macro: (train=0.936, test=0.713) total time= 1.5min\n",
      "[CV 3/5; 21/108] START batch_size=128, epochs=15, kernel_size=3, ls=sparse_categorical_crossentropy, num_filters=64, op=rmsprop\n",
      "[CV 3/5; 21/108] END batch_size=128, epochs=15, kernel_size=3, ls=sparse_categorical_crossentropy, num_filters=64, op=rmsprop; accuracy: (train=0.969, test=0.891) f1_macro: (train=0.924, test=0.686) total time= 1.4min\n",
      "[CV 4/5; 21/108] START batch_size=128, epochs=15, kernel_size=3, ls=sparse_categorical_crossentropy, num_filters=64, op=rmsprop\n",
      "[CV 4/5; 21/108] END batch_size=128, epochs=15, kernel_size=3, ls=sparse_categorical_crossentropy, num_filters=64, op=rmsprop; accuracy: (train=0.973, test=0.908) f1_macro: (train=0.924, test=0.683) total time= 1.4min\n",
      "[CV 5/5; 21/108] START batch_size=128, epochs=15, kernel_size=3, ls=sparse_categorical_crossentropy, num_filters=64, op=rmsprop\n",
      "[CV 5/5; 21/108] END batch_size=128, epochs=15, kernel_size=3, ls=sparse_categorical_crossentropy, num_filters=64, op=rmsprop; accuracy: (train=0.974, test=0.897) f1_macro: (train=0.931, test=0.689) total time= 1.4min\n",
      "[CV 1/5; 22/108] START batch_size=128, epochs=15, kernel_size=3, ls=sparse_categorical_crossentropy, num_filters=64, op=SGD\n",
      "[CV 1/5; 22/108] END batch_size=128, epochs=15, kernel_size=3, ls=sparse_categorical_crossentropy, num_filters=64, op=SGD; accuracy: (train=0.902, test=0.860) f1_macro: (train=0.596, test=0.569) total time= 1.5min\n",
      "[CV 2/5; 22/108] START batch_size=128, epochs=15, kernel_size=3, ls=sparse_categorical_crossentropy, num_filters=64, op=SGD\n",
      "[CV 2/5; 22/108] END batch_size=128, epochs=15, kernel_size=3, ls=sparse_categorical_crossentropy, num_filters=64, op=SGD; accuracy: (train=0.901, test=0.865) f1_macro: (train=0.593, test=0.579) total time= 1.6min\n",
      "[CV 3/5; 22/108] START batch_size=128, epochs=15, kernel_size=3, ls=sparse_categorical_crossentropy, num_filters=64, op=SGD\n",
      "[CV 3/5; 22/108] END batch_size=128, epochs=15, kernel_size=3, ls=sparse_categorical_crossentropy, num_filters=64, op=SGD; accuracy: (train=0.890, test=0.913) f1_macro: (train=0.591, test=0.594) total time= 1.5min\n",
      "[CV 4/5; 22/108] START batch_size=128, epochs=15, kernel_size=3, ls=sparse_categorical_crossentropy, num_filters=64, op=SGD\n",
      "[CV 4/5; 22/108] END batch_size=128, epochs=15, kernel_size=3, ls=sparse_categorical_crossentropy, num_filters=64, op=SGD; accuracy: (train=0.894, test=0.913) f1_macro: (train=0.594, test=0.601) total time= 1.5min\n",
      "[CV 5/5; 22/108] START batch_size=128, epochs=15, kernel_size=3, ls=sparse_categorical_crossentropy, num_filters=64, op=SGD\n",
      "[CV 5/5; 22/108] END batch_size=128, epochs=15, kernel_size=3, ls=sparse_categorical_crossentropy, num_filters=64, op=SGD; accuracy: (train=0.890, test=0.899) f1_macro: (train=0.590, test=0.586) total time= 1.5min\n",
      "[CV 1/5; 23/108] START batch_size=128, epochs=15, kernel_size=3, ls=sparse_categorical_crossentropy, num_filters=128, op=rmsprop\n",
      "[CV 1/5; 23/108] END batch_size=128, epochs=15, kernel_size=3, ls=sparse_categorical_crossentropy, num_filters=128, op=rmsprop; accuracy: (train=0.988, test=0.861) f1_macro: (train=0.968, test=0.721) total time= 2.2min\n",
      "[CV 2/5; 23/108] START batch_size=128, epochs=15, kernel_size=3, ls=sparse_categorical_crossentropy, num_filters=128, op=rmsprop\n",
      "[CV 2/5; 23/108] END batch_size=128, epochs=15, kernel_size=3, ls=sparse_categorical_crossentropy, num_filters=128, op=rmsprop; accuracy: (train=0.985, test=0.858) f1_macro: (train=0.957, test=0.659) total time= 2.3min\n",
      "[CV 3/5; 23/108] START batch_size=128, epochs=15, kernel_size=3, ls=sparse_categorical_crossentropy, num_filters=128, op=rmsprop\n",
      "[CV 3/5; 23/108] END batch_size=128, epochs=15, kernel_size=3, ls=sparse_categorical_crossentropy, num_filters=128, op=rmsprop; accuracy: (train=0.987, test=0.910) f1_macro: (train=0.971, test=0.702) total time= 2.2min\n",
      "[CV 4/5; 23/108] START batch_size=128, epochs=15, kernel_size=3, ls=sparse_categorical_crossentropy, num_filters=128, op=rmsprop\n",
      "[CV 4/5; 23/108] END batch_size=128, epochs=15, kernel_size=3, ls=sparse_categorical_crossentropy, num_filters=128, op=rmsprop; accuracy: (train=0.989, test=0.905) f1_macro: (train=0.974, test=0.697) total time= 2.2min\n",
      "[CV 5/5; 23/108] START batch_size=128, epochs=15, kernel_size=3, ls=sparse_categorical_crossentropy, num_filters=128, op=rmsprop\n",
      "[CV 5/5; 23/108] END batch_size=128, epochs=15, kernel_size=3, ls=sparse_categorical_crossentropy, num_filters=128, op=rmsprop; accuracy: (train=0.968, test=0.861) f1_macro: (train=0.923, test=0.676) total time= 2.2min\n",
      "[CV 1/5; 24/108] START batch_size=128, epochs=15, kernel_size=3, ls=sparse_categorical_crossentropy, num_filters=128, op=SGD\n",
      "[CV 1/5; 24/108] END batch_size=128, epochs=15, kernel_size=3, ls=sparse_categorical_crossentropy, num_filters=128, op=SGD; accuracy: (train=0.906, test=0.863) f1_macro: (train=0.601, test=0.573) total time= 2.2min\n",
      "[CV 2/5; 24/108] START batch_size=128, epochs=15, kernel_size=3, ls=sparse_categorical_crossentropy, num_filters=128, op=SGD\n",
      "[CV 2/5; 24/108] END batch_size=128, epochs=15, kernel_size=3, ls=sparse_categorical_crossentropy, num_filters=128, op=SGD; accuracy: (train=0.906, test=0.867) f1_macro: (train=0.599, test=0.583) total time= 2.2min\n",
      "[CV 3/5; 24/108] START batch_size=128, epochs=15, kernel_size=3, ls=sparse_categorical_crossentropy, num_filters=128, op=SGD\n",
      "[CV 3/5; 24/108] END batch_size=128, epochs=15, kernel_size=3, ls=sparse_categorical_crossentropy, num_filters=128, op=SGD; accuracy: (train=0.893, test=0.911) f1_macro: (train=0.594, test=0.593) total time= 2.2min\n",
      "[CV 4/5; 24/108] START batch_size=128, epochs=15, kernel_size=3, ls=sparse_categorical_crossentropy, num_filters=128, op=SGD\n",
      "[CV 4/5; 24/108] END batch_size=128, epochs=15, kernel_size=3, ls=sparse_categorical_crossentropy, num_filters=128, op=SGD; accuracy: (train=0.894, test=0.914) f1_macro: (train=0.594, test=0.602) total time= 2.3min\n",
      "[CV 5/5; 24/108] START batch_size=128, epochs=15, kernel_size=3, ls=sparse_categorical_crossentropy, num_filters=128, op=SGD\n",
      "[CV 5/5; 24/108] END batch_size=128, epochs=15, kernel_size=3, ls=sparse_categorical_crossentropy, num_filters=128, op=SGD; accuracy: (train=0.894, test=0.903) f1_macro: (train=0.594, test=0.588) total time= 2.3min\n",
      "[CV 1/5; 25/108] START batch_size=128, epochs=15, kernel_size=5, ls=sparse_categorical_crossentropy, num_filters=32, op=rmsprop\n",
      "[CV 1/5; 25/108] END batch_size=128, epochs=15, kernel_size=5, ls=sparse_categorical_crossentropy, num_filters=32, op=rmsprop; accuracy: (train=0.969, test=0.863) f1_macro: (train=0.906, test=0.724) total time= 1.1min\n",
      "[CV 2/5; 25/108] START batch_size=128, epochs=15, kernel_size=5, ls=sparse_categorical_crossentropy, num_filters=32, op=rmsprop\n",
      "[CV 2/5; 25/108] END batch_size=128, epochs=15, kernel_size=5, ls=sparse_categorical_crossentropy, num_filters=32, op=rmsprop; accuracy: (train=0.974, test=0.852) f1_macro: (train=0.920, test=0.697) total time= 1.1min\n",
      "[CV 3/5; 25/108] START batch_size=128, epochs=15, kernel_size=5, ls=sparse_categorical_crossentropy, num_filters=32, op=rmsprop\n",
      "[CV 3/5; 25/108] END batch_size=128, epochs=15, kernel_size=5, ls=sparse_categorical_crossentropy, num_filters=32, op=rmsprop; accuracy: (train=0.959, test=0.905) f1_macro: (train=0.881, test=0.695) total time= 1.1min\n",
      "[CV 4/5; 25/108] START batch_size=128, epochs=15, kernel_size=5, ls=sparse_categorical_crossentropy, num_filters=32, op=rmsprop\n",
      "[CV 4/5; 25/108] END batch_size=128, epochs=15, kernel_size=5, ls=sparse_categorical_crossentropy, num_filters=32, op=rmsprop; accuracy: (train=0.962, test=0.907) f1_macro: (train=0.888, test=0.687) total time= 1.1min\n",
      "[CV 5/5; 25/108] START batch_size=128, epochs=15, kernel_size=5, ls=sparse_categorical_crossentropy, num_filters=32, op=rmsprop\n",
      "[CV 5/5; 25/108] END batch_size=128, epochs=15, kernel_size=5, ls=sparse_categorical_crossentropy, num_filters=32, op=rmsprop; accuracy: (train=0.963, test=0.890) f1_macro: (train=0.909, test=0.681) total time= 1.1min\n",
      "[CV 1/5; 26/108] START batch_size=128, epochs=15, kernel_size=5, ls=sparse_categorical_crossentropy, num_filters=32, op=SGD\n",
      "[CV 1/5; 26/108] END batch_size=128, epochs=15, kernel_size=5, ls=sparse_categorical_crossentropy, num_filters=32, op=SGD; accuracy: (train=0.897, test=0.855) f1_macro: (train=0.589, test=0.562) total time= 1.1min\n",
      "[CV 2/5; 26/108] START batch_size=128, epochs=15, kernel_size=5, ls=sparse_categorical_crossentropy, num_filters=32, op=SGD\n",
      "[CV 2/5; 26/108] END batch_size=128, epochs=15, kernel_size=5, ls=sparse_categorical_crossentropy, num_filters=32, op=SGD; accuracy: (train=0.900, test=0.863) f1_macro: (train=0.593, test=0.578) total time= 1.1min\n",
      "[CV 3/5; 26/108] START batch_size=128, epochs=15, kernel_size=5, ls=sparse_categorical_crossentropy, num_filters=32, op=SGD\n",
      "[CV 3/5; 26/108] END batch_size=128, epochs=15, kernel_size=5, ls=sparse_categorical_crossentropy, num_filters=32, op=SGD; accuracy: (train=0.885, test=0.902) f1_macro: (train=0.583, test=0.580) total time= 1.1min\n",
      "[CV 4/5; 26/108] START batch_size=128, epochs=15, kernel_size=5, ls=sparse_categorical_crossentropy, num_filters=32, op=SGD\n",
      "[CV 4/5; 26/108] END batch_size=128, epochs=15, kernel_size=5, ls=sparse_categorical_crossentropy, num_filters=32, op=SGD; accuracy: (train=0.889, test=0.912) f1_macro: (train=0.589, test=0.600) total time= 1.1min\n",
      "[CV 5/5; 26/108] START batch_size=128, epochs=15, kernel_size=5, ls=sparse_categorical_crossentropy, num_filters=32, op=SGD\n",
      "[CV 5/5; 26/108] END batch_size=128, epochs=15, kernel_size=5, ls=sparse_categorical_crossentropy, num_filters=32, op=SGD; accuracy: (train=0.896, test=0.904) f1_macro: (train=0.597, test=0.593) total time= 1.1min\n",
      "[CV 1/5; 27/108] START batch_size=128, epochs=15, kernel_size=5, ls=sparse_categorical_crossentropy, num_filters=64, op=rmsprop\n",
      "[CV 1/5; 27/108] END batch_size=128, epochs=15, kernel_size=5, ls=sparse_categorical_crossentropy, num_filters=64, op=rmsprop; accuracy: (train=0.967, test=0.866) f1_macro: (train=0.863, test=0.647) total time= 1.8min\n",
      "[CV 2/5; 27/108] START batch_size=128, epochs=15, kernel_size=5, ls=sparse_categorical_crossentropy, num_filters=64, op=rmsprop\n",
      "[CV 2/5; 27/108] END batch_size=128, epochs=15, kernel_size=5, ls=sparse_categorical_crossentropy, num_filters=64, op=rmsprop; accuracy: (train=0.970, test=0.833) f1_macro: (train=0.935, test=0.662) total time= 1.7min\n",
      "[CV 3/5; 27/108] START batch_size=128, epochs=15, kernel_size=5, ls=sparse_categorical_crossentropy, num_filters=64, op=rmsprop\n",
      "[CV 3/5; 27/108] END batch_size=128, epochs=15, kernel_size=5, ls=sparse_categorical_crossentropy, num_filters=64, op=rmsprop; accuracy: (train=0.983, test=0.891) f1_macro: (train=0.955, test=0.691) total time= 1.8min\n",
      "[CV 4/5; 27/108] START batch_size=128, epochs=15, kernel_size=5, ls=sparse_categorical_crossentropy, num_filters=64, op=rmsprop\n",
      "[CV 4/5; 27/108] END batch_size=128, epochs=15, kernel_size=5, ls=sparse_categorical_crossentropy, num_filters=64, op=rmsprop; accuracy: (train=0.978, test=0.898) f1_macro: (train=0.950, test=0.674) total time= 1.8min\n",
      "[CV 5/5; 27/108] START batch_size=128, epochs=15, kernel_size=5, ls=sparse_categorical_crossentropy, num_filters=64, op=rmsprop\n",
      "[CV 5/5; 27/108] END batch_size=128, epochs=15, kernel_size=5, ls=sparse_categorical_crossentropy, num_filters=64, op=rmsprop; accuracy: (train=0.980, test=0.905) f1_macro: (train=0.946, test=0.696) total time= 1.8min\n",
      "[CV 1/5; 28/108] START batch_size=128, epochs=15, kernel_size=5, ls=sparse_categorical_crossentropy, num_filters=64, op=SGD\n",
      "[CV 1/5; 28/108] END batch_size=128, epochs=15, kernel_size=5, ls=sparse_categorical_crossentropy, num_filters=64, op=SGD; accuracy: (train=0.901, test=0.855) f1_macro: (train=0.593, test=0.562) total time= 1.8min\n",
      "[CV 2/5; 28/108] START batch_size=128, epochs=15, kernel_size=5, ls=sparse_categorical_crossentropy, num_filters=64, op=SGD\n",
      "[CV 2/5; 28/108] END batch_size=128, epochs=15, kernel_size=5, ls=sparse_categorical_crossentropy, num_filters=64, op=SGD; accuracy: (train=0.907, test=0.863) f1_macro: (train=0.601, test=0.578) total time= 1.8min\n",
      "[CV 3/5; 28/108] START batch_size=128, epochs=15, kernel_size=5, ls=sparse_categorical_crossentropy, num_filters=64, op=SGD\n",
      "[CV 3/5; 28/108] END batch_size=128, epochs=15, kernel_size=5, ls=sparse_categorical_crossentropy, num_filters=64, op=SGD; accuracy: (train=0.889, test=0.908) f1_macro: (train=0.590, test=0.589) total time= 1.7min\n",
      "[CV 4/5; 28/108] START batch_size=128, epochs=15, kernel_size=5, ls=sparse_categorical_crossentropy, num_filters=64, op=SGD\n",
      "[CV 4/5; 28/108] END batch_size=128, epochs=15, kernel_size=5, ls=sparse_categorical_crossentropy, num_filters=64, op=SGD; accuracy: (train=0.891, test=0.910) f1_macro: (train=0.590, test=0.597) total time= 1.7min\n",
      "[CV 5/5; 28/108] START batch_size=128, epochs=15, kernel_size=5, ls=sparse_categorical_crossentropy, num_filters=64, op=SGD\n",
      "[CV 5/5; 28/108] END batch_size=128, epochs=15, kernel_size=5, ls=sparse_categorical_crossentropy, num_filters=64, op=SGD; accuracy: (train=0.894, test=0.905) f1_macro: (train=0.595, test=0.593) total time= 1.8min\n",
      "[CV 1/5; 29/108] START batch_size=128, epochs=15, kernel_size=5, ls=sparse_categorical_crossentropy, num_filters=128, op=rmsprop\n",
      "[CV 1/5; 29/108] END batch_size=128, epochs=15, kernel_size=5, ls=sparse_categorical_crossentropy, num_filters=128, op=rmsprop; accuracy: (train=0.992, test=0.868) f1_macro: (train=0.979, test=0.688) total time= 2.6min\n",
      "[CV 2/5; 29/108] START batch_size=128, epochs=15, kernel_size=5, ls=sparse_categorical_crossentropy, num_filters=128, op=rmsprop\n",
      "[CV 2/5; 29/108] END batch_size=128, epochs=15, kernel_size=5, ls=sparse_categorical_crossentropy, num_filters=128, op=rmsprop; accuracy: (train=0.992, test=0.863) f1_macro: (train=0.977, test=0.689) total time= 2.6min\n",
      "[CV 3/5; 29/108] START batch_size=128, epochs=15, kernel_size=5, ls=sparse_categorical_crossentropy, num_filters=128, op=rmsprop\n",
      "[CV 3/5; 29/108] END batch_size=128, epochs=15, kernel_size=5, ls=sparse_categorical_crossentropy, num_filters=128, op=rmsprop; accuracy: (train=0.987, test=0.894) f1_macro: (train=0.966, test=0.690) total time= 2.6min\n",
      "[CV 4/5; 29/108] START batch_size=128, epochs=15, kernel_size=5, ls=sparse_categorical_crossentropy, num_filters=128, op=rmsprop\n",
      "[CV 4/5; 29/108] END batch_size=128, epochs=15, kernel_size=5, ls=sparse_categorical_crossentropy, num_filters=128, op=rmsprop; accuracy: (train=0.990, test=0.909) f1_macro: (train=0.975, test=0.668) total time= 2.6min\n",
      "[CV 5/5; 29/108] START batch_size=128, epochs=15, kernel_size=5, ls=sparse_categorical_crossentropy, num_filters=128, op=rmsprop\n",
      "[CV 5/5; 29/108] END batch_size=128, epochs=15, kernel_size=5, ls=sparse_categorical_crossentropy, num_filters=128, op=rmsprop; accuracy: (train=0.993, test=0.903) f1_macro: (train=0.983, test=0.671) total time= 2.6min\n",
      "[CV 1/5; 30/108] START batch_size=128, epochs=15, kernel_size=5, ls=sparse_categorical_crossentropy, num_filters=128, op=SGD\n",
      "[CV 1/5; 30/108] END batch_size=128, epochs=15, kernel_size=5, ls=sparse_categorical_crossentropy, num_filters=128, op=SGD; accuracy: (train=0.903, test=0.854) f1_macro: (train=0.595, test=0.560) total time= 2.6min\n",
      "[CV 2/5; 30/108] START batch_size=128, epochs=15, kernel_size=5, ls=sparse_categorical_crossentropy, num_filters=128, op=SGD\n",
      "[CV 2/5; 30/108] END batch_size=128, epochs=15, kernel_size=5, ls=sparse_categorical_crossentropy, num_filters=128, op=SGD; accuracy: (train=0.908, test=0.866) f1_macro: (train=0.603, test=0.582) total time= 2.6min\n",
      "[CV 3/5; 30/108] START batch_size=128, epochs=15, kernel_size=5, ls=sparse_categorical_crossentropy, num_filters=128, op=SGD\n",
      "[CV 3/5; 30/108] END batch_size=128, epochs=15, kernel_size=5, ls=sparse_categorical_crossentropy, num_filters=128, op=SGD; accuracy: (train=0.895, test=0.908) f1_macro: (train=0.596, test=0.589) total time= 2.6min\n",
      "[CV 4/5; 30/108] START batch_size=128, epochs=15, kernel_size=5, ls=sparse_categorical_crossentropy, num_filters=128, op=SGD\n",
      "[CV 4/5; 30/108] END batch_size=128, epochs=15, kernel_size=5, ls=sparse_categorical_crossentropy, num_filters=128, op=SGD; accuracy: (train=0.895, test=0.914) f1_macro: (train=0.595, test=0.602) total time= 2.6min\n",
      "[CV 5/5; 30/108] START batch_size=128, epochs=15, kernel_size=5, ls=sparse_categorical_crossentropy, num_filters=128, op=SGD\n",
      "[CV 5/5; 30/108] END batch_size=128, epochs=15, kernel_size=5, ls=sparse_categorical_crossentropy, num_filters=128, op=SGD; accuracy: (train=0.896, test=0.902) f1_macro: (train=0.597, test=0.591) total time= 2.6min\n",
      "[CV 1/5; 31/108] START batch_size=128, epochs=15, kernel_size=7, ls=sparse_categorical_crossentropy, num_filters=32, op=rmsprop\n",
      "[CV 1/5; 31/108] END batch_size=128, epochs=15, kernel_size=7, ls=sparse_categorical_crossentropy, num_filters=32, op=rmsprop; accuracy: (train=0.976, test=0.856) f1_macro: (train=0.929, test=0.709) total time= 1.5min\n",
      "[CV 2/5; 31/108] START batch_size=128, epochs=15, kernel_size=7, ls=sparse_categorical_crossentropy, num_filters=32, op=rmsprop\n",
      "[CV 2/5; 31/108] END batch_size=128, epochs=15, kernel_size=7, ls=sparse_categorical_crossentropy, num_filters=32, op=rmsprop; accuracy: (train=0.975, test=0.846) f1_macro: (train=0.928, test=0.680) total time= 1.5min\n",
      "[CV 3/5; 31/108] START batch_size=128, epochs=15, kernel_size=7, ls=sparse_categorical_crossentropy, num_filters=32, op=rmsprop\n",
      "[CV 3/5; 31/108] END batch_size=128, epochs=15, kernel_size=7, ls=sparse_categorical_crossentropy, num_filters=32, op=rmsprop; accuracy: (train=0.962, test=0.903) f1_macro: (train=0.892, test=0.667) total time= 1.5min\n",
      "[CV 4/5; 31/108] START batch_size=128, epochs=15, kernel_size=7, ls=sparse_categorical_crossentropy, num_filters=32, op=rmsprop\n",
      "[CV 4/5; 31/108] END batch_size=128, epochs=15, kernel_size=7, ls=sparse_categorical_crossentropy, num_filters=32, op=rmsprop; accuracy: (train=0.969, test=0.899) f1_macro: (train=0.915, test=0.683) total time= 1.5min\n",
      "[CV 5/5; 31/108] START batch_size=128, epochs=15, kernel_size=7, ls=sparse_categorical_crossentropy, num_filters=32, op=rmsprop\n",
      "[CV 5/5; 31/108] END batch_size=128, epochs=15, kernel_size=7, ls=sparse_categorical_crossentropy, num_filters=32, op=rmsprop; accuracy: (train=0.963, test=0.879) f1_macro: (train=0.909, test=0.674) total time= 1.5min\n",
      "[CV 1/5; 32/108] START batch_size=128, epochs=15, kernel_size=7, ls=sparse_categorical_crossentropy, num_filters=32, op=SGD\n",
      "[CV 1/5; 32/108] END batch_size=128, epochs=15, kernel_size=7, ls=sparse_categorical_crossentropy, num_filters=32, op=SGD; accuracy: (train=0.904, test=0.861) f1_macro: (train=0.598, test=0.569) total time= 1.5min\n",
      "[CV 2/5; 32/108] START batch_size=128, epochs=15, kernel_size=7, ls=sparse_categorical_crossentropy, num_filters=32, op=SGD\n",
      "[CV 2/5; 32/108] END batch_size=128, epochs=15, kernel_size=7, ls=sparse_categorical_crossentropy, num_filters=32, op=SGD; accuracy: (train=0.901, test=0.863) f1_macro: (train=0.593, test=0.578) total time= 1.5min\n",
      "[CV 3/5; 32/108] START batch_size=128, epochs=15, kernel_size=7, ls=sparse_categorical_crossentropy, num_filters=32, op=SGD\n",
      "[CV 3/5; 32/108] END batch_size=128, epochs=15, kernel_size=7, ls=sparse_categorical_crossentropy, num_filters=32, op=SGD; accuracy: (train=0.889, test=0.906) f1_macro: (train=0.589, test=0.587) total time= 1.5min\n",
      "[CV 4/5; 32/108] START batch_size=128, epochs=15, kernel_size=7, ls=sparse_categorical_crossentropy, num_filters=32, op=SGD\n",
      "[CV 4/5; 32/108] END batch_size=128, epochs=15, kernel_size=7, ls=sparse_categorical_crossentropy, num_filters=32, op=SGD; accuracy: (train=0.887, test=0.906) f1_macro: (train=0.586, test=0.595) total time= 1.5min\n",
      "[CV 5/5; 32/108] START batch_size=128, epochs=15, kernel_size=7, ls=sparse_categorical_crossentropy, num_filters=32, op=SGD\n",
      "[CV 5/5; 32/108] END batch_size=128, epochs=15, kernel_size=7, ls=sparse_categorical_crossentropy, num_filters=32, op=SGD; accuracy: (train=0.892, test=0.901) f1_macro: (train=0.591, test=0.588) total time= 1.5min\n",
      "[CV 1/5; 33/108] START batch_size=128, epochs=15, kernel_size=7, ls=sparse_categorical_crossentropy, num_filters=64, op=rmsprop\n",
      "[CV 1/5; 33/108] END batch_size=128, epochs=15, kernel_size=7, ls=sparse_categorical_crossentropy, num_filters=64, op=rmsprop; accuracy: (train=0.986, test=0.853) f1_macro: (train=0.967, test=0.704) total time= 2.1min\n",
      "[CV 2/5; 33/108] START batch_size=128, epochs=15, kernel_size=7, ls=sparse_categorical_crossentropy, num_filters=64, op=rmsprop\n",
      "[CV 2/5; 33/108] END batch_size=128, epochs=15, kernel_size=7, ls=sparse_categorical_crossentropy, num_filters=64, op=rmsprop; accuracy: (train=0.988, test=0.861) f1_macro: (train=0.965, test=0.683) total time= 2.1min\n",
      "[CV 3/5; 33/108] START batch_size=128, epochs=15, kernel_size=7, ls=sparse_categorical_crossentropy, num_filters=64, op=rmsprop\n",
      "[CV 3/5; 33/108] END batch_size=128, epochs=15, kernel_size=7, ls=sparse_categorical_crossentropy, num_filters=64, op=rmsprop; accuracy: (train=0.986, test=0.901) f1_macro: (train=0.964, test=0.661) total time= 2.1min\n",
      "[CV 4/5; 33/108] START batch_size=128, epochs=15, kernel_size=7, ls=sparse_categorical_crossentropy, num_filters=64, op=rmsprop\n",
      "[CV 4/5; 33/108] END batch_size=128, epochs=15, kernel_size=7, ls=sparse_categorical_crossentropy, num_filters=64, op=rmsprop; accuracy: (train=0.984, test=0.895) f1_macro: (train=0.961, test=0.668) total time= 2.0min\n",
      "[CV 5/5; 33/108] START batch_size=128, epochs=15, kernel_size=7, ls=sparse_categorical_crossentropy, num_filters=64, op=rmsprop\n",
      "[CV 5/5; 33/108] END batch_size=128, epochs=15, kernel_size=7, ls=sparse_categorical_crossentropy, num_filters=64, op=rmsprop; accuracy: (train=0.987, test=0.895) f1_macro: (train=0.965, test=0.665) total time= 2.0min\n",
      "[CV 1/5; 34/108] START batch_size=128, epochs=15, kernel_size=7, ls=sparse_categorical_crossentropy, num_filters=64, op=SGD\n",
      "[CV 1/5; 34/108] END batch_size=128, epochs=15, kernel_size=7, ls=sparse_categorical_crossentropy, num_filters=64, op=SGD; accuracy: (train=0.907, test=0.861) f1_macro: (train=0.602, test=0.570) total time= 2.0min\n",
      "[CV 2/5; 34/108] START batch_size=128, epochs=15, kernel_size=7, ls=sparse_categorical_crossentropy, num_filters=64, op=SGD\n",
      "[CV 2/5; 34/108] END batch_size=128, epochs=15, kernel_size=7, ls=sparse_categorical_crossentropy, num_filters=64, op=SGD; accuracy: (train=0.904, test=0.861) f1_macro: (train=0.598, test=0.577) total time= 2.0min\n",
      "[CV 3/5; 34/108] START batch_size=128, epochs=15, kernel_size=7, ls=sparse_categorical_crossentropy, num_filters=64, op=SGD\n",
      "[CV 3/5; 34/108] END batch_size=128, epochs=15, kernel_size=7, ls=sparse_categorical_crossentropy, num_filters=64, op=SGD; accuracy: (train=0.894, test=0.909) f1_macro: (train=0.595, test=0.592) total time= 2.1min\n",
      "[CV 4/5; 34/108] START batch_size=128, epochs=15, kernel_size=7, ls=sparse_categorical_crossentropy, num_filters=64, op=SGD\n",
      "[CV 4/5; 34/108] END batch_size=128, epochs=15, kernel_size=7, ls=sparse_categorical_crossentropy, num_filters=64, op=SGD; accuracy: (train=0.893, test=0.910) f1_macro: (train=0.592, test=0.596) total time= 2.1min\n",
      "[CV 5/5; 34/108] START batch_size=128, epochs=15, kernel_size=7, ls=sparse_categorical_crossentropy, num_filters=64, op=SGD\n",
      "[CV 5/5; 34/108] END batch_size=128, epochs=15, kernel_size=7, ls=sparse_categorical_crossentropy, num_filters=64, op=SGD; accuracy: (train=0.895, test=0.900) f1_macro: (train=0.595, test=0.587) total time= 2.1min\n",
      "[CV 1/5; 35/108] START batch_size=128, epochs=15, kernel_size=7, ls=sparse_categorical_crossentropy, num_filters=128, op=rmsprop\n",
      "[CV 1/5; 35/108] END batch_size=128, epochs=15, kernel_size=7, ls=sparse_categorical_crossentropy, num_filters=128, op=rmsprop; accuracy: (train=0.962, test=0.818) f1_macro: (train=0.905, test=0.700) total time= 3.1min\n",
      "[CV 2/5; 35/108] START batch_size=128, epochs=15, kernel_size=7, ls=sparse_categorical_crossentropy, num_filters=128, op=rmsprop\n",
      "[CV 2/5; 35/108] END batch_size=128, epochs=15, kernel_size=7, ls=sparse_categorical_crossentropy, num_filters=128, op=rmsprop; accuracy: (train=0.991, test=0.846) f1_macro: (train=0.976, test=0.694) total time= 3.0min\n",
      "[CV 3/5; 35/108] START batch_size=128, epochs=15, kernel_size=7, ls=sparse_categorical_crossentropy, num_filters=128, op=rmsprop\n",
      "[CV 3/5; 35/108] END batch_size=128, epochs=15, kernel_size=7, ls=sparse_categorical_crossentropy, num_filters=128, op=rmsprop; accuracy: (train=0.988, test=0.901) f1_macro: (train=0.971, test=0.664) total time= 3.0min\n",
      "[CV 4/5; 35/108] START batch_size=128, epochs=15, kernel_size=7, ls=sparse_categorical_crossentropy, num_filters=128, op=rmsprop\n",
      "[CV 4/5; 35/108] END batch_size=128, epochs=15, kernel_size=7, ls=sparse_categorical_crossentropy, num_filters=128, op=rmsprop; accuracy: (train=0.981, test=0.893) f1_macro: (train=0.964, test=0.639) total time= 2.9min\n",
      "[CV 5/5; 35/108] START batch_size=128, epochs=15, kernel_size=7, ls=sparse_categorical_crossentropy, num_filters=128, op=rmsprop\n",
      "[CV 5/5; 35/108] END batch_size=128, epochs=15, kernel_size=7, ls=sparse_categorical_crossentropy, num_filters=128, op=rmsprop; accuracy: (train=0.993, test=0.897) f1_macro: (train=0.982, test=0.686) total time= 3.0min\n",
      "[CV 1/5; 36/108] START batch_size=128, epochs=15, kernel_size=7, ls=sparse_categorical_crossentropy, num_filters=128, op=SGD\n",
      "[CV 1/5; 36/108] END batch_size=128, epochs=15, kernel_size=7, ls=sparse_categorical_crossentropy, num_filters=128, op=SGD; accuracy: (train=0.911, test=0.861) f1_macro: (train=0.607, test=0.571) total time= 3.0min\n",
      "[CV 2/5; 36/108] START batch_size=128, epochs=15, kernel_size=7, ls=sparse_categorical_crossentropy, num_filters=128, op=SGD\n",
      "[CV 2/5; 36/108] END batch_size=128, epochs=15, kernel_size=7, ls=sparse_categorical_crossentropy, num_filters=128, op=SGD; accuracy: (train=0.910, test=0.861) f1_macro: (train=0.605, test=0.577) total time= 3.0min\n",
      "[CV 3/5; 36/108] START batch_size=128, epochs=15, kernel_size=7, ls=sparse_categorical_crossentropy, num_filters=128, op=SGD\n",
      "[CV 3/5; 36/108] END batch_size=128, epochs=15, kernel_size=7, ls=sparse_categorical_crossentropy, num_filters=128, op=SGD; accuracy: (train=0.897, test=0.911) f1_macro: (train=0.598, test=0.593) total time= 3.0min\n",
      "[CV 4/5; 36/108] START batch_size=128, epochs=15, kernel_size=7, ls=sparse_categorical_crossentropy, num_filters=128, op=SGD\n",
      "[CV 4/5; 36/108] END batch_size=128, epochs=15, kernel_size=7, ls=sparse_categorical_crossentropy, num_filters=128, op=SGD; accuracy: (train=0.895, test=0.909) f1_macro: (train=0.596, test=0.596) total time= 2.9min\n",
      "[CV 5/5; 36/108] START batch_size=128, epochs=15, kernel_size=7, ls=sparse_categorical_crossentropy, num_filters=128, op=SGD\n",
      "[CV 5/5; 36/108] END batch_size=128, epochs=15, kernel_size=7, ls=sparse_categorical_crossentropy, num_filters=128, op=SGD; accuracy: (train=0.900, test=0.907) f1_macro: (train=0.601, test=0.596) total time= 2.9min\n",
      "[CV 1/5; 37/108] START batch_size=128, epochs=20, kernel_size=3, ls=sparse_categorical_crossentropy, num_filters=32, op=rmsprop\n",
      "[CV 1/5; 37/108] END batch_size=128, epochs=20, kernel_size=3, ls=sparse_categorical_crossentropy, num_filters=32, op=rmsprop; accuracy: (train=0.953, test=0.865) f1_macro: (train=0.829, test=0.699) total time= 1.2min\n",
      "[CV 2/5; 37/108] START batch_size=128, epochs=20, kernel_size=3, ls=sparse_categorical_crossentropy, num_filters=32, op=rmsprop\n",
      "[CV 2/5; 37/108] END batch_size=128, epochs=20, kernel_size=3, ls=sparse_categorical_crossentropy, num_filters=32, op=rmsprop; accuracy: (train=0.957, test=0.849) f1_macro: (train=0.861, test=0.663) total time= 1.2min\n",
      "[CV 3/5; 37/108] START batch_size=128, epochs=20, kernel_size=3, ls=sparse_categorical_crossentropy, num_filters=32, op=rmsprop\n",
      "[CV 3/5; 37/108] END batch_size=128, epochs=20, kernel_size=3, ls=sparse_categorical_crossentropy, num_filters=32, op=rmsprop; accuracy: (train=0.956, test=0.908) f1_macro: (train=0.878, test=0.700) total time= 1.3min\n",
      "[CV 4/5; 37/108] START batch_size=128, epochs=20, kernel_size=3, ls=sparse_categorical_crossentropy, num_filters=32, op=rmsprop\n",
      "[CV 4/5; 37/108] END batch_size=128, epochs=20, kernel_size=3, ls=sparse_categorical_crossentropy, num_filters=32, op=rmsprop; accuracy: (train=0.958, test=0.906) f1_macro: (train=0.882, test=0.689) total time= 1.2min\n",
      "[CV 5/5; 37/108] START batch_size=128, epochs=20, kernel_size=3, ls=sparse_categorical_crossentropy, num_filters=32, op=rmsprop\n",
      "[CV 5/5; 37/108] END batch_size=128, epochs=20, kernel_size=3, ls=sparse_categorical_crossentropy, num_filters=32, op=rmsprop; accuracy: (train=0.957, test=0.900) f1_macro: (train=0.869, test=0.687) total time= 1.2min\n",
      "[CV 1/5; 38/108] START batch_size=128, epochs=20, kernel_size=3, ls=sparse_categorical_crossentropy, num_filters=32, op=SGD\n",
      "[CV 1/5; 38/108] END batch_size=128, epochs=20, kernel_size=3, ls=sparse_categorical_crossentropy, num_filters=32, op=SGD; accuracy: (train=0.906, test=0.857) f1_macro: (train=0.601, test=0.567) total time= 1.2min\n",
      "[CV 2/5; 38/108] START batch_size=128, epochs=20, kernel_size=3, ls=sparse_categorical_crossentropy, num_filters=32, op=SGD\n",
      "[CV 2/5; 38/108] END batch_size=128, epochs=20, kernel_size=3, ls=sparse_categorical_crossentropy, num_filters=32, op=SGD; accuracy: (train=0.906, test=0.864) f1_macro: (train=0.600, test=0.580) total time= 1.2min\n",
      "[CV 3/5; 38/108] START batch_size=128, epochs=20, kernel_size=3, ls=sparse_categorical_crossentropy, num_filters=32, op=SGD\n",
      "[CV 3/5; 38/108] END batch_size=128, epochs=20, kernel_size=3, ls=sparse_categorical_crossentropy, num_filters=32, op=SGD; accuracy: (train=0.892, test=0.909) f1_macro: (train=0.593, test=0.589) total time= 1.2min\n",
      "[CV 4/5; 38/108] START batch_size=128, epochs=20, kernel_size=3, ls=sparse_categorical_crossentropy, num_filters=32, op=SGD\n",
      "[CV 4/5; 38/108] END batch_size=128, epochs=20, kernel_size=3, ls=sparse_categorical_crossentropy, num_filters=32, op=SGD; accuracy: (train=0.894, test=0.915) f1_macro: (train=0.594, test=0.603) total time= 1.2min\n",
      "[CV 5/5; 38/108] START batch_size=128, epochs=20, kernel_size=3, ls=sparse_categorical_crossentropy, num_filters=32, op=SGD\n",
      "[CV 5/5; 38/108] END batch_size=128, epochs=20, kernel_size=3, ls=sparse_categorical_crossentropy, num_filters=32, op=SGD; accuracy: (train=0.894, test=0.906) f1_macro: (train=0.595, test=0.594) total time= 1.3min\n",
      "[CV 1/5; 39/108] START batch_size=128, epochs=20, kernel_size=3, ls=sparse_categorical_crossentropy, num_filters=64, op=rmsprop\n",
      "[CV 1/5; 39/108] END batch_size=128, epochs=20, kernel_size=3, ls=sparse_categorical_crossentropy, num_filters=64, op=rmsprop; accuracy: (train=0.986, test=0.856) f1_macro: (train=0.960, test=0.711) total time= 2.1min\n",
      "[CV 2/5; 39/108] START batch_size=128, epochs=20, kernel_size=3, ls=sparse_categorical_crossentropy, num_filters=64, op=rmsprop\n",
      "[CV 2/5; 39/108] END batch_size=128, epochs=20, kernel_size=3, ls=sparse_categorical_crossentropy, num_filters=64, op=rmsprop; accuracy: (train=0.984, test=0.860) f1_macro: (train=0.952, test=0.691) total time= 2.1min\n",
      "[CV 3/5; 39/108] START batch_size=128, epochs=20, kernel_size=3, ls=sparse_categorical_crossentropy, num_filters=64, op=rmsprop\n",
      "[CV 3/5; 39/108] END batch_size=128, epochs=20, kernel_size=3, ls=sparse_categorical_crossentropy, num_filters=64, op=rmsprop; accuracy: (train=0.976, test=0.908) f1_macro: (train=0.926, test=0.666) total time= 2.0min\n",
      "[CV 4/5; 39/108] START batch_size=128, epochs=20, kernel_size=3, ls=sparse_categorical_crossentropy, num_filters=64, op=rmsprop\n",
      "[CV 4/5; 39/108] END batch_size=128, epochs=20, kernel_size=3, ls=sparse_categorical_crossentropy, num_filters=64, op=rmsprop; accuracy: (train=0.979, test=0.903) f1_macro: (train=0.953, test=0.691) total time= 2.0min\n",
      "[CV 5/5; 39/108] START batch_size=128, epochs=20, kernel_size=3, ls=sparse_categorical_crossentropy, num_filters=64, op=rmsprop\n",
      "[CV 5/5; 39/108] END batch_size=128, epochs=20, kernel_size=3, ls=sparse_categorical_crossentropy, num_filters=64, op=rmsprop; accuracy: (train=0.980, test=0.902) f1_macro: (train=0.941, test=0.678) total time= 2.0min\n",
      "[CV 1/5; 40/108] START batch_size=128, epochs=20, kernel_size=3, ls=sparse_categorical_crossentropy, num_filters=64, op=SGD\n",
      "[CV 1/5; 40/108] END batch_size=128, epochs=20, kernel_size=3, ls=sparse_categorical_crossentropy, num_filters=64, op=SGD; accuracy: (train=0.909, test=0.865) f1_macro: (train=0.605, test=0.577) total time= 2.0min\n",
      "[CV 2/5; 40/108] START batch_size=128, epochs=20, kernel_size=3, ls=sparse_categorical_crossentropy, num_filters=64, op=SGD\n",
      "[CV 2/5; 40/108] END batch_size=128, epochs=20, kernel_size=3, ls=sparse_categorical_crossentropy, num_filters=64, op=SGD; accuracy: (train=0.906, test=0.864) f1_macro: (train=0.600, test=0.580) total time= 1.9min\n",
      "[CV 3/5; 40/108] START batch_size=128, epochs=20, kernel_size=3, ls=sparse_categorical_crossentropy, num_filters=64, op=SGD\n",
      "[CV 3/5; 40/108] END batch_size=128, epochs=20, kernel_size=3, ls=sparse_categorical_crossentropy, num_filters=64, op=SGD; accuracy: (train=0.893, test=0.910) f1_macro: (train=0.594, test=0.592) total time= 2.0min\n",
      "[CV 4/5; 40/108] START batch_size=128, epochs=20, kernel_size=3, ls=sparse_categorical_crossentropy, num_filters=64, op=SGD\n",
      "[CV 4/5; 40/108] END batch_size=128, epochs=20, kernel_size=3, ls=sparse_categorical_crossentropy, num_filters=64, op=SGD; accuracy: (train=0.894, test=0.912) f1_macro: (train=0.593, test=0.599) total time= 2.0min\n",
      "[CV 5/5; 40/108] START batch_size=128, epochs=20, kernel_size=3, ls=sparse_categorical_crossentropy, num_filters=64, op=SGD\n",
      "[CV 5/5; 40/108] END batch_size=128, epochs=20, kernel_size=3, ls=sparse_categorical_crossentropy, num_filters=64, op=SGD; accuracy: (train=0.898, test=0.902) f1_macro: (train=0.598, test=0.589) total time= 2.0min\n",
      "[CV 1/5; 41/108] START batch_size=128, epochs=20, kernel_size=3, ls=sparse_categorical_crossentropy, num_filters=128, op=rmsprop\n",
      "[CV 1/5; 41/108] END batch_size=128, epochs=20, kernel_size=3, ls=sparse_categorical_crossentropy, num_filters=128, op=rmsprop; accuracy: (train=0.988, test=0.857) f1_macro: (train=0.972, test=0.692) total time= 2.9min\n",
      "[CV 2/5; 41/108] START batch_size=128, epochs=20, kernel_size=3, ls=sparse_categorical_crossentropy, num_filters=128, op=rmsprop\n",
      "[CV 2/5; 41/108] END batch_size=128, epochs=20, kernel_size=3, ls=sparse_categorical_crossentropy, num_filters=128, op=rmsprop; accuracy: (train=0.987, test=0.837) f1_macro: (train=0.963, test=0.694) total time= 2.9min\n",
      "[CV 3/5; 41/108] START batch_size=128, epochs=20, kernel_size=3, ls=sparse_categorical_crossentropy, num_filters=128, op=rmsprop\n",
      "[CV 3/5; 41/108] END batch_size=128, epochs=20, kernel_size=3, ls=sparse_categorical_crossentropy, num_filters=128, op=rmsprop; accuracy: (train=0.991, test=0.903) f1_macro: (train=0.978, test=0.665) total time= 2.9min\n",
      "[CV 4/5; 41/108] START batch_size=128, epochs=20, kernel_size=3, ls=sparse_categorical_crossentropy, num_filters=128, op=rmsprop\n",
      "[CV 4/5; 41/108] END batch_size=128, epochs=20, kernel_size=3, ls=sparse_categorical_crossentropy, num_filters=128, op=rmsprop; accuracy: (train=0.962, test=0.890) f1_macro: (train=0.942, test=0.668) total time= 2.9min\n",
      "[CV 5/5; 41/108] START batch_size=128, epochs=20, kernel_size=3, ls=sparse_categorical_crossentropy, num_filters=128, op=rmsprop\n",
      "[CV 5/5; 41/108] END batch_size=128, epochs=20, kernel_size=3, ls=sparse_categorical_crossentropy, num_filters=128, op=rmsprop; accuracy: (train=0.992, test=0.906) f1_macro: (train=0.981, test=0.692) total time= 2.9min\n",
      "[CV 1/5; 42/108] START batch_size=128, epochs=20, kernel_size=3, ls=sparse_categorical_crossentropy, num_filters=128, op=SGD\n",
      "[CV 1/5; 42/108] END batch_size=128, epochs=20, kernel_size=3, ls=sparse_categorical_crossentropy, num_filters=128, op=SGD; accuracy: (train=0.911, test=0.867) f1_macro: (train=0.607, test=0.580) total time= 2.9min\n",
      "[CV 2/5; 42/108] START batch_size=128, epochs=20, kernel_size=3, ls=sparse_categorical_crossentropy, num_filters=128, op=SGD\n",
      "[CV 2/5; 42/108] END batch_size=128, epochs=20, kernel_size=3, ls=sparse_categorical_crossentropy, num_filters=128, op=SGD; accuracy: (train=0.911, test=0.866) f1_macro: (train=0.607, test=0.582) total time= 2.9min\n",
      "[CV 3/5; 42/108] START batch_size=128, epochs=20, kernel_size=3, ls=sparse_categorical_crossentropy, num_filters=128, op=SGD\n",
      "[CV 3/5; 42/108] END batch_size=128, epochs=20, kernel_size=3, ls=sparse_categorical_crossentropy, num_filters=128, op=SGD; accuracy: (train=0.900, test=0.915) f1_macro: (train=0.603, test=0.598) total time= 2.9min\n",
      "[CV 4/5; 42/108] START batch_size=128, epochs=20, kernel_size=3, ls=sparse_categorical_crossentropy, num_filters=128, op=SGD\n",
      "[CV 4/5; 42/108] END batch_size=128, epochs=20, kernel_size=3, ls=sparse_categorical_crossentropy, num_filters=128, op=SGD; accuracy: (train=0.898, test=0.917) f1_macro: (train=0.600, test=0.606) total time= 2.9min\n",
      "[CV 5/5; 42/108] START batch_size=128, epochs=20, kernel_size=3, ls=sparse_categorical_crossentropy, num_filters=128, op=SGD\n",
      "[CV 5/5; 42/108] END batch_size=128, epochs=20, kernel_size=3, ls=sparse_categorical_crossentropy, num_filters=128, op=SGD; accuracy: (train=0.902, test=0.907) f1_macro: (train=0.604, test=0.595) total time= 2.9min\n",
      "[CV 1/5; 43/108] START batch_size=128, epochs=20, kernel_size=5, ls=sparse_categorical_crossentropy, num_filters=32, op=rmsprop\n",
      "[CV 1/5; 43/108] END batch_size=128, epochs=20, kernel_size=5, ls=sparse_categorical_crossentropy, num_filters=32, op=rmsprop; accuracy: (train=0.979, test=0.857) f1_macro: (train=0.940, test=0.706) total time= 1.4min\n",
      "[CV 2/5; 43/108] START batch_size=128, epochs=20, kernel_size=5, ls=sparse_categorical_crossentropy, num_filters=32, op=rmsprop\n",
      "[CV 2/5; 43/108] END batch_size=128, epochs=20, kernel_size=5, ls=sparse_categorical_crossentropy, num_filters=32, op=rmsprop; accuracy: (train=0.974, test=0.856) f1_macro: (train=0.918, test=0.688) total time= 1.4min\n",
      "[CV 3/5; 43/108] START batch_size=128, epochs=20, kernel_size=5, ls=sparse_categorical_crossentropy, num_filters=32, op=rmsprop\n",
      "[CV 3/5; 43/108] END batch_size=128, epochs=20, kernel_size=5, ls=sparse_categorical_crossentropy, num_filters=32, op=rmsprop; accuracy: (train=0.938, test=0.884) f1_macro: (train=0.856, test=0.627) total time= 1.4min\n",
      "[CV 4/5; 43/108] START batch_size=128, epochs=20, kernel_size=5, ls=sparse_categorical_crossentropy, num_filters=32, op=rmsprop\n",
      "[CV 4/5; 43/108] END batch_size=128, epochs=20, kernel_size=5, ls=sparse_categorical_crossentropy, num_filters=32, op=rmsprop; accuracy: (train=0.957, test=0.870) f1_macro: (train=0.902, test=0.683) total time= 1.4min\n",
      "[CV 5/5; 43/108] START batch_size=128, epochs=20, kernel_size=5, ls=sparse_categorical_crossentropy, num_filters=32, op=rmsprop\n",
      "[CV 5/5; 43/108] END batch_size=128, epochs=20, kernel_size=5, ls=sparse_categorical_crossentropy, num_filters=32, op=rmsprop; accuracy: (train=0.966, test=0.897) f1_macro: (train=0.910, test=0.688) total time= 1.4min\n",
      "[CV 1/5; 44/108] START batch_size=128, epochs=20, kernel_size=5, ls=sparse_categorical_crossentropy, num_filters=32, op=SGD\n",
      "[CV 1/5; 44/108] END batch_size=128, epochs=20, kernel_size=5, ls=sparse_categorical_crossentropy, num_filters=32, op=SGD; accuracy: (train=0.908, test=0.862) f1_macro: (train=0.603, test=0.572) total time= 1.4min\n",
      "[CV 2/5; 44/108] START batch_size=128, epochs=20, kernel_size=5, ls=sparse_categorical_crossentropy, num_filters=32, op=SGD\n",
      "[CV 2/5; 44/108] END batch_size=128, epochs=20, kernel_size=5, ls=sparse_categorical_crossentropy, num_filters=32, op=SGD; accuracy: (train=0.907, test=0.866) f1_macro: (train=0.601, test=0.581) total time= 1.4min\n",
      "[CV 3/5; 44/108] START batch_size=128, epochs=20, kernel_size=5, ls=sparse_categorical_crossentropy, num_filters=32, op=SGD\n",
      "[CV 3/5; 44/108] END batch_size=128, epochs=20, kernel_size=5, ls=sparse_categorical_crossentropy, num_filters=32, op=SGD; accuracy: (train=0.895, test=0.911) f1_macro: (train=0.597, test=0.594) total time= 1.4min\n",
      "[CV 4/5; 44/108] START batch_size=128, epochs=20, kernel_size=5, ls=sparse_categorical_crossentropy, num_filters=32, op=SGD\n",
      "[CV 4/5; 44/108] END batch_size=128, epochs=20, kernel_size=5, ls=sparse_categorical_crossentropy, num_filters=32, op=SGD; accuracy: (train=0.893, test=0.914) f1_macro: (train=0.594, test=0.603) total time= 1.4min\n",
      "[CV 5/5; 44/108] START batch_size=128, epochs=20, kernel_size=5, ls=sparse_categorical_crossentropy, num_filters=32, op=SGD\n",
      "[CV 5/5; 44/108] END batch_size=128, epochs=20, kernel_size=5, ls=sparse_categorical_crossentropy, num_filters=32, op=SGD; accuracy: (train=0.897, test=0.904) f1_macro: (train=0.598, test=0.591) total time= 1.4min\n",
      "[CV 1/5; 45/108] START batch_size=128, epochs=20, kernel_size=5, ls=sparse_categorical_crossentropy, num_filters=64, op=rmsprop\n",
      "[CV 1/5; 45/108] END batch_size=128, epochs=20, kernel_size=5, ls=sparse_categorical_crossentropy, num_filters=64, op=rmsprop; accuracy: (train=0.991, test=0.857) f1_macro: (train=0.977, test=0.705) total time= 2.2min\n",
      "[CV 2/5; 45/108] START batch_size=128, epochs=20, kernel_size=5, ls=sparse_categorical_crossentropy, num_filters=64, op=rmsprop\n",
      "[CV 2/5; 45/108] END batch_size=128, epochs=20, kernel_size=5, ls=sparse_categorical_crossentropy, num_filters=64, op=rmsprop; accuracy: (train=0.993, test=0.856) f1_macro: (train=0.981, test=0.678) total time= 2.3min\n",
      "[CV 3/5; 45/108] START batch_size=128, epochs=20, kernel_size=5, ls=sparse_categorical_crossentropy, num_filters=64, op=rmsprop\n",
      "[CV 3/5; 45/108] END batch_size=128, epochs=20, kernel_size=5, ls=sparse_categorical_crossentropy, num_filters=64, op=rmsprop; accuracy: (train=0.980, test=0.911) f1_macro: (train=0.943, test=0.643) total time= 2.3min\n",
      "[CV 4/5; 45/108] START batch_size=128, epochs=20, kernel_size=5, ls=sparse_categorical_crossentropy, num_filters=64, op=rmsprop\n",
      "[CV 4/5; 45/108] END batch_size=128, epochs=20, kernel_size=5, ls=sparse_categorical_crossentropy, num_filters=64, op=rmsprop; accuracy: (train=0.988, test=0.896) f1_macro: (train=0.972, test=0.667) total time= 2.3min\n",
      "[CV 5/5; 45/108] START batch_size=128, epochs=20, kernel_size=5, ls=sparse_categorical_crossentropy, num_filters=64, op=rmsprop\n",
      "[CV 5/5; 45/108] END batch_size=128, epochs=20, kernel_size=5, ls=sparse_categorical_crossentropy, num_filters=64, op=rmsprop; accuracy: (train=0.981, test=0.899) f1_macro: (train=0.949, test=0.655) total time= 2.3min\n",
      "[CV 1/5; 46/108] START batch_size=128, epochs=20, kernel_size=5, ls=sparse_categorical_crossentropy, num_filters=64, op=SGD\n",
      "[CV 1/5; 46/108] END batch_size=128, epochs=20, kernel_size=5, ls=sparse_categorical_crossentropy, num_filters=64, op=SGD; accuracy: (train=0.911, test=0.865) f1_macro: (train=0.607, test=0.577) total time= 2.3min\n",
      "[CV 2/5; 46/108] START batch_size=128, epochs=20, kernel_size=5, ls=sparse_categorical_crossentropy, num_filters=64, op=SGD\n",
      "[CV 2/5; 46/108] END batch_size=128, epochs=20, kernel_size=5, ls=sparse_categorical_crossentropy, num_filters=64, op=SGD; accuracy: (train=0.911, test=0.867) f1_macro: (train=0.606, test=0.583) total time= 2.3min\n",
      "[CV 3/5; 46/108] START batch_size=128, epochs=20, kernel_size=5, ls=sparse_categorical_crossentropy, num_filters=64, op=SGD\n",
      "[CV 3/5; 46/108] END batch_size=128, epochs=20, kernel_size=5, ls=sparse_categorical_crossentropy, num_filters=64, op=SGD; accuracy: (train=0.897, test=0.913) f1_macro: (train=0.599, test=0.596) total time= 2.3min\n",
      "[CV 4/5; 46/108] START batch_size=128, epochs=20, kernel_size=5, ls=sparse_categorical_crossentropy, num_filters=64, op=SGD\n",
      "[CV 4/5; 46/108] END batch_size=128, epochs=20, kernel_size=5, ls=sparse_categorical_crossentropy, num_filters=64, op=SGD; accuracy: (train=0.899, test=0.915) f1_macro: (train=0.600, test=0.604) total time= 2.3min\n",
      "[CV 5/5; 46/108] START batch_size=128, epochs=20, kernel_size=5, ls=sparse_categorical_crossentropy, num_filters=64, op=SGD\n",
      "[CV 5/5; 46/108] END batch_size=128, epochs=20, kernel_size=5, ls=sparse_categorical_crossentropy, num_filters=64, op=SGD; accuracy: (train=0.900, test=0.906) f1_macro: (train=0.602, test=0.594) total time= 2.3min\n",
      "[CV 1/5; 47/108] START batch_size=128, epochs=20, kernel_size=5, ls=sparse_categorical_crossentropy, num_filters=128, op=rmsprop\n",
      "[CV 1/5; 47/108] END batch_size=128, epochs=20, kernel_size=5, ls=sparse_categorical_crossentropy, num_filters=128, op=rmsprop; accuracy: (train=0.954, test=0.798) f1_macro: (train=0.889, test=0.680) total time= 3.4min\n",
      "[CV 2/5; 47/108] START batch_size=128, epochs=20, kernel_size=5, ls=sparse_categorical_crossentropy, num_filters=128, op=rmsprop\n",
      "[CV 2/5; 47/108] END batch_size=128, epochs=20, kernel_size=5, ls=sparse_categorical_crossentropy, num_filters=128, op=rmsprop; accuracy: (train=0.995, test=0.857) f1_macro: (train=0.986, test=0.692) total time= 3.4min\n",
      "[CV 3/5; 47/108] START batch_size=128, epochs=20, kernel_size=5, ls=sparse_categorical_crossentropy, num_filters=128, op=rmsprop\n",
      "[CV 3/5; 47/108] END batch_size=128, epochs=20, kernel_size=5, ls=sparse_categorical_crossentropy, num_filters=128, op=rmsprop; accuracy: (train=0.993, test=0.910) f1_macro: (train=0.983, test=0.686) total time= 3.4min\n",
      "[CV 4/5; 47/108] START batch_size=128, epochs=20, kernel_size=5, ls=sparse_categorical_crossentropy, num_filters=128, op=rmsprop\n",
      "[CV 4/5; 47/108] END batch_size=128, epochs=20, kernel_size=5, ls=sparse_categorical_crossentropy, num_filters=128, op=rmsprop; accuracy: (train=0.992, test=0.908) f1_macro: (train=0.980, test=0.676) total time= 3.4min\n",
      "[CV 5/5; 47/108] START batch_size=128, epochs=20, kernel_size=5, ls=sparse_categorical_crossentropy, num_filters=128, op=rmsprop\n",
      "[CV 5/5; 47/108] END batch_size=128, epochs=20, kernel_size=5, ls=sparse_categorical_crossentropy, num_filters=128, op=rmsprop; accuracy: (train=0.993, test=0.898) f1_macro: (train=0.983, test=0.690) total time= 3.4min\n",
      "[CV 1/5; 48/108] START batch_size=128, epochs=20, kernel_size=5, ls=sparse_categorical_crossentropy, num_filters=128, op=SGD\n",
      "[CV 1/5; 48/108] END batch_size=128, epochs=20, kernel_size=5, ls=sparse_categorical_crossentropy, num_filters=128, op=SGD; accuracy: (train=0.914, test=0.866) f1_macro: (train=0.611, test=0.577) total time= 3.3min\n",
      "[CV 2/5; 48/108] START batch_size=128, epochs=20, kernel_size=5, ls=sparse_categorical_crossentropy, num_filters=128, op=SGD\n",
      "[CV 2/5; 48/108] END batch_size=128, epochs=20, kernel_size=5, ls=sparse_categorical_crossentropy, num_filters=128, op=SGD; accuracy: (train=0.916, test=0.868) f1_macro: (train=0.612, test=0.584) total time= 3.4min\n",
      "[CV 3/5; 48/108] START batch_size=128, epochs=20, kernel_size=5, ls=sparse_categorical_crossentropy, num_filters=128, op=SGD\n",
      "[CV 3/5; 48/108] END batch_size=128, epochs=20, kernel_size=5, ls=sparse_categorical_crossentropy, num_filters=128, op=SGD; accuracy: (train=0.900, test=0.916) f1_macro: (train=0.604, test=0.600) total time= 3.4min\n",
      "[CV 4/5; 48/108] START batch_size=128, epochs=20, kernel_size=5, ls=sparse_categorical_crossentropy, num_filters=128, op=SGD\n",
      "[CV 4/5; 48/108] END batch_size=128, epochs=20, kernel_size=5, ls=sparse_categorical_crossentropy, num_filters=128, op=SGD; accuracy: (train=0.903, test=0.916) f1_macro: (train=0.606, test=0.604) total time= 3.4min\n",
      "[CV 5/5; 48/108] START batch_size=128, epochs=20, kernel_size=5, ls=sparse_categorical_crossentropy, num_filters=128, op=SGD\n",
      "[CV 5/5; 48/108] END batch_size=128, epochs=20, kernel_size=5, ls=sparse_categorical_crossentropy, num_filters=128, op=SGD; accuracy: (train=0.905, test=0.908) f1_macro: (train=0.607, test=0.597) total time= 3.4min\n",
      "[CV 1/5; 49/108] START batch_size=128, epochs=20, kernel_size=7, ls=sparse_categorical_crossentropy, num_filters=32, op=rmsprop\n",
      "[CV 1/5; 49/108] END batch_size=128, epochs=20, kernel_size=7, ls=sparse_categorical_crossentropy, num_filters=32, op=rmsprop; accuracy: (train=0.979, test=0.857) f1_macro: (train=0.934, test=0.696) total time= 2.0min\n",
      "[CV 2/5; 49/108] START batch_size=128, epochs=20, kernel_size=7, ls=sparse_categorical_crossentropy, num_filters=32, op=rmsprop\n",
      "[CV 2/5; 49/108] END batch_size=128, epochs=20, kernel_size=7, ls=sparse_categorical_crossentropy, num_filters=32, op=rmsprop; accuracy: (train=0.984, test=0.851) f1_macro: (train=0.952, test=0.687) total time= 2.0min\n",
      "[CV 3/5; 49/108] START batch_size=128, epochs=20, kernel_size=7, ls=sparse_categorical_crossentropy, num_filters=32, op=rmsprop\n",
      "[CV 3/5; 49/108] END batch_size=128, epochs=20, kernel_size=7, ls=sparse_categorical_crossentropy, num_filters=32, op=rmsprop; accuracy: (train=0.949, test=0.885) f1_macro: (train=0.905, test=0.665) total time= 2.0min\n",
      "[CV 4/5; 49/108] START batch_size=128, epochs=20, kernel_size=7, ls=sparse_categorical_crossentropy, num_filters=32, op=rmsprop\n",
      "[CV 4/5; 49/108] END batch_size=128, epochs=20, kernel_size=7, ls=sparse_categorical_crossentropy, num_filters=32, op=rmsprop; accuracy: (train=0.974, test=0.894) f1_macro: (train=0.933, test=0.675) total time= 2.0min\n",
      "[CV 5/5; 49/108] START batch_size=128, epochs=20, kernel_size=7, ls=sparse_categorical_crossentropy, num_filters=32, op=rmsprop\n",
      "[CV 5/5; 49/108] END batch_size=128, epochs=20, kernel_size=7, ls=sparse_categorical_crossentropy, num_filters=32, op=rmsprop; accuracy: (train=0.970, test=0.900) f1_macro: (train=0.914, test=0.682) total time= 1.8min\n",
      "[CV 1/5; 50/108] START batch_size=128, epochs=20, kernel_size=7, ls=sparse_categorical_crossentropy, num_filters=32, op=SGD\n",
      "[CV 1/5; 50/108] END batch_size=128, epochs=20, kernel_size=7, ls=sparse_categorical_crossentropy, num_filters=32, op=SGD; accuracy: (train=0.908, test=0.859) f1_macro: (train=0.604, test=0.568) total time= 2.0min\n",
      "[CV 2/5; 50/108] START batch_size=128, epochs=20, kernel_size=7, ls=sparse_categorical_crossentropy, num_filters=32, op=SGD\n",
      "[CV 2/5; 50/108] END batch_size=128, epochs=20, kernel_size=7, ls=sparse_categorical_crossentropy, num_filters=32, op=SGD; accuracy: (train=0.908, test=0.860) f1_macro: (train=0.603, test=0.575) total time= 2.0min\n",
      "[CV 3/5; 50/108] START batch_size=128, epochs=20, kernel_size=7, ls=sparse_categorical_crossentropy, num_filters=32, op=SGD\n",
      "[CV 3/5; 50/108] END batch_size=128, epochs=20, kernel_size=7, ls=sparse_categorical_crossentropy, num_filters=32, op=SGD; accuracy: (train=0.895, test=0.907) f1_macro: (train=0.597, test=0.587) total time= 2.0min\n",
      "[CV 4/5; 50/108] START batch_size=128, epochs=20, kernel_size=7, ls=sparse_categorical_crossentropy, num_filters=32, op=SGD\n",
      "[CV 4/5; 50/108] END batch_size=128, epochs=20, kernel_size=7, ls=sparse_categorical_crossentropy, num_filters=32, op=SGD; accuracy: (train=0.897, test=0.912) f1_macro: (train=0.598, test=0.600) total time= 2.0min\n",
      "[CV 5/5; 50/108] START batch_size=128, epochs=20, kernel_size=7, ls=sparse_categorical_crossentropy, num_filters=32, op=SGD\n",
      "[CV 5/5; 50/108] END batch_size=128, epochs=20, kernel_size=7, ls=sparse_categorical_crossentropy, num_filters=32, op=SGD; accuracy: (train=0.896, test=0.902) f1_macro: (train=0.597, test=0.589) total time= 1.9min\n",
      "[CV 1/5; 51/108] START batch_size=128, epochs=20, kernel_size=7, ls=sparse_categorical_crossentropy, num_filters=64, op=rmsprop\n",
      "[CV 1/5; 51/108] END batch_size=128, epochs=20, kernel_size=7, ls=sparse_categorical_crossentropy, num_filters=64, op=rmsprop; accuracy: (train=0.992, test=0.854) f1_macro: (train=0.979, test=0.696) total time= 2.6min\n",
      "[CV 2/5; 51/108] START batch_size=128, epochs=20, kernel_size=7, ls=sparse_categorical_crossentropy, num_filters=64, op=rmsprop\n",
      "[CV 2/5; 51/108] END batch_size=128, epochs=20, kernel_size=7, ls=sparse_categorical_crossentropy, num_filters=64, op=rmsprop; accuracy: (train=0.989, test=0.858) f1_macro: (train=0.974, test=0.700) total time= 2.6min\n",
      "[CV 3/5; 51/108] START batch_size=128, epochs=20, kernel_size=7, ls=sparse_categorical_crossentropy, num_filters=64, op=rmsprop\n",
      "[CV 3/5; 51/108] END batch_size=128, epochs=20, kernel_size=7, ls=sparse_categorical_crossentropy, num_filters=64, op=rmsprop; accuracy: (train=0.985, test=0.898) f1_macro: (train=0.962, test=0.660) total time= 2.6min\n",
      "[CV 4/5; 51/108] START batch_size=128, epochs=20, kernel_size=7, ls=sparse_categorical_crossentropy, num_filters=64, op=rmsprop\n",
      "[CV 4/5; 51/108] END batch_size=128, epochs=20, kernel_size=7, ls=sparse_categorical_crossentropy, num_filters=64, op=rmsprop; accuracy: (train=0.987, test=0.903) f1_macro: (train=0.966, test=0.664) total time= 2.7min\n",
      "[CV 5/5; 51/108] START batch_size=128, epochs=20, kernel_size=7, ls=sparse_categorical_crossentropy, num_filters=64, op=rmsprop\n",
      "[CV 5/5; 51/108] END batch_size=128, epochs=20, kernel_size=7, ls=sparse_categorical_crossentropy, num_filters=64, op=rmsprop; accuracy: (train=0.985, test=0.886) f1_macro: (train=0.963, test=0.688) total time= 2.7min\n",
      "[CV 1/5; 52/108] START batch_size=128, epochs=20, kernel_size=7, ls=sparse_categorical_crossentropy, num_filters=64, op=SGD\n",
      "[CV 1/5; 52/108] END batch_size=128, epochs=20, kernel_size=7, ls=sparse_categorical_crossentropy, num_filters=64, op=SGD; accuracy: (train=0.914, test=0.863) f1_macro: (train=0.610, test=0.576) total time= 2.6min\n",
      "[CV 2/5; 52/108] START batch_size=128, epochs=20, kernel_size=7, ls=sparse_categorical_crossentropy, num_filters=64, op=SGD\n",
      "[CV 2/5; 52/108] END batch_size=128, epochs=20, kernel_size=7, ls=sparse_categorical_crossentropy, num_filters=64, op=SGD; accuracy: (train=0.913, test=0.866) f1_macro: (train=0.609, test=0.581) total time= 2.6min\n",
      "[CV 3/5; 52/108] START batch_size=128, epochs=20, kernel_size=7, ls=sparse_categorical_crossentropy, num_filters=64, op=SGD\n",
      "[CV 3/5; 52/108] END batch_size=128, epochs=20, kernel_size=7, ls=sparse_categorical_crossentropy, num_filters=64, op=SGD; accuracy: (train=0.900, test=0.910) f1_macro: (train=0.603, test=0.592) total time= 2.6min\n",
      "[CV 4/5; 52/108] START batch_size=128, epochs=20, kernel_size=7, ls=sparse_categorical_crossentropy, num_filters=64, op=SGD\n",
      "[CV 4/5; 52/108] END batch_size=128, epochs=20, kernel_size=7, ls=sparse_categorical_crossentropy, num_filters=64, op=SGD; accuracy: (train=0.901, test=0.914) f1_macro: (train=0.603, test=0.603) total time= 2.6min\n",
      "[CV 5/5; 52/108] START batch_size=128, epochs=20, kernel_size=7, ls=sparse_categorical_crossentropy, num_filters=64, op=SGD\n",
      "[CV 5/5; 52/108] END batch_size=128, epochs=20, kernel_size=7, ls=sparse_categorical_crossentropy, num_filters=64, op=SGD; accuracy: (train=0.902, test=0.904) f1_macro: (train=0.604, test=0.592) total time= 2.6min\n",
      "[CV 1/5; 53/108] START batch_size=128, epochs=20, kernel_size=7, ls=sparse_categorical_crossentropy, num_filters=128, op=rmsprop\n",
      "[CV 1/5; 53/108] END batch_size=128, epochs=20, kernel_size=7, ls=sparse_categorical_crossentropy, num_filters=128, op=rmsprop; accuracy: (train=0.992, test=0.858) f1_macro: (train=0.977, test=0.714) total time= 3.9min\n",
      "[CV 2/5; 53/108] START batch_size=128, epochs=20, kernel_size=7, ls=sparse_categorical_crossentropy, num_filters=128, op=rmsprop\n",
      "[CV 2/5; 53/108] END batch_size=128, epochs=20, kernel_size=7, ls=sparse_categorical_crossentropy, num_filters=128, op=rmsprop; accuracy: (train=0.995, test=0.856) f1_macro: (train=0.986, test=0.689) total time= 3.8min\n",
      "[CV 3/5; 53/108] START batch_size=128, epochs=20, kernel_size=7, ls=sparse_categorical_crossentropy, num_filters=128, op=rmsprop\n",
      "[CV 3/5; 53/108] END batch_size=128, epochs=20, kernel_size=7, ls=sparse_categorical_crossentropy, num_filters=128, op=rmsprop; accuracy: (train=0.993, test=0.899) f1_macro: (train=0.981, test=0.674) total time= 3.9min\n",
      "[CV 4/5; 53/108] START batch_size=128, epochs=20, kernel_size=7, ls=sparse_categorical_crossentropy, num_filters=128, op=rmsprop\n",
      "[CV 4/5; 53/108] END batch_size=128, epochs=20, kernel_size=7, ls=sparse_categorical_crossentropy, num_filters=128, op=rmsprop; accuracy: (train=0.984, test=0.896) f1_macro: (train=0.967, test=0.653) total time= 3.9min\n",
      "[CV 5/5; 53/108] START batch_size=128, epochs=20, kernel_size=7, ls=sparse_categorical_crossentropy, num_filters=128, op=rmsprop\n",
      "[CV 5/5; 53/108] END batch_size=128, epochs=20, kernel_size=7, ls=sparse_categorical_crossentropy, num_filters=128, op=rmsprop; accuracy: (train=0.993, test=0.897) f1_macro: (train=0.984, test=0.687) total time= 4.0min\n",
      "[CV 1/5; 54/108] START batch_size=128, epochs=20, kernel_size=7, ls=sparse_categorical_crossentropy, num_filters=128, op=SGD\n",
      "[CV 1/5; 54/108] END batch_size=128, epochs=20, kernel_size=7, ls=sparse_categorical_crossentropy, num_filters=128, op=SGD; accuracy: (train=0.916, test=0.865) f1_macro: (train=0.613, test=0.576) total time= 3.9min\n",
      "[CV 2/5; 54/108] START batch_size=128, epochs=20, kernel_size=7, ls=sparse_categorical_crossentropy, num_filters=128, op=SGD\n",
      "[CV 2/5; 54/108] END batch_size=128, epochs=20, kernel_size=7, ls=sparse_categorical_crossentropy, num_filters=128, op=SGD; accuracy: (train=0.915, test=0.865) f1_macro: (train=0.611, test=0.580) total time= 3.9min\n",
      "[CV 3/5; 54/108] START batch_size=128, epochs=20, kernel_size=7, ls=sparse_categorical_crossentropy, num_filters=128, op=SGD\n",
      "[CV 3/5; 54/108] END batch_size=128, epochs=20, kernel_size=7, ls=sparse_categorical_crossentropy, num_filters=128, op=SGD; accuracy: (train=0.904, test=0.914) f1_macro: (train=0.608, test=0.597) total time= 3.9min\n",
      "[CV 4/5; 54/108] START batch_size=128, epochs=20, kernel_size=7, ls=sparse_categorical_crossentropy, num_filters=128, op=SGD\n",
      "[CV 4/5; 54/108] END batch_size=128, epochs=20, kernel_size=7, ls=sparse_categorical_crossentropy, num_filters=128, op=SGD; accuracy: (train=0.904, test=0.915) f1_macro: (train=0.608, test=0.603) total time= 3.9min\n",
      "[CV 5/5; 54/108] START batch_size=128, epochs=20, kernel_size=7, ls=sparse_categorical_crossentropy, num_filters=128, op=SGD\n",
      "[CV 5/5; 54/108] END batch_size=128, epochs=20, kernel_size=7, ls=sparse_categorical_crossentropy, num_filters=128, op=SGD; accuracy: (train=0.906, test=0.906) f1_macro: (train=0.608, test=0.596) total time= 3.9min\n",
      "[CV 1/5; 55/108] START batch_size=256, epochs=10, kernel_size=3, ls=sparse_categorical_crossentropy, num_filters=32, op=rmsprop\n",
      "[CV 1/5; 55/108] END batch_size=256, epochs=10, kernel_size=3, ls=sparse_categorical_crossentropy, num_filters=32, op=rmsprop; accuracy: (train=0.935, test=0.870) f1_macro: (train=0.724, test=0.659) total time=  36.7s\n",
      "[CV 2/5; 55/108] START batch_size=256, epochs=10, kernel_size=3, ls=sparse_categorical_crossentropy, num_filters=32, op=rmsprop\n",
      "[CV 2/5; 55/108] END batch_size=256, epochs=10, kernel_size=3, ls=sparse_categorical_crossentropy, num_filters=32, op=rmsprop; accuracy: (train=0.936, test=0.869) f1_macro: (train=0.706, test=0.623) total time=  38.2s\n",
      "[CV 3/5; 55/108] START batch_size=256, epochs=10, kernel_size=3, ls=sparse_categorical_crossentropy, num_filters=32, op=rmsprop\n",
      "[CV 3/5; 55/108] END batch_size=256, epochs=10, kernel_size=3, ls=sparse_categorical_crossentropy, num_filters=32, op=rmsprop; accuracy: (train=0.919, test=0.912) f1_macro: (train=0.629, test=0.595) total time=  37.2s\n",
      "[CV 4/5; 55/108] START batch_size=256, epochs=10, kernel_size=3, ls=sparse_categorical_crossentropy, num_filters=32, op=rmsprop\n",
      "[CV 4/5; 55/108] END batch_size=256, epochs=10, kernel_size=3, ls=sparse_categorical_crossentropy, num_filters=32, op=rmsprop; accuracy: (train=0.923, test=0.919) f1_macro: (train=0.784, test=0.715) total time=  36.6s\n",
      "[CV 5/5; 55/108] START batch_size=256, epochs=10, kernel_size=3, ls=sparse_categorical_crossentropy, num_filters=32, op=rmsprop\n",
      "[CV 5/5; 55/108] END batch_size=256, epochs=10, kernel_size=3, ls=sparse_categorical_crossentropy, num_filters=32, op=rmsprop; accuracy: (train=0.927, test=0.910) f1_macro: (train=0.715, test=0.657) total time=  36.2s\n",
      "[CV 1/5; 56/108] START batch_size=256, epochs=10, kernel_size=3, ls=sparse_categorical_crossentropy, num_filters=32, op=SGD\n",
      "[CV 1/5; 56/108] END batch_size=256, epochs=10, kernel_size=3, ls=sparse_categorical_crossentropy, num_filters=32, op=SGD; accuracy: (train=0.847, test=0.815) f1_macro: (train=0.507, test=0.490) total time=  35.6s\n",
      "[CV 2/5; 56/108] START batch_size=256, epochs=10, kernel_size=3, ls=sparse_categorical_crossentropy, num_filters=32, op=SGD\n",
      "[CV 2/5; 56/108] END batch_size=256, epochs=10, kernel_size=3, ls=sparse_categorical_crossentropy, num_filters=32, op=SGD; accuracy: (train=0.837, test=0.788) f1_macro: (train=0.479, test=0.443) total time=  35.7s\n",
      "[CV 3/5; 56/108] START batch_size=256, epochs=10, kernel_size=3, ls=sparse_categorical_crossentropy, num_filters=32, op=SGD\n",
      "[CV 3/5; 56/108] END batch_size=256, epochs=10, kernel_size=3, ls=sparse_categorical_crossentropy, num_filters=32, op=SGD; accuracy: (train=0.768, test=0.800) f1_macro: (train=0.290, test=0.296) total time=  35.7s\n",
      "[CV 4/5; 56/108] START batch_size=256, epochs=10, kernel_size=3, ls=sparse_categorical_crossentropy, num_filters=32, op=SGD\n",
      "[CV 4/5; 56/108] END batch_size=256, epochs=10, kernel_size=3, ls=sparse_categorical_crossentropy, num_filters=32, op=SGD; accuracy: (train=0.772, test=0.785) f1_macro: (train=0.292, test=0.296) total time=  37.9s\n",
      "[CV 5/5; 56/108] START batch_size=256, epochs=10, kernel_size=3, ls=sparse_categorical_crossentropy, num_filters=32, op=SGD\n",
      "[CV 5/5; 56/108] END batch_size=256, epochs=10, kernel_size=3, ls=sparse_categorical_crossentropy, num_filters=32, op=SGD; accuracy: (train=0.859, test=0.878) f1_macro: (train=0.545, test=0.552) total time=  39.6s\n",
      "[CV 1/5; 57/108] START batch_size=256, epochs=10, kernel_size=3, ls=sparse_categorical_crossentropy, num_filters=64, op=rmsprop\n",
      "[CV 1/5; 57/108] END batch_size=256, epochs=10, kernel_size=3, ls=sparse_categorical_crossentropy, num_filters=64, op=rmsprop; accuracy: (train=0.947, test=0.871) f1_macro: (train=0.784, test=0.685) total time= 1.0min\n",
      "[CV 2/5; 57/108] START batch_size=256, epochs=10, kernel_size=3, ls=sparse_categorical_crossentropy, num_filters=64, op=rmsprop\n",
      "[CV 2/5; 57/108] END batch_size=256, epochs=10, kernel_size=3, ls=sparse_categorical_crossentropy, num_filters=64, op=rmsprop; accuracy: (train=0.949, test=0.865) f1_macro: (train=0.792, test=0.666) total time=  59.9s\n",
      "[CV 3/5; 57/108] START batch_size=256, epochs=10, kernel_size=3, ls=sparse_categorical_crossentropy, num_filters=64, op=rmsprop\n",
      "[CV 3/5; 57/108] END batch_size=256, epochs=10, kernel_size=3, ls=sparse_categorical_crossentropy, num_filters=64, op=rmsprop; accuracy: (train=0.949, test=0.915) f1_macro: (train=0.855, test=0.718) total time=  58.6s\n",
      "[CV 4/5; 57/108] START batch_size=256, epochs=10, kernel_size=3, ls=sparse_categorical_crossentropy, num_filters=64, op=rmsprop\n",
      "[CV 4/5; 57/108] END batch_size=256, epochs=10, kernel_size=3, ls=sparse_categorical_crossentropy, num_filters=64, op=rmsprop; accuracy: (train=0.947, test=0.907) f1_macro: (train=0.851, test=0.703) total time=  57.3s\n",
      "[CV 5/5; 57/108] START batch_size=256, epochs=10, kernel_size=3, ls=sparse_categorical_crossentropy, num_filters=64, op=rmsprop\n",
      "[CV 5/5; 57/108] END batch_size=256, epochs=10, kernel_size=3, ls=sparse_categorical_crossentropy, num_filters=64, op=rmsprop; accuracy: (train=0.944, test=0.902) f1_macro: (train=0.844, test=0.704) total time=  55.8s\n",
      "[CV 1/5; 58/108] START batch_size=256, epochs=10, kernel_size=3, ls=sparse_categorical_crossentropy, num_filters=64, op=SGD\n",
      "[CV 1/5; 58/108] END batch_size=256, epochs=10, kernel_size=3, ls=sparse_categorical_crossentropy, num_filters=64, op=SGD; accuracy: (train=0.886, test=0.845) f1_macro: (train=0.576, test=0.550) total time=  55.5s\n",
      "[CV 2/5; 58/108] START batch_size=256, epochs=10, kernel_size=3, ls=sparse_categorical_crossentropy, num_filters=64, op=SGD\n",
      "[CV 2/5; 58/108] END batch_size=256, epochs=10, kernel_size=3, ls=sparse_categorical_crossentropy, num_filters=64, op=SGD; accuracy: (train=0.873, test=0.828) f1_macro: (train=0.553, test=0.529) total time=  56.5s\n",
      "[CV 3/5; 58/108] START batch_size=256, epochs=10, kernel_size=3, ls=sparse_categorical_crossentropy, num_filters=64, op=SGD\n",
      "[CV 3/5; 58/108] END batch_size=256, epochs=10, kernel_size=3, ls=sparse_categorical_crossentropy, num_filters=64, op=SGD; accuracy: (train=0.865, test=0.889) f1_macro: (train=0.555, test=0.560) total time= 1.0min\n",
      "[CV 4/5; 58/108] START batch_size=256, epochs=10, kernel_size=3, ls=sparse_categorical_crossentropy, num_filters=64, op=SGD\n",
      "[CV 4/5; 58/108] END batch_size=256, epochs=10, kernel_size=3, ls=sparse_categorical_crossentropy, num_filters=64, op=SGD; accuracy: (train=0.854, test=0.883) f1_macro: (train=0.535, test=0.558) total time= 1.1min\n",
      "[CV 5/5; 58/108] START batch_size=256, epochs=10, kernel_size=3, ls=sparse_categorical_crossentropy, num_filters=64, op=SGD\n",
      "[CV 5/5; 58/108] END batch_size=256, epochs=10, kernel_size=3, ls=sparse_categorical_crossentropy, num_filters=64, op=SGD; accuracy: (train=0.857, test=0.873) f1_macro: (train=0.543, test=0.547) total time= 1.0min\n",
      "[CV 1/5; 59/108] START batch_size=256, epochs=10, kernel_size=3, ls=sparse_categorical_crossentropy, num_filters=128, op=rmsprop\n",
      "[CV 1/5; 59/108] END batch_size=256, epochs=10, kernel_size=3, ls=sparse_categorical_crossentropy, num_filters=128, op=rmsprop; accuracy: (train=0.967, test=0.877) f1_macro: (train=0.886, test=0.727) total time= 1.6min\n",
      "[CV 2/5; 59/108] START batch_size=256, epochs=10, kernel_size=3, ls=sparse_categorical_crossentropy, num_filters=128, op=rmsprop\n",
      "[CV 2/5; 59/108] END batch_size=256, epochs=10, kernel_size=3, ls=sparse_categorical_crossentropy, num_filters=128, op=rmsprop; accuracy: (train=0.971, test=0.871) f1_macro: (train=0.901, test=0.705) total time= 1.6min\n",
      "[CV 3/5; 59/108] START batch_size=256, epochs=10, kernel_size=3, ls=sparse_categorical_crossentropy, num_filters=128, op=rmsprop\n",
      "[CV 3/5; 59/108] END batch_size=256, epochs=10, kernel_size=3, ls=sparse_categorical_crossentropy, num_filters=128, op=rmsprop; accuracy: (train=0.949, test=0.918) f1_macro: (train=0.824, test=0.671) total time= 1.6min\n",
      "[CV 4/5; 59/108] START batch_size=256, epochs=10, kernel_size=3, ls=sparse_categorical_crossentropy, num_filters=128, op=rmsprop\n",
      "[CV 4/5; 59/108] END batch_size=256, epochs=10, kernel_size=3, ls=sparse_categorical_crossentropy, num_filters=128, op=rmsprop; accuracy: (train=0.965, test=0.910) f1_macro: (train=0.904, test=0.698) total time= 1.5min\n",
      "[CV 5/5; 59/108] START batch_size=256, epochs=10, kernel_size=3, ls=sparse_categorical_crossentropy, num_filters=128, op=rmsprop\n",
      "[CV 5/5; 59/108] END batch_size=256, epochs=10, kernel_size=3, ls=sparse_categorical_crossentropy, num_filters=128, op=rmsprop; accuracy: (train=0.967, test=0.905) f1_macro: (train=0.911, test=0.719) total time= 1.5min\n",
      "[CV 1/5; 60/108] START batch_size=256, epochs=10, kernel_size=3, ls=sparse_categorical_crossentropy, num_filters=128, op=SGD\n",
      "[CV 1/5; 60/108] END batch_size=256, epochs=10, kernel_size=3, ls=sparse_categorical_crossentropy, num_filters=128, op=SGD; accuracy: (train=0.877, test=0.839) f1_macro: (train=0.561, test=0.537) total time= 1.6min\n",
      "[CV 2/5; 60/108] START batch_size=256, epochs=10, kernel_size=3, ls=sparse_categorical_crossentropy, num_filters=128, op=SGD\n",
      "[CV 2/5; 60/108] END batch_size=256, epochs=10, kernel_size=3, ls=sparse_categorical_crossentropy, num_filters=128, op=SGD; accuracy: (train=0.875, test=0.834) f1_macro: (train=0.558, test=0.539) total time= 1.7min\n",
      "[CV 3/5; 60/108] START batch_size=256, epochs=10, kernel_size=3, ls=sparse_categorical_crossentropy, num_filters=128, op=SGD\n",
      "[CV 3/5; 60/108] END batch_size=256, epochs=10, kernel_size=3, ls=sparse_categorical_crossentropy, num_filters=128, op=SGD; accuracy: (train=0.870, test=0.894) f1_macro: (train=0.563, test=0.568) total time= 1.7min\n",
      "[CV 4/5; 60/108] START batch_size=256, epochs=10, kernel_size=3, ls=sparse_categorical_crossentropy, num_filters=128, op=SGD\n",
      "[CV 4/5; 60/108] END batch_size=256, epochs=10, kernel_size=3, ls=sparse_categorical_crossentropy, num_filters=128, op=SGD; accuracy: (train=0.868, test=0.899) f1_macro: (train=0.558, test=0.582) total time= 1.7min\n",
      "[CV 5/5; 60/108] START batch_size=256, epochs=10, kernel_size=3, ls=sparse_categorical_crossentropy, num_filters=128, op=SGD\n",
      "[CV 5/5; 60/108] END batch_size=256, epochs=10, kernel_size=3, ls=sparse_categorical_crossentropy, num_filters=128, op=SGD; accuracy: (train=0.861, test=0.879) f1_macro: (train=0.548, test=0.553) total time= 1.7min\n",
      "[CV 1/5; 61/108] START batch_size=256, epochs=10, kernel_size=5, ls=sparse_categorical_crossentropy, num_filters=32, op=rmsprop\n",
      "[CV 1/5; 61/108] END batch_size=256, epochs=10, kernel_size=5, ls=sparse_categorical_crossentropy, num_filters=32, op=rmsprop; accuracy: (train=0.937, test=0.868) f1_macro: (train=0.685, test=0.614) total time=  42.8s\n",
      "[CV 2/5; 61/108] START batch_size=256, epochs=10, kernel_size=5, ls=sparse_categorical_crossentropy, num_filters=32, op=rmsprop\n",
      "[CV 2/5; 61/108] END batch_size=256, epochs=10, kernel_size=5, ls=sparse_categorical_crossentropy, num_filters=32, op=rmsprop; accuracy: (train=0.946, test=0.861) f1_macro: (train=0.831, test=0.700) total time=  41.8s\n",
      "[CV 3/5; 61/108] START batch_size=256, epochs=10, kernel_size=5, ls=sparse_categorical_crossentropy, num_filters=32, op=rmsprop\n",
      "[CV 3/5; 61/108] END batch_size=256, epochs=10, kernel_size=5, ls=sparse_categorical_crossentropy, num_filters=32, op=rmsprop; accuracy: (train=0.928, test=0.908) f1_macro: (train=0.811, test=0.693) total time=  40.8s\n",
      "[CV 4/5; 61/108] START batch_size=256, epochs=10, kernel_size=5, ls=sparse_categorical_crossentropy, num_filters=32, op=rmsprop\n",
      "[CV 4/5; 61/108] END batch_size=256, epochs=10, kernel_size=5, ls=sparse_categorical_crossentropy, num_filters=32, op=rmsprop; accuracy: (train=0.936, test=0.914) f1_macro: (train=0.773, test=0.668) total time=  40.3s\n",
      "[CV 5/5; 61/108] START batch_size=256, epochs=10, kernel_size=5, ls=sparse_categorical_crossentropy, num_filters=32, op=rmsprop\n",
      "[CV 5/5; 61/108] END batch_size=256, epochs=10, kernel_size=5, ls=sparse_categorical_crossentropy, num_filters=32, op=rmsprop; accuracy: (train=0.935, test=0.905) f1_macro: (train=0.740, test=0.643) total time=  40.4s\n",
      "[CV 1/5; 62/108] START batch_size=256, epochs=10, kernel_size=5, ls=sparse_categorical_crossentropy, num_filters=32, op=SGD\n",
      "[CV 1/5; 62/108] END batch_size=256, epochs=10, kernel_size=5, ls=sparse_categorical_crossentropy, num_filters=32, op=SGD; accuracy: (train=0.857, test=0.824) f1_macro: (train=0.524, test=0.503) total time=  41.2s\n",
      "[CV 2/5; 62/108] START batch_size=256, epochs=10, kernel_size=5, ls=sparse_categorical_crossentropy, num_filters=32, op=SGD\n",
      "[CV 2/5; 62/108] END batch_size=256, epochs=10, kernel_size=5, ls=sparse_categorical_crossentropy, num_filters=32, op=SGD; accuracy: (train=0.782, test=0.742) f1_macro: (train=0.293, test=0.284) total time=  41.7s\n",
      "[CV 3/5; 62/108] START batch_size=256, epochs=10, kernel_size=5, ls=sparse_categorical_crossentropy, num_filters=32, op=SGD\n",
      "[CV 3/5; 62/108] END batch_size=256, epochs=10, kernel_size=5, ls=sparse_categorical_crossentropy, num_filters=32, op=SGD; accuracy: (train=0.848, test=0.872) f1_macro: (train=0.526, test=0.529) total time=  41.9s\n",
      "[CV 4/5; 62/108] START batch_size=256, epochs=10, kernel_size=5, ls=sparse_categorical_crossentropy, num_filters=32, op=SGD\n",
      "[CV 4/5; 62/108] END batch_size=256, epochs=10, kernel_size=5, ls=sparse_categorical_crossentropy, num_filters=32, op=SGD; accuracy: (train=0.846, test=0.877) f1_macro: (train=0.524, test=0.550) total time=  41.7s\n",
      "[CV 5/5; 62/108] START batch_size=256, epochs=10, kernel_size=5, ls=sparse_categorical_crossentropy, num_filters=32, op=SGD\n",
      "[CV 5/5; 62/108] END batch_size=256, epochs=10, kernel_size=5, ls=sparse_categorical_crossentropy, num_filters=32, op=SGD; accuracy: (train=0.834, test=0.851) f1_macro: (train=0.500, test=0.501) total time=  41.6s\n",
      "[CV 1/5; 63/108] START batch_size=256, epochs=10, kernel_size=5, ls=sparse_categorical_crossentropy, num_filters=64, op=rmsprop\n",
      "[CV 1/5; 63/108] END batch_size=256, epochs=10, kernel_size=5, ls=sparse_categorical_crossentropy, num_filters=64, op=rmsprop; accuracy: (train=0.962, test=0.871) f1_macro: (train=0.862, test=0.703) total time= 1.1min\n",
      "[CV 2/5; 63/108] START batch_size=256, epochs=10, kernel_size=5, ls=sparse_categorical_crossentropy, num_filters=64, op=rmsprop\n",
      "[CV 2/5; 63/108] END batch_size=256, epochs=10, kernel_size=5, ls=sparse_categorical_crossentropy, num_filters=64, op=rmsprop; accuracy: (train=0.965, test=0.866) f1_macro: (train=0.871, test=0.691) total time= 1.1min\n",
      "[CV 3/5; 63/108] START batch_size=256, epochs=10, kernel_size=5, ls=sparse_categorical_crossentropy, num_filters=64, op=rmsprop\n",
      "[CV 3/5; 63/108] END batch_size=256, epochs=10, kernel_size=5, ls=sparse_categorical_crossentropy, num_filters=64, op=rmsprop; accuracy: (train=0.948, test=0.889) f1_macro: (train=0.880, test=0.704) total time= 1.1min\n",
      "[CV 4/5; 63/108] START batch_size=256, epochs=10, kernel_size=5, ls=sparse_categorical_crossentropy, num_filters=64, op=rmsprop\n",
      "[CV 4/5; 63/108] END batch_size=256, epochs=10, kernel_size=5, ls=sparse_categorical_crossentropy, num_filters=64, op=rmsprop; accuracy: (train=0.945, test=0.904) f1_macro: (train=0.878, test=0.704) total time= 1.1min\n",
      "[CV 5/5; 63/108] START batch_size=256, epochs=10, kernel_size=5, ls=sparse_categorical_crossentropy, num_filters=64, op=rmsprop\n",
      "[CV 5/5; 63/108] END batch_size=256, epochs=10, kernel_size=5, ls=sparse_categorical_crossentropy, num_filters=64, op=rmsprop; accuracy: (train=0.933, test=0.889) f1_macro: (train=0.798, test=0.632) total time= 1.1min\n",
      "[CV 1/5; 64/108] START batch_size=256, epochs=10, kernel_size=5, ls=sparse_categorical_crossentropy, num_filters=64, op=SGD\n",
      "[CV 1/5; 64/108] END batch_size=256, epochs=10, kernel_size=5, ls=sparse_categorical_crossentropy, num_filters=64, op=SGD; accuracy: (train=0.867, test=0.828) f1_macro: (train=0.544, test=0.517) total time= 1.1min\n",
      "[CV 2/5; 64/108] START batch_size=256, epochs=10, kernel_size=5, ls=sparse_categorical_crossentropy, num_filters=64, op=SGD\n",
      "[CV 2/5; 64/108] END batch_size=256, epochs=10, kernel_size=5, ls=sparse_categorical_crossentropy, num_filters=64, op=SGD; accuracy: (train=0.876, test=0.837) f1_macro: (train=0.559, test=0.544) total time= 1.2min\n",
      "[CV 3/5; 64/108] START batch_size=256, epochs=10, kernel_size=5, ls=sparse_categorical_crossentropy, num_filters=64, op=SGD\n",
      "[CV 3/5; 64/108] END batch_size=256, epochs=10, kernel_size=5, ls=sparse_categorical_crossentropy, num_filters=64, op=SGD; accuracy: (train=0.858, test=0.882) f1_macro: (train=0.547, test=0.551) total time= 1.1min\n",
      "[CV 4/5; 64/108] START batch_size=256, epochs=10, kernel_size=5, ls=sparse_categorical_crossentropy, num_filters=64, op=SGD\n",
      "[CV 4/5; 64/108] END batch_size=256, epochs=10, kernel_size=5, ls=sparse_categorical_crossentropy, num_filters=64, op=SGD; accuracy: (train=0.851, test=0.884) f1_macro: (train=0.529, test=0.560) total time= 1.1min\n",
      "[CV 5/5; 64/108] START batch_size=256, epochs=10, kernel_size=5, ls=sparse_categorical_crossentropy, num_filters=64, op=SGD\n",
      "[CV 5/5; 64/108] END batch_size=256, epochs=10, kernel_size=5, ls=sparse_categorical_crossentropy, num_filters=64, op=SGD; accuracy: (train=0.868, test=0.882) f1_macro: (train=0.561, test=0.563) total time= 1.1min\n",
      "[CV 1/5; 65/108] START batch_size=256, epochs=10, kernel_size=5, ls=sparse_categorical_crossentropy, num_filters=128, op=rmsprop\n",
      "[CV 1/5; 65/108] END batch_size=256, epochs=10, kernel_size=5, ls=sparse_categorical_crossentropy, num_filters=128, op=rmsprop; accuracy: (train=0.858, test=0.762) f1_macro: (train=0.769, test=0.675) total time= 1.7min\n",
      "[CV 2/5; 65/108] START batch_size=256, epochs=10, kernel_size=5, ls=sparse_categorical_crossentropy, num_filters=128, op=rmsprop\n",
      "[CV 2/5; 65/108] END batch_size=256, epochs=10, kernel_size=5, ls=sparse_categorical_crossentropy, num_filters=128, op=rmsprop; accuracy: (train=0.983, test=0.872) f1_macro: (train=0.950, test=0.717) total time= 1.7min\n",
      "[CV 3/5; 65/108] START batch_size=256, epochs=10, kernel_size=5, ls=sparse_categorical_crossentropy, num_filters=128, op=rmsprop\n",
      "[CV 3/5; 65/108] END batch_size=256, epochs=10, kernel_size=5, ls=sparse_categorical_crossentropy, num_filters=128, op=rmsprop; accuracy: (train=0.975, test=0.918) f1_macro: (train=0.929, test=0.702) total time= 1.6min\n",
      "[CV 4/5; 65/108] START batch_size=256, epochs=10, kernel_size=5, ls=sparse_categorical_crossentropy, num_filters=128, op=rmsprop\n",
      "[CV 4/5; 65/108] END batch_size=256, epochs=10, kernel_size=5, ls=sparse_categorical_crossentropy, num_filters=128, op=rmsprop; accuracy: (train=0.963, test=0.914) f1_macro: (train=0.877, test=0.670) total time= 1.6min\n",
      "[CV 5/5; 65/108] START batch_size=256, epochs=10, kernel_size=5, ls=sparse_categorical_crossentropy, num_filters=128, op=rmsprop\n",
      "[CV 5/5; 65/108] END batch_size=256, epochs=10, kernel_size=5, ls=sparse_categorical_crossentropy, num_filters=128, op=rmsprop; accuracy: (train=0.976, test=0.907) f1_macro: (train=0.931, test=0.677) total time= 1.6min\n",
      "[CV 1/5; 66/108] START batch_size=256, epochs=10, kernel_size=5, ls=sparse_categorical_crossentropy, num_filters=128, op=SGD\n",
      "[CV 1/5; 66/108] END batch_size=256, epochs=10, kernel_size=5, ls=sparse_categorical_crossentropy, num_filters=128, op=SGD; accuracy: (train=0.883, test=0.843) f1_macro: (train=0.572, test=0.547) total time= 1.6min\n",
      "[CV 2/5; 66/108] START batch_size=256, epochs=10, kernel_size=5, ls=sparse_categorical_crossentropy, num_filters=128, op=SGD\n",
      "[CV 2/5; 66/108] END batch_size=256, epochs=10, kernel_size=5, ls=sparse_categorical_crossentropy, num_filters=128, op=SGD; accuracy: (train=0.877, test=0.837) f1_macro: (train=0.560, test=0.542) total time= 1.6min\n",
      "[CV 3/5; 66/108] START batch_size=256, epochs=10, kernel_size=5, ls=sparse_categorical_crossentropy, num_filters=128, op=SGD\n",
      "[CV 3/5; 66/108] END batch_size=256, epochs=10, kernel_size=5, ls=sparse_categorical_crossentropy, num_filters=128, op=SGD; accuracy: (train=0.859, test=0.885) f1_macro: (train=0.549, test=0.554) total time= 1.6min\n",
      "[CV 4/5; 66/108] START batch_size=256, epochs=10, kernel_size=5, ls=sparse_categorical_crossentropy, num_filters=128, op=SGD\n",
      "[CV 4/5; 66/108] END batch_size=256, epochs=10, kernel_size=5, ls=sparse_categorical_crossentropy, num_filters=128, op=SGD; accuracy: (train=0.861, test=0.889) f1_macro: (train=0.548, test=0.570) total time= 1.6min\n",
      "[CV 5/5; 66/108] START batch_size=256, epochs=10, kernel_size=5, ls=sparse_categorical_crossentropy, num_filters=128, op=SGD\n",
      "[CV 5/5; 66/108] END batch_size=256, epochs=10, kernel_size=5, ls=sparse_categorical_crossentropy, num_filters=128, op=SGD; accuracy: (train=0.857, test=0.872) f1_macro: (train=0.541, test=0.542) total time= 1.6min\n",
      "[CV 1/5; 67/108] START batch_size=256, epochs=10, kernel_size=7, ls=sparse_categorical_crossentropy, num_filters=32, op=rmsprop\n",
      "[CV 1/5; 67/108] END batch_size=256, epochs=10, kernel_size=7, ls=sparse_categorical_crossentropy, num_filters=32, op=rmsprop; accuracy: (train=0.940, test=0.866) f1_macro: (train=0.682, test=0.602) total time=  53.7s\n",
      "[CV 2/5; 67/108] START batch_size=256, epochs=10, kernel_size=7, ls=sparse_categorical_crossentropy, num_filters=32, op=rmsprop\n",
      "[CV 2/5; 67/108] END batch_size=256, epochs=10, kernel_size=7, ls=sparse_categorical_crossentropy, num_filters=32, op=rmsprop; accuracy: (train=0.950, test=0.872) f1_macro: (train=0.799, test=0.684) total time=  54.5s\n",
      "[CV 3/5; 67/108] START batch_size=256, epochs=10, kernel_size=7, ls=sparse_categorical_crossentropy, num_filters=32, op=rmsprop\n",
      "[CV 3/5; 67/108] END batch_size=256, epochs=10, kernel_size=7, ls=sparse_categorical_crossentropy, num_filters=32, op=rmsprop; accuracy: (train=0.938, test=0.910) f1_macro: (train=0.792, test=0.680) total time=  51.2s\n",
      "[CV 4/5; 67/108] START batch_size=256, epochs=10, kernel_size=7, ls=sparse_categorical_crossentropy, num_filters=32, op=rmsprop\n",
      "[CV 4/5; 67/108] END batch_size=256, epochs=10, kernel_size=7, ls=sparse_categorical_crossentropy, num_filters=32, op=rmsprop; accuracy: (train=0.935, test=0.911) f1_macro: (train=0.731, test=0.639) total time=  52.0s\n",
      "[CV 5/5; 67/108] START batch_size=256, epochs=10, kernel_size=7, ls=sparse_categorical_crossentropy, num_filters=32, op=rmsprop\n",
      "[CV 5/5; 67/108] END batch_size=256, epochs=10, kernel_size=7, ls=sparse_categorical_crossentropy, num_filters=32, op=rmsprop; accuracy: (train=0.953, test=0.899) f1_macro: (train=0.867, test=0.685) total time=  53.5s\n",
      "[CV 1/5; 68/108] START batch_size=256, epochs=10, kernel_size=7, ls=sparse_categorical_crossentropy, num_filters=32, op=SGD\n",
      "[CV 1/5; 68/108] END batch_size=256, epochs=10, kernel_size=7, ls=sparse_categorical_crossentropy, num_filters=32, op=SGD; accuracy: (train=0.861, test=0.828) f1_macro: (train=0.537, test=0.519) total time=  53.3s\n",
      "[CV 2/5; 68/108] START batch_size=256, epochs=10, kernel_size=7, ls=sparse_categorical_crossentropy, num_filters=32, op=SGD\n",
      "[CV 2/5; 68/108] END batch_size=256, epochs=10, kernel_size=7, ls=sparse_categorical_crossentropy, num_filters=32, op=SGD; accuracy: (train=0.815, test=0.764) f1_macro: (train=0.413, test=0.369) total time=  53.1s\n",
      "[CV 3/5; 68/108] START batch_size=256, epochs=10, kernel_size=7, ls=sparse_categorical_crossentropy, num_filters=32, op=SGD\n",
      "[CV 3/5; 68/108] END batch_size=256, epochs=10, kernel_size=7, ls=sparse_categorical_crossentropy, num_filters=32, op=SGD; accuracy: (train=0.850, test=0.871) f1_macro: (train=0.534, test=0.535) total time=  53.1s\n",
      "[CV 4/5; 68/108] START batch_size=256, epochs=10, kernel_size=7, ls=sparse_categorical_crossentropy, num_filters=32, op=SGD\n",
      "[CV 4/5; 68/108] END batch_size=256, epochs=10, kernel_size=7, ls=sparse_categorical_crossentropy, num_filters=32, op=SGD; accuracy: (train=0.798, test=0.824) f1_macro: (train=0.392, test=0.432) total time=  53.2s\n",
      "[CV 5/5; 68/108] START batch_size=256, epochs=10, kernel_size=7, ls=sparse_categorical_crossentropy, num_filters=32, op=SGD\n",
      "[CV 5/5; 68/108] END batch_size=256, epochs=10, kernel_size=7, ls=sparse_categorical_crossentropy, num_filters=32, op=SGD; accuracy: (train=0.770, test=0.793) f1_macro: (train=0.290, test=0.295) total time=  53.3s\n",
      "[CV 1/5; 69/108] START batch_size=256, epochs=10, kernel_size=7, ls=sparse_categorical_crossentropy, num_filters=64, op=rmsprop\n",
      "[CV 1/5; 69/108] END batch_size=256, epochs=10, kernel_size=7, ls=sparse_categorical_crossentropy, num_filters=64, op=rmsprop; accuracy: (train=0.956, test=0.860) f1_macro: (train=0.838, test=0.672) total time= 1.2min\n",
      "[CV 2/5; 69/108] START batch_size=256, epochs=10, kernel_size=7, ls=sparse_categorical_crossentropy, num_filters=64, op=rmsprop\n",
      "[CV 2/5; 69/108] END batch_size=256, epochs=10, kernel_size=7, ls=sparse_categorical_crossentropy, num_filters=64, op=rmsprop; accuracy: (train=0.915, test=0.821) f1_macro: (train=0.818, test=0.616) total time= 1.2min\n",
      "[CV 3/5; 69/108] START batch_size=256, epochs=10, kernel_size=7, ls=sparse_categorical_crossentropy, num_filters=64, op=rmsprop\n",
      "[CV 3/5; 69/108] END batch_size=256, epochs=10, kernel_size=7, ls=sparse_categorical_crossentropy, num_filters=64, op=rmsprop; accuracy: (train=0.950, test=0.907) f1_macro: (train=0.829, test=0.652) total time= 1.2min\n",
      "[CV 4/5; 69/108] START batch_size=256, epochs=10, kernel_size=7, ls=sparse_categorical_crossentropy, num_filters=64, op=rmsprop\n",
      "[CV 4/5; 69/108] END batch_size=256, epochs=10, kernel_size=7, ls=sparse_categorical_crossentropy, num_filters=64, op=rmsprop; accuracy: (train=0.962, test=0.900) f1_macro: (train=0.907, test=0.714) total time= 1.2min\n",
      "[CV 5/5; 69/108] START batch_size=256, epochs=10, kernel_size=7, ls=sparse_categorical_crossentropy, num_filters=64, op=rmsprop\n",
      "[CV 5/5; 69/108] END batch_size=256, epochs=10, kernel_size=7, ls=sparse_categorical_crossentropy, num_filters=64, op=rmsprop; accuracy: (train=0.964, test=0.905) f1_macro: (train=0.905, test=0.698) total time= 1.2min\n",
      "[CV 1/5; 70/108] START batch_size=256, epochs=10, kernel_size=7, ls=sparse_categorical_crossentropy, num_filters=64, op=SGD\n",
      "[CV 1/5; 70/108] END batch_size=256, epochs=10, kernel_size=7, ls=sparse_categorical_crossentropy, num_filters=64, op=SGD; accuracy: (train=0.875, test=0.840) f1_macro: (train=0.558, test=0.538) total time= 1.2min\n",
      "[CV 2/5; 70/108] START batch_size=256, epochs=10, kernel_size=7, ls=sparse_categorical_crossentropy, num_filters=64, op=SGD\n",
      "[CV 2/5; 70/108] END batch_size=256, epochs=10, kernel_size=7, ls=sparse_categorical_crossentropy, num_filters=64, op=SGD; accuracy: (train=0.866, test=0.820) f1_macro: (train=0.540, test=0.514) total time= 1.2min\n",
      "[CV 3/5; 70/108] START batch_size=256, epochs=10, kernel_size=7, ls=sparse_categorical_crossentropy, num_filters=64, op=SGD\n",
      "[CV 3/5; 70/108] END batch_size=256, epochs=10, kernel_size=7, ls=sparse_categorical_crossentropy, num_filters=64, op=SGD; accuracy: (train=0.855, test=0.874) f1_macro: (train=0.543, test=0.537) total time= 1.2min\n",
      "[CV 4/5; 70/108] START batch_size=256, epochs=10, kernel_size=7, ls=sparse_categorical_crossentropy, num_filters=64, op=SGD\n",
      "[CV 4/5; 70/108] END batch_size=256, epochs=10, kernel_size=7, ls=sparse_categorical_crossentropy, num_filters=64, op=SGD; accuracy: (train=0.835, test=0.863) f1_macro: (train=0.494, test=0.523) total time= 1.2min\n",
      "[CV 5/5; 70/108] START batch_size=256, epochs=10, kernel_size=7, ls=sparse_categorical_crossentropy, num_filters=64, op=SGD\n",
      "[CV 5/5; 70/108] END batch_size=256, epochs=10, kernel_size=7, ls=sparse_categorical_crossentropy, num_filters=64, op=SGD; accuracy: (train=0.864, test=0.879) f1_macro: (train=0.553, test=0.554) total time= 1.2min\n",
      "[CV 1/5; 71/108] START batch_size=256, epochs=10, kernel_size=7, ls=sparse_categorical_crossentropy, num_filters=128, op=rmsprop\n",
      "[CV 1/5; 71/108] END batch_size=256, epochs=10, kernel_size=7, ls=sparse_categorical_crossentropy, num_filters=128, op=rmsprop; accuracy: (train=0.977, test=0.874) f1_macro: (train=0.922, test=0.691) total time= 1.9min\n",
      "[CV 2/5; 71/108] START batch_size=256, epochs=10, kernel_size=7, ls=sparse_categorical_crossentropy, num_filters=128, op=rmsprop\n",
      "[CV 2/5; 71/108] END batch_size=256, epochs=10, kernel_size=7, ls=sparse_categorical_crossentropy, num_filters=128, op=rmsprop; accuracy: (train=0.984, test=0.869) f1_macro: (train=0.948, test=0.693) total time= 1.9min\n",
      "[CV 3/5; 71/108] START batch_size=256, epochs=10, kernel_size=7, ls=sparse_categorical_crossentropy, num_filters=128, op=rmsprop\n",
      "[CV 3/5; 71/108] END batch_size=256, epochs=10, kernel_size=7, ls=sparse_categorical_crossentropy, num_filters=128, op=rmsprop; accuracy: (train=0.930, test=0.873) f1_macro: (train=0.841, test=0.566) total time= 1.8min\n",
      "[CV 4/5; 71/108] START batch_size=256, epochs=10, kernel_size=7, ls=sparse_categorical_crossentropy, num_filters=128, op=rmsprop\n",
      "[CV 4/5; 71/108] END batch_size=256, epochs=10, kernel_size=7, ls=sparse_categorical_crossentropy, num_filters=128, op=rmsprop; accuracy: (train=0.954, test=0.856) f1_macro: (train=0.897, test=0.664) total time= 1.9min\n",
      "[CV 5/5; 71/108] START batch_size=256, epochs=10, kernel_size=7, ls=sparse_categorical_crossentropy, num_filters=128, op=rmsprop\n",
      "[CV 5/5; 71/108] END batch_size=256, epochs=10, kernel_size=7, ls=sparse_categorical_crossentropy, num_filters=128, op=rmsprop; accuracy: (train=0.938, test=0.843) f1_macro: (train=0.869, test=0.672) total time= 1.9min\n",
      "[CV 1/5; 72/108] START batch_size=256, epochs=10, kernel_size=7, ls=sparse_categorical_crossentropy, num_filters=128, op=SGD\n",
      "[CV 1/5; 72/108] END batch_size=256, epochs=10, kernel_size=7, ls=sparse_categorical_crossentropy, num_filters=128, op=SGD; accuracy: (train=0.877, test=0.837) f1_macro: (train=0.560, test=0.535) total time= 1.9min\n",
      "[CV 2/5; 72/108] START batch_size=256, epochs=10, kernel_size=7, ls=sparse_categorical_crossentropy, num_filters=128, op=SGD\n",
      "[CV 2/5; 72/108] END batch_size=256, epochs=10, kernel_size=7, ls=sparse_categorical_crossentropy, num_filters=128, op=SGD; accuracy: (train=0.872, test=0.831) f1_macro: (train=0.552, test=0.533) total time= 1.9min\n",
      "[CV 3/5; 72/108] START batch_size=256, epochs=10, kernel_size=7, ls=sparse_categorical_crossentropy, num_filters=128, op=SGD\n",
      "[CV 3/5; 72/108] END batch_size=256, epochs=10, kernel_size=7, ls=sparse_categorical_crossentropy, num_filters=128, op=SGD; accuracy: (train=0.865, test=0.886) f1_macro: (train=0.559, test=0.558) total time= 1.9min\n",
      "[CV 4/5; 72/108] START batch_size=256, epochs=10, kernel_size=7, ls=sparse_categorical_crossentropy, num_filters=128, op=SGD\n",
      "[CV 4/5; 72/108] END batch_size=256, epochs=10, kernel_size=7, ls=sparse_categorical_crossentropy, num_filters=128, op=SGD; accuracy: (train=0.846, test=0.879) f1_macro: (train=0.521, test=0.553) total time= 1.9min\n",
      "[CV 5/5; 72/108] START batch_size=256, epochs=10, kernel_size=7, ls=sparse_categorical_crossentropy, num_filters=128, op=SGD\n",
      "[CV 5/5; 72/108] END batch_size=256, epochs=10, kernel_size=7, ls=sparse_categorical_crossentropy, num_filters=128, op=SGD; accuracy: (train=0.863, test=0.876) f1_macro: (train=0.551, test=0.551) total time= 1.9min\n",
      "[CV 1/5; 73/108] START batch_size=256, epochs=15, kernel_size=3, ls=sparse_categorical_crossentropy, num_filters=32, op=rmsprop\n",
      "[CV 1/5; 73/108] END batch_size=256, epochs=15, kernel_size=3, ls=sparse_categorical_crossentropy, num_filters=32, op=rmsprop; accuracy: (train=0.905, test=0.844) f1_macro: (train=0.782, test=0.716) total time=  49.3s\n",
      "[CV 2/5; 73/108] START batch_size=256, epochs=15, kernel_size=3, ls=sparse_categorical_crossentropy, num_filters=32, op=rmsprop\n",
      "[CV 2/5; 73/108] END batch_size=256, epochs=15, kernel_size=3, ls=sparse_categorical_crossentropy, num_filters=32, op=rmsprop; accuracy: (train=0.942, test=0.866) f1_macro: (train=0.691, test=0.604) total time=  48.9s\n",
      "[CV 3/5; 73/108] START batch_size=256, epochs=15, kernel_size=3, ls=sparse_categorical_crossentropy, num_filters=32, op=rmsprop\n",
      "[CV 3/5; 73/108] END batch_size=256, epochs=15, kernel_size=3, ls=sparse_categorical_crossentropy, num_filters=32, op=rmsprop; accuracy: (train=0.936, test=0.915) f1_macro: (train=0.794, test=0.689) total time=  52.3s\n",
      "[CV 4/5; 73/108] START batch_size=256, epochs=15, kernel_size=3, ls=sparse_categorical_crossentropy, num_filters=32, op=rmsprop\n",
      "[CV 4/5; 73/108] END batch_size=256, epochs=15, kernel_size=3, ls=sparse_categorical_crossentropy, num_filters=32, op=rmsprop; accuracy: (train=0.939, test=0.908) f1_macro: (train=0.818, test=0.692) total time=  55.3s\n",
      "[CV 5/5; 73/108] START batch_size=256, epochs=15, kernel_size=3, ls=sparse_categorical_crossentropy, num_filters=32, op=rmsprop\n",
      "[CV 5/5; 73/108] END batch_size=256, epochs=15, kernel_size=3, ls=sparse_categorical_crossentropy, num_filters=32, op=rmsprop; accuracy: (train=0.931, test=0.904) f1_macro: (train=0.724, test=0.653) total time=  54.3s\n",
      "[CV 1/5; 74/108] START batch_size=256, epochs=15, kernel_size=3, ls=sparse_categorical_crossentropy, num_filters=32, op=SGD\n",
      "[CV 1/5; 74/108] END batch_size=256, epochs=15, kernel_size=3, ls=sparse_categorical_crossentropy, num_filters=32, op=SGD; accuracy: (train=0.880, test=0.839) f1_macro: (train=0.565, test=0.537) total time=  54.1s\n",
      "[CV 2/5; 74/108] START batch_size=256, epochs=15, kernel_size=3, ls=sparse_categorical_crossentropy, num_filters=32, op=SGD\n",
      "[CV 2/5; 74/108] END batch_size=256, epochs=15, kernel_size=3, ls=sparse_categorical_crossentropy, num_filters=32, op=SGD; accuracy: (train=0.872, test=0.829) f1_macro: (train=0.550, test=0.529) total time=  54.1s\n",
      "[CV 3/5; 74/108] START batch_size=256, epochs=15, kernel_size=3, ls=sparse_categorical_crossentropy, num_filters=32, op=SGD\n",
      "[CV 3/5; 74/108] END batch_size=256, epochs=15, kernel_size=3, ls=sparse_categorical_crossentropy, num_filters=32, op=SGD; accuracy: (train=0.873, test=0.895) f1_macro: (train=0.570, test=0.572) total time=  54.3s\n",
      "[CV 4/5; 74/108] START batch_size=256, epochs=15, kernel_size=3, ls=sparse_categorical_crossentropy, num_filters=32, op=SGD\n",
      "[CV 4/5; 74/108] END batch_size=256, epochs=15, kernel_size=3, ls=sparse_categorical_crossentropy, num_filters=32, op=SGD; accuracy: (train=0.868, test=0.898) f1_macro: (train=0.560, test=0.582) total time=  54.1s\n",
      "[CV 5/5; 74/108] START batch_size=256, epochs=15, kernel_size=3, ls=sparse_categorical_crossentropy, num_filters=32, op=SGD\n",
      "[CV 5/5; 74/108] END batch_size=256, epochs=15, kernel_size=3, ls=sparse_categorical_crossentropy, num_filters=32, op=SGD; accuracy: (train=0.874, test=0.884) f1_macro: (train=0.569, test=0.567) total time=  53.9s\n",
      "[CV 1/5; 75/108] START batch_size=256, epochs=15, kernel_size=3, ls=sparse_categorical_crossentropy, num_filters=64, op=rmsprop\n",
      "[CV 1/5; 75/108] END batch_size=256, epochs=15, kernel_size=3, ls=sparse_categorical_crossentropy, num_filters=64, op=rmsprop; accuracy: (train=0.964, test=0.873) f1_macro: (train=0.892, test=0.725) total time= 1.4min\n",
      "[CV 2/5; 75/108] START batch_size=256, epochs=15, kernel_size=3, ls=sparse_categorical_crossentropy, num_filters=64, op=rmsprop\n",
      "[CV 2/5; 75/108] END batch_size=256, epochs=15, kernel_size=3, ls=sparse_categorical_crossentropy, num_filters=64, op=rmsprop; accuracy: (train=0.970, test=0.862) f1_macro: (train=0.913, test=0.727) total time= 1.4min\n",
      "[CV 3/5; 75/108] START batch_size=256, epochs=15, kernel_size=3, ls=sparse_categorical_crossentropy, num_filters=64, op=rmsprop\n",
      "[CV 3/5; 75/108] END batch_size=256, epochs=15, kernel_size=3, ls=sparse_categorical_crossentropy, num_filters=64, op=rmsprop; accuracy: (train=0.962, test=0.905) f1_macro: (train=0.902, test=0.695) total time= 1.5min\n",
      "[CV 4/5; 75/108] START batch_size=256, epochs=15, kernel_size=3, ls=sparse_categorical_crossentropy, num_filters=64, op=rmsprop\n",
      "[CV 4/5; 75/108] END batch_size=256, epochs=15, kernel_size=3, ls=sparse_categorical_crossentropy, num_filters=64, op=rmsprop; accuracy: (train=0.958, test=0.915) f1_macro: (train=0.859, test=0.688) total time= 1.4min\n",
      "[CV 5/5; 75/108] START batch_size=256, epochs=15, kernel_size=3, ls=sparse_categorical_crossentropy, num_filters=64, op=rmsprop\n",
      "[CV 5/5; 75/108] END batch_size=256, epochs=15, kernel_size=3, ls=sparse_categorical_crossentropy, num_filters=64, op=rmsprop; accuracy: (train=0.937, test=0.907) f1_macro: (train=0.695, test=0.617) total time= 1.5min\n",
      "[CV 1/5; 76/108] START batch_size=256, epochs=15, kernel_size=3, ls=sparse_categorical_crossentropy, num_filters=64, op=SGD\n",
      "[CV 1/5; 76/108] END batch_size=256, epochs=15, kernel_size=3, ls=sparse_categorical_crossentropy, num_filters=64, op=SGD; accuracy: (train=0.886, test=0.845) f1_macro: (train=0.575, test=0.551) total time= 1.4min\n",
      "[CV 2/5; 76/108] START batch_size=256, epochs=15, kernel_size=3, ls=sparse_categorical_crossentropy, num_filters=64, op=SGD\n",
      "[CV 2/5; 76/108] END batch_size=256, epochs=15, kernel_size=3, ls=sparse_categorical_crossentropy, num_filters=64, op=SGD; accuracy: (train=0.886, test=0.846) f1_macro: (train=0.572, test=0.554) total time= 1.4min\n",
      "[CV 3/5; 76/108] START batch_size=256, epochs=15, kernel_size=3, ls=sparse_categorical_crossentropy, num_filters=64, op=SGD\n",
      "[CV 3/5; 76/108] END batch_size=256, epochs=15, kernel_size=3, ls=sparse_categorical_crossentropy, num_filters=64, op=SGD; accuracy: (train=0.878, test=0.900) f1_macro: (train=0.574, test=0.577) total time= 1.4min\n",
      "[CV 4/5; 76/108] START batch_size=256, epochs=15, kernel_size=3, ls=sparse_categorical_crossentropy, num_filters=64, op=SGD\n",
      "[CV 4/5; 76/108] END batch_size=256, epochs=15, kernel_size=3, ls=sparse_categorical_crossentropy, num_filters=64, op=SGD; accuracy: (train=0.875, test=0.907) f1_macro: (train=0.570, test=0.592) total time= 1.4min\n",
      "[CV 5/5; 76/108] START batch_size=256, epochs=15, kernel_size=3, ls=sparse_categorical_crossentropy, num_filters=64, op=SGD\n",
      "[CV 5/5; 76/108] END batch_size=256, epochs=15, kernel_size=3, ls=sparse_categorical_crossentropy, num_filters=64, op=SGD; accuracy: (train=0.877, test=0.893) f1_macro: (train=0.573, test=0.576) total time= 1.4min\n",
      "[CV 1/5; 77/108] START batch_size=256, epochs=15, kernel_size=3, ls=sparse_categorical_crossentropy, num_filters=128, op=rmsprop\n",
      "[CV 1/5; 77/108] END batch_size=256, epochs=15, kernel_size=3, ls=sparse_categorical_crossentropy, num_filters=128, op=rmsprop; accuracy: (train=0.987, test=0.874) f1_macro: (train=0.961, test=0.732) total time= 2.1min\n",
      "[CV 2/5; 77/108] START batch_size=256, epochs=15, kernel_size=3, ls=sparse_categorical_crossentropy, num_filters=128, op=rmsprop\n",
      "[CV 2/5; 77/108] END batch_size=256, epochs=15, kernel_size=3, ls=sparse_categorical_crossentropy, num_filters=128, op=rmsprop; accuracy: (train=0.963, test=0.858) f1_macro: (train=0.862, test=0.636) total time= 2.0min\n",
      "[CV 3/5; 77/108] START batch_size=256, epochs=15, kernel_size=3, ls=sparse_categorical_crossentropy, num_filters=128, op=rmsprop\n",
      "[CV 3/5; 77/108] END batch_size=256, epochs=15, kernel_size=3, ls=sparse_categorical_crossentropy, num_filters=128, op=rmsprop; accuracy: (train=0.978, test=0.896) f1_macro: (train=0.944, test=0.701) total time= 2.1min\n",
      "[CV 4/5; 77/108] START batch_size=256, epochs=15, kernel_size=3, ls=sparse_categorical_crossentropy, num_filters=128, op=rmsprop\n",
      "[CV 4/5; 77/108] END batch_size=256, epochs=15, kernel_size=3, ls=sparse_categorical_crossentropy, num_filters=128, op=rmsprop; accuracy: (train=0.980, test=0.899) f1_macro: (train=0.951, test=0.696) total time= 2.1min\n",
      "[CV 5/5; 77/108] START batch_size=256, epochs=15, kernel_size=3, ls=sparse_categorical_crossentropy, num_filters=128, op=rmsprop\n",
      "[CV 5/5; 77/108] END batch_size=256, epochs=15, kernel_size=3, ls=sparse_categorical_crossentropy, num_filters=128, op=rmsprop; accuracy: (train=0.980, test=0.896) f1_macro: (train=0.948, test=0.705) total time= 2.1min\n",
      "[CV 1/5; 78/108] START batch_size=256, epochs=15, kernel_size=3, ls=sparse_categorical_crossentropy, num_filters=128, op=SGD\n",
      "[CV 1/5; 78/108] END batch_size=256, epochs=15, kernel_size=3, ls=sparse_categorical_crossentropy, num_filters=128, op=SGD; accuracy: (train=0.893, test=0.850) f1_macro: (train=0.585, test=0.557) total time= 2.1min\n",
      "[CV 2/5; 78/108] START batch_size=256, epochs=15, kernel_size=3, ls=sparse_categorical_crossentropy, num_filters=128, op=SGD\n",
      "[CV 2/5; 78/108] END batch_size=256, epochs=15, kernel_size=3, ls=sparse_categorical_crossentropy, num_filters=128, op=SGD; accuracy: (train=0.889, test=0.855) f1_macro: (train=0.578, test=0.567) total time= 2.1min\n",
      "[CV 3/5; 78/108] START batch_size=256, epochs=15, kernel_size=3, ls=sparse_categorical_crossentropy, num_filters=128, op=SGD\n",
      "[CV 3/5; 78/108] END batch_size=256, epochs=15, kernel_size=3, ls=sparse_categorical_crossentropy, num_filters=128, op=SGD; accuracy: (train=0.882, test=0.908) f1_macro: (train=0.580, test=0.588) total time= 2.1min\n",
      "[CV 4/5; 78/108] START batch_size=256, epochs=15, kernel_size=3, ls=sparse_categorical_crossentropy, num_filters=128, op=SGD\n",
      "[CV 4/5; 78/108] END batch_size=256, epochs=15, kernel_size=3, ls=sparse_categorical_crossentropy, num_filters=128, op=SGD; accuracy: (train=0.878, test=0.905) f1_macro: (train=0.573, test=0.591) total time= 2.1min\n",
      "[CV 5/5; 78/108] START batch_size=256, epochs=15, kernel_size=3, ls=sparse_categorical_crossentropy, num_filters=128, op=SGD\n",
      "[CV 5/5; 78/108] END batch_size=256, epochs=15, kernel_size=3, ls=sparse_categorical_crossentropy, num_filters=128, op=SGD; accuracy: (train=0.881, test=0.894) f1_macro: (train=0.577, test=0.579) total time= 2.1min\n",
      "[CV 1/5; 79/108] START batch_size=256, epochs=15, kernel_size=5, ls=sparse_categorical_crossentropy, num_filters=32, op=rmsprop\n",
      "[CV 1/5; 79/108] END batch_size=256, epochs=15, kernel_size=5, ls=sparse_categorical_crossentropy, num_filters=32, op=rmsprop; accuracy: (train=0.952, test=0.870) f1_macro: (train=0.837, test=0.720) total time=  55.6s\n",
      "[CV 2/5; 79/108] START batch_size=256, epochs=15, kernel_size=5, ls=sparse_categorical_crossentropy, num_filters=32, op=rmsprop\n",
      "[CV 2/5; 79/108] END batch_size=256, epochs=15, kernel_size=5, ls=sparse_categorical_crossentropy, num_filters=32, op=rmsprop; accuracy: (train=0.942, test=0.856) f1_macro: (train=0.841, test=0.694) total time=  55.4s\n",
      "[CV 3/5; 79/108] START batch_size=256, epochs=15, kernel_size=5, ls=sparse_categorical_crossentropy, num_filters=32, op=rmsprop\n",
      "[CV 3/5; 79/108] END batch_size=256, epochs=15, kernel_size=5, ls=sparse_categorical_crossentropy, num_filters=32, op=rmsprop; accuracy: (train=0.947, test=0.899) f1_macro: (train=0.863, test=0.695) total time=  54.2s\n",
      "[CV 4/5; 79/108] START batch_size=256, epochs=15, kernel_size=5, ls=sparse_categorical_crossentropy, num_filters=32, op=rmsprop\n",
      "[CV 4/5; 79/108] END batch_size=256, epochs=15, kernel_size=5, ls=sparse_categorical_crossentropy, num_filters=32, op=rmsprop; accuracy: (train=0.944, test=0.917) f1_macro: (train=0.795, test=0.681) total time=  53.9s\n",
      "[CV 5/5; 79/108] START batch_size=256, epochs=15, kernel_size=5, ls=sparse_categorical_crossentropy, num_filters=32, op=rmsprop\n",
      "[CV 5/5; 79/108] END batch_size=256, epochs=15, kernel_size=5, ls=sparse_categorical_crossentropy, num_filters=32, op=rmsprop; accuracy: (train=0.947, test=0.905) f1_macro: (train=0.803, test=0.666) total time=  56.8s\n",
      "[CV 1/5; 80/108] START batch_size=256, epochs=15, kernel_size=5, ls=sparse_categorical_crossentropy, num_filters=32, op=SGD\n",
      "[CV 1/5; 80/108] END batch_size=256, epochs=15, kernel_size=5, ls=sparse_categorical_crossentropy, num_filters=32, op=SGD; accuracy: (train=0.780, test=0.753) f1_macro: (train=0.292, test=0.286) total time=  56.4s\n",
      "[CV 2/5; 80/108] START batch_size=256, epochs=15, kernel_size=5, ls=sparse_categorical_crossentropy, num_filters=32, op=SGD\n",
      "[CV 2/5; 80/108] END batch_size=256, epochs=15, kernel_size=5, ls=sparse_categorical_crossentropy, num_filters=32, op=SGD; accuracy: (train=0.880, test=0.840) f1_macro: (train=0.561, test=0.542) total time=  56.5s\n",
      "[CV 3/5; 80/108] START batch_size=256, epochs=15, kernel_size=5, ls=sparse_categorical_crossentropy, num_filters=32, op=SGD\n",
      "[CV 3/5; 80/108] END batch_size=256, epochs=15, kernel_size=5, ls=sparse_categorical_crossentropy, num_filters=32, op=SGD; accuracy: (train=0.868, test=0.891) f1_macro: (train=0.560, test=0.563) total time=  56.4s\n",
      "[CV 4/5; 80/108] START batch_size=256, epochs=15, kernel_size=5, ls=sparse_categorical_crossentropy, num_filters=32, op=SGD\n",
      "[CV 4/5; 80/108] END batch_size=256, epochs=15, kernel_size=5, ls=sparse_categorical_crossentropy, num_filters=32, op=SGD; accuracy: (train=0.862, test=0.897) f1_macro: (train=0.548, test=0.578) total time=  56.0s\n",
      "[CV 5/5; 80/108] START batch_size=256, epochs=15, kernel_size=5, ls=sparse_categorical_crossentropy, num_filters=32, op=SGD\n",
      "[CV 5/5; 80/108] END batch_size=256, epochs=15, kernel_size=5, ls=sparse_categorical_crossentropy, num_filters=32, op=SGD; accuracy: (train=0.873, test=0.887) f1_macro: (train=0.565, test=0.564) total time=  55.9s\n",
      "[CV 1/5; 81/108] START batch_size=256, epochs=15, kernel_size=5, ls=sparse_categorical_crossentropy, num_filters=64, op=rmsprop\n",
      "[CV 1/5; 81/108] END batch_size=256, epochs=15, kernel_size=5, ls=sparse_categorical_crossentropy, num_filters=64, op=rmsprop; accuracy: (train=0.974, test=0.866) f1_macro: (train=0.906, test=0.679) total time= 1.6min\n",
      "[CV 2/5; 81/108] START batch_size=256, epochs=15, kernel_size=5, ls=sparse_categorical_crossentropy, num_filters=64, op=rmsprop\n",
      "[CV 2/5; 81/108] END batch_size=256, epochs=15, kernel_size=5, ls=sparse_categorical_crossentropy, num_filters=64, op=rmsprop; accuracy: (train=0.969, test=0.864) f1_macro: (train=0.877, test=0.658) total time= 1.6min\n",
      "[CV 3/5; 81/108] START batch_size=256, epochs=15, kernel_size=5, ls=sparse_categorical_crossentropy, num_filters=64, op=rmsprop\n",
      "[CV 3/5; 81/108] END batch_size=256, epochs=15, kernel_size=5, ls=sparse_categorical_crossentropy, num_filters=64, op=rmsprop; accuracy: (train=0.963, test=0.911) f1_macro: (train=0.869, test=0.650) total time= 1.5min\n",
      "[CV 4/5; 81/108] START batch_size=256, epochs=15, kernel_size=5, ls=sparse_categorical_crossentropy, num_filters=64, op=rmsprop\n",
      "[CV 4/5; 81/108] END batch_size=256, epochs=15, kernel_size=5, ls=sparse_categorical_crossentropy, num_filters=64, op=rmsprop; accuracy: (train=0.965, test=0.903) f1_macro: (train=0.886, test=0.652) total time= 1.5min\n",
      "[CV 5/5; 81/108] START batch_size=256, epochs=15, kernel_size=5, ls=sparse_categorical_crossentropy, num_filters=64, op=rmsprop\n",
      "[CV 5/5; 81/108] END batch_size=256, epochs=15, kernel_size=5, ls=sparse_categorical_crossentropy, num_filters=64, op=rmsprop; accuracy: (train=0.979, test=0.895) f1_macro: (train=0.946, test=0.692) total time= 1.6min\n",
      "[CV 1/5; 82/108] START batch_size=256, epochs=15, kernel_size=5, ls=sparse_categorical_crossentropy, num_filters=64, op=SGD\n",
      "[CV 1/5; 82/108] END batch_size=256, epochs=15, kernel_size=5, ls=sparse_categorical_crossentropy, num_filters=64, op=SGD; accuracy: (train=0.890, test=0.848) f1_macro: (train=0.580, test=0.554) total time= 1.6min\n",
      "[CV 2/5; 82/108] START batch_size=256, epochs=15, kernel_size=5, ls=sparse_categorical_crossentropy, num_filters=64, op=SGD\n",
      "[CV 2/5; 82/108] END batch_size=256, epochs=15, kernel_size=5, ls=sparse_categorical_crossentropy, num_filters=64, op=SGD; accuracy: (train=0.883, test=0.842) f1_macro: (train=0.571, test=0.555) total time= 1.6min\n",
      "[CV 3/5; 82/108] START batch_size=256, epochs=15, kernel_size=5, ls=sparse_categorical_crossentropy, num_filters=64, op=SGD\n",
      "[CV 3/5; 82/108] END batch_size=256, epochs=15, kernel_size=5, ls=sparse_categorical_crossentropy, num_filters=64, op=SGD; accuracy: (train=0.875, test=0.896) f1_macro: (train=0.573, test=0.573) total time= 1.6min\n",
      "[CV 4/5; 82/108] START batch_size=256, epochs=15, kernel_size=5, ls=sparse_categorical_crossentropy, num_filters=64, op=SGD\n",
      "[CV 4/5; 82/108] END batch_size=256, epochs=15, kernel_size=5, ls=sparse_categorical_crossentropy, num_filters=64, op=SGD; accuracy: (train=0.867, test=0.896) f1_macro: (train=0.557, test=0.578) total time= 1.6min\n",
      "[CV 5/5; 82/108] START batch_size=256, epochs=15, kernel_size=5, ls=sparse_categorical_crossentropy, num_filters=64, op=SGD\n",
      "[CV 5/5; 82/108] END batch_size=256, epochs=15, kernel_size=5, ls=sparse_categorical_crossentropy, num_filters=64, op=SGD; accuracy: (train=0.875, test=0.886) f1_macro: (train=0.569, test=0.566) total time= 1.6min\n",
      "[CV 1/5; 83/108] START batch_size=256, epochs=15, kernel_size=5, ls=sparse_categorical_crossentropy, num_filters=128, op=rmsprop\n",
      "[CV 1/5; 83/108] END batch_size=256, epochs=15, kernel_size=5, ls=sparse_categorical_crossentropy, num_filters=128, op=rmsprop; accuracy: (train=0.973, test=0.873) f1_macro: (train=0.893, test=0.654) total time= 2.4min\n",
      "[CV 2/5; 83/108] START batch_size=256, epochs=15, kernel_size=5, ls=sparse_categorical_crossentropy, num_filters=128, op=rmsprop\n",
      "[CV 2/5; 83/108] END batch_size=256, epochs=15, kernel_size=5, ls=sparse_categorical_crossentropy, num_filters=128, op=rmsprop; accuracy: (train=0.945, test=0.821) f1_macro: (train=0.902, test=0.624) total time= 2.4min\n",
      "[CV 3/5; 83/108] START batch_size=256, epochs=15, kernel_size=5, ls=sparse_categorical_crossentropy, num_filters=128, op=rmsprop\n",
      "[CV 3/5; 83/108] END batch_size=256, epochs=15, kernel_size=5, ls=sparse_categorical_crossentropy, num_filters=128, op=rmsprop; accuracy: (train=0.987, test=0.909) f1_macro: (train=0.967, test=0.689) total time= 2.4min\n",
      "[CV 4/5; 83/108] START batch_size=256, epochs=15, kernel_size=5, ls=sparse_categorical_crossentropy, num_filters=128, op=rmsprop\n",
      "[CV 4/5; 83/108] END batch_size=256, epochs=15, kernel_size=5, ls=sparse_categorical_crossentropy, num_filters=128, op=rmsprop; accuracy: (train=0.989, test=0.906) f1_macro: (train=0.973, test=0.698) total time= 2.3min\n",
      "[CV 5/5; 83/108] START batch_size=256, epochs=15, kernel_size=5, ls=sparse_categorical_crossentropy, num_filters=128, op=rmsprop\n",
      "[CV 5/5; 83/108] END batch_size=256, epochs=15, kernel_size=5, ls=sparse_categorical_crossentropy, num_filters=128, op=rmsprop; accuracy: (train=0.987, test=0.900) f1_macro: (train=0.966, test=0.676) total time= 2.4min\n",
      "[CV 1/5; 84/108] START batch_size=256, epochs=15, kernel_size=5, ls=sparse_categorical_crossentropy, num_filters=128, op=SGD\n",
      "[CV 1/5; 84/108] END batch_size=256, epochs=15, kernel_size=5, ls=sparse_categorical_crossentropy, num_filters=128, op=SGD; accuracy: (train=0.892, test=0.853) f1_macro: (train=0.582, test=0.559) total time= 2.4min\n",
      "[CV 2/5; 84/108] START batch_size=256, epochs=15, kernel_size=5, ls=sparse_categorical_crossentropy, num_filters=128, op=SGD\n",
      "[CV 2/5; 84/108] END batch_size=256, epochs=15, kernel_size=5, ls=sparse_categorical_crossentropy, num_filters=128, op=SGD; accuracy: (train=0.890, test=0.853) f1_macro: (train=0.578, test=0.565) total time= 2.4min\n",
      "[CV 3/5; 84/108] START batch_size=256, epochs=15, kernel_size=5, ls=sparse_categorical_crossentropy, num_filters=128, op=SGD\n",
      "[CV 3/5; 84/108] END batch_size=256, epochs=15, kernel_size=5, ls=sparse_categorical_crossentropy, num_filters=128, op=SGD; accuracy: (train=0.884, test=0.908) f1_macro: (train=0.582, test=0.588) total time= 2.4min\n",
      "[CV 4/5; 84/108] START batch_size=256, epochs=15, kernel_size=5, ls=sparse_categorical_crossentropy, num_filters=128, op=SGD\n",
      "[CV 4/5; 84/108] END batch_size=256, epochs=15, kernel_size=5, ls=sparse_categorical_crossentropy, num_filters=128, op=SGD; accuracy: (train=0.879, test=0.905) f1_macro: (train=0.574, test=0.591) total time= 2.4min\n",
      "[CV 5/5; 84/108] START batch_size=256, epochs=15, kernel_size=5, ls=sparse_categorical_crossentropy, num_filters=128, op=SGD\n",
      "[CV 5/5; 84/108] END batch_size=256, epochs=15, kernel_size=5, ls=sparse_categorical_crossentropy, num_filters=128, op=SGD; accuracy: (train=0.879, test=0.890) f1_macro: (train=0.576, test=0.574) total time= 2.4min\n",
      "[CV 1/5; 85/108] START batch_size=256, epochs=15, kernel_size=7, ls=sparse_categorical_crossentropy, num_filters=32, op=rmsprop\n",
      "[CV 1/5; 85/108] END batch_size=256, epochs=15, kernel_size=7, ls=sparse_categorical_crossentropy, num_filters=32, op=rmsprop; accuracy: (train=0.966, test=0.864) f1_macro: (train=0.887, test=0.720) total time= 1.3min\n",
      "[CV 2/5; 85/108] START batch_size=256, epochs=15, kernel_size=7, ls=sparse_categorical_crossentropy, num_filters=32, op=rmsprop\n",
      "[CV 2/5; 85/108] END batch_size=256, epochs=15, kernel_size=7, ls=sparse_categorical_crossentropy, num_filters=32, op=rmsprop; accuracy: (train=0.958, test=0.840) f1_macro: (train=0.886, test=0.708) total time= 1.3min\n",
      "[CV 3/5; 85/108] START batch_size=256, epochs=15, kernel_size=7, ls=sparse_categorical_crossentropy, num_filters=32, op=rmsprop\n",
      "[CV 3/5; 85/108] END batch_size=256, epochs=15, kernel_size=7, ls=sparse_categorical_crossentropy, num_filters=32, op=rmsprop; accuracy: (train=0.948, test=0.906) f1_macro: (train=0.823, test=0.648) total time= 1.3min\n",
      "[CV 4/5; 85/108] START batch_size=256, epochs=15, kernel_size=7, ls=sparse_categorical_crossentropy, num_filters=32, op=rmsprop\n",
      "[CV 4/5; 85/108] END batch_size=256, epochs=15, kernel_size=7, ls=sparse_categorical_crossentropy, num_filters=32, op=rmsprop; accuracy: (train=0.963, test=0.909) f1_macro: (train=0.894, test=0.680) total time= 1.3min\n",
      "[CV 5/5; 85/108] START batch_size=256, epochs=15, kernel_size=7, ls=sparse_categorical_crossentropy, num_filters=32, op=rmsprop\n",
      "[CV 5/5; 85/108] END batch_size=256, epochs=15, kernel_size=7, ls=sparse_categorical_crossentropy, num_filters=32, op=rmsprop; accuracy: (train=0.956, test=0.908) f1_macro: (train=0.860, test=0.692) total time= 1.3min\n",
      "[CV 1/5; 86/108] START batch_size=256, epochs=15, kernel_size=7, ls=sparse_categorical_crossentropy, num_filters=32, op=SGD\n",
      "[CV 1/5; 86/108] END batch_size=256, epochs=15, kernel_size=7, ls=sparse_categorical_crossentropy, num_filters=32, op=SGD; accuracy: (train=0.886, test=0.847) f1_macro: (train=0.574, test=0.550) total time= 1.3min\n",
      "[CV 2/5; 86/108] START batch_size=256, epochs=15, kernel_size=7, ls=sparse_categorical_crossentropy, num_filters=32, op=SGD\n",
      "[CV 2/5; 86/108] END batch_size=256, epochs=15, kernel_size=7, ls=sparse_categorical_crossentropy, num_filters=32, op=SGD; accuracy: (train=0.885, test=0.843) f1_macro: (train=0.573, test=0.553) total time= 1.3min\n",
      "[CV 3/5; 86/108] START batch_size=256, epochs=15, kernel_size=7, ls=sparse_categorical_crossentropy, num_filters=32, op=SGD\n",
      "[CV 3/5; 86/108] END batch_size=256, epochs=15, kernel_size=7, ls=sparse_categorical_crossentropy, num_filters=32, op=SGD; accuracy: (train=0.862, test=0.883) f1_macro: (train=0.551, test=0.549) total time= 1.3min\n",
      "[CV 4/5; 86/108] START batch_size=256, epochs=15, kernel_size=7, ls=sparse_categorical_crossentropy, num_filters=32, op=SGD\n",
      "[CV 4/5; 86/108] END batch_size=256, epochs=15, kernel_size=7, ls=sparse_categorical_crossentropy, num_filters=32, op=SGD; accuracy: (train=0.874, test=0.902) f1_macro: (train=0.568, test=0.587) total time= 1.3min\n",
      "[CV 5/5; 86/108] START batch_size=256, epochs=15, kernel_size=7, ls=sparse_categorical_crossentropy, num_filters=32, op=SGD\n",
      "[CV 5/5; 86/108] END batch_size=256, epochs=15, kernel_size=7, ls=sparse_categorical_crossentropy, num_filters=32, op=SGD; accuracy: (train=0.880, test=0.891) f1_macro: (train=0.576, test=0.574) total time= 1.3min\n",
      "[CV 1/5; 87/108] START batch_size=256, epochs=15, kernel_size=7, ls=sparse_categorical_crossentropy, num_filters=64, op=rmsprop\n",
      "[CV 1/5; 87/108] END batch_size=256, epochs=15, kernel_size=7, ls=sparse_categorical_crossentropy, num_filters=64, op=rmsprop; accuracy: (train=0.986, test=0.866) f1_macro: (train=0.957, test=0.715) total time= 1.8min\n",
      "[CV 2/5; 87/108] START batch_size=256, epochs=15, kernel_size=7, ls=sparse_categorical_crossentropy, num_filters=64, op=rmsprop\n",
      "[CV 2/5; 87/108] END batch_size=256, epochs=15, kernel_size=7, ls=sparse_categorical_crossentropy, num_filters=64, op=rmsprop; accuracy: (train=0.986, test=0.859) f1_macro: (train=0.959, test=0.680) total time= 1.8min\n",
      "[CV 3/5; 87/108] START batch_size=256, epochs=15, kernel_size=7, ls=sparse_categorical_crossentropy, num_filters=64, op=rmsprop\n",
      "[CV 3/5; 87/108] END batch_size=256, epochs=15, kernel_size=7, ls=sparse_categorical_crossentropy, num_filters=64, op=rmsprop; accuracy: (train=0.981, test=0.902) f1_macro: (train=0.952, test=0.688) total time= 1.8min\n",
      "[CV 4/5; 87/108] START batch_size=256, epochs=15, kernel_size=7, ls=sparse_categorical_crossentropy, num_filters=64, op=rmsprop\n",
      "[CV 4/5; 87/108] END batch_size=256, epochs=15, kernel_size=7, ls=sparse_categorical_crossentropy, num_filters=64, op=rmsprop; accuracy: (train=0.981, test=0.894) f1_macro: (train=0.952, test=0.691) total time= 1.8min\n",
      "[CV 5/5; 87/108] START batch_size=256, epochs=15, kernel_size=7, ls=sparse_categorical_crossentropy, num_filters=64, op=rmsprop\n",
      "[CV 5/5; 87/108] END batch_size=256, epochs=15, kernel_size=7, ls=sparse_categorical_crossentropy, num_filters=64, op=rmsprop; accuracy: (train=0.982, test=0.908) f1_macro: (train=0.952, test=0.698) total time= 1.8min\n",
      "[CV 1/5; 88/108] START batch_size=256, epochs=15, kernel_size=7, ls=sparse_categorical_crossentropy, num_filters=64, op=SGD\n",
      "[CV 1/5; 88/108] END batch_size=256, epochs=15, kernel_size=7, ls=sparse_categorical_crossentropy, num_filters=64, op=SGD; accuracy: (train=0.881, test=0.840) f1_macro: (train=0.566, test=0.538) total time= 1.8min\n",
      "[CV 2/5; 88/108] START batch_size=256, epochs=15, kernel_size=7, ls=sparse_categorical_crossentropy, num_filters=64, op=SGD\n",
      "[CV 2/5; 88/108] END batch_size=256, epochs=15, kernel_size=7, ls=sparse_categorical_crossentropy, num_filters=64, op=SGD; accuracy: (train=0.891, test=0.851) f1_macro: (train=0.580, test=0.563) total time= 1.9min\n",
      "[CV 3/5; 88/108] START batch_size=256, epochs=15, kernel_size=7, ls=sparse_categorical_crossentropy, num_filters=64, op=SGD\n",
      "[CV 3/5; 88/108] END batch_size=256, epochs=15, kernel_size=7, ls=sparse_categorical_crossentropy, num_filters=64, op=SGD; accuracy: (train=0.870, test=0.893) f1_macro: (train=0.563, test=0.566) total time= 1.9min\n",
      "[CV 4/5; 88/108] START batch_size=256, epochs=15, kernel_size=7, ls=sparse_categorical_crossentropy, num_filters=64, op=SGD\n",
      "[CV 4/5; 88/108] END batch_size=256, epochs=15, kernel_size=7, ls=sparse_categorical_crossentropy, num_filters=64, op=SGD; accuracy: (train=0.866, test=0.890) f1_macro: (train=0.554, test=0.568) total time= 1.9min\n",
      "[CV 5/5; 88/108] START batch_size=256, epochs=15, kernel_size=7, ls=sparse_categorical_crossentropy, num_filters=64, op=SGD\n",
      "[CV 5/5; 88/108] END batch_size=256, epochs=15, kernel_size=7, ls=sparse_categorical_crossentropy, num_filters=64, op=SGD; accuracy: (train=0.877, test=0.889) f1_macro: (train=0.573, test=0.572) total time= 1.9min\n",
      "[CV 1/5; 89/108] START batch_size=256, epochs=15, kernel_size=7, ls=sparse_categorical_crossentropy, num_filters=128, op=rmsprop\n",
      "[CV 1/5; 89/108] END batch_size=256, epochs=15, kernel_size=7, ls=sparse_categorical_crossentropy, num_filters=128, op=rmsprop; accuracy: (train=0.986, test=0.853) f1_macro: (train=0.962, test=0.721) total time= 2.8min\n",
      "[CV 2/5; 89/108] START batch_size=256, epochs=15, kernel_size=7, ls=sparse_categorical_crossentropy, num_filters=128, op=rmsprop\n",
      "[CV 2/5; 89/108] END batch_size=256, epochs=15, kernel_size=7, ls=sparse_categorical_crossentropy, num_filters=128, op=rmsprop; accuracy: (train=0.992, test=0.865) f1_macro: (train=0.977, test=0.696) total time= 2.8min\n",
      "[CV 3/5; 89/108] START batch_size=256, epochs=15, kernel_size=7, ls=sparse_categorical_crossentropy, num_filters=128, op=rmsprop\n",
      "[CV 3/5; 89/108] END batch_size=256, epochs=15, kernel_size=7, ls=sparse_categorical_crossentropy, num_filters=128, op=rmsprop; accuracy: (train=0.983, test=0.913) f1_macro: (train=0.951, test=0.652) total time= 2.8min\n",
      "[CV 4/5; 89/108] START batch_size=256, epochs=15, kernel_size=7, ls=sparse_categorical_crossentropy, num_filters=128, op=rmsprop\n",
      "[CV 4/5; 89/108] END batch_size=256, epochs=15, kernel_size=7, ls=sparse_categorical_crossentropy, num_filters=128, op=rmsprop; accuracy: (train=0.990, test=0.905) f1_macro: (train=0.976, test=0.690) total time= 2.8min\n",
      "[CV 5/5; 89/108] START batch_size=256, epochs=15, kernel_size=7, ls=sparse_categorical_crossentropy, num_filters=128, op=rmsprop\n",
      "[CV 5/5; 89/108] END batch_size=256, epochs=15, kernel_size=7, ls=sparse_categorical_crossentropy, num_filters=128, op=rmsprop; accuracy: (train=0.986, test=0.898) f1_macro: (train=0.965, test=0.664) total time= 2.8min\n",
      "[CV 1/5; 90/108] START batch_size=256, epochs=15, kernel_size=7, ls=sparse_categorical_crossentropy, num_filters=128, op=SGD\n",
      "[CV 1/5; 90/108] END batch_size=256, epochs=15, kernel_size=7, ls=sparse_categorical_crossentropy, num_filters=128, op=SGD; accuracy: (train=0.893, test=0.851) f1_macro: (train=0.585, test=0.558) total time= 2.7min\n",
      "[CV 2/5; 90/108] START batch_size=256, epochs=15, kernel_size=7, ls=sparse_categorical_crossentropy, num_filters=128, op=SGD\n",
      "[CV 2/5; 90/108] END batch_size=256, epochs=15, kernel_size=7, ls=sparse_categorical_crossentropy, num_filters=128, op=SGD; accuracy: (train=0.888, test=0.847) f1_macro: (train=0.574, test=0.556) total time= 2.7min\n",
      "[CV 3/5; 90/108] START batch_size=256, epochs=15, kernel_size=7, ls=sparse_categorical_crossentropy, num_filters=128, op=SGD\n",
      "[CV 3/5; 90/108] END batch_size=256, epochs=15, kernel_size=7, ls=sparse_categorical_crossentropy, num_filters=128, op=SGD; accuracy: (train=0.878, test=0.898) f1_macro: (train=0.574, test=0.574) total time= 2.8min\n",
      "[CV 4/5; 90/108] START batch_size=256, epochs=15, kernel_size=7, ls=sparse_categorical_crossentropy, num_filters=128, op=SGD\n",
      "[CV 4/5; 90/108] END batch_size=256, epochs=15, kernel_size=7, ls=sparse_categorical_crossentropy, num_filters=128, op=SGD; accuracy: (train=0.878, test=0.903) f1_macro: (train=0.572, test=0.587) total time= 2.8min\n",
      "[CV 5/5; 90/108] START batch_size=256, epochs=15, kernel_size=7, ls=sparse_categorical_crossentropy, num_filters=128, op=SGD\n",
      "[CV 5/5; 90/108] END batch_size=256, epochs=15, kernel_size=7, ls=sparse_categorical_crossentropy, num_filters=128, op=SGD; accuracy: (train=0.883, test=0.893) f1_macro: (train=0.579, test=0.575) total time= 2.8min\n",
      "[CV 1/5; 91/108] START batch_size=256, epochs=20, kernel_size=3, ls=sparse_categorical_crossentropy, num_filters=32, op=rmsprop\n",
      "[CV 1/5; 91/108] END batch_size=256, epochs=20, kernel_size=3, ls=sparse_categorical_crossentropy, num_filters=32, op=rmsprop; accuracy: (train=0.927, test=0.844) f1_macro: (train=0.764, test=0.643) total time= 1.1min\n",
      "[CV 2/5; 91/108] START batch_size=256, epochs=20, kernel_size=3, ls=sparse_categorical_crossentropy, num_filters=32, op=rmsprop\n",
      "[CV 2/5; 91/108] END batch_size=256, epochs=20, kernel_size=3, ls=sparse_categorical_crossentropy, num_filters=32, op=rmsprop; accuracy: (train=0.955, test=0.864) f1_macro: (train=0.825, test=0.675) total time= 1.1min\n",
      "[CV 3/5; 91/108] START batch_size=256, epochs=20, kernel_size=3, ls=sparse_categorical_crossentropy, num_filters=32, op=rmsprop\n",
      "[CV 3/5; 91/108] END batch_size=256, epochs=20, kernel_size=3, ls=sparse_categorical_crossentropy, num_filters=32, op=rmsprop; accuracy: (train=0.944, test=0.913) f1_macro: (train=0.799, test=0.688) total time= 1.1min\n",
      "[CV 4/5; 91/108] START batch_size=256, epochs=20, kernel_size=3, ls=sparse_categorical_crossentropy, num_filters=32, op=rmsprop\n",
      "[CV 4/5; 91/108] END batch_size=256, epochs=20, kernel_size=3, ls=sparse_categorical_crossentropy, num_filters=32, op=rmsprop; accuracy: (train=0.922, test=0.904) f1_macro: (train=0.815, test=0.711) total time= 1.1min\n",
      "[CV 5/5; 91/108] START batch_size=256, epochs=20, kernel_size=3, ls=sparse_categorical_crossentropy, num_filters=32, op=rmsprop\n",
      "[CV 5/5; 91/108] END batch_size=256, epochs=20, kernel_size=3, ls=sparse_categorical_crossentropy, num_filters=32, op=rmsprop; accuracy: (train=0.943, test=0.905) f1_macro: (train=0.801, test=0.678) total time= 1.1min\n",
      "[CV 1/5; 92/108] START batch_size=256, epochs=20, kernel_size=3, ls=sparse_categorical_crossentropy, num_filters=32, op=SGD\n",
      "[CV 1/5; 92/108] END batch_size=256, epochs=20, kernel_size=3, ls=sparse_categorical_crossentropy, num_filters=32, op=SGD; accuracy: (train=0.889, test=0.843) f1_macro: (train=0.579, test=0.547) total time= 1.0min\n",
      "[CV 2/5; 92/108] START batch_size=256, epochs=20, kernel_size=3, ls=sparse_categorical_crossentropy, num_filters=32, op=SGD\n",
      "[CV 2/5; 92/108] END batch_size=256, epochs=20, kernel_size=3, ls=sparse_categorical_crossentropy, num_filters=32, op=SGD; accuracy: (train=0.886, test=0.853) f1_macro: (train=0.574, test=0.564) total time= 1.1min\n",
      "[CV 3/5; 92/108] START batch_size=256, epochs=20, kernel_size=3, ls=sparse_categorical_crossentropy, num_filters=32, op=SGD\n",
      "[CV 3/5; 92/108] END batch_size=256, epochs=20, kernel_size=3, ls=sparse_categorical_crossentropy, num_filters=32, op=SGD; accuracy: (train=0.880, test=0.900) f1_macro: (train=0.577, test=0.577) total time= 1.0min\n",
      "[CV 4/5; 92/108] START batch_size=256, epochs=20, kernel_size=3, ls=sparse_categorical_crossentropy, num_filters=32, op=SGD\n",
      "[CV 4/5; 92/108] END batch_size=256, epochs=20, kernel_size=3, ls=sparse_categorical_crossentropy, num_filters=32, op=SGD; accuracy: (train=0.875, test=0.901) f1_macro: (train=0.570, test=0.586) total time= 1.2min\n",
      "[CV 5/5; 92/108] START batch_size=256, epochs=20, kernel_size=3, ls=sparse_categorical_crossentropy, num_filters=32, op=SGD\n",
      "[CV 5/5; 92/108] END batch_size=256, epochs=20, kernel_size=3, ls=sparse_categorical_crossentropy, num_filters=32, op=SGD; accuracy: (train=0.879, test=0.892) f1_macro: (train=0.576, test=0.577) total time= 1.2min\n",
      "[CV 1/5; 93/108] START batch_size=256, epochs=20, kernel_size=3, ls=sparse_categorical_crossentropy, num_filters=64, op=rmsprop\n",
      "[CV 1/5; 93/108] END batch_size=256, epochs=20, kernel_size=3, ls=sparse_categorical_crossentropy, num_filters=64, op=rmsprop; accuracy: (train=0.980, test=0.856) f1_macro: (train=0.944, test=0.715) total time= 1.9min\n",
      "[CV 2/5; 93/108] START batch_size=256, epochs=20, kernel_size=3, ls=sparse_categorical_crossentropy, num_filters=64, op=rmsprop\n",
      "[CV 2/5; 93/108] END batch_size=256, epochs=20, kernel_size=3, ls=sparse_categorical_crossentropy, num_filters=64, op=rmsprop; accuracy: (train=0.964, test=0.856) f1_macro: (train=0.866, test=0.649) total time= 1.9min\n",
      "[CV 3/5; 93/108] START batch_size=256, epochs=20, kernel_size=3, ls=sparse_categorical_crossentropy, num_filters=64, op=rmsprop\n",
      "[CV 3/5; 93/108] END batch_size=256, epochs=20, kernel_size=3, ls=sparse_categorical_crossentropy, num_filters=64, op=rmsprop; accuracy: (train=0.975, test=0.901) f1_macro: (train=0.931, test=0.691) total time= 1.7min\n",
      "[CV 4/5; 93/108] START batch_size=256, epochs=20, kernel_size=3, ls=sparse_categorical_crossentropy, num_filters=64, op=rmsprop\n",
      "[CV 4/5; 93/108] END batch_size=256, epochs=20, kernel_size=3, ls=sparse_categorical_crossentropy, num_filters=64, op=rmsprop; accuracy: (train=0.941, test=0.861) f1_macro: (train=0.878, test=0.680) total time= 1.7min\n",
      "[CV 5/5; 93/108] START batch_size=256, epochs=20, kernel_size=3, ls=sparse_categorical_crossentropy, num_filters=64, op=rmsprop\n",
      "[CV 5/5; 93/108] END batch_size=256, epochs=20, kernel_size=3, ls=sparse_categorical_crossentropy, num_filters=64, op=rmsprop; accuracy: (train=0.974, test=0.908) f1_macro: (train=0.926, test=0.702) total time= 1.7min\n",
      "[CV 1/5; 94/108] START batch_size=256, epochs=20, kernel_size=3, ls=sparse_categorical_crossentropy, num_filters=64, op=SGD\n",
      "[CV 1/5; 94/108] END batch_size=256, epochs=20, kernel_size=3, ls=sparse_categorical_crossentropy, num_filters=64, op=SGD; accuracy: (train=0.899, test=0.854) f1_macro: (train=0.592, test=0.563) total time= 1.7min\n",
      "[CV 2/5; 94/108] START batch_size=256, epochs=20, kernel_size=3, ls=sparse_categorical_crossentropy, num_filters=64, op=SGD\n",
      "[CV 2/5; 94/108] END batch_size=256, epochs=20, kernel_size=3, ls=sparse_categorical_crossentropy, num_filters=64, op=SGD; accuracy: (train=0.887, test=0.854) f1_macro: (train=0.574, test=0.564) total time= 1.7min\n",
      "[CV 3/5; 94/108] START batch_size=256, epochs=20, kernel_size=3, ls=sparse_categorical_crossentropy, num_filters=64, op=SGD\n",
      "[CV 3/5; 94/108] END batch_size=256, epochs=20, kernel_size=3, ls=sparse_categorical_crossentropy, num_filters=64, op=SGD; accuracy: (train=0.882, test=0.900) f1_macro: (train=0.581, test=0.577) total time= 1.8min\n",
      "[CV 4/5; 94/108] START batch_size=256, epochs=20, kernel_size=3, ls=sparse_categorical_crossentropy, num_filters=64, op=SGD\n",
      "[CV 4/5; 94/108] END batch_size=256, epochs=20, kernel_size=3, ls=sparse_categorical_crossentropy, num_filters=64, op=SGD; accuracy: (train=0.881, test=0.906) f1_macro: (train=0.577, test=0.593) total time= 1.7min\n",
      "[CV 5/5; 94/108] START batch_size=256, epochs=20, kernel_size=3, ls=sparse_categorical_crossentropy, num_filters=64, op=SGD\n",
      "[CV 5/5; 94/108] END batch_size=256, epochs=20, kernel_size=3, ls=sparse_categorical_crossentropy, num_filters=64, op=SGD; accuracy: (train=0.886, test=0.901) f1_macro: (train=0.585, test=0.587) total time= 1.7min\n",
      "[CV 1/5; 95/108] START batch_size=256, epochs=20, kernel_size=3, ls=sparse_categorical_crossentropy, num_filters=128, op=rmsprop\n",
      "[CV 1/5; 95/108] END batch_size=256, epochs=20, kernel_size=3, ls=sparse_categorical_crossentropy, num_filters=128, op=rmsprop; accuracy: (train=0.988, test=0.868) f1_macro: (train=0.966, test=0.710) total time= 2.8min\n",
      "[CV 2/5; 95/108] START batch_size=256, epochs=20, kernel_size=3, ls=sparse_categorical_crossentropy, num_filters=128, op=rmsprop\n",
      "[CV 2/5; 95/108] END batch_size=256, epochs=20, kernel_size=3, ls=sparse_categorical_crossentropy, num_filters=128, op=rmsprop; accuracy: (train=0.989, test=0.845) f1_macro: (train=0.969, test=0.698) total time= 2.8min\n",
      "[CV 3/5; 95/108] START batch_size=256, epochs=20, kernel_size=3, ls=sparse_categorical_crossentropy, num_filters=128, op=rmsprop\n",
      "[CV 3/5; 95/108] END batch_size=256, epochs=20, kernel_size=3, ls=sparse_categorical_crossentropy, num_filters=128, op=rmsprop; accuracy: (train=0.980, test=0.878) f1_macro: (train=0.953, test=0.680) total time= 2.7min\n",
      "[CV 4/5; 95/108] START batch_size=256, epochs=20, kernel_size=3, ls=sparse_categorical_crossentropy, num_filters=128, op=rmsprop\n",
      "[CV 4/5; 95/108] END batch_size=256, epochs=20, kernel_size=3, ls=sparse_categorical_crossentropy, num_filters=128, op=rmsprop; accuracy: (train=0.990, test=0.909) f1_macro: (train=0.974, test=0.709) total time= 2.7min\n",
      "[CV 5/5; 95/108] START batch_size=256, epochs=20, kernel_size=3, ls=sparse_categorical_crossentropy, num_filters=128, op=rmsprop\n",
      "[CV 5/5; 95/108] END batch_size=256, epochs=20, kernel_size=3, ls=sparse_categorical_crossentropy, num_filters=128, op=rmsprop; accuracy: (train=0.991, test=0.907) f1_macro: (train=0.976, test=0.697) total time= 2.7min\n",
      "[CV 1/5; 96/108] START batch_size=256, epochs=20, kernel_size=3, ls=sparse_categorical_crossentropy, num_filters=128, op=SGD\n",
      "[CV 1/5; 96/108] END batch_size=256, epochs=20, kernel_size=3, ls=sparse_categorical_crossentropy, num_filters=128, op=SGD; accuracy: (train=0.899, test=0.860) f1_macro: (train=0.592, test=0.569) total time= 2.7min\n",
      "[CV 2/5; 96/108] START batch_size=256, epochs=20, kernel_size=3, ls=sparse_categorical_crossentropy, num_filters=128, op=SGD\n",
      "[CV 2/5; 96/108] END batch_size=256, epochs=20, kernel_size=3, ls=sparse_categorical_crossentropy, num_filters=128, op=SGD; accuracy: (train=0.898, test=0.861) f1_macro: (train=0.588, test=0.575) total time= 2.6min\n",
      "[CV 3/5; 96/108] START batch_size=256, epochs=20, kernel_size=3, ls=sparse_categorical_crossentropy, num_filters=128, op=SGD\n",
      "[CV 3/5; 96/108] END batch_size=256, epochs=20, kernel_size=3, ls=sparse_categorical_crossentropy, num_filters=128, op=SGD; accuracy: (train=0.886, test=0.907) f1_macro: (train=0.586, test=0.587) total time= 2.7min\n",
      "[CV 4/5; 96/108] START batch_size=256, epochs=20, kernel_size=3, ls=sparse_categorical_crossentropy, num_filters=128, op=SGD\n",
      "[CV 4/5; 96/108] END batch_size=256, epochs=20, kernel_size=3, ls=sparse_categorical_crossentropy, num_filters=128, op=SGD; accuracy: (train=0.883, test=0.908) f1_macro: (train=0.580, test=0.594) total time= 2.6min\n",
      "[CV 5/5; 96/108] START batch_size=256, epochs=20, kernel_size=3, ls=sparse_categorical_crossentropy, num_filters=128, op=SGD\n",
      "[CV 5/5; 96/108] END batch_size=256, epochs=20, kernel_size=3, ls=sparse_categorical_crossentropy, num_filters=128, op=SGD; accuracy: (train=0.889, test=0.895) f1_macro: (train=0.588, test=0.581) total time= 2.7min\n",
      "[CV 1/5; 97/108] START batch_size=256, epochs=20, kernel_size=5, ls=sparse_categorical_crossentropy, num_filters=32, op=rmsprop\n",
      "[CV 1/5; 97/108] END batch_size=256, epochs=20, kernel_size=5, ls=sparse_categorical_crossentropy, num_filters=32, op=rmsprop; accuracy: (train=0.962, test=0.862) f1_macro: (train=0.863, test=0.693) total time= 1.2min\n",
      "[CV 2/5; 97/108] START batch_size=256, epochs=20, kernel_size=5, ls=sparse_categorical_crossentropy, num_filters=32, op=rmsprop\n",
      "[CV 2/5; 97/108] END batch_size=256, epochs=20, kernel_size=5, ls=sparse_categorical_crossentropy, num_filters=32, op=rmsprop; accuracy: (train=0.967, test=0.855) f1_macro: (train=0.889, test=0.663) total time= 1.2min\n",
      "[CV 3/5; 97/108] START batch_size=256, epochs=20, kernel_size=5, ls=sparse_categorical_crossentropy, num_filters=32, op=rmsprop\n",
      "[CV 3/5; 97/108] END batch_size=256, epochs=20, kernel_size=5, ls=sparse_categorical_crossentropy, num_filters=32, op=rmsprop; accuracy: (train=0.954, test=0.901) f1_macro: (train=0.869, test=0.684) total time= 1.3min\n",
      "[CV 4/5; 97/108] START batch_size=256, epochs=20, kernel_size=5, ls=sparse_categorical_crossentropy, num_filters=32, op=rmsprop\n",
      "[CV 4/5; 97/108] END batch_size=256, epochs=20, kernel_size=5, ls=sparse_categorical_crossentropy, num_filters=32, op=rmsprop; accuracy: (train=0.956, test=0.902) f1_macro: (train=0.860, test=0.670) total time= 1.2min\n",
      "[CV 5/5; 97/108] START batch_size=256, epochs=20, kernel_size=5, ls=sparse_categorical_crossentropy, num_filters=32, op=rmsprop\n",
      "[CV 5/5; 97/108] END batch_size=256, epochs=20, kernel_size=5, ls=sparse_categorical_crossentropy, num_filters=32, op=rmsprop; accuracy: (train=0.942, test=0.875) f1_macro: (train=0.871, test=0.694) total time= 1.2min\n",
      "[CV 1/5; 98/108] START batch_size=256, epochs=20, kernel_size=5, ls=sparse_categorical_crossentropy, num_filters=32, op=SGD\n",
      "[CV 1/5; 98/108] END batch_size=256, epochs=20, kernel_size=5, ls=sparse_categorical_crossentropy, num_filters=32, op=SGD; accuracy: (train=0.889, test=0.841) f1_macro: (train=0.580, test=0.547) total time= 1.2min\n",
      "[CV 2/5; 98/108] START batch_size=256, epochs=20, kernel_size=5, ls=sparse_categorical_crossentropy, num_filters=32, op=SGD\n",
      "[CV 2/5; 98/108] END batch_size=256, epochs=20, kernel_size=5, ls=sparse_categorical_crossentropy, num_filters=32, op=SGD; accuracy: (train=0.888, test=0.847) f1_macro: (train=0.576, test=0.559) total time= 1.2min\n",
      "[CV 3/5; 98/108] START batch_size=256, epochs=20, kernel_size=5, ls=sparse_categorical_crossentropy, num_filters=32, op=SGD\n",
      "[CV 3/5; 98/108] END batch_size=256, epochs=20, kernel_size=5, ls=sparse_categorical_crossentropy, num_filters=32, op=SGD; accuracy: (train=0.879, test=0.903) f1_macro: (train=0.576, test=0.580) total time= 1.2min\n",
      "[CV 4/5; 98/108] START batch_size=256, epochs=20, kernel_size=5, ls=sparse_categorical_crossentropy, num_filters=32, op=SGD\n",
      "[CV 4/5; 98/108] END batch_size=256, epochs=20, kernel_size=5, ls=sparse_categorical_crossentropy, num_filters=32, op=SGD; accuracy: (train=0.882, test=0.911) f1_macro: (train=0.580, test=0.598) total time= 1.2min\n",
      "[CV 5/5; 98/108] START batch_size=256, epochs=20, kernel_size=5, ls=sparse_categorical_crossentropy, num_filters=32, op=SGD\n",
      "[CV 5/5; 98/108] END batch_size=256, epochs=20, kernel_size=5, ls=sparse_categorical_crossentropy, num_filters=32, op=SGD; accuracy: (train=0.885, test=0.895) f1_macro: (train=0.582, test=0.580) total time= 1.2min\n",
      "[CV 1/5; 99/108] START batch_size=256, epochs=20, kernel_size=5, ls=sparse_categorical_crossentropy, num_filters=64, op=rmsprop\n",
      "[CV 1/5; 99/108] END batch_size=256, epochs=20, kernel_size=5, ls=sparse_categorical_crossentropy, num_filters=64, op=rmsprop; accuracy: (train=0.960, test=0.868) f1_macro: (train=0.816, test=0.659) total time= 2.1min\n",
      "[CV 2/5; 99/108] START batch_size=256, epochs=20, kernel_size=5, ls=sparse_categorical_crossentropy, num_filters=64, op=rmsprop\n",
      "[CV 2/5; 99/108] END batch_size=256, epochs=20, kernel_size=5, ls=sparse_categorical_crossentropy, num_filters=64, op=rmsprop; accuracy: (train=0.989, test=0.854) f1_macro: (train=0.967, test=0.689) total time= 2.0min\n",
      "[CV 3/5; 99/108] START batch_size=256, epochs=20, kernel_size=5, ls=sparse_categorical_crossentropy, num_filters=64, op=rmsprop\n",
      "[CV 3/5; 99/108] END batch_size=256, epochs=20, kernel_size=5, ls=sparse_categorical_crossentropy, num_filters=64, op=rmsprop; accuracy: (train=0.985, test=0.892) f1_macro: (train=0.962, test=0.677) total time= 2.0min\n",
      "[CV 4/5; 99/108] START batch_size=256, epochs=20, kernel_size=5, ls=sparse_categorical_crossentropy, num_filters=64, op=rmsprop\n",
      "[CV 4/5; 99/108] END batch_size=256, epochs=20, kernel_size=5, ls=sparse_categorical_crossentropy, num_filters=64, op=rmsprop; accuracy: (train=0.986, test=0.902) f1_macro: (train=0.964, test=0.682) total time= 2.0min\n",
      "[CV 5/5; 99/108] START batch_size=256, epochs=20, kernel_size=5, ls=sparse_categorical_crossentropy, num_filters=64, op=rmsprop\n",
      "[CV 5/5; 99/108] END batch_size=256, epochs=20, kernel_size=5, ls=sparse_categorical_crossentropy, num_filters=64, op=rmsprop; accuracy: (train=0.985, test=0.900) f1_macro: (train=0.959, test=0.669) total time= 2.1min\n",
      "[CV 1/5; 100/108] START batch_size=256, epochs=20, kernel_size=5, ls=sparse_categorical_crossentropy, num_filters=64, op=SGD\n",
      "[CV 1/5; 100/108] END batch_size=256, epochs=20, kernel_size=5, ls=sparse_categorical_crossentropy, num_filters=64, op=SGD; accuracy: (train=0.893, test=0.852) f1_macro: (train=0.585, test=0.559) total time= 2.1min\n",
      "[CV 2/5; 100/108] START batch_size=256, epochs=20, kernel_size=5, ls=sparse_categorical_crossentropy, num_filters=64, op=SGD\n",
      "[CV 2/5; 100/108] END batch_size=256, epochs=20, kernel_size=5, ls=sparse_categorical_crossentropy, num_filters=64, op=SGD; accuracy: (train=0.897, test=0.859) f1_macro: (train=0.588, test=0.572) total time= 2.1min\n",
      "[CV 3/5; 100/108] START batch_size=256, epochs=20, kernel_size=5, ls=sparse_categorical_crossentropy, num_filters=64, op=SGD\n",
      "[CV 3/5; 100/108] END batch_size=256, epochs=20, kernel_size=5, ls=sparse_categorical_crossentropy, num_filters=64, op=SGD; accuracy: (train=0.877, test=0.897) f1_macro: (train=0.575, test=0.573) total time= 2.1min\n",
      "[CV 4/5; 100/108] START batch_size=256, epochs=20, kernel_size=5, ls=sparse_categorical_crossentropy, num_filters=64, op=SGD\n",
      "[CV 4/5; 100/108] END batch_size=256, epochs=20, kernel_size=5, ls=sparse_categorical_crossentropy, num_filters=64, op=SGD; accuracy: (train=0.883, test=0.907) f1_macro: (train=0.580, test=0.593) total time= 2.1min\n",
      "[CV 5/5; 100/108] START batch_size=256, epochs=20, kernel_size=5, ls=sparse_categorical_crossentropy, num_filters=64, op=SGD\n",
      "[CV 5/5; 100/108] END batch_size=256, epochs=20, kernel_size=5, ls=sparse_categorical_crossentropy, num_filters=64, op=SGD; accuracy: (train=0.885, test=0.897) f1_macro: (train=0.582, test=0.581) total time= 2.1min\n",
      "[CV 1/5; 101/108] START batch_size=256, epochs=20, kernel_size=5, ls=sparse_categorical_crossentropy, num_filters=128, op=rmsprop\n",
      "[CV 1/5; 101/108] END batch_size=256, epochs=20, kernel_size=5, ls=sparse_categorical_crossentropy, num_filters=128, op=rmsprop; accuracy: (train=0.994, test=0.864) f1_macro: (train=0.985, test=0.709) total time= 3.1min\n",
      "[CV 2/5; 101/108] START batch_size=256, epochs=20, kernel_size=5, ls=sparse_categorical_crossentropy, num_filters=128, op=rmsprop\n",
      "[CV 2/5; 101/108] END batch_size=256, epochs=20, kernel_size=5, ls=sparse_categorical_crossentropy, num_filters=128, op=rmsprop; accuracy: (train=0.994, test=0.856) f1_macro: (train=0.984, test=0.692) total time= 3.2min\n",
      "[CV 3/5; 101/108] START batch_size=256, epochs=20, kernel_size=5, ls=sparse_categorical_crossentropy, num_filters=128, op=rmsprop\n",
      "[CV 3/5; 101/108] END batch_size=256, epochs=20, kernel_size=5, ls=sparse_categorical_crossentropy, num_filters=128, op=rmsprop; accuracy: (train=0.988, test=0.910) f1_macro: (train=0.966, test=0.658) total time= 3.1min\n",
      "[CV 4/5; 101/108] START batch_size=256, epochs=20, kernel_size=5, ls=sparse_categorical_crossentropy, num_filters=128, op=rmsprop\n",
      "[CV 4/5; 101/108] END batch_size=256, epochs=20, kernel_size=5, ls=sparse_categorical_crossentropy, num_filters=128, op=rmsprop; accuracy: (train=0.988, test=0.908) f1_macro: (train=0.967, test=0.651) total time= 3.1min\n",
      "[CV 5/5; 101/108] START batch_size=256, epochs=20, kernel_size=5, ls=sparse_categorical_crossentropy, num_filters=128, op=rmsprop\n",
      "[CV 5/5; 101/108] END batch_size=256, epochs=20, kernel_size=5, ls=sparse_categorical_crossentropy, num_filters=128, op=rmsprop; accuracy: (train=0.992, test=0.901) f1_macro: (train=0.981, test=0.678) total time= 3.1min\n",
      "[CV 1/5; 102/108] START batch_size=256, epochs=20, kernel_size=5, ls=sparse_categorical_crossentropy, num_filters=128, op=SGD\n",
      "[CV 1/5; 102/108] END batch_size=256, epochs=20, kernel_size=5, ls=sparse_categorical_crossentropy, num_filters=128, op=SGD; accuracy: (train=0.901, test=0.858) f1_macro: (train=0.594, test=0.567) total time= 3.1min\n",
      "[CV 2/5; 102/108] START batch_size=256, epochs=20, kernel_size=5, ls=sparse_categorical_crossentropy, num_filters=128, op=SGD\n",
      "[CV 2/5; 102/108] END batch_size=256, epochs=20, kernel_size=5, ls=sparse_categorical_crossentropy, num_filters=128, op=SGD; accuracy: (train=0.898, test=0.856) f1_macro: (train=0.589, test=0.569) total time= 3.2min\n",
      "[CV 3/5; 102/108] START batch_size=256, epochs=20, kernel_size=5, ls=sparse_categorical_crossentropy, num_filters=128, op=SGD\n",
      "[CV 3/5; 102/108] END batch_size=256, epochs=20, kernel_size=5, ls=sparse_categorical_crossentropy, num_filters=128, op=SGD; accuracy: (train=0.887, test=0.906) f1_macro: (train=0.587, test=0.586) total time= 3.2min\n",
      "[CV 4/5; 102/108] START batch_size=256, epochs=20, kernel_size=5, ls=sparse_categorical_crossentropy, num_filters=128, op=SGD\n",
      "[CV 4/5; 102/108] END batch_size=256, epochs=20, kernel_size=5, ls=sparse_categorical_crossentropy, num_filters=128, op=SGD; accuracy: (train=0.884, test=0.906) f1_macro: (train=0.581, test=0.591) total time= 3.2min\n",
      "[CV 5/5; 102/108] START batch_size=256, epochs=20, kernel_size=5, ls=sparse_categorical_crossentropy, num_filters=128, op=SGD\n",
      "[CV 5/5; 102/108] END batch_size=256, epochs=20, kernel_size=5, ls=sparse_categorical_crossentropy, num_filters=128, op=SGD; accuracy: (train=0.888, test=0.895) f1_macro: (train=0.585, test=0.578) total time= 3.2min\n",
      "[CV 1/5; 103/108] START batch_size=256, epochs=20, kernel_size=7, ls=sparse_categorical_crossentropy, num_filters=32, op=rmsprop\n",
      "[CV 1/5; 103/108] END batch_size=256, epochs=20, kernel_size=7, ls=sparse_categorical_crossentropy, num_filters=32, op=rmsprop; accuracy: (train=0.955, test=0.852) f1_macro: (train=0.875, test=0.679) total time= 1.8min\n",
      "[CV 2/5; 103/108] START batch_size=256, epochs=20, kernel_size=7, ls=sparse_categorical_crossentropy, num_filters=32, op=rmsprop\n",
      "[CV 2/5; 103/108] END batch_size=256, epochs=20, kernel_size=7, ls=sparse_categorical_crossentropy, num_filters=32, op=rmsprop; accuracy: (train=0.972, test=0.855) f1_macro: (train=0.910, test=0.697) total time= 1.8min\n",
      "[CV 3/5; 103/108] START batch_size=256, epochs=20, kernel_size=7, ls=sparse_categorical_crossentropy, num_filters=32, op=rmsprop\n",
      "[CV 3/5; 103/108] END batch_size=256, epochs=20, kernel_size=7, ls=sparse_categorical_crossentropy, num_filters=32, op=rmsprop; accuracy: (train=0.963, test=0.878) f1_macro: (train=0.913, test=0.656) total time= 1.8min\n",
      "[CV 4/5; 103/108] START batch_size=256, epochs=20, kernel_size=7, ls=sparse_categorical_crossentropy, num_filters=32, op=rmsprop\n",
      "[CV 4/5; 103/108] END batch_size=256, epochs=20, kernel_size=7, ls=sparse_categorical_crossentropy, num_filters=32, op=rmsprop; accuracy: (train=0.938, test=0.886) f1_macro: (train=0.841, test=0.645) total time= 1.8min\n",
      "[CV 5/5; 103/108] START batch_size=256, epochs=20, kernel_size=7, ls=sparse_categorical_crossentropy, num_filters=32, op=rmsprop\n",
      "[CV 5/5; 103/108] END batch_size=256, epochs=20, kernel_size=7, ls=sparse_categorical_crossentropy, num_filters=32, op=rmsprop; accuracy: (train=0.967, test=0.893) f1_macro: (train=0.910, test=0.688) total time= 1.7min\n",
      "[CV 1/5; 104/108] START batch_size=256, epochs=20, kernel_size=7, ls=sparse_categorical_crossentropy, num_filters=32, op=SGD\n",
      "[CV 1/5; 104/108] END batch_size=256, epochs=20, kernel_size=7, ls=sparse_categorical_crossentropy, num_filters=32, op=SGD; accuracy: (train=0.895, test=0.848) f1_macro: (train=0.587, test=0.554) total time= 1.7min\n",
      "[CV 2/5; 104/108] START batch_size=256, epochs=20, kernel_size=7, ls=sparse_categorical_crossentropy, num_filters=32, op=SGD\n",
      "[CV 2/5; 104/108] END batch_size=256, epochs=20, kernel_size=7, ls=sparse_categorical_crossentropy, num_filters=32, op=SGD; accuracy: (train=0.892, test=0.853) f1_macro: (train=0.581, test=0.565) total time= 1.7min\n",
      "[CV 3/5; 104/108] START batch_size=256, epochs=20, kernel_size=7, ls=sparse_categorical_crossentropy, num_filters=32, op=SGD\n",
      "[CV 3/5; 104/108] END batch_size=256, epochs=20, kernel_size=7, ls=sparse_categorical_crossentropy, num_filters=32, op=SGD; accuracy: (train=0.884, test=0.898) f1_macro: (train=0.582, test=0.574) total time= 1.7min\n",
      "[CV 4/5; 104/108] START batch_size=256, epochs=20, kernel_size=7, ls=sparse_categorical_crossentropy, num_filters=32, op=SGD\n",
      "[CV 4/5; 104/108] END batch_size=256, epochs=20, kernel_size=7, ls=sparse_categorical_crossentropy, num_filters=32, op=SGD; accuracy: (train=0.862, test=0.890) f1_macro: (train=0.549, test=0.570) total time= 1.8min\n",
      "[CV 5/5; 104/108] START batch_size=256, epochs=20, kernel_size=7, ls=sparse_categorical_crossentropy, num_filters=32, op=SGD\n",
      "[CV 5/5; 104/108] END batch_size=256, epochs=20, kernel_size=7, ls=sparse_categorical_crossentropy, num_filters=32, op=SGD; accuracy: (train=0.885, test=0.893) f1_macro: (train=0.582, test=0.577) total time= 1.8min\n",
      "[CV 1/5; 105/108] START batch_size=256, epochs=20, kernel_size=7, ls=sparse_categorical_crossentropy, num_filters=64, op=rmsprop\n",
      "[CV 1/5; 105/108] END batch_size=256, epochs=20, kernel_size=7, ls=sparse_categorical_crossentropy, num_filters=64, op=rmsprop; accuracy: (train=0.991, test=0.861) f1_macro: (train=0.975, test=0.696) total time= 2.5min\n",
      "[CV 2/5; 105/108] START batch_size=256, epochs=20, kernel_size=7, ls=sparse_categorical_crossentropy, num_filters=64, op=rmsprop\n",
      "[CV 2/5; 105/108] END batch_size=256, epochs=20, kernel_size=7, ls=sparse_categorical_crossentropy, num_filters=64, op=rmsprop; accuracy: (train=0.984, test=0.850) f1_macro: (train=0.960, test=0.705) total time= 2.4min\n",
      "[CV 3/5; 105/108] START batch_size=256, epochs=20, kernel_size=7, ls=sparse_categorical_crossentropy, num_filters=64, op=rmsprop\n",
      "[CV 3/5; 105/108] END batch_size=256, epochs=20, kernel_size=7, ls=sparse_categorical_crossentropy, num_filters=64, op=rmsprop; accuracy: (train=0.986, test=0.904) f1_macro: (train=0.966, test=0.676) total time= 2.4min\n",
      "[CV 4/5; 105/108] START batch_size=256, epochs=20, kernel_size=7, ls=sparse_categorical_crossentropy, num_filters=64, op=rmsprop\n",
      "[CV 4/5; 105/108] END batch_size=256, epochs=20, kernel_size=7, ls=sparse_categorical_crossentropy, num_filters=64, op=rmsprop; accuracy: (train=0.989, test=0.904) f1_macro: (train=0.971, test=0.669) total time= 2.4min\n",
      "[CV 5/5; 105/108] START batch_size=256, epochs=20, kernel_size=7, ls=sparse_categorical_crossentropy, num_filters=64, op=rmsprop\n",
      "[CV 5/5; 105/108] END batch_size=256, epochs=20, kernel_size=7, ls=sparse_categorical_crossentropy, num_filters=64, op=rmsprop; accuracy: (train=0.988, test=0.889) f1_macro: (train=0.968, test=0.683) total time= 2.4min\n",
      "[CV 1/5; 106/108] START batch_size=256, epochs=20, kernel_size=7, ls=sparse_categorical_crossentropy, num_filters=64, op=SGD\n",
      "[CV 1/5; 106/108] END batch_size=256, epochs=20, kernel_size=7, ls=sparse_categorical_crossentropy, num_filters=64, op=SGD; accuracy: (train=0.897, test=0.853) f1_macro: (train=0.590, test=0.561) total time= 2.4min\n",
      "[CV 2/5; 106/108] START batch_size=256, epochs=20, kernel_size=7, ls=sparse_categorical_crossentropy, num_filters=64, op=SGD\n",
      "[CV 2/5; 106/108] END batch_size=256, epochs=20, kernel_size=7, ls=sparse_categorical_crossentropy, num_filters=64, op=SGD; accuracy: (train=0.895, test=0.857) f1_macro: (train=0.585, test=0.570) total time= 2.4min\n",
      "[CV 3/5; 106/108] START batch_size=256, epochs=20, kernel_size=7, ls=sparse_categorical_crossentropy, num_filters=64, op=SGD\n",
      "[CV 3/5; 106/108] END batch_size=256, epochs=20, kernel_size=7, ls=sparse_categorical_crossentropy, num_filters=64, op=SGD; accuracy: (train=0.883, test=0.902) f1_macro: (train=0.581, test=0.580) total time= 2.4min\n",
      "[CV 4/5; 106/108] START batch_size=256, epochs=20, kernel_size=7, ls=sparse_categorical_crossentropy, num_filters=64, op=SGD\n",
      "[CV 4/5; 106/108] END batch_size=256, epochs=20, kernel_size=7, ls=sparse_categorical_crossentropy, num_filters=64, op=SGD; accuracy: (train=0.882, test=0.903) f1_macro: (train=0.579, test=0.590) total time= 2.3min\n",
      "[CV 5/5; 106/108] START batch_size=256, epochs=20, kernel_size=7, ls=sparse_categorical_crossentropy, num_filters=64, op=SGD\n",
      "[CV 5/5; 106/108] END batch_size=256, epochs=20, kernel_size=7, ls=sparse_categorical_crossentropy, num_filters=64, op=SGD; accuracy: (train=0.886, test=0.895) f1_macro: (train=0.582, test=0.577) total time= 2.3min\n",
      "[CV 1/5; 107/108] START batch_size=256, epochs=20, kernel_size=7, ls=sparse_categorical_crossentropy, num_filters=128, op=rmsprop\n",
      "[CV 1/5; 107/108] END batch_size=256, epochs=20, kernel_size=7, ls=sparse_categorical_crossentropy, num_filters=128, op=rmsprop; accuracy: (train=0.987, test=0.844) f1_macro: (train=0.968, test=0.713) total time= 3.7min\n",
      "[CV 2/5; 107/108] START batch_size=256, epochs=20, kernel_size=7, ls=sparse_categorical_crossentropy, num_filters=128, op=rmsprop\n",
      "[CV 2/5; 107/108] END batch_size=256, epochs=20, kernel_size=7, ls=sparse_categorical_crossentropy, num_filters=128, op=rmsprop; accuracy: (train=0.995, test=0.864) f1_macro: (train=0.985, test=0.692) total time= 3.8min\n",
      "[CV 3/5; 107/108] START batch_size=256, epochs=20, kernel_size=7, ls=sparse_categorical_crossentropy, num_filters=128, op=rmsprop\n",
      "[CV 3/5; 107/108] END batch_size=256, epochs=20, kernel_size=7, ls=sparse_categorical_crossentropy, num_filters=128, op=rmsprop; accuracy: (train=0.993, test=0.904) f1_macro: (train=0.984, test=0.690) total time= 3.7min\n",
      "[CV 4/5; 107/108] START batch_size=256, epochs=20, kernel_size=7, ls=sparse_categorical_crossentropy, num_filters=128, op=rmsprop\n",
      "[CV 4/5; 107/108] END batch_size=256, epochs=20, kernel_size=7, ls=sparse_categorical_crossentropy, num_filters=128, op=rmsprop; accuracy: (train=0.994, test=0.907) f1_macro: (train=0.986, test=0.704) total time= 3.7min\n",
      "[CV 5/5; 107/108] START batch_size=256, epochs=20, kernel_size=7, ls=sparse_categorical_crossentropy, num_filters=128, op=rmsprop\n",
      "[CV 5/5; 107/108] END batch_size=256, epochs=20, kernel_size=7, ls=sparse_categorical_crossentropy, num_filters=128, op=rmsprop; accuracy: (train=0.989, test=0.902) f1_macro: (train=0.975, test=0.672) total time= 3.7min\n",
      "[CV 1/5; 108/108] START batch_size=256, epochs=20, kernel_size=7, ls=sparse_categorical_crossentropy, num_filters=128, op=SGD\n",
      "[CV 1/5; 108/108] END batch_size=256, epochs=20, kernel_size=7, ls=sparse_categorical_crossentropy, num_filters=128, op=SGD; accuracy: (train=0.901, test=0.860) f1_macro: (train=0.593, test=0.568) total time= 3.7min\n",
      "[CV 2/5; 108/108] START batch_size=256, epochs=20, kernel_size=7, ls=sparse_categorical_crossentropy, num_filters=128, op=SGD\n",
      "[CV 2/5; 108/108] END batch_size=256, epochs=20, kernel_size=7, ls=sparse_categorical_crossentropy, num_filters=128, op=SGD; accuracy: (train=0.900, test=0.856) f1_macro: (train=0.591, test=0.568) total time= 3.7min\n",
      "[CV 3/5; 108/108] START batch_size=256, epochs=20, kernel_size=7, ls=sparse_categorical_crossentropy, num_filters=128, op=SGD\n",
      "[CV 3/5; 108/108] END batch_size=256, epochs=20, kernel_size=7, ls=sparse_categorical_crossentropy, num_filters=128, op=SGD; accuracy: (train=0.885, test=0.905) f1_macro: (train=0.585, test=0.585) total time= 3.7min\n",
      "[CV 4/5; 108/108] START batch_size=256, epochs=20, kernel_size=7, ls=sparse_categorical_crossentropy, num_filters=128, op=SGD\n",
      "[CV 4/5; 108/108] END batch_size=256, epochs=20, kernel_size=7, ls=sparse_categorical_crossentropy, num_filters=128, op=SGD; accuracy: (train=0.888, test=0.907) f1_macro: (train=0.586, test=0.595) total time= 3.7min\n",
      "[CV 5/5; 108/108] START batch_size=256, epochs=20, kernel_size=7, ls=sparse_categorical_crossentropy, num_filters=128, op=SGD\n",
      "[CV 5/5; 108/108] END batch_size=256, epochs=20, kernel_size=7, ls=sparse_categorical_crossentropy, num_filters=128, op=SGD; accuracy: (train=0.888, test=0.900) f1_macro: (train=0.587, test=0.587) total time= 3.7min\n"
     ]
    }
   ],
   "source": [
    "grid = GridSearchCV(clf, param_grid, return_train_score=True, cv=5, scoring=[\"accuracy\",\"f1_macro\"], refit=\"f1_macro\", n_jobs=-1, verbose=10)#https://stackoverflow.com/a/53012016\n",
    "\n",
    "tweet_vect = vectorizer(np.array([[s] for s in tweet])).numpy()\n",
    "\n",
    "grid_result = grid.fit(tweet_vect, y)\n",
    "#56868sec 15.8hr"
   ]
  },
  {
   "cell_type": "code",
   "execution_count": 36,
   "metadata": {
    "collapsed": false,
    "jupyter": {
     "outputs_hidden": false
    },
    "pycharm": {
     "name": "#%%\n"
    }
   },
   "outputs": [
    {
     "data": {
      "text/html": [
       "<div>\n",
       "<style scoped>\n",
       "    .dataframe tbody tr th:only-of-type {\n",
       "        vertical-align: middle;\n",
       "    }\n",
       "\n",
       "    .dataframe tbody tr th {\n",
       "        vertical-align: top;\n",
       "    }\n",
       "\n",
       "    .dataframe thead th {\n",
       "        text-align: right;\n",
       "    }\n",
       "</style>\n",
       "<table border=\"1\" class=\"dataframe\">\n",
       "  <thead>\n",
       "    <tr style=\"text-align: right;\">\n",
       "      <th></th>\n",
       "      <th>mean_fit_time</th>\n",
       "      <th>std_fit_time</th>\n",
       "      <th>mean_score_time</th>\n",
       "      <th>std_score_time</th>\n",
       "      <th>param_batch_size</th>\n",
       "      <th>param_epochs</th>\n",
       "      <th>param_kernel_size</th>\n",
       "      <th>param_ls</th>\n",
       "      <th>param_num_filters</th>\n",
       "      <th>param_op</th>\n",
       "      <th>...</th>\n",
       "      <th>mean_test_f1_macro</th>\n",
       "      <th>std_test_f1_macro</th>\n",
       "      <th>rank_test_f1_macro</th>\n",
       "      <th>split0_train_f1_macro</th>\n",
       "      <th>split1_train_f1_macro</th>\n",
       "      <th>split2_train_f1_macro</th>\n",
       "      <th>split3_train_f1_macro</th>\n",
       "      <th>split4_train_f1_macro</th>\n",
       "      <th>mean_train_f1_macro</th>\n",
       "      <th>std_train_f1_macro</th>\n",
       "    </tr>\n",
       "  </thead>\n",
       "  <tbody>\n",
       "    <tr>\n",
       "      <th>4</th>\n",
       "      <td>89.690910</td>\n",
       "      <td>1.275670</td>\n",
       "      <td>1.129085</td>\n",
       "      <td>0.010243</td>\n",
       "      <td>128</td>\n",
       "      <td>10</td>\n",
       "      <td>3</td>\n",
       "      <td>sparse_categorical_crossentropy</td>\n",
       "      <td>128</td>\n",
       "      <td>rmsprop</td>\n",
       "      <td>...</td>\n",
       "      <td>0.713084</td>\n",
       "      <td>0.011421</td>\n",
       "      <td>1</td>\n",
       "      <td>0.943908</td>\n",
       "      <td>0.941253</td>\n",
       "      <td>0.938732</td>\n",
       "      <td>0.940316</td>\n",
       "      <td>0.923059</td>\n",
       "      <td>0.937453</td>\n",
       "      <td>0.007391</td>\n",
       "    </tr>\n",
       "    <tr>\n",
       "      <th>58</th>\n",
       "      <td>93.357626</td>\n",
       "      <td>1.813959</td>\n",
       "      <td>1.158190</td>\n",
       "      <td>0.012849</td>\n",
       "      <td>256</td>\n",
       "      <td>10</td>\n",
       "      <td>3</td>\n",
       "      <td>sparse_categorical_crossentropy</td>\n",
       "      <td>128</td>\n",
       "      <td>rmsprop</td>\n",
       "      <td>...</td>\n",
       "      <td>0.704164</td>\n",
       "      <td>0.019447</td>\n",
       "      <td>2</td>\n",
       "      <td>0.885603</td>\n",
       "      <td>0.901479</td>\n",
       "      <td>0.823996</td>\n",
       "      <td>0.904193</td>\n",
       "      <td>0.911246</td>\n",
       "      <td>0.885303</td>\n",
       "      <td>0.031781</td>\n",
       "    </tr>\n",
       "    <tr>\n",
       "      <th>94</th>\n",
       "      <td>163.694502</td>\n",
       "      <td>2.527738</td>\n",
       "      <td>1.144861</td>\n",
       "      <td>0.014043</td>\n",
       "      <td>256</td>\n",
       "      <td>20</td>\n",
       "      <td>3</td>\n",
       "      <td>sparse_categorical_crossentropy</td>\n",
       "      <td>128</td>\n",
       "      <td>rmsprop</td>\n",
       "      <td>...</td>\n",
       "      <td>0.698599</td>\n",
       "      <td>0.010636</td>\n",
       "      <td>3</td>\n",
       "      <td>0.965663</td>\n",
       "      <td>0.969092</td>\n",
       "      <td>0.953449</td>\n",
       "      <td>0.973991</td>\n",
       "      <td>0.976414</td>\n",
       "      <td>0.967722</td>\n",
       "      <td>0.008058</td>\n",
       "    </tr>\n",
       "    <tr>\n",
       "      <th>24</th>\n",
       "      <td>65.631926</td>\n",
       "      <td>0.597661</td>\n",
       "      <td>0.621349</td>\n",
       "      <td>0.006084</td>\n",
       "      <td>128</td>\n",
       "      <td>15</td>\n",
       "      <td>5</td>\n",
       "      <td>sparse_categorical_crossentropy</td>\n",
       "      <td>32</td>\n",
       "      <td>rmsprop</td>\n",
       "      <td>...</td>\n",
       "      <td>0.696840</td>\n",
       "      <td>0.014622</td>\n",
       "      <td>4</td>\n",
       "      <td>0.906191</td>\n",
       "      <td>0.920308</td>\n",
       "      <td>0.881207</td>\n",
       "      <td>0.887718</td>\n",
       "      <td>0.909386</td>\n",
       "      <td>0.900962</td>\n",
       "      <td>0.014410</td>\n",
       "    </tr>\n",
       "    <tr>\n",
       "      <th>56</th>\n",
       "      <td>57.827485</td>\n",
       "      <td>1.937565</td>\n",
       "      <td>0.830001</td>\n",
       "      <td>0.013190</td>\n",
       "      <td>256</td>\n",
       "      <td>10</td>\n",
       "      <td>3</td>\n",
       "      <td>sparse_categorical_crossentropy</td>\n",
       "      <td>64</td>\n",
       "      <td>rmsprop</td>\n",
       "      <td>...</td>\n",
       "      <td>0.695264</td>\n",
       "      <td>0.017797</td>\n",
       "      <td>5</td>\n",
       "      <td>0.784018</td>\n",
       "      <td>0.792492</td>\n",
       "      <td>0.854860</td>\n",
       "      <td>0.850730</td>\n",
       "      <td>0.844161</td>\n",
       "      <td>0.825252</td>\n",
       "      <td>0.030518</td>\n",
       "    </tr>\n",
       "    <tr>\n",
       "      <th>20</th>\n",
       "      <td>86.524544</td>\n",
       "      <td>2.179797</td>\n",
       "      <td>0.793132</td>\n",
       "      <td>0.011699</td>\n",
       "      <td>128</td>\n",
       "      <td>15</td>\n",
       "      <td>3</td>\n",
       "      <td>sparse_categorical_crossentropy</td>\n",
       "      <td>64</td>\n",
       "      <td>rmsprop</td>\n",
       "      <td>...</td>\n",
       "      <td>0.694995</td>\n",
       "      <td>0.011638</td>\n",
       "      <td>6</td>\n",
       "      <td>0.911298</td>\n",
       "      <td>0.935632</td>\n",
       "      <td>0.924270</td>\n",
       "      <td>0.924245</td>\n",
       "      <td>0.931054</td>\n",
       "      <td>0.925300</td>\n",
       "      <td>0.008223</td>\n",
       "    </tr>\n",
       "    <tr>\n",
       "      <th>2</th>\n",
       "      <td>57.378668</td>\n",
       "      <td>1.155671</td>\n",
       "      <td>0.779794</td>\n",
       "      <td>0.007067</td>\n",
       "      <td>128</td>\n",
       "      <td>10</td>\n",
       "      <td>3</td>\n",
       "      <td>sparse_categorical_crossentropy</td>\n",
       "      <td>64</td>\n",
       "      <td>rmsprop</td>\n",
       "      <td>...</td>\n",
       "      <td>0.694647</td>\n",
       "      <td>0.011332</td>\n",
       "      <td>7</td>\n",
       "      <td>0.748600</td>\n",
       "      <td>0.852113</td>\n",
       "      <td>0.886599</td>\n",
       "      <td>0.896055</td>\n",
       "      <td>0.879021</td>\n",
       "      <td>0.852478</td>\n",
       "      <td>0.053960</td>\n",
       "    </tr>\n",
       "    <tr>\n",
       "      <th>106</th>\n",
       "      <td>222.232246</td>\n",
       "      <td>1.001600</td>\n",
       "      <td>1.393234</td>\n",
       "      <td>0.015244</td>\n",
       "      <td>256</td>\n",
       "      <td>20</td>\n",
       "      <td>7</td>\n",
       "      <td>sparse_categorical_crossentropy</td>\n",
       "      <td>128</td>\n",
       "      <td>rmsprop</td>\n",
       "      <td>...</td>\n",
       "      <td>0.694259</td>\n",
       "      <td>0.013721</td>\n",
       "      <td>8</td>\n",
       "      <td>0.967967</td>\n",
       "      <td>0.985174</td>\n",
       "      <td>0.984125</td>\n",
       "      <td>0.985991</td>\n",
       "      <td>0.974505</td>\n",
       "      <td>0.979552</td>\n",
       "      <td>0.007123</td>\n",
       "    </tr>\n",
       "    <tr>\n",
       "      <th>86</th>\n",
       "      <td>108.062101</td>\n",
       "      <td>0.972055</td>\n",
       "      <td>0.915846</td>\n",
       "      <td>0.008123</td>\n",
       "      <td>256</td>\n",
       "      <td>15</td>\n",
       "      <td>7</td>\n",
       "      <td>sparse_categorical_crossentropy</td>\n",
       "      <td>64</td>\n",
       "      <td>rmsprop</td>\n",
       "      <td>...</td>\n",
       "      <td>0.694245</td>\n",
       "      <td>0.011815</td>\n",
       "      <td>9</td>\n",
       "      <td>0.957376</td>\n",
       "      <td>0.958906</td>\n",
       "      <td>0.952095</td>\n",
       "      <td>0.951988</td>\n",
       "      <td>0.952128</td>\n",
       "      <td>0.954498</td>\n",
       "      <td>0.003013</td>\n",
       "    </tr>\n",
       "    <tr>\n",
       "      <th>76</th>\n",
       "      <td>123.596562</td>\n",
       "      <td>2.509910</td>\n",
       "      <td>1.127169</td>\n",
       "      <td>0.016604</td>\n",
       "      <td>256</td>\n",
       "      <td>15</td>\n",
       "      <td>3</td>\n",
       "      <td>sparse_categorical_crossentropy</td>\n",
       "      <td>128</td>\n",
       "      <td>rmsprop</td>\n",
       "      <td>...</td>\n",
       "      <td>0.694078</td>\n",
       "      <td>0.031658</td>\n",
       "      <td>10</td>\n",
       "      <td>0.961217</td>\n",
       "      <td>0.861909</td>\n",
       "      <td>0.944398</td>\n",
       "      <td>0.950753</td>\n",
       "      <td>0.947797</td>\n",
       "      <td>0.933215</td>\n",
       "      <td>0.036094</td>\n",
       "    </tr>\n",
       "    <tr>\n",
       "      <th>16</th>\n",
       "      <td>115.886088</td>\n",
       "      <td>0.878809</td>\n",
       "      <td>1.369119</td>\n",
       "      <td>0.007597</td>\n",
       "      <td>128</td>\n",
       "      <td>10</td>\n",
       "      <td>7</td>\n",
       "      <td>sparse_categorical_crossentropy</td>\n",
       "      <td>128</td>\n",
       "      <td>rmsprop</td>\n",
       "      <td>...</td>\n",
       "      <td>0.693716</td>\n",
       "      <td>0.013548</td>\n",
       "      <td>11</td>\n",
       "      <td>0.965069</td>\n",
       "      <td>0.973015</td>\n",
       "      <td>0.959683</td>\n",
       "      <td>0.954053</td>\n",
       "      <td>0.955623</td>\n",
       "      <td>0.961489</td>\n",
       "      <td>0.006908</td>\n",
       "    </tr>\n",
       "    <tr>\n",
       "      <th>78</th>\n",
       "      <td>54.671402</td>\n",
       "      <td>1.004631</td>\n",
       "      <td>0.601943</td>\n",
       "      <td>0.006429</td>\n",
       "      <td>256</td>\n",
       "      <td>15</td>\n",
       "      <td>5</td>\n",
       "      <td>sparse_categorical_crossentropy</td>\n",
       "      <td>32</td>\n",
       "      <td>rmsprop</td>\n",
       "      <td>...</td>\n",
       "      <td>0.691448</td>\n",
       "      <td>0.017690</td>\n",
       "      <td>12</td>\n",
       "      <td>0.836601</td>\n",
       "      <td>0.840964</td>\n",
       "      <td>0.863325</td>\n",
       "      <td>0.795391</td>\n",
       "      <td>0.802839</td>\n",
       "      <td>0.827824</td>\n",
       "      <td>0.025243</td>\n",
       "    </tr>\n",
       "    <tr>\n",
       "      <th>22</th>\n",
       "      <td>132.202956</td>\n",
       "      <td>2.991871</td>\n",
       "      <td>1.150574</td>\n",
       "      <td>0.014736</td>\n",
       "      <td>128</td>\n",
       "      <td>15</td>\n",
       "      <td>3</td>\n",
       "      <td>sparse_categorical_crossentropy</td>\n",
       "      <td>128</td>\n",
       "      <td>rmsprop</td>\n",
       "      <td>...</td>\n",
       "      <td>0.691106</td>\n",
       "      <td>0.021448</td>\n",
       "      <td>13</td>\n",
       "      <td>0.967512</td>\n",
       "      <td>0.957005</td>\n",
       "      <td>0.971171</td>\n",
       "      <td>0.974337</td>\n",
       "      <td>0.922616</td>\n",
       "      <td>0.958528</td>\n",
       "      <td>0.018881</td>\n",
       "    </tr>\n",
       "    <tr>\n",
       "      <th>74</th>\n",
       "      <td>84.736841</td>\n",
       "      <td>2.371136</td>\n",
       "      <td>0.796184</td>\n",
       "      <td>0.011385</td>\n",
       "      <td>256</td>\n",
       "      <td>15</td>\n",
       "      <td>3</td>\n",
       "      <td>sparse_categorical_crossentropy</td>\n",
       "      <td>64</td>\n",
       "      <td>rmsprop</td>\n",
       "      <td>...</td>\n",
       "      <td>0.690396</td>\n",
       "      <td>0.040176</td>\n",
       "      <td>14</td>\n",
       "      <td>0.891967</td>\n",
       "      <td>0.912789</td>\n",
       "      <td>0.902088</td>\n",
       "      <td>0.859500</td>\n",
       "      <td>0.695424</td>\n",
       "      <td>0.852353</td>\n",
       "      <td>0.080465</td>\n",
       "    </tr>\n",
       "    <tr>\n",
       "      <th>84</th>\n",
       "      <td>77.549821</td>\n",
       "      <td>1.782551</td>\n",
       "      <td>0.631150</td>\n",
       "      <td>0.003410</td>\n",
       "      <td>256</td>\n",
       "      <td>15</td>\n",
       "      <td>7</td>\n",
       "      <td>sparse_categorical_crossentropy</td>\n",
       "      <td>32</td>\n",
       "      <td>rmsprop</td>\n",
       "      <td>...</td>\n",
       "      <td>0.689543</td>\n",
       "      <td>0.024692</td>\n",
       "      <td>15</td>\n",
       "      <td>0.886680</td>\n",
       "      <td>0.886497</td>\n",
       "      <td>0.823470</td>\n",
       "      <td>0.893623</td>\n",
       "      <td>0.860075</td>\n",
       "      <td>0.870069</td>\n",
       "      <td>0.025969</td>\n",
       "    </tr>\n",
       "  </tbody>\n",
       "</table>\n",
       "<p>15 rows × 41 columns</p>\n",
       "</div>"
      ],
      "text/plain": [
       "     mean_fit_time  std_fit_time  mean_score_time  std_score_time  \\\n",
       "4        89.690910      1.275670         1.129085        0.010243   \n",
       "58       93.357626      1.813959         1.158190        0.012849   \n",
       "94      163.694502      2.527738         1.144861        0.014043   \n",
       "24       65.631926      0.597661         0.621349        0.006084   \n",
       "56       57.827485      1.937565         0.830001        0.013190   \n",
       "20       86.524544      2.179797         0.793132        0.011699   \n",
       "2        57.378668      1.155671         0.779794        0.007067   \n",
       "106     222.232246      1.001600         1.393234        0.015244   \n",
       "86      108.062101      0.972055         0.915846        0.008123   \n",
       "76      123.596562      2.509910         1.127169        0.016604   \n",
       "16      115.886088      0.878809         1.369119        0.007597   \n",
       "78       54.671402      1.004631         0.601943        0.006429   \n",
       "22      132.202956      2.991871         1.150574        0.014736   \n",
       "74       84.736841      2.371136         0.796184        0.011385   \n",
       "84       77.549821      1.782551         0.631150        0.003410   \n",
       "\n",
       "    param_batch_size param_epochs param_kernel_size  \\\n",
       "4                128           10                 3   \n",
       "58               256           10                 3   \n",
       "94               256           20                 3   \n",
       "24               128           15                 5   \n",
       "56               256           10                 3   \n",
       "20               128           15                 3   \n",
       "2                128           10                 3   \n",
       "106              256           20                 7   \n",
       "86               256           15                 7   \n",
       "76               256           15                 3   \n",
       "16               128           10                 7   \n",
       "78               256           15                 5   \n",
       "22               128           15                 3   \n",
       "74               256           15                 3   \n",
       "84               256           15                 7   \n",
       "\n",
       "                            param_ls param_num_filters param_op  ...  \\\n",
       "4    sparse_categorical_crossentropy               128  rmsprop  ...   \n",
       "58   sparse_categorical_crossentropy               128  rmsprop  ...   \n",
       "94   sparse_categorical_crossentropy               128  rmsprop  ...   \n",
       "24   sparse_categorical_crossentropy                32  rmsprop  ...   \n",
       "56   sparse_categorical_crossentropy                64  rmsprop  ...   \n",
       "20   sparse_categorical_crossentropy                64  rmsprop  ...   \n",
       "2    sparse_categorical_crossentropy                64  rmsprop  ...   \n",
       "106  sparse_categorical_crossentropy               128  rmsprop  ...   \n",
       "86   sparse_categorical_crossentropy                64  rmsprop  ...   \n",
       "76   sparse_categorical_crossentropy               128  rmsprop  ...   \n",
       "16   sparse_categorical_crossentropy               128  rmsprop  ...   \n",
       "78   sparse_categorical_crossentropy                32  rmsprop  ...   \n",
       "22   sparse_categorical_crossentropy               128  rmsprop  ...   \n",
       "74   sparse_categorical_crossentropy                64  rmsprop  ...   \n",
       "84   sparse_categorical_crossentropy                32  rmsprop  ...   \n",
       "\n",
       "    mean_test_f1_macro  std_test_f1_macro  rank_test_f1_macro  \\\n",
       "4             0.713084           0.011421                   1   \n",
       "58            0.704164           0.019447                   2   \n",
       "94            0.698599           0.010636                   3   \n",
       "24            0.696840           0.014622                   4   \n",
       "56            0.695264           0.017797                   5   \n",
       "20            0.694995           0.011638                   6   \n",
       "2             0.694647           0.011332                   7   \n",
       "106           0.694259           0.013721                   8   \n",
       "86            0.694245           0.011815                   9   \n",
       "76            0.694078           0.031658                  10   \n",
       "16            0.693716           0.013548                  11   \n",
       "78            0.691448           0.017690                  12   \n",
       "22            0.691106           0.021448                  13   \n",
       "74            0.690396           0.040176                  14   \n",
       "84            0.689543           0.024692                  15   \n",
       "\n",
       "     split0_train_f1_macro  split1_train_f1_macro  split2_train_f1_macro  \\\n",
       "4                 0.943908               0.941253               0.938732   \n",
       "58                0.885603               0.901479               0.823996   \n",
       "94                0.965663               0.969092               0.953449   \n",
       "24                0.906191               0.920308               0.881207   \n",
       "56                0.784018               0.792492               0.854860   \n",
       "20                0.911298               0.935632               0.924270   \n",
       "2                 0.748600               0.852113               0.886599   \n",
       "106               0.967967               0.985174               0.984125   \n",
       "86                0.957376               0.958906               0.952095   \n",
       "76                0.961217               0.861909               0.944398   \n",
       "16                0.965069               0.973015               0.959683   \n",
       "78                0.836601               0.840964               0.863325   \n",
       "22                0.967512               0.957005               0.971171   \n",
       "74                0.891967               0.912789               0.902088   \n",
       "84                0.886680               0.886497               0.823470   \n",
       "\n",
       "     split3_train_f1_macro  split4_train_f1_macro  mean_train_f1_macro  \\\n",
       "4                 0.940316               0.923059             0.937453   \n",
       "58                0.904193               0.911246             0.885303   \n",
       "94                0.973991               0.976414             0.967722   \n",
       "24                0.887718               0.909386             0.900962   \n",
       "56                0.850730               0.844161             0.825252   \n",
       "20                0.924245               0.931054             0.925300   \n",
       "2                 0.896055               0.879021             0.852478   \n",
       "106               0.985991               0.974505             0.979552   \n",
       "86                0.951988               0.952128             0.954498   \n",
       "76                0.950753               0.947797             0.933215   \n",
       "16                0.954053               0.955623             0.961489   \n",
       "78                0.795391               0.802839             0.827824   \n",
       "22                0.974337               0.922616             0.958528   \n",
       "74                0.859500               0.695424             0.852353   \n",
       "84                0.893623               0.860075             0.870069   \n",
       "\n",
       "     std_train_f1_macro  \n",
       "4              0.007391  \n",
       "58             0.031781  \n",
       "94             0.008058  \n",
       "24             0.014410  \n",
       "56             0.030518  \n",
       "20             0.008223  \n",
       "2              0.053960  \n",
       "106            0.007123  \n",
       "86             0.003013  \n",
       "76             0.036094  \n",
       "16             0.006908  \n",
       "78             0.025243  \n",
       "22             0.018881  \n",
       "74             0.080465  \n",
       "84             0.025969  \n",
       "\n",
       "[15 rows x 41 columns]"
      ]
     },
     "metadata": {},
     "output_type": "display_data"
    }
   ],
   "source": [
    "df_grid_results = pd.DataFrame(grid_result.cv_results_)\n",
    "display(df_grid_results.sort_values(by=\"mean_test_f1_macro\", ascending=False)[:15])\n",
    "df_grid_results = df_grid_results.sort_values(by=\"mean_test_f1_macro\", ascending=False)[:15][[\"params\", \"mean_train_accuracy\",\"mean_test_accuracy\"]]"
   ]
  },
  {
   "cell_type": "markdown",
   "metadata": {},
   "source": [
    "### Final CNN"
   ]
  },
  {
   "cell_type": "code",
   "execution_count": 183,
   "metadata": {},
   "outputs": [
    {
     "name": "stdout",
     "output_type": "stream",
     "text": [
      "Wall time: 7min 36s\n"
     ]
    }
   ],
   "source": [
    "%%time\n",
    "\n",
    "clf = KerasClassifierFunc(build_fn=create_keras_model, batch_size=128, epochs=10, kernel_size=3, ls=\"sparse_categorical_crossentropy\", num_filters=128, op=\"rmsprop\", verbose=0)\n",
    "y_pred_final = cross_val_predict(clf, tweet_vect, y, cv=5)"
   ]
  },
  {
   "cell_type": "code",
   "execution_count": 308,
   "metadata": {},
   "outputs": [
    {
     "name": "stdout",
     "output_type": "stream",
     "text": [
      "                    precision    recall  f1-score   support\n",
      "\n",
      "       Hate Speech      0.460     0.270     0.340      1430\n",
      "           Neither      0.803     0.883     0.842      4163\n",
      "Offensive Language      0.933     0.942     0.938     19190\n",
      "\n",
      "          accuracy                          0.893     24783\n",
      "         macro avg      0.732     0.698     0.707     24783\n",
      "      weighted avg      0.884     0.893     0.887     24783\n",
      "\n"
     ]
    },
    {
     "data": {
      "text/plain": [
       "<AxesSubplot:>"
      ]
     },
     "execution_count": 308,
     "metadata": {},
     "output_type": "execute_result"
    },
    {
     "data": {
      "image/png": "[encoded data removed]",
      "text/plain": [
       "<Figure size 432x288 with 2 Axes>"
      ]
     },
     "metadata": {
      "needs_background": "light"
     },
     "output_type": "display_data"
    }
   ],
   "source": [
    "y_pred_finalrep = pd.Series(y_pred_final)\n",
    "y_pred_finalrep = y_pred_finalrep.replace({1:2,2:1})\n",
    "\n",
    "print(classification_report(y, y_pred_finalrep.replace(class_map), digits=3))\n",
    "sns.heatmap(confusion_matrix(y,  y_pred_finalrep.replace(class_map), normalize=\"pred\", labels=list(class_map.values())).T, square = True, annot=True, yticklabels=list(class_map.values()), xticklabels=list(class_map.values()))"
   ]
  },
  {
   "cell_type": "markdown",
   "metadata": {},
   "source": [
    "We see that even now with all the tools its still hard to increase the hate-speech class prediction accuracy measures. This would require more work from the data end to get more balance and tweets. We have increased the macro-f1 to 70.7% which is slightly better than the previous few classifiers in the beginning. But if we take a look at the confusion matrix, it is a glaring step back compared to the SGD."
   ]
  },
  {
   "cell_type": "markdown",
   "metadata": {},
   "source": [
    "## Attempted Sampling\n",
    "\n",
    "\n",
    "### Oversampling"
   ]
  },
  {
   "cell_type": "code",
   "execution_count": 456,
   "metadata": {},
   "outputs": [
    {
     "name": "stdout",
     "output_type": "stream",
     "text": [
      "SMOTE:\n",
      "                    precision    recall  f1-score   support\n",
      "\n",
      "       Hate Speech      0.893     0.975     0.932      1910\n",
      "           Neither      0.904     0.988     0.944      1858\n",
      "Offensive Language      0.977     0.806     0.883      1974\n",
      "\n",
      "          accuracy                          0.921      5742\n",
      "         macro avg      0.925     0.923     0.920      5742\n",
      "      weighted avg      0.926     0.921     0.919      5742\n",
      "\n",
      "\n",
      "RANDOM OVER:\n",
      "                    precision    recall  f1-score   support\n",
      "\n",
      "       Hate Speech      0.905     0.964     0.934      2883\n",
      "           Neither      0.939     0.986     0.962      2854\n",
      "Offensive Language      0.958     0.847     0.899      2876\n",
      "\n",
      "          accuracy                          0.932      8613\n",
      "         macro avg      0.934     0.933     0.932      8613\n",
      "      weighted avg      0.934     0.932     0.932      8613\n",
      "\n"
     ]
    }
   ],
   "source": [
    "vectorized_df = vect.transform(tweet)\n",
    "\n",
    "smote = SMOTE(k_neighbors=3)\n",
    "rand = RandomOverSampler()\n",
    "X_to_sample, x_sample_test, Y_to_sample, y_sample_test = train_test_split(vectorized_df, y, test_size=0.5)\n",
    "\n",
    "X_smote, y_smote = smote.fit_resample(X_to_sample, Y_to_sample)\n",
    "X_rand, y_rand = rand.fit_resample(X_to_sample, Y_to_sample)\n",
    "\n",
    "X_train, x_test, Y_train, y_test = train_test_split(X_smote, y_smote, test_size=0.2)\n",
    "sgd1 = SGDClassifier()\n",
    "sgd1.fit(X_train, Y_train)\n",
    "pred_sgd = sgd1.predict(x_test)\n",
    "print(\"SMOTE:\")\n",
    "print(classification_report(y_test, pred_sgd, digits=3))\n",
    "\n",
    "X_train, x_test, Y_train, y_test = train_test_split(X_rand, y_rand, test_size=0.3)\n",
    "sgd2 = SGDClassifier()\n",
    "sgd2.fit(X_train, Y_train)\n",
    "pred_sgd = sgd2.predict(x_test)\n",
    "print(\"\\nRANDOM OVER:\")\n",
    "print(classification_report(y_test, pred_sgd, digits=3))"
   ]
  },
  {
   "cell_type": "markdown",
   "metadata": {},
   "source": [
    "### Undersampling"
   ]
  },
  {
   "cell_type": "code",
   "execution_count": 457,
   "metadata": {},
   "outputs": [
    {
     "name": "stdout",
     "output_type": "stream",
     "text": [
      "RANDOM UNDER:\n",
      "                    precision    recall  f1-score   support\n",
      "\n",
      "       Hate Speech      0.886     0.965     0.924      2895\n",
      "           Neither      0.920     0.989     0.954      2878\n",
      "Offensive Language      0.966     0.805     0.878      2840\n",
      "\n",
      "          accuracy                          0.920      8613\n",
      "         macro avg      0.924     0.920     0.919      8613\n",
      "      weighted avg      0.924     0.920     0.919      8613\n",
      "\n"
     ]
    }
   ],
   "source": [
    "rand = RandomUnderSampler()\n",
    "X_rand, y_rand = rand.fit_resample(X_to_sample, Y_to_sample)\n",
    "X_train, x_test, Y_train, y_test = train_test_split(X_smote, y_smote, test_size=0.3)\n",
    "sgd3 = SGDClassifier()\n",
    "sgd3.fit(X_train, Y_train)\n",
    "pred_sgd = sgd3.predict(x_test)\n",
    "print(\"RANDOM UNDER:\")\n",
    "print(classification_report(y_test, pred_sgd, digits=3))"
   ]
  },
  {
   "cell_type": "markdown",
   "metadata": {},
   "source": [
    "### Sampling Predict"
   ]
  },
  {
   "cell_type": "code",
   "execution_count": 458,
   "metadata": {},
   "outputs": [
    {
     "name": "stdout",
     "output_type": "stream",
     "text": [
      "Neither\n",
      "Neither\n",
      "Neither\n"
     ]
    }
   ],
   "source": [
    "string = [\"i love my mom\"]\n",
    "print(sgd1.predict(vect.transform(string))[0])\n",
    "print(sgd2.predict(vect.transform(string))[0])\n",
    "print(sgd3.predict(vect.transform(string))[0])"
   ]
  },
  {
   "cell_type": "markdown",
   "metadata": {},
   "source": [
    "### Sampling Reality"
   ]
  },
  {
   "cell_type": "code",
   "execution_count": 468,
   "metadata": {},
   "outputs": [
    {
     "data": {
      "text/plain": [
       "<AxesSubplot:>"
      ]
     },
     "execution_count": 468,
     "metadata": {},
     "output_type": "execute_result"
    },
    {
     "data": {
      "image/png": "[encoded data removed]",
      "text/plain": [
       "<Figure size 432x288 with 2 Axes>"
      ]
     },
     "metadata": {
      "needs_background": "light"
     },
     "output_type": "display_data"
    }
   ],
   "source": [
    "pred_sgd = sgd1.predict(x_sample_test)\n",
    "sns.heatmap(confusion_matrix(y_sample_test,  pred_sgd, normalize=\"pred\", labels=list(class_map.values())).T, square = True, annot=True, yticklabels=list(class_map.values()), xticklabels=list(class_map.values()))"
   ]
  },
  {
   "cell_type": "markdown",
   "metadata": {},
   "source": [
    "Once we use a separate 50% of the original data for testing, we see that what is happening here is the sampling is struggling with saving the unique quality of hate speech words and thus making offensive language dominate everything. Even the neither category is losing a lot of important information. This is very misleading and shows that we cannot get any better than this unless we adjust the information that the original data has, such as semantics, tone, and context."
   ]
  },
  {
   "cell_type": "markdown",
   "metadata": {},
   "source": [
    "## Simple Version of data"
   ]
  },
  {
   "cell_type": "code",
   "execution_count": 304,
   "metadata": {},
   "outputs": [
    {
     "name": "stdout",
     "output_type": "stream",
     "text": [
      "              precision    recall  f1-score   support\n",
      "\n",
      "   Offensive      0.971     0.971     0.971     20620\n",
      " Unoffensive      0.856     0.857     0.856      4163\n",
      "\n",
      "    accuracy                          0.952     24783\n",
      "   macro avg      0.913     0.914     0.914     24783\n",
      "weighted avg      0.952     0.952     0.952     24783\n",
      "\n"
     ]
    },
    {
     "data": {
      "text/plain": [
       "<AxesSubplot:>"
      ]
     },
     "execution_count": 304,
     "metadata": {},
     "output_type": "execute_result"
    },
    {
     "data": {
      "image/png": "[encoded data removed]",
      "text/plain": [
       "<Figure size 432x288 with 2 Axes>"
      ]
     },
     "metadata": {
      "needs_background": "light"
     },
     "output_type": "display_data"
    }
   ],
   "source": [
    "pipe = Pipeline([('vect', CountVectorizer()),\n",
    "               ('tfidf', TfidfTransformer()),\n",
    "               ('clf', SGDClassifier(loss=\"modified_huber\", alpha=0.0001)),\n",
    "              ])\n",
    "\n",
    "y_pred = cross_val_predict(pipe, df_simple[\"tweet\"], df_simple[\"class\"], cv = 10)\n",
    "\n",
    "print(classification_report(df_simple[\"class\"], y_pred, digits=3))\n",
    "sns.heatmap(confusion_matrix(df_simple[\"class\"], y_pred, normalize=\"pred\").T, square = True, annot=True, yticklabels=list(class_map_simple.values())[::-1], xticklabels=list(class_map_simple.values())[::-1])"
   ]
  },
  {
   "cell_type": "markdown",
   "metadata": {},
   "source": [
    "In the simple model we can see that It performs much better with accuracy and f1-score in the mid90s, even still having the with an imbalance of classes"
   ]
  }
 ],
 "metadata": {
  "kernelspec": {
   "display_name": "Python 3",
   "language": "python",
   "name": "python3"
  },
  "language_info": {
   "codemirror_mode": {
    "name": "ipython",
    "version": 3
   },
   "file_extension": ".py",
   "mimetype": "text/x-python",
   "name": "python",
   "nbconvert_exporter": "python",
   "pygments_lexer": "ipython3",
   "version": "3.7.7"
  },
  "toc-autonumbering": true
 },
 "nbformat": 4,
 "nbformat_minor": 4
}